{
 "cells": [
  {
   "cell_type": "markdown",
   "id": "ad6e68cb",
   "metadata": {},
   "source": [
    "# GitHub Repositories and how to Navigate\n",
    "\n",
    "While we have worked on the basic GitHub commands, such as installation and cloning, this tutorial will show you how to use more of the Version Control Software(VCS).\n",
    "\n",
    "Resort back to the 10.02_git_version_control to become up-to-date on the topic at hand\n",
    "\n",
    "Other resources include:\n",
    "\n",
    "Wiki definition: https://en.wikipedia.org/wiki/Git\n",
    "\n",
    "Installation: https://github.com/git-guides/install-git\n",
    "\n",
    "The documentation that will be expanded on in this tutorial: https://docs.github.com/en/get-started/using-git/about-git\n",
    "\n",
    "\n",
    "Git is a very powerful tool when working with data. In group projects, it is likely that data can be lost in the seemingly endless versions of the final product or deleted entirely. Git is the perfect tool to maintain proper data management. \n",
    "\n",
    "Git can save information pertaining to who made changes, what changes were made, when were changes made, and why changes were made all through an iterative process."
   ]
  },
  {
   "cell_type": "markdown",
   "id": "b587622d",
   "metadata": {},
   "source": [
    "### Before we Start\n",
    "\n",
    "#### Common terms and phrases\n",
    "\n",
    "\n",
    "\n",
    "**Repositories** - The collection of all your project's files. The repository also stores your history/versions\n",
    "\n",
    "**Commits** - The snapshots (or versions) of files\n",
    "\n",
    "**Branches** - Are different versions of the repository. The main branch encompesses what may be thought as the final project. New branches can be seen as areas for safe editing that could then add feature to the main branch later\n",
    "\n",
    "**Push Requests** - Inform others of the changes you've made (pushed) to a certain branch\n",
    "\n"
   ]
  },
  {
   "cell_type": "markdown",
   "id": "5daff444",
   "metadata": {},
   "source": [
    "Ensure that you have `Git` installed.\n",
    "\n",
    "In the Windows Command Prompt, type:\n",
    "\n",
    "- `git version`\n",
    "\n",
    "You will either see a version returned to you if you have Git already installed, or you will receive an unknown command error.\n",
    "\n",
    "Resort back to the 10.02_git_version_control to become up-to-date on the topic at hand"
   ]
  },
  {
   "cell_type": "code",
   "execution_count": null,
   "id": "bc12051e",
   "metadata": {},
   "outputs": [],
   "source": []
  }
 ],
 "metadata": {
  "kernelspec": {
   "display_name": "Python 3 (ipykernel)",
   "language": "python",
   "name": "python3"
  },
  "language_info": {
   "codemirror_mode": {
    "name": "ipython",
    "version": 3
   },
   "file_extension": ".py",
   "mimetype": "text/x-python",
   "name": "python",
   "nbconvert_exporter": "python",
   "pygments_lexer": "ipython3",
   "version": "3.10.2"
  }
 },
 "nbformat": 4,
 "nbformat_minor": 5
}
