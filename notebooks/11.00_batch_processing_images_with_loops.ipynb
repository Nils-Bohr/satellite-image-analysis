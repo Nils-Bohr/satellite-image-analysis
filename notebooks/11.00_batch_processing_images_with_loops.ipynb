{
 "cells": [
  {
   "cell_type": "markdown",
   "id": "caaf5147",
   "metadata": {},
   "source": [
    "# Looping over a series of images to batch process\n",
    "\n",
    "An essential technique is the ability to batch process images using a 'for loop'. \n",
    "\n",
    "We have already covered 'for loops' earlier in this class. \n",
    "\n",
    "You should remember that they allow you to repeat a specific block of code a known number of times.\n",
    "\n",
    "For example, if we want to carry out a set of processing once per multi-spectral image. \n",
    "\n",
    "Here, we will use a small example from the mid-section of Shennandoah, from Spring 2023. \n",
    "\n",
    "First, we need to load in our required packages and scale function. "
   ]
  },
  {
   "cell_type": "code",
   "execution_count": 1,
   "id": "045a7675",
   "metadata": {},
   "outputs": [],
   "source": [
    "# Example\n",
    "import os\n",
    "import rasterio\n",
    "import numpy as np \n",
    "from matplotlib import pyplot\n",
    "\n",
    "def scale(band): # scale values for display purposes\n",
    "    return band / 20000.0"
   ]
  },
  {
   "cell_type": "markdown",
   "id": "941aaf01",
   "metadata": {},
   "source": [
    "Next, we will want to specify the names of the files we want to load in (e.g., `my_time_series_set` below). \n",
    "\n",
    "We will do this using a list of lists. This allows us to loop over each list one at a time. \n",
    "\n",
    "Within each list, we will have the names of the bands we want to use. \n",
    "\n",
    "And also, if necessary, any other relevant information, such as a filename.\n"
   ]
  },
  {
   "cell_type": "code",
   "execution_count": 2,
   "id": "8bb83dc3",
   "metadata": {},
   "outputs": [],
   "source": [
    "# Example\n",
    "my_time_series_set = [\n",
    "    [\n",
    "        'time_series/2023-03-04-00_00_2023-03-04-23_59_Sentinel-2_L2A_B04_(Raw).tiff',\n",
    "        'time_series/2023-03-04-00_00_2023-03-04-23_59_Sentinel-2_L2A_B08_(Raw).tiff',\n",
    "        '2023-03-04-00_00_2023'\n",
    "    ],\n",
    "    [\n",
    "        'time_series/2023-04-13-00_00_2023-04-13-23_59_Sentinel-2_L2A_B04_(Raw).tiff',\n",
    "        'time_series/2023-04-13-00_00_2023-04-13-23_59_Sentinel-2_L2A_B08_(Raw).tiff',\n",
    "        '2023-04-13-00_00_2023'\n",
    "    ],\n",
    "    [\n",
    "        'time_series/2023-04-18-00_00_2023-04-18-23_59_Sentinel-2_L2A_B04_(Raw).tiff',\n",
    "        'time_series/2023-04-18-00_00_2023-04-18-23_59_Sentinel-2_L2A_B08_(Raw).tiff',\n",
    "        '2023-04-18-00_00_2023'\n",
    "    ],\n",
    "]"
   ]
  },
  {
   "cell_type": "markdown",
   "id": "7f855213",
   "metadata": {},
   "source": [
    "Using this structure, we can access each list as follows:\n"
   ]
  },
  {
   "cell_type": "code",
   "execution_count": 3,
   "id": "3677ff63",
   "metadata": {},
   "outputs": [
    {
     "name": "stdout",
     "output_type": "stream",
     "text": [
      "['time_series/2023-03-04-00_00_2023-03-04-23_59_Sentinel-2_L2A_B04_(Raw).tiff', 'time_series/2023-03-04-00_00_2023-03-04-23_59_Sentinel-2_L2A_B08_(Raw).tiff', '2023-03-04-00_00_2023']\n",
      "['time_series/2023-04-13-00_00_2023-04-13-23_59_Sentinel-2_L2A_B04_(Raw).tiff', 'time_series/2023-04-13-00_00_2023-04-13-23_59_Sentinel-2_L2A_B08_(Raw).tiff', '2023-04-13-00_00_2023']\n",
      "['time_series/2023-04-18-00_00_2023-04-18-23_59_Sentinel-2_L2A_B04_(Raw).tiff', 'time_series/2023-04-18-00_00_2023-04-18-23_59_Sentinel-2_L2A_B08_(Raw).tiff', '2023-04-18-00_00_2023']\n"
     ]
    }
   ],
   "source": [
    "# Example\n",
    "for my_time_series in my_time_series_set:\n",
    "    print(my_time_series)"
   ]
  },
  {
   "cell_type": "markdown",
   "id": "40ed67ab",
   "metadata": {},
   "source": [
    "And we can also access each individual element of a list by using the square bracket index, e.g., `[0]` for the first element. "
   ]
  },
  {
   "cell_type": "code",
   "execution_count": 4,
   "id": "40ae9fe1",
   "metadata": {},
   "outputs": [
    {
     "name": "stdout",
     "output_type": "stream",
     "text": [
      "time_series/2023-03-04-00_00_2023-03-04-23_59_Sentinel-2_L2A_B04_(Raw).tiff\n",
      "time_series/2023-04-13-00_00_2023-04-13-23_59_Sentinel-2_L2A_B04_(Raw).tiff\n",
      "time_series/2023-04-18-00_00_2023-04-18-23_59_Sentinel-2_L2A_B04_(Raw).tiff\n"
     ]
    }
   ],
   "source": [
    "# Example\n",
    "for my_time_series in my_time_series_set:\n",
    "    print(my_time_series[0])"
   ]
  },
  {
   "cell_type": "markdown",
   "id": "5a8ca478",
   "metadata": {},
   "source": [
    "Given this, we can now loop over our image, scale each pixel and allocate the whole list of lists structure to a variable e.g., the band name."
   ]
  },
  {
   "cell_type": "code",
   "execution_count": 5,
   "id": "d684ac82",
   "metadata": {},
   "outputs": [
    {
     "name": "stdout",
     "output_type": "stream",
     "text": [
      "[[0.18675 0.19265 0.22675 ... 0.25495 0.24575 0.2536 ]\n",
      " [0.1953  0.18415 0.19595 ... 0.2382  0.2287  0.2382 ]\n",
      " [0.1999  0.2369  0.09665 ... 0.2176  0.24445 0.233  ]\n",
      " ...\n",
      " [0.12155 0.12845 0.1232  ... 0.17235 0.16515 0.19595]\n",
      " [0.11205 0.116   0.10355 ... 0.19105 0.18675 0.1953 ]\n",
      " [0.1396  0.12515 0.10255 ... 0.1812  0.18385 0.2238 ]] [[0.5043  0.5492  0.61605 ... 0.5551  0.5472  0.56755]\n",
      " [0.53805 0.58785 0.50725 ... 0.5459  0.54985 0.55445]\n",
      " [0.5043  0.6344  0.30965 ... 0.49545 0.56885 0.5603 ]\n",
      " ...\n",
      " [0.31425 0.3552  0.29885 ... 0.42565 0.44105 0.5269 ]\n",
      " [0.31    0.29915 0.26445 ... 0.46955 0.47315 0.48625]\n",
      " [0.37485 0.3431  0.2595  ... 0.443   0.45745 0.5302 ]]\n",
      "[[0.22805 0.22805 0.291   ... 0.27525 0.2795  0.2936 ]\n",
      " [0.213   0.2215  0.2818  ... 0.2631  0.26675 0.269  ]\n",
      " [0.2631  0.2936  0.1809  ... 0.2582  0.2877  0.2723 ]\n",
      " ...\n",
      " [0.1966  0.2202  0.18385 ... 0.21955 0.2117  0.23755]\n",
      " [0.1835  0.1953  0.1586  ... 0.2287  0.24215 0.24215]\n",
      " [0.19925 0.18515 0.16515 ... 0.23135 0.23855 0.27   ]] [[0.597   0.58785 0.69105 ... 0.58785 0.58555 0.6049 ]\n",
      " [0.5456  0.5767  0.69075 ... 0.56915 0.5705  0.5803 ]\n",
      " [0.58325 0.70025 0.50855 ... 0.56325 0.6334  0.5705 ]\n",
      " ...\n",
      " [0.4738  0.5351  0.4499  ... 0.50035 0.5033  0.55705]\n",
      " [0.44595 0.46235 0.3988  ... 0.5295  0.5387  0.5413 ]\n",
      " [0.4961  0.44235 0.43025 ... 0.52525 0.5302  0.57475]]\n",
      "[[0.2107  0.21495 0.22055 ... 0.29555 0.30475 0.3126 ]\n",
      " [0.2094  0.175   0.24475 ... 0.2887  0.29295 0.2959 ]\n",
      " [0.21235 0.2461  0.20055 ... 0.2759  0.29885 0.29755]\n",
      " ...\n",
      " [0.1576  0.2117  0.1799  ... 0.2169  0.2002  0.22055]\n",
      " [0.1596  0.19105 0.15075 ... 0.2202  0.22935 0.22935]\n",
      " [0.17825 0.18285 0.1396  ... 0.22935 0.213   0.25035]] [[0.7258  0.66945 0.75695 ... 0.67075 0.64585 0.67925]\n",
      " [0.6668  0.63045 0.86245 ... 0.65045 0.63535 0.6393 ]\n",
      " [0.66815 0.76055 0.72415 ... 0.6344  0.70975 0.67405]\n",
      " ...\n",
      " [0.58195 0.6121  0.62585 ... 0.5115  0.51185 0.55115]\n",
      " [0.5236  0.5361  0.49315 ... 0.5459  0.55705 0.54295]\n",
      " [0.62715 0.58685 0.5315  ... 0.5295  0.5187  0.5649 ]]\n"
     ]
    }
   ],
   "source": [
    "# Example\n",
    "for my_time_series in my_time_series_set:\n",
    "\n",
    "    my_raster_image = rasterio.open(my_time_series[0])\n",
    "    red = scale(my_raster_image.read()[0])\n",
    "\n",
    "    my_raster_image = rasterio.open(my_time_series[1])\n",
    "    nir = scale(my_raster_image.read()[0])\n",
    "    \n",
    "    print(red, nir)"
   ]
  },
  {
   "cell_type": "markdown",
   "id": "9df156a9",
   "metadata": {},
   "source": [
    "The world is now your oyster. You can essentially carry out any bespoke processing you want to carry out, to your next set of images. \n",
    "\n",
    "For example, you could begin by taking the ndvi for a series of images, as follows:"
   ]
  },
  {
   "cell_type": "code",
   "execution_count": 8,
   "id": "c07969ea",
   "metadata": {},
   "outputs": [
    {
     "name": "stdout",
     "output_type": "stream",
     "text": [
      "[[1. 1. 1. ... 0. 0. 0.]\n",
      " [1. 1. 1. ... 0. 1. 0.]\n",
      " [1. 1. 1. ... 0. 0. 1.]\n",
      " ...\n",
      " [1. 1. 1. ... 1. 1. 1.]\n",
      " [1. 1. 1. ... 1. 1. 1.]\n",
      " [1. 1. 1. ... 1. 1. 1.]]\n",
      "[[1. 1. 1. ... 0. 0. 0.]\n",
      " [1. 1. 1. ... 0. 0. 0.]\n",
      " [0. 1. 1. ... 0. 0. 0.]\n",
      " ...\n",
      " [1. 1. 1. ... 0. 1. 1.]\n",
      " [1. 1. 1. ... 0. 0. 0.]\n",
      " [1. 1. 1. ... 0. 0. 0.]]\n",
      "[[1. 1. 1. ... 0. 0. 0.]\n",
      " [1. 1. 1. ... 0. 0. 0.]\n",
      " [1. 1. 1. ... 0. 1. 0.]\n",
      " ...\n",
      " [1. 1. 1. ... 1. 1. 1.]\n",
      " [1. 1. 1. ... 1. 1. 1.]\n",
      " [1. 1. 1. ... 0. 1. 0.]]\n"
     ]
    }
   ],
   "source": [
    "# Example\n",
    "for my_time_series in my_time_series_set:\n",
    "\n",
    "    my_raster_image = rasterio.open(my_time_series[0])\n",
    "    red = scale(my_raster_image.read()[0])\n",
    "\n",
    "    my_raster_image = rasterio.open(my_time_series[1])\n",
    "    nir = scale(my_raster_image.read()[0])\n",
    "\n",
    "    ndvi = (nir - red) / (nir + red)\n",
    "    \n",
    "    ndvi_index = np.zeros(nir.shape)\n",
    "    threshold = 0.4\n",
    "    ndvi_index[(ndvi > threshold)] = 1\n",
    "\n",
    "    print(ndvi_index)"
   ]
  },
  {
   "cell_type": "markdown",
   "id": "1db0afe9",
   "metadata": {},
   "source": [
    "Obviously, you need some way to save this information. \n",
    "\n",
    "You could extract these values to a .csv, which is a good way to capture processed data for later visualization. \n",
    "\n",
    "Here, let us export the results in graphical form. The trick is exporting each iteration to a new file, carried out here using the filename added in each list (`my_time_series[2]`).\n",
    "\n",
    "This can be joined together using our favorite `format()` function:"
   ]
  },
  {
   "cell_type": "code",
   "execution_count": 7,
   "id": "7fe3daaf",
   "metadata": {},
   "outputs": [],
   "source": [
    "# Example\n",
    "for my_time_series in my_time_series_set:\n",
    "\n",
    "    my_raster_image = rasterio.open(my_time_series[0])\n",
    "    red = scale(my_raster_image.read()[0])\n",
    "\n",
    "    my_raster_image = rasterio.open(my_time_series[1])\n",
    "    nir = scale(my_raster_image.read()[0])\n",
    "\n",
    "    ndvi = (nir - red) / (nir + red)\n",
    "    \n",
    "    ndvi_index = np.zeros(nir.shape)\n",
    "    ndvi_index[(ndvi > 0.4)] = 1\n",
    "\n",
    "    pyplot.imshow(ndvi_index)\n",
    "    pyplot.colorbar(shrink=0.7)\n",
    "\n",
    "    filename = \"{}.png\".format(my_time_series[2])\n",
    "    pyplot.savefig(filename, bbox_inches='tight')\n",
    "    pyplot.close()\n"
   ]
  },
  {
   "cell_type": "markdown",
   "id": "c5b2d1c7",
   "metadata": {},
   "source": [
    "You will need to evaluate the data/graphics you export in order to understand the implications of your code. As part of this, you can complete the following exercise."
   ]
  },
  {
   "cell_type": "markdown",
   "id": "a376cfce",
   "metadata": {},
   "source": [
    "## Exercise\n",
    "\n",
    "Please undertake the following to reinforce the key learning steps in this tutorial:\n",
    "    \n",
    "- Extract a set of multiband images, e.g., from SentinelHub.\n",
    "- Choose a small area, but try to find somewhere with a key temporal change sequence. \n",
    "- Loop over those images and implement a spectral index of interest, e.g., to detect changes in snow cover, burnt area, algae blooms, etc. We have covered plenty in the class. You are not allowed to use ndvi. \n",
    "- Write adequate notes for your processing code. \n",
    "- Export the final graphics. \n",
    "- Critically evaluate."
   ]
  }
 ],
 "metadata": {
  "kernelspec": {
   "display_name": "Python 3 (ipykernel)",
   "language": "python",
   "name": "python3"
  },
  "language_info": {
   "codemirror_mode": {
    "name": "ipython",
    "version": 3
   },
   "file_extension": ".py",
   "mimetype": "text/x-python",
   "name": "python",
   "nbconvert_exporter": "python",
   "pygments_lexer": "ipython3",
   "version": "3.9.12"
  }
 },
 "nbformat": 4,
 "nbformat_minor": 5
}
