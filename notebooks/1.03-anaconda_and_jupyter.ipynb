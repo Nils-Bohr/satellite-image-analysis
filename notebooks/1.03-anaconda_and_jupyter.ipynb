{
 "cells": [
  {
   "cell_type": "code",
   "execution_count": null,
   "id": "219db8eb",
   "metadata": {},
   "outputs": [],
   "source": [
    "from IPython.display import Image"
   ]
  },
  {
   "cell_type": "markdown",
   "id": "6b5a8b10",
   "metadata": {},
   "source": [
    "# Welcome to this Introductory Satellite Image Analysis Tutorial\n",
    "\n",
    "In this first notebook we will learn:\n",
    "\n",
    "    - How to install Anaconda \n",
    "    - How to open the Anaconda Prompt and navigate up and down through directories\n",
    "    - How to create a virtual environment\n",
    "    - How to open a Jupyter Notebook\n",
    "    - The basic functionality of Jupyter Notebooks\n",
    "\n",
    "My first comment is to try not to be intimidated by this. I will provide you with all the necessary understanding for how to get started. \n",
    "\n",
    "If you have a problem, please raise your hand. \n",
    "\n",
    "Good luck!"
   ]
  },
  {
   "cell_type": "markdown",
   "id": "b2785b9e",
   "metadata": {},
   "source": [
    "## What is Anaconda and why do we use it?\n",
    "\n",
    "*Anaconda is a distribution of packages built for data science.* \n",
    "\n",
    "Thus, Anaconda provides us with additional functionality over a basic Python installation. \n",
    "\n",
    "For example, Anaconda comes with the manager `conda` which is able to:\n",
    "\n",
    " - Install and update your desired data science packages\n",
    " - Create and manage virtual environments\n",
    " \n",
    "We also get ~150 scientific packages which come with the installation, so that's why the standard download is about ~.5 GB.\n",
    " \n",
    "It's fully open-source and therefore free! https://www.anaconda.com/products/individual\n",
    "\n",
    "***\n",
    "\n",
    "Please download and install Anaconda now... \n",
    "\n",
    "*[~5 minute exercise]* \n",
    "\n"
   ]
  },
  {
   "cell_type": "markdown",
   "id": "18fce33d",
   "metadata": {},
   "source": [
    "## Navigating via a command line-style interface \n",
    "\n",
    "Often moving from a Graphical User Interface to a command based approach is highly intimidating for people. \n",
    "\n",
    "Fortunately, you will be walked through the basics, so please do not worry. \n",
    "\n",
    "There are some differences depending on whether you are on a Windows or Mac machine. Linux-based operating systems are not covered in this tutorial (but if you're already using Linux you are probably beyond the basics being covered here anyway).\n"
   ]
  },
  {
   "cell_type": "markdown",
   "id": "b6815b3a",
   "metadata": {},
   "source": [
    "## Anaconda Prompt\n",
    "\n",
    "We will use the `Anaconda Prompt` which is similar to a Windows command prompt (cmd) or Mac terminal. \n",
    "\n",
    "The **benefit** is that `Anaconda Prompt` ensures you are able to use Anaconda and conda commands, without having to change directories or your path. \n",
    "\n",
    "For example, when you start `Anaconda Prompt`, you'll notice that it adds various locations to your PATH, saving the user from doing this manually."
   ]
  },
  {
   "cell_type": "markdown",
   "id": "42bc0a83",
   "metadata": {},
   "source": [
    "## Accessing Anaconda Prompt\n",
    "\n",
    "- Windows - Press the Windows key or go to the start menu and type `Anaconda Prompt` \n",
    "- Mac - Press the Command key (the Apple key) and the space bar and type `Anaconda Prompt`. \n",
    "\n",
    "*[~2 minute exercise]* "
   ]
  },
  {
   "cell_type": "code",
   "execution_count": null,
   "id": "29b93b30",
   "metadata": {},
   "outputs": [],
   "source": [
    "Image(\"../images/s1.png\")"
   ]
  },
  {
   "cell_type": "code",
   "execution_count": null,
   "id": "2873fe12",
   "metadata": {},
   "outputs": [],
   "source": [
    "Image(\"../images/s2.png\")"
   ]
  },
  {
   "cell_type": "code",
   "execution_count": null,
   "id": "ee52a11b",
   "metadata": {},
   "outputs": [],
   "source": [
    "Image(\"../images/s3.png\")"
   ]
  },
  {
   "cell_type": "markdown",
   "id": "94b5a596",
   "metadata": {},
   "source": [
    "## Mac Users - This video shows you how to install Anaconda:"
   ]
  },
  {
   "cell_type": "code",
   "execution_count": null,
   "id": "612d4276",
   "metadata": {},
   "outputs": [],
   "source": [
    "%%HTML\n",
    "<iframe width=\"560\" height=\"315\" src=\"https://www.youtube.com/embed/2JeoNlCcLOM\" title=\"YouTube video player\" frameborder=\"0\" allow=\"accelerometer; autoplay; clipboard-write; encrypted-media; gyroscope; picture-in-picture\" allowfullscreen></iframe>"
   ]
  },
  {
   "cell_type": "markdown",
   "id": "ffe074ef",
   "metadata": {},
   "source": [
    "## Navigating \n",
    "\n",
    "The first thing to emphasize is that you won't break the computer by entering the wrong commands. So do not be afraid to experiment. \n",
    "\n",
    "Getting error messages and solving why they happen is all part of the rewarding activity of computer programming!\n",
    "\n",
    "Initially, we only going to explore three main commands:\n",
    "\n",
    "- The `mkdir` command (the same on Windows + Mac).\n",
    "    - For example, to create a new folder called `data` you would type `mkdir data`, which is essentially short for *make directory* called `data`. It will do this within the current directory in which you are located, so you may need to navigate to a different folder, if necessary. \n",
    "- The `dir` command on Windows or `ls` command on Mac. \n",
    "    - For example, if you type `dir` then you are requesting all directories in the current folder to be printed. Thus, `dir` is short for directory. This is really helpfully to see where you can navigate to. On Mac, the `ls` command is short for `list`, as in to list the current directories in the present folder.   \n",
    "- The `cd` command (the same on Windows + Mac). \n",
    "    - For example, you might have guessed that `cd` stands for change directory. In a directory called `documents`, which contains a directory called `photos`, all we would have to do to navigate into this directory is type `cd photos`. "
   ]
  },
  {
   "cell_type": "markdown",
   "id": "ae5467cb",
   "metadata": {},
   "source": [
    "## The `dir`/`ls` command.\n",
    "\n",
    "If you are a windows user, have a go typing the `dir` command and see what it does. \n",
    "\n",
    "If you are a mac user, have a go typing the `ls` command and see what is does. \n",
    "\n",
    "\n"
   ]
  },
  {
   "cell_type": "markdown",
   "id": "ea4cf215",
   "metadata": {},
   "source": [
    "## The `cd` command.\n",
    "\n",
    "The `cd` command enables to navigate up and down a directory structure. \n",
    "\n",
    "So if you have a folder structure as follows:\n",
    "\n",
    "    satellite_image_analysis\n",
    "      |- data\n",
    "\n",
    "... and you are in the sia folder, you can use `cd data` to navigate down into that folder. \n",
    "\n",
    "Moreover, you can also navigate from the data folder back to the sia directory by typing `cd ..` (which enables you to go up one directory).\n",
    "\n",
    "It is also possible to specify more complicated navigation paths by explicitely providing a given path `cd C:\\Users\\edward\\desktop`\n",
    "\n",
    "You can also string together a full path with a `..` which enables you to navigate back up a directory, so `C:\\Users\\edward\\desktop\\satellite_image_analysis\\data\\..`"
   ]
  },
  {
   "cell_type": "markdown",
   "id": "34907ce4",
   "metadata": {},
   "source": [
    "## Exercise 1 - Creating a directory on your desktop\n",
    "\n",
    "- Open the `Anaconda Prompt`.\n",
    "- Use `dir`/`ls` and `cd` to find/navigate to the desktop.\n",
    "- Make a new folder on the desktop called `satellite_image_analysis`.\n",
    "- Go within `satellite_image_analysis` and then make a new folder called `data`.\n",
    "- Then within `data` make a new folder called `raw` (for raw satellite imagery) (so you should end up with `satellite_image_analysis/data/raw`).\n",
    "- Finally, make a new folder in `data` called `processed` (for processed satellite imagery), so you should end up with  `satellite_image_analysis/data/processed`.\n",
    "- Navigate back up the directory hierarchy to the desktop. \n",
    "\n",
    "Your `satellite_image_analysis` file directory should look like this:\n",
    "\n",
    "    desktop\n",
    "      |- satellite_image_analysis\n",
    "      | |- data\n",
    "      | | |- raw\n",
    "      | | |- processed\n",
    "\n",
    "\n",
    "*[~10 minute exercise]* "
   ]
  },
  {
   "cell_type": "markdown",
   "id": "16485ae5",
   "metadata": {},
   "source": [
    "## What is a virtual environment?\n",
    "\n",
    "A virtual environment (e.g. a conda environment) is a directory that contains a specific collection of packages that you have installed. \n",
    "\n",
    "For example, you may have one environment with `GeoPandas` 0.11.1 and its dependencies, and another environment with `GeoPandas` 0.08.1 for legacy testing.\n",
    "\n",
    "Thus, you are able to **decouple and isolate different Python installs and associated packages**.\n",
    "\n",
    "Think of a virtual environment as a specific bookshelf for each project, and you get to put the specific edition of each book there that you need.\n"
   ]
  },
  {
   "cell_type": "markdown",
   "id": "7d50f32e",
   "metadata": {},
   "source": [
    "## Creating a conda virtual environment\n",
    "\n",
    "To create a virtual environment for satellite image analysis (sia) you can type:\n",
    "    \n",
    "- `conda create --name sia python=3.9`\n",
    "    \n",
    "Once you have created your `sia` environment, you need to activate it:\n",
    "\n",
    "- `conda activate sia`"
   ]
  },
  {
   "cell_type": "markdown",
   "id": "e49145c6",
   "metadata": {},
   "source": [
    "## Installing packages in a conda virtual environment\n",
    "\n",
    "When a new conda virtual environment is created, there won't be any existing packages available. \n",
    "\n",
    "Therefore, we need to learn how to install new ones that we need. `Anaconda` provides us with the ability to do this very easily. So to install `geopandas` we use the following:\n",
    "\n",
    "- `conda install geopandas`\n",
    "\n",
    "And it's the same format for other packages we might use:\n",
    "\n",
    "- `conda install rasterio`\n",
    "\n",
    "\n",
    "\n"
   ]
  },
  {
   "cell_type": "code",
   "execution_count": null,
   "id": "2dd2ccc5",
   "metadata": {},
   "outputs": [],
   "source": [
    "## Exercise 2 - Creating a conda virtual environment\n",
    "\n",
    "- Open the `Anaconda Prompt`.\n",
    "- Create a new conda virtual environment called `sia` using python 3.9.\n",
    "- Activate the `sia` environment.\n",
    "- Use `conda install` to install `jupyter` so we can access a `jupyter notebook`. When prompted if you want to install, respond `\"yes\"` using the letter `y`.\n",
    "- Once installed open `jupyter` by typing `jupyter notebook.\n",
    "\n",
    "*[~10 minute exercise]* "
   ]
  },
  {
   "cell_type": "code",
   "execution_count": null,
   "id": "e706b3ab",
   "metadata": {},
   "outputs": [],
   "source": [
    "%%HTML\n",
    "<iframe width=\"560\" height=\"315\" src=\"https://www.youtube.com/embed/HW29067qVWk\" title=\"YouTube video player\" frameborder=\"0\" allow=\"accelerometer; autoplay; clipboard-write; encrypted-media; gyroscope; picture-in-picture\" allowfullscreen></iframe>"
   ]
  }
 ],
 "metadata": {
  "kernelspec": {
   "display_name": "Python 3 (ipykernel)",
   "language": "python",
   "name": "python3"
  },
  "language_info": {
   "codemirror_mode": {
    "name": "ipython",
    "version": 3
   },
   "file_extension": ".py",
   "mimetype": "text/x-python",
   "name": "python",
   "nbconvert_exporter": "python",
   "pygments_lexer": "ipython3",
   "version": "3.11.4"
  }
 },
 "nbformat": 4,
 "nbformat_minor": 5
}
