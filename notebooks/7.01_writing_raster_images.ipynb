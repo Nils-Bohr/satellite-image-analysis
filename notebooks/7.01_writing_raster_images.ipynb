{
 "cells": [
  {
   "cell_type": "markdown",
   "id": "c231be86",
   "metadata": {},
   "source": [
    "# Writing raster images\n",
    "\n",
    "\n",
    "\n",
    "\n"
   ]
  },
  {
   "cell_type": "markdown",
   "id": "e488218e",
   "metadata": {},
   "source": [
    "We have covered a few processing techniques in this class, but one of the most important is to understand how to write image data.\n",
    "\n",
    "In previous tutorials we have covered the fundamental structure of an image. Therefore, today we will build on this concept, creating a very basic data structure manually, and then writing it out to a file. \n",
    "\n",
    "First, let us import `numpy` and `rasterio`, as we require these to specify the data structure and then export the data as a raster. "
   ]
  },
  {
   "cell_type": "code",
   "execution_count": 14,
   "id": "baca5302",
   "metadata": {},
   "outputs": [],
   "source": [
    "# Example\n",
    "import numpy as np\n",
    "import rasterio "
   ]
  },
  {
   "cell_type": "markdown",
   "id": "700b598a",
   "metadata": {},
   "source": [
    "Next, let us try create the basic data structure for our image. \n",
    "\n",
    "This is pretty much as simple as a structure can be - So a 3x3 matrix of values, converted to a `numpy` array:"
   ]
  },
  {
   "cell_type": "code",
   "execution_count": 11,
   "id": "62c9f443",
   "metadata": {},
   "outputs": [
    {
     "name": "stdout",
     "output_type": "stream",
     "text": [
      "[[1 0 1]\n",
      " [0 1 0]\n",
      " [1 0 1]]\n"
     ]
    }
   ],
   "source": [
    "# Example\n",
    "array = np.array(\n",
    "    [\n",
    "        [1,0,1],\n",
    "        [0,1,0],\n",
    "        [1,0,1],\n",
    "    ]   \n",
    ")\n",
    "print(array)"
   ]
  },
  {
   "cell_type": "markdown",
   "id": "7ad46810",
   "metadata": {},
   "source": [
    "Before we write this to a file, we need to create/update (the dreaded) metadata. \n",
    "\n",
    "As covered in previous classes, metadata is essential to inform other software programs how to display this data, e.g. your preferred GIS.\n",
    "\n",
    "(NB. Some of you have been trying to utilize images with no associated metadata, so watch out for that.) "
   ]
  },
  {
   "cell_type": "code",
   "execution_count": 12,
   "id": "977a748d",
   "metadata": {
    "scrolled": true
   },
   "outputs": [],
   "source": [
    "# Example\n",
    "profile = {\n",
    "    'width': array.shape[0],  #width of the data/image\n",
    "    'height': array.shape[1], #height of the data/image\n",
    "    'dtype': rasterio.uint8,  #data type of the data/image\n",
    "    'count': 1,               #layer count of the data/image\n",
    "    'compress': 'lzw'         #compression type\n",
    "}"
   ]
  },
  {
   "cell_type": "markdown",
   "id": "9301dd2a",
   "metadata": {},
   "source": [
    "Now we can try write out example image data structure. \n",
    "\n",
    "We can use a writing example from the `rasterio` documentation, here: https://rasterio.readthedocs.io/en/latest/topics/writing.html "
   ]
  },
  {
   "cell_type": "code",
   "execution_count": 13,
   "id": "f2019f96",
   "metadata": {},
   "outputs": [],
   "source": [
    "# Example\n",
    "with rasterio.open('writing_raster_images_example.tif', 'w', **profile) as dst:\n",
    "    dst.write(array.astype(rasterio.uint8), 1)"
   ]
  },
  {
   "cell_type": "markdown",
   "id": "21e6502d",
   "metadata": {},
   "source": [
    "## Exercise\n",
    "\n",
    "Can you create a chessboard-style image (alternating white and black squares), for an image with dimensions 8x8?\n",
    "\n",
    "This exercise will help reinforce your understanding of how an image is created, stored and written. "
   ]
  },
  {
   "cell_type": "code",
   "execution_count": 3,
   "id": "989ff9e2",
   "metadata": {},
   "outputs": [
    {
     "name": "stderr",
     "output_type": "stream",
     "text": [
      "C:\\Users\\eoughton\\Anaconda3\\envs\\sia\\Lib\\site-packages\\rasterio\\__init__.py:230: NotGeoreferencedWarning: Dataset has no geotransform, gcps, or rpcs. The identity matrix be returned.\n",
      "  s = writer(path, mode, driver=driver,\n"
     ]
    }
   ],
   "source": [
    "# Enter your attempt below\n"
   ]
  },
  {
   "cell_type": "markdown",
   "id": "109b3cf6",
   "metadata": {},
   "source": [
    "Can you create and export a .tif file with alternating white and black columns, for dimensions 8x12? \n",
    "\n",
    "Please manually specify your metadata width and height values."
   ]
  },
  {
   "cell_type": "code",
   "execution_count": 15,
   "id": "197833fd",
   "metadata": {},
   "outputs": [],
   "source": [
    "# Enter your attempt below\n"
   ]
  }
 ],
 "metadata": {
  "kernelspec": {
   "display_name": "Python 3 (ipykernel)",
   "language": "python",
   "name": "python3"
  },
  "language_info": {
   "codemirror_mode": {
    "name": "ipython",
    "version": 3
   },
   "file_extension": ".py",
   "mimetype": "text/x-python",
   "name": "python",
   "nbconvert_exporter": "python",
   "pygments_lexer": "ipython3",
   "version": "3.11.4"
  }
 },
 "nbformat": 4,
 "nbformat_minor": 5
}
