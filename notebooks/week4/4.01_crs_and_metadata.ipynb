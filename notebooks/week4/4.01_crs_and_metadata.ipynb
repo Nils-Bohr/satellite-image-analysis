{
 "cells": [
  {
   "cell_type": "markdown",
   "metadata": {},
   "source": [
    "# GGS416 Satellite Image Analysis - Week 4 \n",
    "\n",
    "In this tutorial we are going to cover:\n",
    "- Spatial referencing systems\n",
    "- Satellite image metadata.\n"
   ]
  },
  {
   "cell_type": "markdown",
   "metadata": {},
   "source": [
    "## Working with a Coordinate Reference System (CRS)\n",
    "\n",
    "We need to be able to map data points to precise locations across space. Indeed, this underpins our ability to process and analyze satellite images. \n",
    "\n",
    "There are hundreds of different types of Coordinate Reference Systems, with many geographical regions specifying their own to enable local consistency and precision. \n",
    "\n",
    "- A **Geographic Coordinate System** measures locations on Earth in latitude and longitude and is based on either a spherical or ellipsoidal coordinate system. \n",
    "    - Latitude is measured in degrees north or south of the equator. \n",
    "    - Longitude is measured in degrees east or west of a prime meridian (a meridian divides a spheroid into two hemispheres).\n",
    "    - See the World Geodetic System (WGS84):https://en.wikipedia.org/wiki/World_Geodetic_System\n",
    "\n",
    "\n",
    "- A **Projected Coordinate System** instead represents Earth locations via a specific map projection using cartesian coordinates (x,y) on a planar (2D) surface. \n",
    "    - This approach maps a curved Earth surface onto a flat 2D plane. \n",
    "    - Common units include metric meters and imperial feet. \n",
    "    - See the Universal Transverse Mercator (UTM): https://en.wikipedia.org/wiki/Universal_Transverse_Mercator_coordinate_system\n",
    "    \n",
    "Today we will work different coordinate reference systems, after exploring image metadata.\n",
    "    "
   ]
  },
  {
   "cell_type": "markdown",
   "metadata": {},
   "source": [
    "## Satellite imagery metadata\n",
    "\n",
    "We often have information about our data which is not actually the data itself. \n",
    "\n",
    "This is referred to as **Metadata**. \n",
    "\n",
    "('Meta' meaning 'above' or 'beyond')\n",
    "\n",
    "We will need to import `Rasterio` so that we can load the Planet image data we downloaded in the previous tutorial."
   ]
  },
  {
   "cell_type": "code",
   "execution_count": 133,
   "metadata": {},
   "outputs": [],
   "source": [
    "# Load rasterio into our jupyter session\n",
    "import rasterio"
   ]
  },
  {
   "cell_type": "markdown",
   "metadata": {},
   "source": [
    "Let's get started using the 4-band Planet image we downloaded in the previous session.\n",
    "\n",
    "We will need to specify the image name, and then use the `Rasterio` open function to load the raster.\n",
    "\n",
    "As we downloaded the images last week, in the 'week3' directory, we ill need to navigate to their location.\n",
    "\n",
    "The desired image filename is '20190321_174348_0f1a_3B_AnalyticMS.tif', which is in the 'week3' folder. \n",
    "\n",
    "As we need to go up one folder, we can use a double period '..'.\n",
    "\n",
    "Then we can can into the 'week3' folder. \n",
    "\n",
    "We can now put that together into a single path string, as follows: "
   ]
  },
  {
   "cell_type": "code",
   "execution_count": 134,
   "metadata": {},
   "outputs": [
    {
     "data": {
      "text/plain": [
       "<open DatasetReader name='../week3/20190321_174348_0f1a_3B_AnalyticMS.tif' mode='r'>"
      ]
     },
     "execution_count": 134,
     "metadata": {},
     "output_type": "execute_result"
    }
   ],
   "source": [
    "# This path instructs the function to go up one director '..' and then into the 'week3' folder:\n",
    "image_filename = \"../week3/20190321_174348_0f1a_3B_AnalyticMS.tif\"\n",
    "\n",
    "# Remember that the 4-band image is comprised of blue, green, red and near-infrared\n",
    "# PlanetScope images should be in a UTM projection.\n",
    "my_image = rasterio.open(image_filename)\n",
    "\n",
    "# We can view the rasterio object as follows:\n",
    "my_image"
   ]
  },
  {
   "cell_type": "markdown",
   "metadata": {},
   "source": [
    "We can now begin to explore information about the loaded imagery.\n",
    "\n",
    "For example, we can view the filename for the given image asset:"
   ]
  },
  {
   "cell_type": "code",
   "execution_count": 135,
   "metadata": {},
   "outputs": [
    {
     "name": "stdout",
     "output_type": "stream",
     "text": [
      "../week3/20190321_174348_0f1a_3B_AnalyticMS.tif\n"
     ]
    }
   ],
   "source": [
    "print(my_image.name)"
   ]
  },
  {
   "cell_type": "markdown",
   "metadata": {},
   "source": [
    "We can also view the image tags associated which include:\n",
    "- 'AREA_OR_POINT' - indication of whether this is an area or a point representation.\n",
    "- 'TIFFTAG_DATETIME' - the specific date and time the image was taken in Coordinated Universal Time (UTC)."
   ]
  },
  {
   "cell_type": "code",
   "execution_count": 136,
   "metadata": {},
   "outputs": [
    {
     "name": "stdout",
     "output_type": "stream",
     "text": [
      "{'AREA_OR_POINT': 'Area', 'TIFFTAG_DATETIME': '2019:03:21 17:43:48'}\n"
     ]
    }
   ],
   "source": [
    "print(my_image.tags())"
   ]
  },
  {
   "cell_type": "markdown",
   "metadata": {},
   "source": [
    "In case we need to check, we can obtain the number of bands and indexes which are present within this image:"
   ]
  },
  {
   "cell_type": "code",
   "execution_count": 137,
   "metadata": {},
   "outputs": [
    {
     "name": "stdout",
     "output_type": "stream",
     "text": [
      "4\n",
      "(1, 2, 3, 4)\n"
     ]
    }
   ],
   "source": [
    "# Present number of image bands \n",
    "print(my_image.count)\n",
    "\n",
    "# Present number of indexes\n",
    "print(my_image.indexes)"
   ]
  },
  {
   "cell_type": "markdown",
   "metadata": {},
   "source": [
    "By querying the image object with these basic functions, we can establish information prior to visualizing. \n",
    "\n",
    "Finally, we can unpack these different layers as follows (remember we practiced unpacking in the intro to python lecture):"
   ]
  },
  {
   "cell_type": "code",
   "execution_count": 138,
   "metadata": {},
   "outputs": [
    {
     "data": {
      "text/plain": [
       "array([[0, 0, 0, ..., 0, 0, 0],\n",
       "       [0, 0, 0, ..., 0, 0, 0],\n",
       "       [0, 0, 0, ..., 0, 0, 0],\n",
       "       ...,\n",
       "       [0, 0, 0, ..., 0, 0, 0],\n",
       "       [0, 0, 0, ..., 0, 0, 0],\n",
       "       [0, 0, 0, ..., 0, 0, 0]], dtype=uint16)"
      ]
     },
     "execution_count": 138,
     "metadata": {},
     "output_type": "execute_result"
    }
   ],
   "source": [
    "# Unpacking our image layers into separate variables for blue, green, red and infrared:\n",
    "blue, green, red, nir = my_image.read()\n",
    "\n",
    "# Let's inspect our blue variable\n",
    "blue"
   ]
  },
  {
   "cell_type": "markdown",
   "metadata": {},
   "source": [
    "Remember that these are `NumPy` arrays:\n",
    "\n",
    "e.g. `array([0, 0, ..., 0, 0])`\n",
    "\n",
    "There are actually many ways we can unpack these bands, they might just take a few more lines of code. For example:\n"
   ]
  },
  {
   "cell_type": "code",
   "execution_count": 139,
   "metadata": {},
   "outputs": [
    {
     "data": {
      "text/plain": [
       "array([[0, 0, 0, ..., 0, 0, 0],\n",
       "       [0, 0, 0, ..., 0, 0, 0],\n",
       "       [0, 0, 0, ..., 0, 0, 0],\n",
       "       ...,\n",
       "       [0, 0, 0, ..., 0, 0, 0],\n",
       "       [0, 0, 0, ..., 0, 0, 0],\n",
       "       [0, 0, 0, ..., 0, 0, 0]], dtype=uint16)"
      ]
     },
     "execution_count": 139,
     "metadata": {},
     "output_type": "execute_result"
    }
   ],
   "source": [
    "blue = my_image.read(1)\n",
    "green = my_image.read(2)\n",
    "red = my_image.read(3)\n",
    "nir = my_image.read(4)\n",
    "\n",
    "blue"
   ]
  },
  {
   "cell_type": "markdown",
   "metadata": {},
   "source": [
    "Or it is possible to just read all the layers at once, creating a large multidimensional array:"
   ]
  },
  {
   "cell_type": "code",
   "execution_count": 140,
   "metadata": {},
   "outputs": [
    {
     "data": {
      "text/plain": [
       "array([[[0, 0, 0, ..., 0, 0, 0],\n",
       "        [0, 0, 0, ..., 0, 0, 0],\n",
       "        [0, 0, 0, ..., 0, 0, 0],\n",
       "        ...,\n",
       "        [0, 0, 0, ..., 0, 0, 0],\n",
       "        [0, 0, 0, ..., 0, 0, 0],\n",
       "        [0, 0, 0, ..., 0, 0, 0]],\n",
       "\n",
       "       [[0, 0, 0, ..., 0, 0, 0],\n",
       "        [0, 0, 0, ..., 0, 0, 0],\n",
       "        [0, 0, 0, ..., 0, 0, 0],\n",
       "        ...,\n",
       "        [0, 0, 0, ..., 0, 0, 0],\n",
       "        [0, 0, 0, ..., 0, 0, 0],\n",
       "        [0, 0, 0, ..., 0, 0, 0]],\n",
       "\n",
       "       [[0, 0, 0, ..., 0, 0, 0],\n",
       "        [0, 0, 0, ..., 0, 0, 0],\n",
       "        [0, 0, 0, ..., 0, 0, 0],\n",
       "        ...,\n",
       "        [0, 0, 0, ..., 0, 0, 0],\n",
       "        [0, 0, 0, ..., 0, 0, 0],\n",
       "        [0, 0, 0, ..., 0, 0, 0]],\n",
       "\n",
       "       [[0, 0, 0, ..., 0, 0, 0],\n",
       "        [0, 0, 0, ..., 0, 0, 0],\n",
       "        [0, 0, 0, ..., 0, 0, 0],\n",
       "        ...,\n",
       "        [0, 0, 0, ..., 0, 0, 0],\n",
       "        [0, 0, 0, ..., 0, 0, 0],\n",
       "        [0, 0, 0, ..., 0, 0, 0]]], dtype=uint16)"
      ]
     },
     "execution_count": 140,
     "metadata": {},
     "output_type": "execute_result"
    }
   ],
   "source": [
    "data = my_image.read()\n",
    "data"
   ]
  },
  {
   "cell_type": "markdown",
   "metadata": {},
   "source": [
    "As this multidimensional array is essentially a list of lists, we can still index into the array like we have previously in the Python tutorial example:"
   ]
  },
  {
   "cell_type": "code",
   "execution_count": 141,
   "metadata": {},
   "outputs": [
    {
     "data": {
      "text/plain": [
       "array([[0, 0, 0, ..., 0, 0, 0],\n",
       "       [0, 0, 0, ..., 0, 0, 0],\n",
       "       [0, 0, 0, ..., 0, 0, 0],\n",
       "       ...,\n",
       "       [0, 0, 0, ..., 0, 0, 0],\n",
       "       [0, 0, 0, ..., 0, 0, 0],\n",
       "       [0, 0, 0, ..., 0, 0, 0]], dtype=uint16)"
      ]
     },
     "execution_count": 141,
     "metadata": {},
     "output_type": "execute_result"
    }
   ],
   "source": [
    "# Extract the blue array which will be in position zero\n",
    "blue = data[0]\n",
    "blue"
   ]
  },
  {
   "cell_type": "markdown",
   "metadata": {},
   "source": [
    "Finally, we can examine the dimensions of one of these layers:"
   ]
  },
  {
   "cell_type": "code",
   "execution_count": 142,
   "metadata": {},
   "outputs": [
    {
     "name": "stdout",
     "output_type": "stream",
     "text": [
      "uint16\n",
      "width: 4213, height: 8341\n"
     ]
    }
   ],
   "source": [
    "# Print the data type of the blue layer (which will be a NumPy data type) \n",
    "print(blue.dtype)\n",
    "\n",
    "# Using the blue band as an example, examine the width & height of the image (in pixels)\n",
    "w = blue.shape[0]\n",
    "h = blue.shape[1]\n",
    "\n",
    "# Let's print the dimensions of the blue layer \n",
    "print(\"width: {w}, height: {h}\".format(w=w, h=h))\n"
   ]
  },
  {
   "cell_type": "markdown",
   "metadata": {},
   "source": [
    "We can get the bounds of the current image in the current projected coordinate reference system using the bounds command.\n",
    "\n",
    "Remember, PlanetScope data should be in UTM, the Universal Transverse Mercator system: https://en.wikipedia.org/wiki/Universal_Transverse_Mercator_coordinate_system\n",
    "\n",
    "The measurement unit should be meters (as opposed to degrees when using lat-lon coordinates via WGS84)."
   ]
  },
  {
   "cell_type": "code",
   "execution_count": 143,
   "metadata": {},
   "outputs": [
    {
     "name": "stdout",
     "output_type": "stream",
     "text": [
      "BoundingBox(left=544491.0, bottom=4178370.0, right=569514.0, top=4191009.0)\n"
     ]
    }
   ],
   "source": [
    "# Find the bounding box of the image.\n",
    "# The bounding box is the minimum possible box which envelopes the present data.\n",
    "print(my_image.bounds)"
   ]
  },
  {
   "cell_type": "markdown",
   "metadata": {},
   "source": [
    "We can then get the map unit dimensions in the original units of the coordinate reference system, by subtracting the different bounds of the image, as follows:"
   ]
  },
  {
   "cell_type": "code",
   "execution_count": 144,
   "metadata": {},
   "outputs": [
    {
     "name": "stdout",
     "output_type": "stream",
     "text": [
      "Width: 25023.0, Height: 12639.0\n"
     ]
    }
   ],
   "source": [
    "# Find the image bound in the original measurement units\n",
    "width_in_projected_units = my_image.bounds.right - my_image.bounds.left\n",
    "height_in_projected_units = my_image.bounds.top - my_image.bounds.bottom\n",
    "\n",
    "print(\"Width: {}, Height: {}\".format(width_in_projected_units, height_in_projected_units))"
   ]
  },
  {
   "cell_type": "markdown",
   "metadata": {},
   "source": [
    "Remember that this raster image will be comprised of a grid.\n",
    "\n",
    "We can therefore find the total number of rows and columns by using the height and width commands, as follows:"
   ]
  },
  {
   "cell_type": "code",
   "execution_count": 145,
   "metadata": {},
   "outputs": [
    {
     "name": "stdout",
     "output_type": "stream",
     "text": [
      "Rows: 4213, Columns: 8341\n"
     ]
    }
   ],
   "source": [
    "# Find the height and width of our image using the relevant functions:\n",
    "print(\"Rows: {}, Columns: {}\".format(my_image.height, my_image.width))"
   ]
  },
  {
   "cell_type": "markdown",
   "metadata": {},
   "source": [
    "We may want to clarify the dimensions of a single pixel in our raster grid.\n",
    "\n",
    "Thus, we can find the resolution of the x and y pixels as follows: "
   ]
  },
  {
   "cell_type": "code",
   "execution_count": 146,
   "metadata": {},
   "outputs": [
    {
     "name": "stdout",
     "output_type": "stream",
     "text": [
      "Length of x is: 3.0. Length of y is: 3.0\n",
      "Therefore, it is True that the pixels are square, with dimensions 3.0 x 3.0 meters.\n"
     ]
    }
   ],
   "source": [
    "# Find the resolution of a single pixel\n",
    "x_length = (my_image.bounds.right - my_image.bounds.left) / my_image.width\n",
    "y_length = (my_image.bounds.top - my_image.bounds.bottom) / my_image.height\n",
    "\n",
    "print(\"Length of x is: {}. Length of y is: {}\".format(x_length, y_length))\n",
    "print(\"Therefore, it is {} that the pixels are square, with dimensions {} x {} meters.\".format(\n",
    "    x_length == y_length, x_length, y_length))"
   ]
  },
  {
   "cell_type": "markdown",
   "metadata": {},
   "source": [
    "We can actually get the CRS of the data as follows (which is super handy to know):"
   ]
  },
  {
   "cell_type": "code",
   "execution_count": 147,
   "metadata": {},
   "outputs": [
    {
     "data": {
      "text/plain": [
       "CRS.from_dict(init='epsg:32610')"
      ]
     },
     "execution_count": 147,
     "metadata": {},
     "output_type": "execute_result"
    }
   ],
   "source": [
    "# Print the current coordinate reference system of the image\n",
    "my_image.crs"
   ]
  },
  {
   "cell_type": "markdown",
   "metadata": {},
   "source": [
    "It is important for us to be able to change the pixel coordinates, which we can do via an affine transformation.\n",
    "\n",
    "See here for more info: https://en.wikipedia.org/wiki/Affine_transformation\n",
    "   \n",
    "This of an affine transformation as a geometry transformation. Let's cover a basic example:    "
   ]
  },
  {
   "cell_type": "code",
   "execution_count": 148,
   "metadata": {},
   "outputs": [
    {
     "name": "stdout",
     "output_type": "stream",
     "text": [
      "The top left coordinate is (0, 0). The lower right coordinate is (4212, 8340).\n"
     ]
    }
   ],
   "source": [
    "# To convert from pixel coordinates to world coordinates, we need the min and max index values.\n",
    "\n",
    "# Upper left pixel coordinates\n",
    "row_min = 0\n",
    "col_min = 0\n",
    "\n",
    "# Lower right pixel coordinates.  \n",
    "# Remember our index starts at zero, hence we need to subtract 1.\n",
    "row_max = my_image.height - 1\n",
    "col_max = my_image.width - 1\n",
    "\n",
    "print(\n",
    "    'The top left coordinate is {}.'.format((row_min,col_min)),\n",
    "    'The lower right coordinate is {}.'.format((row_max,  col_max)),\n",
    ")"
   ]
  },
  {
   "cell_type": "markdown",
   "metadata": {},
   "source": [
    "Now we can transform these coordinates using the available `.transform` function.\n",
    "\n",
    "This converts our given row coordinates into our present CRS coordinates."
   ]
  },
  {
   "cell_type": "code",
   "execution_count": 149,
   "metadata": {},
   "outputs": [
    {
     "name": "stdout",
     "output_type": "stream",
     "text": [
      "Top left corner coordinates: (544491.0, 4191009.0)\n",
      "Bottom right corner coordinates: (557127.0, 4165989.0)\n"
     ]
    }
   ],
   "source": [
    "# Transform coordinates with the dataset's affine transformation.\n",
    "topleft = my_image.transform * (row_min, col_min)\n",
    "botright = my_image.transform * (row_max, col_max)\n",
    "\n",
    "print(\"Top left corner coordinates: {}\".format(topleft))\n",
    "print(\"Bottom right corner coordinates: {}\".format(botright))"
   ]
  },
  {
   "cell_type": "markdown",
   "metadata": {},
   "source": [
    "Finally, we can access any of our image metadata by using the `.profile` function, as follows:"
   ]
  },
  {
   "cell_type": "code",
   "execution_count": 150,
   "metadata": {},
   "outputs": [
    {
     "data": {
      "text/plain": [
       "{'driver': 'GTiff', 'dtype': 'uint16', 'nodata': 0.0, 'width': 8341, 'height': 4213, 'count': 4, 'crs': CRS.from_dict(init='epsg:32610'), 'transform': Affine(3.0, 0.0, 544491.0,\n",
       "       0.0, -3.0, 4191009.0), 'blockxsize': 256, 'blockysize': 256, 'tiled': True, 'compress': 'lzw', 'interleave': 'pixel'}"
      ]
     },
     "execution_count": 150,
     "metadata": {},
     "output_type": "execute_result"
    }
   ],
   "source": [
    "my_image.profile"
   ]
  },
  {
   "cell_type": "markdown",
   "metadata": {},
   "source": [
    "As this is a dictionary, we can just index into it as we usually do, as follows:"
   ]
  },
  {
   "cell_type": "code",
   "execution_count": 151,
   "metadata": {},
   "outputs": [
    {
     "name": "stdout",
     "output_type": "stream",
     "text": [
      "EPSG:32610 uint16\n"
     ]
    }
   ],
   "source": [
    "print(my_image.profile['crs'], my_image.profile['dtype'])"
   ]
  }
 ],
 "metadata": {
  "kernelspec": {
   "display_name": "Python 3",
   "language": "python",
   "name": "python3"
  },
  "language_info": {
   "codemirror_mode": {
    "name": "ipython",
    "version": 3
   },
   "file_extension": ".py",
   "mimetype": "text/x-python",
   "name": "python",
   "nbconvert_exporter": "python",
   "pygments_lexer": "ipython3",
   "version": "3.7.4"
  }
 },
 "nbformat": 4,
 "nbformat_minor": 2
}
