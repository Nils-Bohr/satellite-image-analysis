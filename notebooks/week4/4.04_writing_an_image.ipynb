{
 "cells": [
  {
   "cell_type": "code",
   "execution_count": 14,
   "id": "3da41eb1",
   "metadata": {},
   "outputs": [],
   "source": [
    "import rasterio"
   ]
  },
  {
   "cell_type": "markdown",
   "id": "a71c0c70",
   "metadata": {},
   "source": [
    "## Writing an image\n",
    "\n",
    "We have so far covered how to read in an image using `rasterio`, although this is only one key technique. It is also essential we know how to write out any image data we produce. \n",
    "\n",
    "The trick here, when working with our current `numpy` array structure, is getting the data layers in the right order. Let's look at an example. \n",
    "\n",
    "To write the data we will be using the `rasterio.open` function. We will need to set some basic parameters:\n",
    "- A filename for our new file.\n",
    "- The mode, which for writing is 'w'.\n",
    "- The driver which is likely to be 'GTiff' for a GeoTIFF .tif image file.\n",
    "- Image height.\n",
    "- Image width.\n",
    "- The count of the number of dataset bands.\n",
    "- The Coordinate Reference System\n",
    "- The affine transformation mapping the pixel space to geographic space.\n",
    "- The datatype. \n",
    "- Any pixel value that should be interpreted as not valid data.\n",
    "\n",
    "Let's try write our `rgb` (red, green and blue) layer. \n",
    "\n",
    "First we need to check the shape of the data. We must make sure our arrays are ordered as bands, columns and then rows. For the sake of clarity, let's load in the data again. \n"
   ]
  },
  {
   "cell_type": "code",
   "execution_count": 15,
   "id": "31c56d05",
   "metadata": {},
   "outputs": [
    {
     "data": {
      "text/plain": [
       "(4213, 8341, 3)"
      ]
     },
     "execution_count": 15,
     "metadata": {},
     "output_type": "execute_result"
    }
   ],
   "source": [
    "# This is all code we have already covered!!\n",
    "# We are rerunning to ensure a clean reload\n",
    "\n",
    "# ------------------------------------------\n",
    "import numpy as np\n",
    "import rasterio\n",
    "\n",
    "def scale(band): # scale values for display purposes\n",
    "    return band / 10000.0\n",
    "\n",
    "image_filename = \"../week3/20190321_174348_0f1a_3B_AnalyticMS.tif\"\n",
    "my_image = rasterio.open(image_filename)\n",
    "\n",
    "blue = scale(my_image.read(1))\n",
    "green = scale(my_image.read(2))\n",
    "red = scale(my_image.read(3))\n",
    "nir = scale(my_image.read(4))\n",
    "\n",
    "# Stack our bands into a numpy array\n",
    "rgb = np.dstack((red, green, blue)) \n",
    "\n",
    "# ------------------------------------------\n",
    "\n",
    "# Check the shape\n",
    "rgb.shape "
   ]
  },
  {
   "cell_type": "markdown",
   "id": "6a74d59d",
   "metadata": {},
   "source": [
    "Currently, the output (4213, 8341, 3) means we have an array ordered by rows, columns and then bands. \n",
    "\n",
    "To write this data we need the order to be bands, rows and then columns."
   ]
  },
  {
   "cell_type": "code",
   "execution_count": 16,
   "id": "54dd947f",
   "metadata": {},
   "outputs": [
    {
     "data": {
      "text/plain": [
       "(3, 4213, 8341)"
      ]
     },
     "execution_count": 16,
     "metadata": {},
     "output_type": "execute_result"
    }
   ],
   "source": [
    "# Let's reorder our multidimensional array.\n",
    "# The numpy moveaxis function allows us to state:\n",
    "# - the data.\n",
    "# - the order we are labelling the data.\n",
    "# - the desired array order, using the labels we just defined.\n",
    "rgb_reordered = np.moveaxis(rgb, [0, 1, 2], [1, 2, 0])\n",
    "\n",
    "# Check the shape. \n",
    "rgb_reordered.shape # Now we should have bands, rows and columns (3, 4213, 8341, ):"
   ]
  },
  {
   "cell_type": "markdown",
   "id": "5a3bb16f",
   "metadata": {},
   "source": [
    "With the data in the correct shape, we can begin writing our data. "
   ]
  },
  {
   "cell_type": "code",
   "execution_count": 17,
   "id": "abbbff5d",
   "metadata": {},
   "outputs": [
    {
     "name": "stdout",
     "output_type": "stream",
     "text": [
      "Finished writing rgb_reordered\n"
     ]
    }
   ],
   "source": [
    "with rasterio.open(\n",
    "    'rgb_true_color.tif',                           #our filename\n",
    "    'w',                                            #write mode\n",
    "    driver='GTiff',                                 #write a GeoTIFF\n",
    "    height=rgb_reordered.shape[1],                  #specify the height of our image data\n",
    "    width=rgb_reordered.shape[2],                   #specify the width of our image data\n",
    "    count=rgb_reordered.shape[0],                   #number of bands present (e.g. )\n",
    "    dtype=rgb_reordered.dtype,                      #data type\n",
    "    crs=my_image.profile['crs'],                    #coordinate reference system\n",
    "    transform=my_image.profile['transform']         #affine geometry transform information\n",
    "    ) as my_raster_writer:\n",
    "        my_raster_writer.write(rgb_reordered)       #write the data\n",
    "\n",
    "print('Finished writing rgb_reordered')"
   ]
  },
  {
   "cell_type": "markdown",
   "id": "327b3408",
   "metadata": {},
   "source": [
    "We are also able to write a false-color version which uses near-infrared, red and green. This accentuates the areas of vegetation. \n",
    "\n",
    "We need to make sure we have the numpy arrays in the correct order, for bands, rows and columns:"
   ]
  },
  {
   "cell_type": "code",
   "execution_count": 18,
   "id": "40e2dd02",
   "metadata": {},
   "outputs": [
    {
     "data": {
      "text/plain": [
       "(3, 4213, 8341)"
      ]
     },
     "execution_count": 18,
     "metadata": {},
     "output_type": "execute_result"
    }
   ],
   "source": [
    "nrg = np.dstack((nir,red,green))\n",
    "nrg.shape\n",
    "nrg_reordered = np.moveaxis(nrg, [0, 1, 2], [1, 2, 0])\n",
    "\n",
    "# Check the shape. \n",
    "nrg_reordered.shape # Now we should have bands, rows and columns (3, 4213, 8341, ):"
   ]
  },
  {
   "cell_type": "code",
   "execution_count": 19,
   "id": "338db80b",
   "metadata": {},
   "outputs": [
    {
     "name": "stdout",
     "output_type": "stream",
     "text": [
      "Finished writing nrg_reordered\n"
     ]
    }
   ],
   "source": [
    "with rasterio.open(\n",
    "    'nrg_false_color.tif',                           #our filename\n",
    "    'w',                                            #write mode\n",
    "    driver='GTiff',                                 #write a GeoTIFF\n",
    "    height=nrg_reordered.shape[1],                  #specify the height of our image data\n",
    "    width=nrg_reordered.shape[2],                   #specify the width of our image data\n",
    "    count=nrg_reordered.shape[0],                   #number of bands present (e.g. )\n",
    "    dtype=nrg_reordered.dtype,                      #data type\n",
    "    crs=my_image.profile['crs'],                    #coordinate reference system\n",
    "    transform=my_image.profile['transform']         #affine geometry transform information\n",
    "    ) as my_raster_writer:\n",
    "        my_raster_writer.write(nrg_reordered)       #write the data\n",
    "\n",
    "print('Finished writing nrg_reordered')"
   ]
  },
  {
   "cell_type": "markdown",
   "id": "6b28a9d3",
   "metadata": {},
   "source": [
    "Now go to the directory where you saved this notebook.\n",
    "\n",
    "Open the .tif file in a piece of GIS software to view the image (e.g. ESRI Arcmap or QGIS).\n",
    "\n",
    "Congratulations for completing this tutorial!"
   ]
  }
 ],
 "metadata": {
  "kernelspec": {
   "display_name": "Python 3",
   "language": "python",
   "name": "python3"
  },
  "language_info": {
   "codemirror_mode": {
    "name": "ipython",
    "version": 3
   },
   "file_extension": ".py",
   "mimetype": "text/x-python",
   "name": "python",
   "nbconvert_exporter": "python",
   "pygments_lexer": "ipython3",
   "version": "3.10.2"
  }
 },
 "nbformat": 4,
 "nbformat_minor": 5
}
