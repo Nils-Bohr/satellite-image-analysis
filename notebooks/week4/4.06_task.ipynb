{
 "cells": [
  {
   "cell_type": "markdown",
   "id": "2b57e90f",
   "metadata": {},
   "source": [
    "## Task\n",
    "\n",
    "For a preferred image, downloaded via a previous tutorial, write code to:\n",
    "\n",
    "- Load in the single image separating the bands into different variables.\n",
    "- Create a map plot for each color layer.\n",
    "- Create a map plot composite which includes:\n",
    "    - red, green and blue.\n",
    "    - near-infrared, red and green.\n",
    "    - blue, near-infrared and green.\n",
    "    - green, blue and near-infrared.\n",
    "- Write out each image to a new file. \n",
    "- Critically evaluate the differences of the images. \n"
   ]
  }
 ],
 "metadata": {
  "kernelspec": {
   "display_name": "Python 3 (ipykernel)",
   "language": "python",
   "name": "python3"
  },
  "language_info": {
   "codemirror_mode": {
    "name": "ipython",
    "version": 3
   },
   "file_extension": ".py",
   "mimetype": "text/x-python",
   "name": "python",
   "nbconvert_exporter": "python",
   "pygments_lexer": "ipython3",
   "version": "3.7.11"
  }
 },
 "nbformat": 4,
 "nbformat_minor": 5
}
