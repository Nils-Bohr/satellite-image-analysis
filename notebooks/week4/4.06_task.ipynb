{
 "cells": [
  {
   "cell_type": "markdown",
   "id": "2b57e90f",
   "metadata": {},
   "source": [
    "## Task\n",
    "\n",
    "For a preferred image, downloaded via a previous tutorial, write code to:\n",
    "\n",
    "- Load in the single image separating the bands into different variables.\n",
    "- Create a map plot for each color layer.\n",
    "- Create a map plot composite which includes:\n",
    "    - red, green and blue.\n",
    "    - near-infrared, red and green.\n",
    "    - blue, near-infrared and green.\n",
    "    - green, blue and near-infrared.\n",
    "- Write out each image to a new file. \n",
    "- Critically evaluate the differences of the images. \n"
   ]
  },
  {
   "cell_type": "code",
   "execution_count": 9,
   "id": "878b9d60",
   "metadata": {},
   "outputs": [
    {
     "name": "stderr",
     "output_type": "stream",
     "text": [
      "  % Total    % Received % Xferd  Average Speed   Time    Time     Time  Current\n",
      "                                 Dload  Upload   Total   Spent    Left  Speed\n",
      "\n",
      "  0     0    0     0    0     0      0      0 --:--:-- --:--:-- --:--:--     0\n",
      "100  9560  100  9560    0     0  16614      0 --:--:-- --:--:-- --:--:-- 16655\n"
     ]
    }
   ],
   "source": [
    "# Let us download the initial analytic 4-Band PlanetScope tile asset\n",
    "# UG2TX98suVmmi9q is a tile covering part of the San Francisco Bay\n",
    "!curl -O -J https://hello.planet.com/data/s/dae2058f-d6c8-4268-8f97-8b9289ebe012/download\n",
    "\n",
    "    \n",
    "#     # Let us download the initial analytic 4-Band PlanetScope tile asset\n",
    "# # UG2TX98suVmmi9q is a tile covering part of the San Francisco Bay\n",
    "# !curl -O -J https://hello.planet.com/data/s/UG2TX98suVmmi9q/download\n",
    "    "
   ]
  }
 ],
 "metadata": {
  "kernelspec": {
   "display_name": "Python 3",
   "language": "python",
   "name": "python3"
  },
  "language_info": {
   "codemirror_mode": {
    "name": "ipython",
    "version": 3
   },
   "file_extension": ".py",
   "mimetype": "text/x-python",
   "name": "python",
   "nbconvert_exporter": "python",
   "pygments_lexer": "ipython3",
   "version": "3.10.2"
  }
 },
 "nbformat": 4,
 "nbformat_minor": 5
}
