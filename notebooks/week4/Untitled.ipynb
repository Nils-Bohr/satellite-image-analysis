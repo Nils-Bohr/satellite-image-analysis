{
 "cells": [
  {
   "cell_type": "code",
   "execution_count": 25,
   "metadata": {},
   "outputs": [
    {
     "name": "stdout",
     "output_type": "stream",
     "text": [
      "(4213, 8341, 3)\n",
      "(3, 4213, 8341)\n",
      "3 4213 8341\n"
     ]
    }
   ],
   "source": [
    "import rasterio\n",
    "import numpy as np\n",
    "\n",
    "image_filename = \"../week3/20190321_174348_0f1a_3B_AnalyticMS.tif\"\n",
    "my_image = rasterio.open(image_filename)\n",
    "\n",
    "def scale(band): # scale values for display purposes\n",
    "    return band / 10000.0\n",
    "\n",
    "blue = scale(my_image.read(1))\n",
    "green = scale(my_image.read(2))\n",
    "red = scale(my_image.read(3))\n",
    "nir = scale(my_image.read(4))\n",
    "\n",
    "rgb = np.dstack((red, green, blue)) # Stack our bands into a numpy array\n",
    "print(rgb.shape) \n",
    "rgb = np.rollaxis(rgb, axis=2)\n",
    "print(rgb.shape) \n",
    "\n",
    "with rasterio.open(\n",
    "    'rgb.tif',                           #our filename\n",
    "    'w',                                     #write mode\n",
    "    driver='GTiff',                          #write a GeoTIFF\n",
    "    height=rgb.shape[1],                     #specify the height of our image data\n",
    "    width=rgb.shape[2],                      #specify the width of our image data\n",
    "    count=rgb.shape[0],                                 #number of bands present (e.g. )\n",
    "    dtype=rgb.dtype,                         #data type\n",
    "    crs=my_image.profile['crs'],             #coordinate reference system\n",
    "    transform=my_image.profile['transform']  #affine geometry transform information\n",
    "    ) as my_raster_writer:\n",
    "        my_raster_writer.write(rgb)          #write the data\n",
    "    "
   ]
  }
 ],
 "metadata": {
  "kernelspec": {
   "display_name": "Python 3",
   "language": "python",
   "name": "python3"
  },
  "language_info": {
   "codemirror_mode": {
    "name": "ipython",
    "version": 3
   },
   "file_extension": ".py",
   "mimetype": "text/x-python",
   "name": "python",
   "nbconvert_exporter": "python",
   "pygments_lexer": "ipython3",
   "version": "3.7.4"
  }
 },
 "nbformat": 4,
 "nbformat_minor": 2
}
