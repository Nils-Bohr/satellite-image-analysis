{
 "cells": [
  {
   "cell_type": "markdown",
   "id": "3e38596b",
   "metadata": {},
   "source": [
    "# Compressing an image\n",
    "\n",
    "Often we may need to compress a file to reduce the size of the given data. \n",
    "\n",
    "We have two options:\n",
    "- **lossy** compression which is a method of data compression in which the size of the file is reduced by eliminating data in the file (thus, lowering quality).\n",
    "- **lossless** which is a class of data compression algorithms that allows the original data to be perfectly reconstructed from the compressed data (thus, no loss of quality).\n",
    "\n",
    "For satellite image process, lossy is typically not very useful as we suffer a reduction in the present quality (and quality is really important).\n",
    "\n",
    "Many satellite data sources provide imagery as GeoTIFFs using lossless LZW compression (e.g. Planet). \n",
    "\n",
    "Let's see an example of a lossy method where we will copy an image and save it as a .jpeg. \n",
    "\n",
    "This should not be new code to you, as this builds on the previous tutorials. "
   ]
  },
  {
   "cell_type": "code",
   "execution_count": 11,
   "id": "0755b970",
   "metadata": {},
   "outputs": [
    {
     "name": "stdout",
     "output_type": "stream",
     "text": [
      "Finished writing rgb_reordered\n",
      "--\n",
      "The size of the old file was 155486436 bytes\n",
      "This translates to 155.5 Megabytes\n",
      "--\n",
      "The size of the file is 12032124 bytes\n",
      "This translates to 12.0 Megabytes\n",
      "--\n",
      "Therefore, this is a 92.3% reduction in file size!\n"
     ]
    }
   ],
   "source": [
    "import os\n",
    "import numpy as np\n",
    "import rasterio\n",
    "\n",
    "image_filename = \"../week3/20190321_174348_0f1a_3B_AnalyticMS.tif\"\n",
    "my_image = rasterio.open(image_filename)\n",
    "\n",
    "blue = my_image.read(1)\n",
    "green = my_image.read(2)\n",
    "red = my_image.read(3)\n",
    "nir = my_image.read(4)\n",
    "\n",
    "# rgb_reordered[rgb_reordered==0] = np.nan\n",
    "\n",
    "# Stack our bands into a numpy array\n",
    "rgb = np.dstack((red, green, blue)) \n",
    "rgb_reordered = np.moveaxis(rgb, [0, 1, 2], [1, 2, 0])\n",
    "\n",
    "rgb_reordered = rgb_reordered.astype('uint8')\n",
    "rgb_reordered.dtype\n",
    "with rasterio.open(\n",
    "    'compressed.jpg',                               #our filename\n",
    "    'w',                                            #write mode\n",
    "    driver='JPEG',                                  #write a .jpg\n",
    "    compress='JPEG', #<---- we compress to a .jpg!\n",
    "    height=rgb_reordered.shape[1],                  #specify the height of our image data\n",
    "    width=rgb_reordered.shape[2],                   #specify the width of our image data\n",
    "    count=rgb_reordered.shape[0],                   #number of bands present (e.g. )\n",
    "    dtype=rgb_reordered.dtype,                      #data type\n",
    "    crs=my_image.profile['crs'],                    #coordinate reference system\n",
    "    transform=my_image.profile['transform']         #affine geometry transform information\n",
    "    ) as my_raster_writer:\n",
    "        my_raster_writer.write(rgb_reordered)       #write the data\n",
    "\n",
    "print('Finished writing rgb_reordered')\n",
    "\n",
    "print('--')\n",
    "old_size = os.path.getsize(image_filename) # Get the new file size\n",
    "print('The size of the old file was {} bytes'.format(old_size))\n",
    "print('This translates to {} Megabytes'.format(round(old_size/1e6, 1)))\n",
    "\n",
    "print('--')\n",
    "new_size = os.path.getsize(\"compressed.jpg\") # Get the new file size\n",
    "print('The size of the file is {} bytes'.format(new_size))\n",
    "print('This translates to {} Megabytes'.format(round(new_size/1e6, 1)))\n",
    "\n",
    "print('--')\n",
    "difference = old_size-new_size\n",
    "print('Therefore, this is a {}% reduction in file size!'.format(round(difference/old_size*100,1)))\n"
   ]
  },
  {
   "cell_type": "markdown",
   "id": "e464b3c4",
   "metadata": {},
   "source": [
    "However, this reduction in file size naturally comes with a loss in quality. \n",
    "\n",
    "Navigate to the .jpg file and open it in QGIS for inspection. \n"
   ]
  }
 ],
 "metadata": {
  "kernelspec": {
   "display_name": "Python 3",
   "language": "python",
   "name": "python3"
  },
  "language_info": {
   "codemirror_mode": {
    "name": "ipython",
    "version": 3
   },
   "file_extension": ".py",
   "mimetype": "text/x-python",
   "name": "python",
   "nbconvert_exporter": "python",
   "pygments_lexer": "ipython3",
   "version": "3.10.2"
  }
 },
 "nbformat": 4,
 "nbformat_minor": 5
}
