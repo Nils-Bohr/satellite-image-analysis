{
 "cells": [
  {
   "cell_type": "code",
   "execution_count": null,
   "metadata": {},
   "outputs": [],
   "source": [
    "# Satellite Image Analysis GGS416 - Week4\n",
    "\n",
    "In this tutorial we are going to visualize a satellite image using the `pyplot` function from `matplotlib`.\n",
    "\n",
    "It is important you should be able to visualize an image:\n",
    "- In a piece of GIS software via a Graphical User Interface (GUI), such as in ESRI ArcMap or preferably an open-source alternative such as QGIS.\n",
    "- Using a script-based approach via visualization packages such as `matplotlib`\n",
    "\n",
    "To begin, we need to import one of our satellite images via `rasterio`, as follows:"
   ]
  },
  {
   "cell_type": "code",
   "execution_count": null,
   "metadata": {},
   "outputs": [],
   "source": []
  },
  {
   "cell_type": "code",
   "execution_count": null,
   "metadata": {},
   "outputs": [],
   "source": []
  },
  {
   "cell_type": "markdown",
   "metadata": {},
   "source": [
    "# Compressing a file\n",
    "\n",
    "Often we may need to compress a file to reduce the size of the given data. \n",
    "\n",
    "We have two options:\n",
    "- **lossy** compression which is a method of data compression in which the size of the file is reduced by eliminating data in the file (thus, lowering quality).\n",
    "- **lossless** which is a class of data compression algorithms that allows the original data to be perfectly reconstructed from the compressed data (thus, no loss of quality).\n",
    "\n",
    "For satellite image process, lossy is typically not very useful as we suffer a reduction in the present quality (and quality is really important).\n",
    "\n",
    "Many satellite data sources provide imagery as GeoTIFFs using lossless LZW compression (e.g. Planet). \n",
    "\n",
    "Let's see an example of a lossy method where we will copy an image and save it as a .jpeg. "
   ]
  },
  {
   "cell_type": "code",
   "execution_count": null,
   "metadata": {},
   "outputs": [],
   "source": [
    "import os\n",
    "\n",
    "# Let's us our OS package to get the size of a given image file\n",
    "size = os.path.getsize(\"20160831_180302_0e26_3B_Visual.tif\")\n",
    "\n",
    "print('The size of the file is {} bytes'.format(size))\n",
    "print('This translates to {} Megabytes'.format(round(size/1e6, 1)))"
   ]
  },
  {
   "cell_type": "code",
   "execution_count": null,
   "metadata": {},
   "outputs": [],
   "source": [
    "Next we need to: \n",
    "- Read our data. \n",
    "- Extract the metadata.\n",
    "- Use the `Rasterio` write command. \n",
    "\n",
    "And then we can evaluate the size changes by converting to .jpeg:"
   ]
  },
  {
   "cell_type": "code",
   "execution_count": null,
   "metadata": {},
   "outputs": [],
   "source": [
    "# read all bands from source dataset into a single 3-dimensional ndarray\n",
    "data = my_image.read()\n",
    "\n",
    "# write new file using profile metadata from original dataset\n",
    "# and specifying JPEG compression\n",
    "\n",
    "profile = my_image.profile\n",
    "profile['compress'] = 'JPEG'\n",
    "\n",
    "# You can tell this writes the data as we provide the 'w' command, which stands for 'write'\n",
    "with rasterio.open('compressed.tif', 'w', **profile) as my_raster_writer:\n",
    "    my_raster_writer.write(data)\n",
    "\n",
    "new_size = os.path.getsize(\"compressed.tif\")\n",
    "print('The size of the file is {} bytes'.format(new_size))\n",
    "print('This translates to {} Kilobytes'.format(round(new_size/1e3, 1)))"
   ]
  },
  {
   "cell_type": "code",
   "execution_count": null,
   "metadata": {},
   "outputs": [],
   "source": []
  },
  {
   "cell_type": "code",
   "execution_count": null,
   "metadata": {},
   "outputs": [],
   "source": []
  },
  {
   "cell_type": "code",
   "execution_count": null,
   "metadata": {},
   "outputs": [],
   "source": []
  },
  {
   "cell_type": "code",
   "execution_count": null,
   "metadata": {},
   "outputs": [],
   "source": []
  },
  {
   "cell_type": "code",
   "execution_count": null,
   "metadata": {},
   "outputs": [],
   "source": []
  },
  {
   "cell_type": "code",
   "execution_count": null,
   "metadata": {},
   "outputs": [],
   "source": []
  },
  {
   "cell_type": "code",
   "execution_count": null,
   "metadata": {},
   "outputs": [],
   "source": [
    "# import sys\n",
    "# !conda install --yes --prefix {sys.prefix} matplotlib"
   ]
  },
  {
   "cell_type": "code",
   "execution_count": null,
   "metadata": {},
   "outputs": [],
   "source": [
    "# import rasterio\n",
    "from matplotlib import pyplot as plt\n",
    "\n",
    "# This notebook explores a single 4 band (blue, green, red, NIR) PlanetScope scene in a UTM projection.\n",
    "image_file = \"20190321_174348_0f1a_3B_AnalyticMS.tif\"\n",
    "\n",
    "# Use Rasterio to open the image.\n",
    "satdat = rasterio.open(image_file)\n",
    "satdat\n",
    "\n",
    "# rasterio.plot.show is a shortcut to matplotlib plotting\n",
    "\n",
    "from rasterio.plot import show\n",
    "show(satdat)"
   ]
  },
  {
   "cell_type": "markdown",
   "metadata": {},
   "source": [
    "\"Using a mask to cut raster along boundary\n",
    "In this exercise we're going to clip a fullsized PlanetScope dataset to an area of interest (AOI) polygon. Because this AOI is a vector dataset (versus raster), we'll use Rasterio's sister-library, Fiona, to read the geoJSON dataset:\""
   ]
  },
  {
   "cell_type": "code",
   "execution_count": null,
   "metadata": {},
   "outputs": [],
   "source": [
    "!conda install --yes --prefix {sys.prefix} fiona"
   ]
  },
  {
   "cell_type": "code",
   "execution_count": null,
   "metadata": {},
   "outputs": [],
   "source": [
    "import fiona \n",
    "\n",
    "with fiona.open(\"bbox.shp\", \"r\") as shapefile:\n",
    "    my_geojson = [feature[\"geometry\"] for feature in shapefile]\n",
    "my_geojson"
   ]
  },
  {
   "cell_type": "code",
   "execution_count": null,
   "metadata": {},
   "outputs": [],
   "source": [
    "my_geojson = [{\n",
    "\t\"type\": \"Polygon\", #let's define our geometry type, which as we have a square, is a polygon.\n",
    "\t\"coordinates\": [ #Here are our actual geometry coordinates\n",
    "\t  [\n",
    "\t\t[\n",
    "\t\t  559611.0942910484736785,\n",
    "\t\t  4183386.0969752739183605\n",
    "\t\t],\n",
    "\t\t[\n",
    "\t\t  562552.8939972541993484,\n",
    "\t\t  4183386.0969752739183605\n",
    "\t\t],\n",
    "\t\t[\n",
    "\t\t  562552.8939972541993484,\n",
    "\t\t  4186004.0364823746494949\n",
    "\t\t],\n",
    "\t\t[\n",
    "\t\t  559611.0942910484736785,\n",
    "\t\t  4186004.0364823746494949\n",
    "\t\t],\n",
    "\t\t[\n",
    "\t\t  559611.0942910484736785,\n",
    "\t\t  4183386.0969752739183605\n",
    "\t\t]\n",
    "\t  ],\n",
    "\t]\n",
    "  }]\n",
    "my_geojson"
   ]
  },
  {
   "cell_type": "markdown",
   "metadata": {},
   "source": [
    "\"In order to clip our original raster to the boundary defined by the AOI, we'll use rasterio's mask function. This will create a copy of our original dataset, with all pixels outside of the input AOI shape set to nodata values.\""
   ]
  },
  {
   "cell_type": "code",
   "execution_count": null,
   "metadata": {},
   "outputs": [],
   "source": [
    "# import rasterio's mask tool\n",
    "from rasterio.mask import mask\n",
    "\n",
    "# apply mask with crop=True to crop the resulting raster to the AOI's bounding box\n",
    "with rasterio.open(image_file) as img:\n",
    "    clipped, transform = mask(img, my_geojson, crop=True)\n",
    "    \n",
    "print(clipped.shape)"
   ]
  },
  {
   "cell_type": "markdown",
   "metadata": {},
   "source": [
    "\"Using a copy of the metadata from our original raster dataset, we can write a new geoTIFF containing the new, clipped raster data:\""
   ]
  },
  {
   "cell_type": "code",
   "execution_count": null,
   "metadata": {},
   "outputs": [],
   "source": [
    "# use the metadata from our original mosaic\n",
    "meta = img.meta.copy()\n",
    "\n",
    "# update metadata with new, clipped mosaic's boundaries\n",
    "meta.update({\"transform\": transform,\n",
    "    \"height\":clipped.shape[1],\n",
    "    \"width\":clipped.shape[2]})\n",
    "\n",
    "# write the clipped-and-cropped dataset to a new GeoTIFF\n",
    "with rasterio.open('clipped.tif', 'w', **meta) as dst:\n",
    "    dst.write(clipped)"
   ]
  },
  {
   "cell_type": "markdown",
   "metadata": {},
   "source": [
    "clipped_img = rasterio.open(\"clipped.tif\")\n",
    "show(clipped_img)"
   ]
  },
  {
   "cell_type": "markdown",
   "metadata": {},
   "source": [
    "# Compressing a file\n",
    "\n",
    "Often we may need to compress a file to reduce the size of the given data. \n",
    "\n",
    "We have two options:\n",
    "- **lossy** compression which is a method of data compression in which the size of the file is reduced by eliminating data in the file (thus, lowering quality).\n",
    "- **lossless** which is a class of data compression algorithms that allows the original data to be perfectly reconstructed from the compressed data (thus, no loss of quality).\n",
    "\n",
    "For satellite image process, lossy is typically not very useful as we suffer a reduction in the present quality (and quality is really important).\n",
    "\n",
    "Many satellite data sources provide imagery as GeoTIFFs using lossless LZW compression (e.g. Planet). \n",
    "\n",
    "Let's see an example of a lossy method where we will copy an image and save it as a .jpeg. "
   ]
  },
  {
   "cell_type": "code",
   "execution_count": null,
   "metadata": {},
   "outputs": [],
   "source": []
  },
  {
   "cell_type": "code",
   "execution_count": null,
   "metadata": {},
   "outputs": [],
   "source": []
  },
  {
   "cell_type": "code",
   "execution_count": null,
   "metadata": {},
   "outputs": [],
   "source": []
  },
  {
   "cell_type": "code",
   "execution_count": null,
   "metadata": {},
   "outputs": [],
   "source": []
  }
 ],
 "metadata": {
  "kernelspec": {
   "display_name": "Python 3",
   "language": "python",
   "name": "python3"
  },
  "language_info": {
   "codemirror_mode": {
    "name": "ipython",
    "version": 3
   },
   "file_extension": ".py",
   "mimetype": "text/x-python",
   "name": "python",
   "nbconvert_exporter": "python",
   "pygments_lexer": "ipython3",
   "version": "3.7.4"
  }
 },
 "nbformat": 4,
 "nbformat_minor": 2
}
