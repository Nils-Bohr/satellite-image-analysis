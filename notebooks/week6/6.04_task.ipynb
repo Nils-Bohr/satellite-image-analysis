{
 "cells": [
  {
   "cell_type": "markdown",
   "id": "a2972f0d",
   "metadata": {},
   "source": [
    "## Task\n",
    "\n",
    "Select an image of your choice downloaded previously:\n",
    "- Write a piece of code which segments the image into 8 smaller images.\n",
    "- Export the 8 images ready for submission.\n",
    "- Critically evaluate the advantages and disadvantages of using this method for clipping images.\n",
    "\n"
   ]
  }
 ],
 "metadata": {
  "kernelspec": {
   "display_name": "Python 3",
   "language": "python",
   "name": "python3"
  },
  "language_info": {
   "codemirror_mode": {
    "name": "ipython",
    "version": 3
   },
   "file_extension": ".py",
   "mimetype": "text/x-python",
   "name": "python",
   "nbconvert_exporter": "python",
   "pygments_lexer": "ipython3",
   "version": "3.10.2"
  }
 },
 "nbformat": 4,
 "nbformat_minor": 5
}
