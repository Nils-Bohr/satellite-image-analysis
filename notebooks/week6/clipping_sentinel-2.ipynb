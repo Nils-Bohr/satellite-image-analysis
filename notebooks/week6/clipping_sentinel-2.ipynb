{
 "cells": [
  {
   "cell_type": "code",
   "execution_count": 13,
   "metadata": {},
   "outputs": [
    {
     "name": "stdout",
     "output_type": "stream",
     "text": [
      "Writing complete for T18SUH_20220110T155631_B02.jp2_clipped.tif\n",
      "Writing complete for T18SUH_20220110T155631_B03.jp2_clipped.tif\n",
      "Writing complete for T18SUH_20220110T155631_B04.jp2_clipped.tif\n"
     ]
    }
   ],
   "source": [
    "import rasterio\n",
    "from matplotlib import pyplot as plt\n",
    "from rasterio.mask import mask\n",
    "\n",
    "bands = [\n",
    "    \"T18SUH_20220110T155631_B02.jp2\", #blue\n",
    "    \"T18SUH_20220110T155631_B03.jp2\", #green\n",
    "    \"T18SUH_20220110T155631_B04.jp2\", #red\n",
    "]\n",
    "\n",
    "for band in bands:\n",
    "\n",
    "    # Open our image\n",
    "    my_image = rasterio.open(band)\n",
    "    band1 = my_image.read(1)\n",
    "\n",
    "    # As an example, we can index into the coordinates:\n",
    "    xmin = 319677\n",
    "    ymin = 4295835\n",
    "    xmax = 323391\n",
    "    ymax = 4298996\n",
    "\n",
    "    my_geojson = [{\n",
    "        \"type\": \"Polygon\", #let's define our geometry type, which as we have a square, is a polygon.\n",
    "        \"coordinates\": [ #Here are our actual geometry coordinates\n",
    "          [\n",
    "            [\n",
    "              xmin,\n",
    "              ymin\n",
    "            ],\n",
    "            [\n",
    "              xmax,\n",
    "              ymin\n",
    "            ],\n",
    "            [\n",
    "              xmax,\n",
    "              ymax\n",
    "            ],\n",
    "            [\n",
    "              xmin,\n",
    "              ymax\n",
    "            ],\n",
    "            [\n",
    "              xmin,\n",
    "              ymin\n",
    "            ]\n",
    "          ],\n",
    "        ]\n",
    "      }]\n",
    "\n",
    "    # Now we can apply the rasterio mask \n",
    "    # We specify the function needs to crop (via crop=True)\n",
    "    with rasterio.open(image_file) as img:\n",
    "        clipped, transform = mask(my_image, my_geojson, crop=True)\n",
    "\n",
    "    # Let's copy the metadata from the original ratserio object\n",
    "    meta = my_image.meta.copy()\n",
    "\n",
    "    # We will need to update this metadata, and provide the new clipped boundaries\n",
    "    meta.update(\n",
    "        {\n",
    "\n",
    "            \"transform\": transform,\n",
    "            \"height\":clipped.shape[1],\n",
    "            \"width\":clipped.shape[2]\n",
    "        }\n",
    "    )\n",
    "\n",
    "    # Note: that here we make the filename the coordinates\n",
    "    filename_out = '{}_clipped.tif'.format(band) \n",
    "\n",
    "    # Finally, we can write new image to a GeoTIFF\n",
    "    with rasterio.open(filename_out, 'w', **meta) as dst:\n",
    "        dst.write(clipped)\n",
    "\n",
    "    print('Writing complete for {}'.format(filename_out))\n"
   ]
  }
 ],
 "metadata": {
  "kernelspec": {
   "display_name": "Python 3",
   "language": "python",
   "name": "python3"
  },
  "language_info": {
   "codemirror_mode": {
    "name": "ipython",
    "version": 3
   },
   "file_extension": ".py",
   "mimetype": "text/x-python",
   "name": "python",
   "nbconvert_exporter": "python",
   "pygments_lexer": "ipython3",
   "version": "3.10.2"
  }
 },
 "nbformat": 4,
 "nbformat_minor": 2
}
