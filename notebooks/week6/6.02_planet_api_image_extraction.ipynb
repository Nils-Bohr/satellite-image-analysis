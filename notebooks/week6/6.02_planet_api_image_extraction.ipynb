{
 "cells": [
  {
   "cell_type": "markdown",
   "metadata": {},
   "source": [
    "# API Image Extraction (via Planet)\n",
    "\n",
    "In the previous class we focused on using the API for Sentinel-2. \n",
    "\n",
    "Today we're going to explore the Planet Labs API. "
   ]
  },
  {
   "cell_type": "markdown",
   "metadata": {},
   "source": [
    "## Planet\n",
    "\n",
    "The `planet` package enables you to use python to access Planet imagery via the available API.\n",
    "\n",
    "See here:\n",
    "\n",
    "- https://pypi.org/project/planet/\n",
    "- https://github.com/planetlabs/planet-client-python\n",
    "    \n",
    "The python API is highly sophisticated and allows you to make very bespoke queries for Planet data across scales and over temporal periods. \n",
    "\n",
    "First, you will need to install the planet package in your current virtual environment, which can be achieved as follows:"
   ]
  },
  {
   "cell_type": "code",
   "execution_count": null,
   "metadata": {
    "colab": {
     "base_uri": "https://localhost:8080/"
    },
    "id": "PDyhJOZJvJL_",
    "outputId": "58354877-9170-457b-e8ca-2e0271ff3bbb"
   },
   "outputs": [],
   "source": [
    "# Example\n",
    "import sys\n",
    "!{sys.executable} -m pip install planet"
   ]
  },
  {
   "cell_type": "markdown",
   "metadata": {},
   "source": [
    "Next, we will need to make sure our API key is available in our environment. \n",
    "\n",
    "To do this, make sure you have already signed up for a Planet educational account here:\n",
    "\n",
    "- https://www.planet.com/markets/education-and-research/\n",
    "\n",
    "Then sign into your account, and go to `My Settings` (it's usually on the left-hand dashboard).\n",
    "\n",
    "About four lines down you should have your API key, which you can copy to your clipboard. \n",
    "\n",
    "Now paste the API code below, and run the code in order to add it to your environment as a variable. \n"
   ]
  },
  {
   "cell_type": "code",
   "execution_count": null,
   "metadata": {},
   "outputs": [],
   "source": [
    "import os\n",
    "import planet\n",
    "\n",
    "# if your Planet API Key is not set as an environment variable, you can paste it below\n",
    "os.environ['PL_API_KEY'] = 'PASTE_YOUR_KEY_HERE' \n",
    "\n",
    "# we can then check our Planet API Key is now set as an environment variable\n",
    "print(os.getenv(\"PL_API_KEY\"))"
   ]
  },
  {
   "cell_type": "markdown",
   "metadata": {},
   "source": [
    "Next, we want to define an Area of Interest (AOI).\n",
    "\n",
    "Remember, we have already defined a geojson boundary like this in previous classes, so try not to be intimidated (this is repeating something we've mostly already covered!).\n",
    "\n",
    "If a geojson is still feeling new to you, recap the section in the previous class where we cover the geojson structure for a point and polygon. \n"
   ]
  },
  {
   "cell_type": "code",
   "execution_count": null,
   "metadata": {
    "id": "S_rvXgtiCegr"
   },
   "outputs": [],
   "source": [
    "# Example\n",
    "# Define AOI as GeoJSON\n",
    "# Stockton, CA bounding box (created via geojson.io) \n",
    "geojson_geometry = {\n",
    "  \"type\": \"Polygon\",\n",
    "  \"coordinates\": [\n",
    "    [ \n",
    "      [-121.59290313720705, 37.93444993515032],\n",
    "      [-121.27017974853516, 37.93444993515032],\n",
    "      [-121.27017974853516, 38.065932950547484],\n",
    "      [-121.59290313720705, 38.065932950547484],\n",
    "      [-121.59290313720705, 37.93444993515032]\n",
    "    ]\n",
    "  ]\n",
    "}\n",
    "geojson_geometry"
   ]
  },
  {
   "cell_type": "markdown",
   "metadata": {},
   "source": [
    "Now we need to define our API filters.\n",
    "\n",
    "These filters enable us to refine our imagery queries, and ensure we are only accessing the imagery assets we actually want (across space, in time or for a specific multi-spectral product).\n",
    "\n",
    "The filters we define here will be similar to those we defined for the sentinel-2 API. For example:\n",
    "\n",
    "- `geometry_filter` is a filter which holds our geojson object to ensure we only include images which intersect our bespoke geometry boundary.\n",
    "- `date_range_filter` is a filter which specifies our date range to ensure we only include images within our desired time profile.\n",
    "- `cloud_cover_filter` is a filter which ensures we only include images which are deemed acceptable, in terms of cloud cover. \n",
    "- `combined_filter` is just the concatenation of these dicts into a meta-dict which we will pass to the API. \n",
    "\n"
   ]
  },
  {
   "cell_type": "code",
   "execution_count": null,
   "metadata": {
    "id": "yDEsR44DN0BS"
   },
   "outputs": [],
   "source": [
    "# Example\n",
    "# Set filters\n",
    "# get images that overlap with our AOI \n",
    "geometry_filter = {\n",
    "  \"type\": \"GeometryFilter\",\n",
    "  \"field_name\": \"geometry\",\n",
    "  \"config\": geojson_geometry\n",
    "}\n",
    "\n",
    "# get images acquired within a date range\n",
    "date_range_filter = {\n",
    "  \"type\": \"DateRangeFilter\",\n",
    "  \"field_name\": \"acquired\",\n",
    "  \"config\": {\n",
    "    \"gte\": \"2016-08-31T00:00:00.000Z\",\n",
    "    \"lte\": \"2016-09-01T00:00:00.000Z\"\n",
    "  }\n",
    "}\n",
    "\n",
    "# only get images which have <50% cloud coverage\n",
    "cloud_cover_filter = {\n",
    "  \"type\": \"RangeFilter\",\n",
    "  \"field_name\": \"cloud_cover\",\n",
    "  \"config\": {\n",
    "    \"lte\": 0.5\n",
    "  }\n",
    "}\n",
    "\n",
    "# combine our geo, date, cloud filters\n",
    "combined_filter = {\n",
    "  \"type\": \"AndFilter\",\n",
    "  \"config\": [geometry_filter, date_range_filter, cloud_cover_filter]\n",
    "}\n",
    "\n",
    "# overall, this dict looks very complicated, but each component is simple enough!\n",
    "combined_filter"
   ]
  },
  {
   "cell_type": "markdown",
   "metadata": {},
   "source": [
    "Next, we want to  import our required packages, which includes `json`, `requests` etc. \n",
    "\n",
    "Now we can define our API key as a standard variable. "
   ]
  },
  {
   "cell_type": "code",
   "execution_count": null,
   "metadata": {
    "colab": {
     "base_uri": "https://localhost:8080/"
    },
    "id": "B8M2CasXN7-Z",
    "outputId": "914ab4a0-a95b-40be-9bb9-53ec4a09d476"
   },
   "outputs": [],
   "source": [
    "# Example\n",
    "import json\n",
    "import requests\n",
    "from requests.auth import HTTPBasicAuth\n",
    "\n",
    "# API Key stored as an env variable\n",
    "PLANET_API_KEY = os.getenv('PL_API_KEY')\n",
    "PLANET_API_KEY"
   ]
  },
  {
   "cell_type": "markdown",
   "metadata": {},
   "source": [
    "Next, we want to specify the imagery type we want to query.\n",
    "\n",
    "Here we're going to define a \"PSScene\":\n",
    "\n",
    "https://developers.planet.com/docs/data/psscene/\n",
    "\n",
    "*This item-type includes imagery from PlanetScope sensors. PlanetScope images are from three different sensors: PS2, PS2.SD, and PSB.SB. Sensors PS2 and PS2.SD deliver four bands: red, green, blue, and near-infrared. PSB.SD sensor has an additional four bands: green I, yellow, coastal blue, and red edge.*\n",
    "\n",
    "*The earliest PS2 imagery available on July, 2014 to April 29, 2022. The earliest PS2.SD imagery available is on March, 2019 to April 22, 2022. The earliest PSB.SD imagery available is mid-March, 2020 to current monitoring.*\n",
    "\n"
   ]
  },
  {
   "cell_type": "code",
   "execution_count": null,
   "metadata": {},
   "outputs": [],
   "source": [
    "# Example\n",
    "item_type = \"PSScene\"\n",
    "item_type"
   ]
  },
  {
   "cell_type": "markdown",
   "metadata": {},
   "source": [
    "Now we can add our item type into our final `search_request` dict which we will use to pass our query to the API.\n",
    "\n",
    "Let's also add in our filters:"
   ]
  },
  {
   "cell_type": "code",
   "execution_count": null,
   "metadata": {},
   "outputs": [],
   "source": [
    "# Example\n",
    "# API request object\n",
    "search_request = {\n",
    "  \"item_types\": [item_type], \n",
    "  \"filter\": combined_filter\n",
    "}\n",
    "search_request"
   ]
  },
  {
   "cell_type": "markdown",
   "metadata": {},
   "source": [
    "With everything in place, we can now use the `requests` package to fire off a `.post()` request to the Planet server.\n",
    "\n",
    "Remember, the `.post()` method enables us to send a request to a specified url (e.g. send some data to a desired server).\n",
    "\n",
    "We will provide the url address for the server, our API key, and then the search request dict we already assembled. "
   ]
  },
  {
   "cell_type": "code",
   "execution_count": null,
   "metadata": {},
   "outputs": [],
   "source": [
    "# Example\n",
    "# fire off the POST request\n",
    "search_result = requests.post(\n",
    "    'https://api.planet.com/data/v1/quick-search',\n",
    "    auth=HTTPBasicAuth(PLANET_API_KEY, ''),\n",
    "    json=search_request)\n",
    "search_result # these as our returned search results!"
   ]
  },
  {
   "cell_type": "markdown",
   "metadata": {},
   "source": [
    "A bit like we covered with the sentinel-2 API, we first get metadata back from the server about the potential imagery assets that fit our query. \n",
    "\n",
    "To inspect this information, we can extract the content as a json. \n",
    "\n",
    "Remember, *JSON (JavaScript Object Notation) is a lightweight data-interchange format. It is easy for humans to read and write. It is easy for machines to parse and generate.*\n",
    "\n",
    "See here: https://www.json.org/json-en.html"
   ]
  },
  {
   "cell_type": "code",
   "execution_count": null,
   "metadata": {},
   "outputs": [],
   "source": [
    "# Example \n",
    "results = search_result.json()\n",
    "print(results)"
   ]
  },
  {
   "cell_type": "markdown",
   "metadata": {},
   "source": [
    "From this metadata we can extract just the id information for each image, demonstrated here using a list comprehension:\n",
    "\n",
    "*A list comprehension offers a shorter syntax when you want to create a new list based on the values of an existing list.*\n",
    "\n",
    "In this case, it is simply an easy way to see all the image id information. "
   ]
  },
  {
   "cell_type": "code",
   "execution_count": null,
   "metadata": {
    "colab": {
     "base_uri": "https://localhost:8080/"
    },
    "id": "rBNs0MU-QVcS",
    "outputId": "6bf0454c-aa0e-4ef3-d4a6-167e9d81f6fc",
    "scrolled": true
   },
   "outputs": [],
   "source": [
    "# Example \n",
    "# extract image IDs only\n",
    "image_ids = [feature['id'] for feature in results['features']]\n",
    "print(image_ids)"
   ]
  },
  {
   "cell_type": "markdown",
   "metadata": {},
   "source": [
    "Now we've got our image id information in a usable format, we can simply us the first available. \n",
    "\n",
    "At this stage, it does not explicitely matter, your aim here is merely to learn how to use the API. "
   ]
  },
  {
   "cell_type": "code",
   "execution_count": null,
   "metadata": {
    "colab": {
     "base_uri": "https://localhost:8080/"
    },
    "id": "uCYLshf7QbVq",
    "outputId": "0cbeda2e-4010-453a-ee20-d76d0365722b"
   },
   "outputs": [],
   "source": [
    "# Example \n",
    "# For demo purposes, just grab the first image ID\n",
    "id0 = image_ids[0]\n",
    "id0"
   ]
  },
  {
   "cell_type": "markdown",
   "metadata": {},
   "source": [
    "And we can now insert this id into the following file path, which we will use to download the desired image asset."
   ]
  },
  {
   "cell_type": "code",
   "execution_count": null,
   "metadata": {},
   "outputs": [],
   "source": [
    "# Example \n",
    "id0_url = 'https://api.planet.com/data/v1/item-types/{}/items/{}/assets'.format(item_type, id0)\n",
    "id0_url"
   ]
  },
  {
   "cell_type": "markdown",
   "metadata": {},
   "source": [
    "Next, we can respecify our result, this time only using the path we just defined for this single image asset:"
   ]
  },
  {
   "cell_type": "code",
   "execution_count": null,
   "metadata": {},
   "outputs": [],
   "source": [
    "# Example \n",
    "# Returns JSON metadata for assets in this ID. \n",
    "# Learn more: planet.com/docs/reference/data-api/items-assets/#asset\n",
    "result = requests.get(\n",
    "    id0_url,\n",
    "    auth=HTTPBasicAuth(PLANET_API_KEY, '')\n",
    "  )\n",
    "result"
   ]
  },
  {
   "cell_type": "markdown",
   "metadata": {},
   "source": [
    "However, having selected a particular image asset id, we still need to pick the asset image type we desire.\n",
    "\n",
    "For example, the beauty of multispectral imagery is that you have lots of options for different true/composite band combinations. "
   ]
  },
  {
   "cell_type": "code",
   "execution_count": null,
   "metadata": {
    "scrolled": true
   },
   "outputs": [],
   "source": [
    "# Example\n",
    "# List of asset types available for this particular satellite image\n",
    "print(result.json().keys())"
   ]
  },
  {
   "cell_type": "markdown",
   "metadata": {},
   "source": [
    "We can just go with a basic four band image to begin with (e.g. 'basic_analytic_4b').\n",
    "\n",
    "It is important to check that the asset has been activated first before downloading. You can do so using the code below:\n",
    "\n",
    "This is \"inactive\" if the \"analytic\" asset has not yet been activated; otherwise 'active'"
   ]
  },
  {
   "cell_type": "code",
   "execution_count": null,
   "metadata": {},
   "outputs": [],
   "source": [
    "# Example\n",
    "print(result.json()['basic_analytic_4b']['status'])"
   ]
  },
  {
   "cell_type": "markdown",
   "metadata": {
    "colab": {
     "base_uri": "https://localhost:8080/"
    },
    "id": "cTYEfm_aQlOa",
    "outputId": "be67c9a3-c418-4258-ae54-6ee4d935b118"
   },
   "source": [
    "Finally, we can parse the information we need for the links into user-defined variables, to help obtain the activation link for the image asset. "
   ]
  },
  {
   "cell_type": "code",
   "execution_count": null,
   "metadata": {
    "id": "slNCU7VqQ8NK",
    "scrolled": true
   },
   "outputs": [],
   "source": [
    "# Example\n",
    "# Parse out useful links\n",
    "links = result.json()[u\"basic_analytic_4b\"][\"_links\"]\n",
    "self_link = links[\"_self\"]\n",
    "activation_link = links[\"activate\"]\n",
    "activation_link"
   ]
  },
  {
   "cell_type": "markdown",
   "metadata": {},
   "source": [
    "And this `activation_link` can be provided via `requests.get()` to obtain the final download link:"
   ]
  },
  {
   "cell_type": "code",
   "execution_count": null,
   "metadata": {},
   "outputs": [],
   "source": [
    "# Request activation of the 'analytic' asset:\n",
    "activate_result = requests.get(\n",
    "    activation_link,\n",
    "    auth=HTTPBasicAuth(PLANET_API_KEY, '')\n",
    "  )\n",
    "activate_result"
   ]
  },
  {
   "cell_type": "code",
   "execution_count": null,
   "metadata": {},
   "outputs": [],
   "source": [
    "activation_status_result = requests.get(\n",
    "    self_link,\n",
    "    auth=HTTPBasicAuth(PLANET_API_KEY, '')\n",
    "  )\n",
    "    \n",
    "print(activation_status_result.json()[\"status\"])"
   ]
  },
  {
   "cell_type": "code",
   "execution_count": null,
   "metadata": {
    "colab": {
     "base_uri": "https://localhost:8080/"
    },
    "id": "cyh7MRHzRDc6",
    "outputId": "991ac08e-7f5a-4c09-f631-ccc799a3b3d5"
   },
   "outputs": [],
   "source": [
    "# Image can be downloaded by making a GET with your Planet API key, from here:\n",
    "download_link = activation_status_result.json()[\"location\"]\n",
    "print(download_link)"
   ]
  },
  {
   "cell_type": "markdown",
   "metadata": {},
   "source": [
    "Once you have clicked this link to download the underlying image, you can then open it in your desired GIS. "
   ]
  },
  {
   "cell_type": "markdown",
   "metadata": {
    "colab": {
     "base_uri": "https://localhost:8080/"
    },
    "id": "yRCMemqnRGey",
    "outputId": "f0dfcea5-68ca-4c01-c9ea-1ba6e61c1314"
   },
   "source": [
    "## Exercise\n",
    "\n",
    "Having worked through a preliminary example for the Planet API, you should now try to:\n",
    "\n",
    "- Download an image for GMU's Fairfax campus, using the geojson bounding box specified last class. \n",
    "- Try to select a more recent timeframe, e.g. in the 2020-2022 period. \n",
    "- Critically reflect on the Planet imagery assets available to you, considering the advantages and disadvantages which might affect usage in your coursework project. \n",
    "\n"
   ]
  },
  {
   "cell_type": "code",
   "execution_count": null,
   "metadata": {},
   "outputs": [],
   "source": [
    "# Enter your attempt here\n"
   ]
  }
 ],
 "metadata": {
  "colab": {
   "authorship_tag": "ABX9TyOmcw8w8cgHk6eVnjlm4wJq",
   "collapsed_sections": [],
   "include_colab_link": true,
   "name": "ggs416_demo.ipynb",
   "provenance": []
  },
  "kernelspec": {
   "display_name": "Python 3",
   "language": "python",
   "name": "python3"
  },
  "language_info": {
   "codemirror_mode": {
    "name": "ipython",
    "version": 3
   },
   "file_extension": ".py",
   "mimetype": "text/x-python",
   "name": "python",
   "nbconvert_exporter": "python",
   "pygments_lexer": "ipython3",
   "version": "3.9.12"
  }
 },
 "nbformat": 4,
 "nbformat_minor": 1
}
