{
 "cells": [
  {
   "cell_type": "markdown",
   "metadata": {},
   "source": [
    "# Satellite Image Analysis GGS416 - Week4\n",
    "\n",
    "In this tutorial we are going to plot a histogram for one of our images.\n",
    "\n",
    "Let's begin by loading in many of the packages we have already worked with in this class. \n",
    "\n",
    "Specifically, `rasterio`, `numpy`, `math` and `matplotlib`.\n",
    "\n",
    "We can also load in one of our previously downloaded 4-band PlanetScope images."
   ]
  },
  {
   "cell_type": "code",
   "execution_count": 1,
   "metadata": {},
   "outputs": [
    {
     "data": {
      "text/plain": [
       "<open DatasetReader name='../week3/20190321_174348_0f1a_3B_AnalyticMS.tif' mode='r'>"
      ]
     },
     "execution_count": 1,
     "metadata": {},
     "output_type": "execute_result"
    }
   ],
   "source": [
    "%matplotlib inline\n",
    "import rasterio\n",
    "import numpy\n",
    "import math\n",
    "from matplotlib import pyplot as plt\n",
    "\n",
    "# Our single 4 band (blue, green, red, NIR) PlanetScope image.\n",
    "# The CRS is a UTM projection using meters \n",
    "image_file = \"../week3/20190321_174348_0f1a_3B_AnalyticMS.tif\"\n",
    "\n",
    "# Let's get our rasterio object:\n",
    "my_image = rasterio.open(image_file)\n",
    "my_image"
   ]
  },
  {
   "cell_type": "markdown",
   "metadata": {},
   "source": [
    "Now we have our image, we can parse out our four bands into individual variable names for blue, green, red and near-infrared."
   ]
  },
  {
   "cell_type": "code",
   "execution_count": 2,
   "metadata": {},
   "outputs": [
    {
     "data": {
      "text/plain": [
       "array([[0, 0, 0, ..., 0, 0, 0],\n",
       "       [0, 0, 0, ..., 0, 0, 0],\n",
       "       [0, 0, 0, ..., 0, 0, 0],\n",
       "       ...,\n",
       "       [0, 0, 0, ..., 0, 0, 0],\n",
       "       [0, 0, 0, ..., 0, 0, 0],\n",
       "       [0, 0, 0, ..., 0, 0, 0]], dtype=uint16)"
      ]
     },
     "execution_count": 2,
     "metadata": {},
     "output_type": "execute_result"
    }
   ],
   "source": [
    "# The PlanetScope band order is BGRN.\n",
    "blue, green, red, nir = my_image.read()\n",
    "blue"
   ]
  },
  {
   "cell_type": "markdown",
   "metadata": {},
   "source": [
    "Plotting in `matplotlib` takes a bit of effort, but is no different from any script-based plotting package.\n",
    "\n",
    "The benefit is that once you've written the code, it's very easy to rerun with new data (as opposed to needing to manually reproduce the graphic)."
   ]
  },
  {
   "cell_type": "code",
   "execution_count": 3,
   "metadata": {},
   "outputs": [
    {
     "data": {
      "image/png": "[encoded data removed]",
      "text/plain": [
       "<Figure size 432x288 with 1 Axes>"
      ]
     },
     "metadata": {
      "needs_background": "light"
     },
     "output_type": "display_data"
    }
   ],
   "source": [
    "# Let's define a new figure\n",
    "# The (1, 1) means we want one colum and one row, for a single plot (as opposed to a panel plot).\n",
    "fig, ax1 = plt.subplots(1,1) "
   ]
  },
  {
   "cell_type": "markdown",
   "metadata": {},
   "source": [
    "## Quick Task\n",
    "\n",
    "Play around with changing the number of subplots and see what you are able to produce!\n",
    "\n",
    "Can you see how the structure of the plot changes?"
   ]
  },
  {
   "cell_type": "markdown",
   "metadata": {},
   "source": [
    "### A Single Histogram Plot\n",
    "\n",
    "Now we can begin plotting. \n",
    "\n",
    "Below we are going to obtain those values in the blue band layer which are not null. \n",
    "\n",
    "Null data values are those with no data. \n",
    "\n",
    "You need to be aware of these null values, and ideally control for them."
   ]
  },
  {
   "cell_type": "code",
   "execution_count": 4,
   "metadata": {},
   "outputs": [
    {
     "data": {
      "text/plain": [
       "array([ 3694,  3723,  3684, ..., 12997, 12878, 12841], dtype=uint16)"
      ]
     },
     "execution_count": 4,
     "metadata": {},
     "output_type": "execute_result"
    }
   ],
   "source": [
    "# let's plot non-null blue band values as an example\n",
    "# For the x-axis, we want to count every pixel that has a value\n",
    "x = blue[numpy.not_equal(blue, my_image.nodata)]\n",
    "x"
   ]
  },
  {
   "cell_type": "markdown",
   "metadata": {},
   "source": [
    "Now we can plot this data. \n",
    "\n",
    "See the way we create a single plot below for the frequency of blue values.\n",
    "\n",
    "First the `plt.subplots()` function is specified to set up figure and axis objects.\n",
    "\n",
    "Then we add our data to the axis using `ax.hist()`.\n",
    "\n",
    "We can also add a title to the plot using `ax.set_title()`."
   ]
  },
  {
   "cell_type": "code",
   "execution_count": 5,
   "metadata": {},
   "outputs": [
    {
     "data": {
      "text/plain": [
       "Text(0.5, 1.0, 'Histogram of Blue Values')"
      ]
     },
     "execution_count": 5,
     "metadata": {},
     "output_type": "execute_result"
    },
    {
     "data": {
      "image/png": "[encoded data removed]",
      "text/plain": [
       "<Figure size 432x288 with 1 Axes>"
      ]
     },
     "metadata": {
      "needs_background": "light"
     },
     "output_type": "display_data"
    }
   ],
   "source": [
    "# Create just a figure and only one subplot\n",
    "fig, ax = plt.subplots(1,1)\n",
    "ax.hist(x)\n",
    "\n",
    "# We can state the title for this plot too\n",
    "ax.set_title('Histogram of Blue Values')"
   ]
  },
  {
   "cell_type": "markdown",
   "metadata": {},
   "source": [
    "## A Two-Plot Panel Plot\n",
    "\n",
    "Single plots are useful, but often we will want to be able to compared histograms against one another.\n",
    "\n",
    "Thus, panel plots are a very nice tool for this purpose. \n",
    "\n",
    "Let's examine creating a panel plot below for both blue and red bands:"
   ]
  },
  {
   "cell_type": "code",
   "execution_count": 6,
   "metadata": {},
   "outputs": [
    {
     "data": {
      "text/plain": [
       "Text(0.5, 1.0, 'Red Histogram')"
      ]
     },
     "execution_count": 6,
     "metadata": {},
     "output_type": "execute_result"
    },
    {
     "data": {
      "image/png": "[encoded data removed]",
      "text/plain": [
       "<Figure size 432x288 with 2 Axes>"
      ]
     },
     "metadata": {
      "needs_background": "light"
     },
     "output_type": "display_data"
    }
   ],
   "source": [
    "# Create two subplots and unpack the output array immediately\n",
    "fig, (ax1, ax2) = plt.subplots(1, 2)\n",
    "ax1.hist(blue[numpy.not_equal(blue, my_image.nodata)])\n",
    "ax2.hist(red[numpy.not_equal(red, my_image.nodata)])\n",
    "\n",
    "# We can state the title for these plots too\n",
    "ax1.set_title('Blue Histogram')\n",
    "ax2.set_title('Red Histogram')"
   ]
  },
  {
   "cell_type": "markdown",
   "metadata": {},
   "source": [
    "While this looks nice, it would be more helpful to also have this suitably colored.\n",
    "\n",
    "Let's just use colors which match the bands for now. \n",
    "\n",
    "But be aware of more examples of `matplotlib` colors here:\n",
    "\n",
    "https://matplotlib.org/2.0.0/examples/color/named_colors.html \n",
    "\n"
   ]
  },
  {
   "cell_type": "code",
   "execution_count": 7,
   "metadata": {},
   "outputs": [
    {
     "data": {
      "text/plain": [
       "Text(0.5, 1.0, 'Red Histogram')"
      ]
     },
     "execution_count": 7,
     "metadata": {},
     "output_type": "execute_result"
    },
    {
     "data": {
      "image/png": "[encoded data removed]",
      "text/plain": [
       "<Figure size 432x288 with 2 Axes>"
      ]
     },
     "metadata": {
      "needs_background": "light"
     },
     "output_type": "display_data"
    }
   ],
   "source": [
    "# Create two subplots and unpack the output array immediately\n",
    "fig, (ax1, ax2) = plt.subplots(1, 2)\n",
    "\n",
    "# Let's get our data\n",
    "blue_data = blue[numpy.not_equal(blue, my_image.nodata)]\n",
    "red_data = red[numpy.not_equal(red, my_image.nodata)]\n",
    "\n",
    "# Specify the .hist() function to create the hist\n",
    "ax1.hist(blue_data, color='blue')\n",
    "ax2.hist(red_data, color='red')\n",
    "\n",
    "# Now add plot titles \n",
    "ax1.set_title('Blue Histogram')\n",
    "ax2.set_title('Red Histogram')"
   ]
  },
  {
   "cell_type": "markdown",
   "metadata": {},
   "source": [
    "You just need to be aware when selecting colors for your histogram plots, that some people are colorblind.\n",
    "\n",
    "There are even packages which have pre-existing color sequences which are colorblind-friendly:\n",
    "    \n",
    "https://github.com/sjmgarnier/viridis\n",
    "    \n",
    "Also, be aware many academic journals may still print in black and white for the physical copies sent out to subscribers!\n",
    "\n",
    "This means, you may need to select color combinations which still differentiate when converted to black and white. "
   ]
  },
  {
   "cell_type": "markdown",
   "metadata": {},
   "source": [
    "### A Four-Plot Panel Plot\n",
    "\n",
    "Next, we can play with creating a panel plot for the four colors. \n",
    "\n",
    "The trick here is understanding that we specify two different y axes (so here, the left and right):\n",
    "- ax1 (the left hand axis)\n",
    "- ax2 (the right hand axis)\n",
    "\n",
    "And then within these axes, we can specify the rows by using the row index (for the top and bottom plots). For example:\n",
    "- ax1[0] (the first plot in the left hand axis)\n",
    "- ax1[1] (the second plot in the left hand axis)\n",
    "\n",
    "Which means in total we have four plots, as follows:\n",
    "- ax1[0] (the first plot in the left hand axis)\n",
    "- ax1[1] (the second plot in the left hand axis)\n",
    "- ax2[0] (the first plot in the right hand axis)\n",
    "- ax2[1] (the second plot in the right hand axis)\n",
    "\n",
    "Let's have a look at how we implement this:"
   ]
  },
  {
   "cell_type": "code",
   "execution_count": 8,
   "metadata": {},
   "outputs": [
    {
     "data": {
      "image/png": "[encoded data removed]",
      "text/plain": [
       "<Figure size 432x288 with 4 Axes>"
      ]
     },
     "metadata": {
      "needs_background": "light"
     },
     "output_type": "display_data"
    }
   ],
   "source": [
    "# Create two subplots and unpack the output array immediately\n",
    "fig, (ax1, ax2) = plt.subplots(2, 2)\n",
    "\n",
    "# Let's get our data\n",
    "blue_data = blue[numpy.not_equal(blue, my_image.nodata)]\n",
    "red_data = red[numpy.not_equal(red, my_image.nodata)]\n",
    "green_data = green[numpy.not_equal(green, my_image.nodata)]\n",
    "nir_data = nir[numpy.not_equal(nir, my_image.nodata)]\n",
    "\n",
    "# Specify the .hist() function to create the hist\n",
    "ax1[0].hist(blue_data, color='blue')\n",
    "ax1[1].hist(red_data, color='red')\n",
    "ax2[0].hist(green_data, color='green')\n",
    "ax2[1].hist(nir_data, color='grey')\n",
    "\n",
    "# Now add plot titles \n",
    "ax1[0].set_title('Blue Histogram')\n",
    "ax1[1].set_title('Red Histogram')\n",
    "ax2[0].set_title('Green Histogram')\n",
    "ax2[1].set_title('NIR Histogram')\n",
    "\n",
    "# This makes sure we have sufficient space between our plots\n",
    "fig.tight_layout()"
   ]
  },
  {
   "cell_type": "markdown",
   "metadata": {},
   "source": [
    "The thing to note here, is that we actually have the y-axis adjusting to maximize the available space. \n",
    "\n",
    "This means we have different y-axis ranges per histogram. \n",
    "\n",
    "Let's try implement a shared y axis, so they are all on the same scale and it's easier to make comparative differences.\n",
    "\n",
    "We just need to add the `sharey=True` argument into the `plt.subplots()` function:\n"
   ]
  },
  {
   "cell_type": "code",
   "execution_count": 9,
   "metadata": {},
   "outputs": [
    {
     "data": {
      "image/png": "[encoded data removed]",
      "text/plain": [
       "<Figure size 432x288 with 4 Axes>"
      ]
     },
     "metadata": {
      "needs_background": "light"
     },
     "output_type": "display_data"
    }
   ],
   "source": [
    "# Create two subplots and unpack the output array immediately\n",
    "fig, (ax1, ax2) = plt.subplots(2, 2, sharey=True) #<- here is the difference as we state we want a shared axis\n",
    "\n",
    "# Let's get our data\n",
    "blue_data = blue[numpy.not_equal(blue, my_image.nodata)]\n",
    "red_data = red[numpy.not_equal(red, my_image.nodata)]\n",
    "green_data = green[numpy.not_equal(green, my_image.nodata)]\n",
    "nir_data = nir[numpy.not_equal(nir, my_image.nodata)]\n",
    "\n",
    "# Specify the .hist() function to create the hist\n",
    "ax1[0].hist(blue_data, color='blue')\n",
    "ax1[1].hist(red_data, color='red')\n",
    "ax2[0].hist(green_data, color='green')\n",
    "ax2[1].hist(nir_data, color='grey')\n",
    "\n",
    "# Now add plot titles \n",
    "ax1[0].set_title('Blue Histogram')\n",
    "ax1[1].set_title('Red Histogram')\n",
    "ax2[0].set_title('Green Histogram')\n",
    "ax2[1].set_title('NIR Histogram')\n",
    "\n",
    "# This makes sure we have sufficient space between our plots\n",
    "fig.tight_layout()"
   ]
  },
  {
   "cell_type": "markdown",
   "metadata": {},
   "source": [
    "We have lots of functionality control over the `.hist()` function. \n",
    "\n",
    "Obviously, a histogram splits the data up into frequency bins. \n",
    "\n",
    "Thankfully, we have control over how many bins we desire. Let's try 25:"
   ]
  },
  {
   "cell_type": "code",
   "execution_count": 10,
   "metadata": {},
   "outputs": [
    {
     "data": {
      "image/png": "[encoded data removed]",
      "text/plain": [
       "<Figure size 432x288 with 4 Axes>"
      ]
     },
     "metadata": {
      "needs_background": "light"
     },
     "output_type": "display_data"
    }
   ],
   "source": [
    "# Create two subplots and unpack the output array immediately\n",
    "fig, (ax1, ax2) = plt.subplots(2, 2, sharey=True) #<- here is the difference as we state we want a shared axis\n",
    "\n",
    "# Let's get our data\n",
    "blue_data = blue[numpy.not_equal(blue, my_image.nodata)]\n",
    "red_data = red[numpy.not_equal(red, my_image.nodata)]\n",
    "green_data = green[numpy.not_equal(green, my_image.nodata)]\n",
    "nir_data = nir[numpy.not_equal(nir, my_image.nodata)]\n",
    "\n",
    "bin_number = 15\n",
    "# Specify the .hist() function to create the hist\n",
    "ax1[0].hist(blue_data, color='blue', bins=bin_number)\n",
    "ax1[1].hist(red_data, color='red', bins=bin_number)\n",
    "ax2[0].hist(green_data, color='green', bins=bin_number)\n",
    "ax2[1].hist(nir_data, color='grey', bins=bin_number)\n",
    "\n",
    "# Now add plot titles \n",
    "ax1[0].set_title('Blue Histogram')\n",
    "ax1[1].set_title('Red Histogram')\n",
    "ax2[0].set_title('Green Histogram')\n",
    "ax2[1].set_title('NIR Histogram')\n",
    "\n",
    "# This makes sure we have sufficient space between our plots\n",
    "fig.tight_layout()"
   ]
  },
  {
   "cell_type": "markdown",
   "metadata": {},
   "source": [
    "## Quick Task:\n",
    "\n",
    "Explore the implications of changing the bin number and to see how it changes the shape of the histogram plots.\n"
   ]
  },
  {
   "cell_type": "markdown",
   "metadata": {},
   "source": [
    "### Exporting our Histogram Plots\n",
    "\n",
    "To export the panelplot graphs produced we can, use the `fig.savefig()` function.\n",
    "\n",
    "We can apply this to our existing code, saving the image as a .png named 'histogram.png'.\n",
    "\n",
    "You also have lots of functionality, including:\n",
    "- dpi: The dots per square inch, which affects the quality.\n",
    "- pad_inches: the amount of whitespace padding desired around the plot image. \n",
    "\n",
    "Let's see how we execute this function:"
   ]
  },
  {
   "cell_type": "code",
   "execution_count": 11,
   "metadata": {},
   "outputs": [],
   "source": [
    "# Save the generated figure to an external image file\n",
    "fig.savefig(\"histogram.png\", dpi=200, bbox_inches='tight', pad_inches=0.7)"
   ]
  },
  {
   "cell_type": "code",
   "execution_count": 12,
   "metadata": {},
   "outputs": [
    {
     "data": {
      "image/png": "[encoded data removed]",
      "text/plain": [
       "<Figure size 432x288 with 4 Axes>"
      ]
     },
     "metadata": {
      "needs_background": "light"
     },
     "output_type": "display_data"
    }
   ],
   "source": [
    "# Create two subplots and unpack the output array immediately\n",
    "fig, (ax1, ax2) = plt.subplots(2, 2, sharey=True) #<- here is the difference as we state we want a shared axis\n",
    "\n",
    "# Let's get our data\n",
    "blue_data = blue[numpy.not_equal(blue, my_image.nodata)]\n",
    "red_data = red[numpy.not_equal(red, my_image.nodata)]\n",
    "green_data = green[numpy.not_equal(green, my_image.nodata)]\n",
    "nir_data = nir[numpy.not_equal(nir, my_image.nodata)]\n",
    "\n",
    "bin_number = 15\n",
    "# Specify the .hist() function to create the hist\n",
    "ax1[0].hist(blue_data, color='blue', bins=bin_number)\n",
    "ax1[1].hist(red_data, color='red', bins=bin_number)\n",
    "ax2[0].hist(green_data, color='green', bins=bin_number)\n",
    "ax2[1].hist(nir_data, color='grey', bins=bin_number)\n",
    "\n",
    "# Now add plot titles \n",
    "ax1[0].set_title('Blue Histogram')\n",
    "ax1[1].set_title('Red Histogram')\n",
    "ax2[0].set_title('Green Histogram')\n",
    "ax2[1].set_title('NIR Histogram')\n",
    "\n",
    "# Let's add an overall title to a plot\n",
    "# The y argument moves the title higher, so we don't have overlapping text\n",
    "plt.suptitle('Histogram Panel-Plot by Band', y=1.05)  \n",
    "\n",
    "# This makes sure we have sufficient space between our plots\n",
    "fig.tight_layout()\n",
    "\n",
    "# Now export the final plot!\n",
    "fig.savefig(\"histogram.png\", dpi=200, bbox_inches='tight', pad_inches=0.7)"
   ]
  },
  {
   "cell_type": "markdown",
   "metadata": {},
   "source": [
    "# Task\n",
    "\n",
    "Firstly, for a 4-band image of your choice, take the histogram code and:\n",
    "- Load in the image.\n",
    "- Parse into separate color bands.\n",
    "- Create a histogram panel plot containing two plots:\n",
    "    - Green\n",
    "    - NIR\n",
    "- Add the plot title 'Histogram Plots of Green and NIR Bands'. \n",
    "- Export for submission. \n",
    "\n",
    "Secondly, take a 4-band image of your choice, take the histogram code and:\n",
    "- Load in the image.\n",
    "- Parse into separate color bands.\n",
    "- Create a panel plot ordered by:\n",
    "    - Green\n",
    "    - Blue\n",
    "    - Red\n",
    "    - Near-infrared\n",
    "- Add the plot title 'Histogram Plots of GBRN Bands'.\n",
    "- Export for submission. "
   ]
  }
 ],
 "metadata": {
  "kernelspec": {
   "display_name": "Python 3 (ipykernel)",
   "language": "python",
   "name": "python3"
  },
  "language_info": {
   "codemirror_mode": {
    "name": "ipython",
    "version": 3
   },
   "file_extension": ".py",
   "mimetype": "text/x-python",
   "name": "python",
   "nbconvert_exporter": "python",
   "pygments_lexer": "ipython3",
   "version": "3.7.11"
  }
 },
 "nbformat": 4,
 "nbformat_minor": 2
}
