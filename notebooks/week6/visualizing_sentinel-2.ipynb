{
 "cells": [
  {
   "cell_type": "code",
   "execution_count": 9,
   "id": "c078df5a",
   "metadata": {},
   "outputs": [
    {
     "ename": "CPLE_AppDefinedError",
     "evalue": "Deleting rgb.tiff failed: Permission denied",
     "output_type": "error",
     "traceback": [
      "\u001b[1;31m---------------------------------------------------------------------------\u001b[0m",
      "\u001b[1;31mCPLE_AppDefinedError\u001b[0m                      Traceback (most recent call last)",
      "Input \u001b[1;32mIn [9]\u001b[0m, in \u001b[0;36m<module>\u001b[1;34m\u001b[0m\n\u001b[0;32m     18\u001b[0m img1_geo \u001b[38;5;241m=\u001b[39m img1\u001b[38;5;241m.\u001b[39mprofile\n\u001b[0;32m     19\u001b[0m img1_geo\u001b[38;5;241m.\u001b[39mupdate({\u001b[38;5;124m\"\u001b[39m\u001b[38;5;124mcount\u001b[39m\u001b[38;5;124m\"\u001b[39m: \u001b[38;5;241m3\u001b[39m})\n\u001b[1;32m---> 21\u001b[0m \u001b[38;5;28;01mwith\u001b[39;00m rasterio\u001b[38;5;241m.\u001b[39mopen(\u001b[38;5;124m'\u001b[39m\u001b[38;5;124mrgb.tiff\u001b[39m\u001b[38;5;124m'\u001b[39m, \u001b[38;5;124m'\u001b[39m\u001b[38;5;124mw\u001b[39m\u001b[38;5;124m'\u001b[39m, \u001b[38;5;241m*\u001b[39m\u001b[38;5;241m*\u001b[39mimg1_geo) \u001b[38;5;28;01mas\u001b[39;00m dest:\n\u001b[0;32m     22\u001b[0m \u001b[38;5;66;03m# I rearanged the band order writting to 2→3→4 instead of 4→3→2\u001b[39;00m\n\u001b[0;32m     23\u001b[0m     dest\u001b[38;5;241m.\u001b[39mwrite(img1\u001b[38;5;241m.\u001b[39mread(\u001b[38;5;241m1\u001b[39m),\u001b[38;5;241m1\u001b[39m)\n\u001b[0;32m     24\u001b[0m     dest\u001b[38;5;241m.\u001b[39mwrite(img2\u001b[38;5;241m.\u001b[39mread(\u001b[38;5;241m1\u001b[39m),\u001b[38;5;241m2\u001b[39m)\n",
      "File \u001b[1;32mrasterio\\_base.pyx:395\u001b[0m, in \u001b[0;36mrasterio._base.DatasetBase.__exit__\u001b[1;34m()\u001b[0m\n",
      "File \u001b[1;32mrasterio\\_base.pyx:386\u001b[0m, in \u001b[0;36mrasterio._base.DatasetBase.close\u001b[1;34m()\u001b[0m\n",
      "File \u001b[1;32mrasterio\\_io.pyx:2101\u001b[0m, in \u001b[0;36mrasterio._io.BufferedDatasetWriterBase.stop\u001b[1;34m()\u001b[0m\n",
      "File \u001b[1;32mrasterio\\_io.pyx:86\u001b[0m, in \u001b[0;36mrasterio._io._delete_dataset_if_exists\u001b[1;34m()\u001b[0m\n",
      "File \u001b[1;32mrasterio\\_err.pyx:193\u001b[0m, in \u001b[0;36mrasterio._err.exc_wrap_int\u001b[1;34m()\u001b[0m\n",
      "\u001b[1;31mCPLE_AppDefinedError\u001b[0m: Deleting rgb.tiff failed: Permission denied"
     ]
    }
   ],
   "source": [
    "import rasterio\n",
    "import numpy as np\n",
    "from rasterio import plot\n",
    "from rasterio.plot import show\n",
    "# from skimage import exposure\n",
    "\n",
    "def scale(band): # scale values for display purposes\n",
    "    return band / 10000.0\n",
    "\n",
    "img1 = rasterio.open(\"T18SUH_20220110T155631_B02.jp2_clipped.tif\")\n",
    "img2 = rasterio.open(\"T18SUH_20220110T155631_B03.jp2_clipped.tif\")\n",
    "img3 = rasterio.open(\"T18SUH_20220110T155631_B04.jp2_clipped.tif\")\n",
    "\n",
    "band2 = scale(img1.read(1))\n",
    "band3 = scale(img2.read(1))\n",
    "band4 = scale(img3.read(1))\n",
    "\n",
    "img1_geo = img1.profile\n",
    "img1_geo.update({\"count\": 3})\n",
    "\n",
    "with rasterio.open('rgb.tiff', 'w', **img1_geo) as dest:\n",
    "# I rearanged the band order writting to 2→3→4 instead of 4→3→2\n",
    "    dest.write(img1.read(1),1)\n",
    "    dest.write(img2.read(1),2)\n",
    "    dest.write(img3.read(1),3)\n",
    "\n",
    "# # Rescale the image (divide by 10000 to convert to [0:1] reflectance\n",
    "# img = rasterio.open('rgb.tiff')\n",
    "# image = np.array([img.read(3), img.read(2), img.read(1)]).transpose(1,2,0)\n",
    "# # p2, p98 = np.percentile(image, (2,98))\n",
    "# # # image = exposure.rescale_intensity(image, in_range=(p2, p98)) / 100000\n",
    "\n",
    "# # Plot the RGB image\n",
    "# show(image.transpose(2,0,1), transform=img.transform)"
   ]
  }
 ],
 "metadata": {
  "kernelspec": {
   "display_name": "Python 3",
   "language": "python",
   "name": "python3"
  },
  "language_info": {
   "codemirror_mode": {
    "name": "ipython",
    "version": 3
   },
   "file_extension": ".py",
   "mimetype": "text/x-python",
   "name": "python",
   "nbconvert_exporter": "python",
   "pygments_lexer": "ipython3",
   "version": "3.10.2"
  }
 },
 "nbformat": 4,
 "nbformat_minor": 5
}
