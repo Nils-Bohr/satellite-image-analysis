{
 "cells": [
  {
   "cell_type": "markdown",
   "metadata": {},
   "source": [
    "## Task\n",
    "\n",
    "In the following task you should obtain an image of your choice and clip it.\n",
    "\n",
    "Carry out a sequence of processing steps as follows:\n",
    "\n",
    "- Obtain an image from a desired source, for a desired location.\n",
    "- Import the image using `rasterio`.\n",
    "- Inspect that the image has been loaded correctly.\n",
    "- Create a triangular spatial object (e.g. via a geojson bounding box) to use as the mask boundary.\n",
    "- Use `rasterio` to clip the image and inspect the result.\n",
    "- Write out the image to a chosen location ready for submission.\n",
    "- Critically evaluate the advantages and disadvantages of using this approach to clipping images. "
   ]
  }
 ],
 "metadata": {
  "kernelspec": {
   "display_name": "Python 3",
   "language": "python",
   "name": "python3"
  },
  "language_info": {
   "codemirror_mode": {
    "name": "ipython",
    "version": 3
   },
   "file_extension": ".py",
   "mimetype": "text/x-python",
   "name": "python",
   "nbconvert_exporter": "python",
   "pygments_lexer": "ipython3",
   "version": "3.7.4"
  }
 },
 "nbformat": 4,
 "nbformat_minor": 5
}
