{
 "cells": [
  {
   "cell_type": "markdown",
   "id": "eb29af51",
   "metadata": {},
   "source": [
    "## Task 1\n",
    "\n",
    "Having gone over the basic features of geopandas, we can now put what we learned to good use.\n",
    "\n",
    "Using the `river_shape.shp` files which we generated from the satellite imagery previously (week 8), you should write a notebook which enables you to:\n",
    "\n",
    "- Load in the file from 'week8/shapes' using the `os` functions we covered.\n",
    "- Check you are in a projected CRS which is measured in meters (e.g. EPSG:3857). If not, change the CRS to a projected version.\n",
    "- Loop over the shapes in our file.\n",
    "- Get the area of each shape.\n",
    "- Implement an if statement which excludes shapes under 1 km^2.\n",
    "- Add the geometry to a geojson-style dictionary, and make sure you put the area in the geojson properties. Append to a list. \n",
    "- Convert this list of dictionaries to a GeoPandas GeoDataFrame.\n",
    "- Export the shapefiles for submission as .shp in EPSG:4326 (Task due April 14th). \n",
    "- Think critically about (i) the output shapes we produce and (ii) how we can implement the techniques demonstrated here in our coursework projects. \n"
   ]
  }
 ],
 "metadata": {
  "kernelspec": {
   "display_name": "Python 3",
   "language": "python",
   "name": "python3"
  },
  "language_info": {
   "codemirror_mode": {
    "name": "ipython",
    "version": 3
   },
   "file_extension": ".py",
   "mimetype": "text/x-python",
   "name": "python",
   "nbconvert_exporter": "python",
   "pygments_lexer": "ipython3",
   "version": "3.10.2"
  }
 },
 "nbformat": 4,
 "nbformat_minor": 5
}
