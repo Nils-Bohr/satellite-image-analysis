{
 "cells": [
  {
   "cell_type": "markdown",
   "id": "91e4983f",
   "metadata": {},
   "source": [
    "## Coursework Project Planning\n",
    "\n",
    "\n",
    "This week you will need to begin coursework planning, in order to produce a written introduction, literature review and method statement for submission. \n",
    "\n",
    "By Thursday 7th April you will need to submit:\n",
    "\n",
    "- A written introduction which provides a general overview of your research project, including your research question(s). This should be between 300-500 words, providing a general contextual overview of the problem. You will want to include key statistics which demonstrate the relevance of the topic you have chosen. \n",
    "\n",
    "- A written literature review which provides key citations to relevant papers that you have obtained from the scientific literature. You should consider both theoretical and empirical research, and include at least 20 citations per group member. Again, it is advisable to find key statistics from past studies which you can include in your review.\n",
    "\n",
    "- Include a detailed bullet-point outline of your methodology, including a box diagram which demonstrates how your method processing steps fit together. These processing steps should detail the satellite dataset inputs, the imagery analysis steps you intend to use, and then estimation of any relevant statistical results. \n",
    "\n"
   ]
  }
 ],
 "metadata": {
  "kernelspec": {
   "display_name": "Python 3 (ipykernel)",
   "language": "python",
   "name": "python3"
  },
  "language_info": {
   "codemirror_mode": {
    "name": "ipython",
    "version": 3
   },
   "file_extension": ".py",
   "mimetype": "text/x-python",
   "name": "python",
   "nbconvert_exporter": "python",
   "pygments_lexer": "ipython3",
   "version": "3.7.11"
  }
 },
 "nbformat": 4,
 "nbformat_minor": 5
}
