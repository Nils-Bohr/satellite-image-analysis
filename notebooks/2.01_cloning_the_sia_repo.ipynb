{
 "cells": [
  {
   "cell_type": "markdown",
   "id": "93e32bca",
   "metadata": {},
   "source": [
    "# Cloning the `sia` repository from GitHub\n",
    "\n",
    "In this notebook we're going to clone the GitHub `sia` repository: https://github.com/edwardoughton/satellite-image-analysis\n",
    "\n",
    "\n",
    "    \n",
    "    "
   ]
  },
  {
   "cell_type": "markdown",
   "id": "6225d4fd",
   "metadata": {},
   "source": [
    "1. Open your Anaconda Prompt from the start menu / Apple command button (type 'Anaconda P...' and it should pop up).\n",
    "2. In the prompt, navigate to where you want your folder to clone to e.g. the desktop, using `cd`.\n",
    "3. Then type `git clone https://github.com/edwardoughton/satellite-image-analysis.git`.\n",
    "\n",
    "You should now have copied a version of the `sia` GitHub repository to your desktop!\n",
    "\n",
    "Just be aware that if you make changes to this set of files, git won't let you do a `git pull` command in the future, to prevent you writing over any changes you have made. \n"
   ]
  }
 ],
 "metadata": {
  "kernelspec": {
   "display_name": "Python 3",
   "language": "python",
   "name": "python3"
  },
  "language_info": {
   "codemirror_mode": {
    "name": "ipython",
    "version": 3
   },
   "file_extension": ".py",
   "mimetype": "text/x-python",
   "name": "python",
   "nbconvert_exporter": "python",
   "pygments_lexer": "ipython3",
   "version": "3.9.12"
  }
 },
 "nbformat": 4,
 "nbformat_minor": 5
}
