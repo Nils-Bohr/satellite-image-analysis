{
 "cells": [
  {
   "cell_type": "markdown",
   "metadata": {},
   "source": [
    "# Downloading imagery via the Planet API\n",
    "\n",
    "\n",
    "Planet is an earth observation company based in the San Francisco Bay Area, collecting daily satellite imagery. \n",
    "\n",
    "See here for more details: https://www.planet.com/ \n",
    "\n",
    "Obviously, you can do quite a lot with such regular revisitation rates, which makes the data useful for monitoring changes from space. \n",
    "\n",
    "Thanks to Sara Safavi at Planet for making content open-source, as code here has been adapted from the GitHub associated with a given SciPy 2019 conference presentation.\n",
    "\n",
    "You can apply for a free API key from Planet using your .edu email address. \n",
    "\n",
    "Please sign up now: https://www.planet.com/markets/education-and-research/\n",
    "\n",
    "It may take a couple of weeks for them to approve your request, so you need to do this ASAP so that this is available to you for use in GGS416.\n",
    "\n",
    "Thankfully, today we can get away with using a direct tile download which negates the need for us to have an API key."
   ]
  },
  {
   "cell_type": "markdown",
   "metadata": {},
   "source": [
    "## Downloading a 4-band PlanetScope asset and associated metadata\n",
    "\n",
    "Planet refers to their images as 'assets'. \n",
    "\n",
    "The constituent components of an 'analytic' 4-band asset include:\n",
    "\n",
    "- Band 1 = Blue\n",
    "- Band 2 = Green\n",
    "- Band 3 = Red\n",
    "- Band 4 = Near-infrared\n",
    "\n",
    "The 'analytic' component refers to this imagery being a radiometrically calibrated GeoTiff product suitable for analytic applications.\n",
    "\n",
    "For more information on Planet 4-band assets, see here:\n",
    "\n",
    "https://developers.planet.com/docs/data/psscene4band\n",
    "\n",
    "A GeoTIFF is essentially a normal Tag Image File Format (TIFF) file with a metadata standard which allows embedded georeferencing information.\n",
    "\n",
    "https://en.wikipedia.org/wiki/GeoTIFF"
   ]
  },
  {
   "cell_type": "code",
   "execution_count": 26,
   "metadata": {},
   "outputs": [
    {
     "name": "stderr",
     "output_type": "stream",
     "text": [
      "  % Total    % Received % Xferd  Average Speed   Time    Time     Time  Current\n",
      "                                 Dload  Upload   Total   Spent    Left  Speed\n",
      "\n",
      "  0     0    0     0    0     0      0      0 --:--:-- --:--:-- --:--:--     0\n",
      "  0     0    0     0    0     0      0      0 --:--:--  0:00:01 --:--:--     0Warning: Refusing to overwrite 20190321_174348_0f1a_3B_AnalyticMS.tif: File \n",
      "Warning: exists\n",
      "\n",
      "  0     0    0     0    0     0      0      0 --:--:--  0:00:01 --:--:--     0\n",
      "curl: (23) Failed writing header\n",
      "  % Total    % Received % Xferd  Average Speed   Time    Time     Time  Current\n",
      "                                 Dload  Upload   Total   Spent    Left  Speed\n",
      "\n",
      "  0     0    0     0    0     0      0      0 --:--:-- --:--:-- --:--:--     0\n",
      "  0     0    0     0    0     0      0      0 --:--:-- --:--:-- --:--:--     0Warning: Refusing to overwrite \n",
      "Warning: 20190321_174348_0f1a_3B_AnalyticMS_metadata.xml: File exists\n",
      "\n",
      "  0     0    0     0    0     0      0      0 --:--:-- --:--:-- --:--:--     0\n",
      "curl: (23) Failed writing header\n"
     ]
    }
   ],
   "source": [
    "# Let us download the initial analytic 4-Band PlanetScope tile asset\n",
    "# UG2TX98suVmmi9q is a tile covering part of the San Francisco Bay\n",
    "!curl -O -J https://hello.planet.com/data/s/UG2TX98suVmmi9q/download\n",
    "\n",
    "# And additionally, let us download the XML metadata too\n",
    "!curl -O -J https://hello.planet.com/data/s/jqDQE8xUHiD511e/download"
   ]
  },
  {
   "cell_type": "markdown",
   "metadata": {},
   "source": [
    "## Downloading a 3-band PlanetScope asset\n",
    "\n",
    "The 3-band asset is similar to the 4-band type, only it focuses purely on Red-Green-Blue (RGB) colors (thus, does not have the near-infrared component):\n",
    "\n",
    "- Band 1 = Blue\n",
    "- Band 2 = Green\n",
    "- Band 3 = Red\n",
    "\n",
    "For more information on Planet 3-band assets, see here:\n",
    "\n",
    "https://developers.planet.com/docs/data/psscene3band/"
   ]
  },
  {
   "cell_type": "code",
   "execution_count": 27,
   "metadata": {},
   "outputs": [
    {
     "name": "stderr",
     "output_type": "stream",
     "text": [
      "  % Total    % Received % Xferd  Average Speed   Time    Time     Time  Current\n",
      "                                 Dload  Upload   Total   Spent    Left  Speed\n",
      "\n",
      "  0     0    0     0    0     0      0      0 --:--:-- --:--:-- --:--:--     0Warning: Refusing to overwrite 20160831_180302_0e26_3B_Visual.tif: File exists\n",
      "\n",
      "  0     0    0     0    0     0      0      0 --:--:-- --:--:-- --:--:--     0\n",
      "curl: (23) Failed writing header\n"
     ]
    }
   ],
   "source": [
    "# Let us download the 3-Band PlanetScope tile asset\n",
    "!curl -O -J https://hello.planet.com/data/s/ZWwAg1RcmIN5h9R/download"
   ]
  },
  {
   "cell_type": "markdown",
   "metadata": {},
   "source": [
    "## Raster graphics\n",
    "\n",
    "Now we've downloaded our data assets, we need to check that they can be successfully opened. This requires us to access and display the raster graphics style our data are in. \n",
    "\n",
    "Importantly, raster graphics are based on a two-dimensional image represented by a rectangular matrix (thus, a grid of square pixels). \n",
    "\n",
    "See here for more information: https://en.wikipedia.org/wiki/Raster_graphics\n",
    "\n",
    "These graphics can then be interpreted by a computer to display the underlaying data as an image. \n",
    "\n",
    "It's important to know the difference between vector and raster graphics. Let's watch the following short video to clarify the difference.\n"
   ]
  },
  {
   "cell_type": "code",
   "execution_count": 28,
   "metadata": {},
   "outputs": [
    {
     "data": {
      "text/html": [
       "\n",
       "<iframe width=\"560\" height=\"315\" src=\"https://www.youtube.com/embed/-Fs2t6P5AjY\" title=\"YouTube video player\" frameborder=\"0\" allow=\"accelerometer; autoplay; clipboard-write; encrypted-media; gyroscope; picture-in-picture\" allowfullscreen></iframe>\n"
      ],
      "text/plain": [
       "<IPython.core.display.HTML object>"
      ]
     },
     "metadata": {},
     "output_type": "display_data"
    }
   ],
   "source": [
    "%%HTML\n",
    "\n",
    "<iframe width=\"560\" height=\"315\" src=\"https://www.youtube.com/embed/-Fs2t6P5AjY\" title=\"YouTube video player\" frameborder=\"0\" allow=\"accelerometer; autoplay; clipboard-write; encrypted-media; gyroscope; picture-in-picture\" allowfullscreen></iframe>"
   ]
  },
  {
   "cell_type": "markdown",
   "metadata": {},
   "source": [
    "## Rasterio\n",
    "\n",
    "To interpret our asset data we can use `Rasterio` to both read and write geospatial raster data. \n",
    "\n",
    "You can think of `Rasterio` as standing for Raster Input-Output.\n",
    "\n",
    "The GeoTIFF standard (and other raster formats) are common for geographic information systems to organize and store gridded, or raster, datasets. We are able to use `Rasterio` to read and write these formats and then provide a Python API based on N-D arrays.\n",
    "\n",
    "An ndarray is a (usually fixed-size) multidimensional container of items of the same type and size. Remember we covered an introduction to `NumPy` in a previous lecture. Well, `NumPy` uses N-D arrays as its basic data structure. `Rasterio` heavily uses `NumPy` in its operations.   \n",
    "\n",
    "You can see the GitHub code here: https://github.com/rasterio/rasterio\n",
    "\n",
    "Or, more usefully, you can access the `Rasterio` documentation here: https://rasterio.readthedocs.io/en/latest/\n",
    "\n",
    "First, we will need to install `Rasterio`"
   ]
  },
  {
   "cell_type": "code",
   "execution_count": 29,
   "metadata": {},
   "outputs": [
    {
     "name": "stdout",
     "output_type": "stream",
     "text": [
      "Collecting package metadata (current_repodata.json): ...working... done\n",
      "Solving environment: ...working... done\n",
      "\n",
      "# All requested packages already installed.\n",
      "\n"
     ]
    }
   ],
   "source": [
    "# Thankfully we can install rasterio into our virtual environment as follows using the sys package:\n",
    "import sys\n",
    "!conda install --yes --prefix {sys.prefix} rasterio"
   ]
  },
  {
   "cell_type": "markdown",
   "metadata": {},
   "source": [
    "Next, we need to load the `Rasterio` package into our current environment using the `import` command: "
   ]
  },
  {
   "cell_type": "code",
   "execution_count": 30,
   "metadata": {},
   "outputs": [],
   "source": [
    "# Loading a dataset\n",
    "import rasterio"
   ]
  },
  {
   "cell_type": "markdown",
   "metadata": {},
   "source": [
    "And now we want to specify the filename for one of the image assets that we have downloaded into our current directory."
   ]
  },
  {
   "cell_type": "code",
   "execution_count": 31,
   "metadata": {},
   "outputs": [
    {
     "data": {
      "text/plain": [
       "'20190321_174348_0f1a_3B_AnalyticMS.tif'"
      ]
     },
     "execution_count": 31,
     "metadata": {},
     "output_type": "execute_result"
    }
   ],
   "source": [
    "# Here we can specify the name of our 3-band analytic image\n",
    "filename = \"20190321_174348_0f1a_3B_AnalyticMS.tif\"\n",
    "filename"
   ]
  },
  {
   "cell_type": "markdown",
   "metadata": {},
   "source": [
    "Finally, we can load in our downloaded image using `Rasterio`, via the open function.\n",
    "\n",
    "If this is completed successfully, we should be able to print the `Rasterio` object and see the following:\n",
    "\n",
    "```<open DatasetReader name='20190321_174348_0f1a_3B_AnalyticMS.tif' mode='r'>```\n",
    "\n",
    "Now have a go and see what you produce:"
   ]
  },
  {
   "cell_type": "code",
   "execution_count": 32,
   "metadata": {},
   "outputs": [
    {
     "name": "stdout",
     "output_type": "stream",
     "text": [
      "<open DatasetReader name='20190321_174348_0f1a_3B_AnalyticMS.tif' mode='r'>\n"
     ]
    }
   ],
   "source": [
    "my_raster_image = rasterio.open(filename)\n",
    "print(my_raster_image)"
   ]
  },
  {
   "cell_type": "markdown",
   "metadata": {},
   "source": [
    "## Congratulations!\n",
    "\n",
    "If your output matches the expected output then you have successfully downloaded an image asset and correctly loaded it into your jupyter session via `Rasterio`.\n",
    "\n",
    "This is where we finish for this tutorial.\n",
    "\n",
    "However, the next session will pick up here and then begin to explore the metadata for the downloaded imagery. "
   ]
  }
 ],
 "metadata": {
  "kernelspec": {
   "display_name": "Python 3",
   "language": "python",
   "name": "python3"
  },
  "language_info": {
   "codemirror_mode": {
    "name": "ipython",
    "version": 3
   },
   "file_extension": ".py",
   "mimetype": "text/x-python",
   "name": "python",
   "nbconvert_exporter": "python",
   "pygments_lexer": "ipython3",
   "version": "3.7.4"
  }
 },
 "nbformat": 4,
 "nbformat_minor": 2
}
