{
 "cells": [
  {
   "cell_type": "markdown",
   "id": "e40f065e",
   "metadata": {},
   "source": [
    "# Strings, Lists, Tuples, Arrays and Dictionaries.\n",
    "\n",
    "In Python (and other computer languages), we have a range of different types of data structures.\n",
    "\n",
    "In this session we are going to cover the very basics."
   ]
  },
  {
   "cell_type": "markdown",
   "id": "8438f482",
   "metadata": {},
   "source": [
    "## Strings"
   ]
  },
  {
   "cell_type": "markdown",
   "id": "70cf7769",
   "metadata": {},
   "source": [
    "Strings consist of characters and symbols, often representing natural human language (as opposed to a computer language).\n",
    "\n",
    "Strings are handy for text manipulation, file modification, labelling of plots, requesting inputs from user, arguments in functions etc.\n",
    "\n",
    "They are created by enclosing a sequence of characters using pair of single of double quotes. It does not matter whether single or double but it should be consistent. \n",
    "\n",
    "Strings can be assigned variable names."
   ]
  },
  {
   "cell_type": "code",
   "execution_count": null,
   "id": "a09c5c85",
   "metadata": {},
   "outputs": [],
   "source": [
    "my_string = 'this is my string'\n",
    "my_string"
   ]
  },
  {
   "cell_type": "markdown",
   "id": "a435a8c0",
   "metadata": {},
   "source": [
    "Strings can be concatenated using the \"+\" operator:"
   ]
  },
  {
   "cell_type": "code",
   "execution_count": null,
   "id": "9243cbb2",
   "metadata": {},
   "outputs": [],
   "source": [
    "a = 'this is ggs416'\n",
    "b = 'which is on Monday at 3pm'\n",
    "c = a + \" \" + b\n",
    "c"
   ]
  },
  {
   "cell_type": "markdown",
   "id": "3d89a007",
   "metadata": {},
   "source": [
    "Strings can also be made of numbers. This might catch you out from time to time (!). You need to pay attention to the quotation marks, which denote a string."
   ]
  },
  {
   "cell_type": "code",
   "execution_count": null,
   "id": "97da18b2",
   "metadata": {},
   "outputs": [],
   "source": [
    "d = '345'\n",
    "e = 345"
   ]
  },
  {
   "cell_type": "markdown",
   "id": "e217382d",
   "metadata": {},
   "source": [
    "The variable `d` is a string while `e` is an integer. What do you think will happen if we add them?"
   ]
  },
  {
   "cell_type": "markdown",
   "id": "a77010e0",
   "metadata": {},
   "source": [
    "(Remember d is a string, so you won't get 690. Instead, you will get the string repeated twice, so '345345')"
   ]
  },
  {
   "cell_type": "code",
   "execution_count": null,
   "id": "8c371c1e",
   "metadata": {},
   "outputs": [],
   "source": [
    "# Example:\n",
    "d + d\n",
    "\n",
    "# Answer: '345345'"
   ]
  },
  {
   "cell_type": "markdown",
   "id": "61743d89",
   "metadata": {},
   "source": [
    "You can also insert a value into a string using the `format()` function. You just need to add a curly parantheses `{}` to the point where you want to add the additional characters. \n",
    "\n",
    "You will see this often in this course, especially as it is very handy when printing the values used in loops."
   ]
  },
  {
   "cell_type": "code",
   "execution_count": null,
   "id": "64da43b5",
   "metadata": {},
   "outputs": [],
   "source": [
    "# Example\n",
    "my_number = 2\n",
    "my_variable = \"my_version: {}\".format(my_number)\n",
    "my_variable"
   ]
  },
  {
   "cell_type": "markdown",
   "id": "72b24038",
   "metadata": {},
   "source": [
    "## Exercise\n",
    "\n",
    "Allocate your first name as a string to the variable `my_first_name`:"
   ]
  },
  {
   "cell_type": "code",
   "execution_count": null,
   "id": "faa34131",
   "metadata": {},
   "outputs": [],
   "source": [
    "# Enter your attempt here\n"
   ]
  },
  {
   "cell_type": "markdown",
   "id": "bd459525",
   "metadata": {},
   "source": [
    "Now allocate your second name as a string to the variable `my_second_name`:"
   ]
  },
  {
   "cell_type": "code",
   "execution_count": null,
   "id": "ac17dd9e",
   "metadata": {},
   "outputs": [],
   "source": [
    "# Enter your attempt here\n"
   ]
  },
  {
   "cell_type": "code",
   "execution_count": null,
   "id": "1d1a1c55",
   "metadata": {},
   "outputs": [],
   "source": []
  },
  {
   "cell_type": "markdown",
   "id": "fa0f1803",
   "metadata": {},
   "source": [
    "Try to concatenate your names, but add a space in the middle (thus, if you get \"JackSparrow\", this would be incorrect)."
   ]
  },
  {
   "cell_type": "code",
   "execution_count": null,
   "id": "4debcc9b",
   "metadata": {},
   "outputs": [],
   "source": [
    "# Enter your attempt here\n"
   ]
  },
  {
   "cell_type": "markdown",
   "id": "9f8eb6d1",
   "metadata": {},
   "source": [
    "Create a variable named `course_number` and allocate it the value 16. Then try add this course number into the `course_code` variable \"GGS\" using the `format()` function. You should end up with a variable called `course_code` with the string `GGS16` allocated to it. "
   ]
  },
  {
   "cell_type": "code",
   "execution_count": null,
   "id": "1114c9f2",
   "metadata": {},
   "outputs": [],
   "source": [
    "# Enter your attempt here\n"
   ]
  },
  {
   "cell_type": "markdown",
   "id": "011b4e34",
   "metadata": {},
   "source": [
    "## Lists"
   ]
  },
  {
   "cell_type": "markdown",
   "id": "a6393f94",
   "metadata": {},
   "source": [
    "Lists consist of one or more elements and can contain any data type such as numbers, strings, floats, bools or both. \n",
    "\n",
    "Lists are defined by a pair of square brackets with individual elements separated by commas."
   ]
  },
  {
   "cell_type": "code",
   "execution_count": null,
   "id": "effb7a04",
   "metadata": {},
   "outputs": [],
   "source": [
    "# Example\n",
    "a = [2017,2018,2019,2020,2021]\n",
    "a"
   ]
  },
  {
   "cell_type": "code",
   "execution_count": null,
   "id": "51573cd7",
   "metadata": {},
   "outputs": [],
   "source": [
    "# Example\n",
    "b = [2.0,\"GMU\",14,\"GGS\",2021]\n",
    "b"
   ]
  },
  {
   "cell_type": "markdown",
   "id": "68c1b360",
   "metadata": {},
   "source": [
    "Individual elements within a list can be accessed using a variable name with square brackets as follows;"
   ]
  },
  {
   "cell_type": "code",
   "execution_count": null,
   "id": "bf40a35e",
   "metadata": {},
   "outputs": [],
   "source": [
    "# Example\n",
    "b[0]"
   ]
  },
  {
   "cell_type": "code",
   "execution_count": null,
   "id": "0288fa55",
   "metadata": {},
   "outputs": [],
   "source": [
    "# Example\n",
    "b[1]"
   ]
  },
  {
   "cell_type": "code",
   "execution_count": null,
   "id": "0db6828d",
   "metadata": {},
   "outputs": [],
   "source": [
    "# Example\n",
    "b[3]"
   ]
  },
  {
   "cell_type": "markdown",
   "id": "b743a4c3",
   "metadata": {},
   "source": [
    "Proper programming languages, such as python and C, index lists starting from 0 (!). This is known as \"zero indexing\". \n",
    "\n",
    "Zero indexing will definitely catch a few people out during this class, but learning it will help you think like a computer programmer : ]\n",
    "\n",
    "The last element in list `b` is `b[4]` because the list has 5 elements and it can be accessed as `b[-1]` also.\n",
    "\n",
    "The lists can be accessed in reverse but starting with -1:"
   ]
  },
  {
   "cell_type": "code",
   "execution_count": null,
   "id": "b1953220",
   "metadata": {},
   "outputs": [],
   "source": [
    "# Example\n",
    "b[-1]"
   ]
  },
  {
   "cell_type": "markdown",
   "id": "1fff6286",
   "metadata": {},
   "source": [
    "Which is the same as manually indexing the last value (but you may not always know how long the list is!!)."
   ]
  },
  {
   "cell_type": "code",
   "execution_count": null,
   "id": "eb825277",
   "metadata": {},
   "outputs": [],
   "source": [
    "# Example\n",
    "b[4]"
   ]
  },
  {
   "cell_type": "markdown",
   "id": "aca7ac5c",
   "metadata": {},
   "source": [
    "The individual elements within the list can be changed."
   ]
  },
  {
   "cell_type": "code",
   "execution_count": null,
   "id": "a9c71283",
   "metadata": {},
   "outputs": [],
   "source": [
    "b"
   ]
  },
  {
   "cell_type": "code",
   "execution_count": null,
   "id": "140f466d",
   "metadata": {},
   "outputs": [],
   "source": [
    "# Example: We can manipulate the underlying value\n",
    "b[0] = b[0]+1\n",
    "b"
   ]
  },
  {
   "cell_type": "code",
   "execution_count": null,
   "id": "febdf6a3",
   "metadata": {},
   "outputs": [],
   "source": [
    "# Example: Or we can completely write over it\n",
    "b[2] = 'Semester'\n",
    "b"
   ]
  },
  {
   "cell_type": "markdown",
   "id": "1c9ae2c3",
   "metadata": {},
   "source": [
    "In the above example, 1 has been added to the previous value of `b[0]` and the number 14 was replaced with string \"Semester\".\n",
    "\n",
    "Individual elements within a list can also be manipulated."
   ]
  },
  {
   "cell_type": "code",
   "execution_count": null,
   "id": "f3e730e8",
   "metadata": {},
   "outputs": [],
   "source": [
    "# Example\n",
    "b[3] = b[3] + \" -\"\n",
    "b"
   ]
  },
  {
   "cell_type": "markdown",
   "id": "0567622e",
   "metadata": {},
   "source": [
    "We can also reverse the order of the list:"
   ]
  },
  {
   "cell_type": "code",
   "execution_count": null,
   "id": "f418a9e4",
   "metadata": {},
   "outputs": [],
   "source": [
    "# Example\n",
    "b = b[::-1]\n",
    "b"
   ]
  },
  {
   "cell_type": "markdown",
   "id": "2bcbb8c2",
   "metadata": {},
   "source": [
    "A key feature of lists is that they can be added together. This is a really important thing to remember. "
   ]
  },
  {
   "cell_type": "code",
   "execution_count": null,
   "id": "00af54e7",
   "metadata": {},
   "outputs": [],
   "source": [
    "# Example\n",
    "a #our current list"
   ]
  },
  {
   "cell_type": "code",
   "execution_count": null,
   "id": "da57ab71",
   "metadata": {},
   "outputs": [],
   "source": [
    "# Example\n",
    "a+a #now we have a single list, but containing all elements from list 'a' twice!"
   ]
  },
  {
   "cell_type": "code",
   "execution_count": null,
   "id": "c3f17d46",
   "metadata": {},
   "outputs": [],
   "source": [
    "# Example\n",
    "a+a+a #now we have a single list, but containing all elements from list 'a' thrice!"
   ]
  },
  {
   "cell_type": "markdown",
   "id": "ad814f9d",
   "metadata": {},
   "source": [
    "Note how the individual elements *are not added*, but the two data structures are combined into a single list. \n",
    "\n",
    "This is called **concatenating** in computer science lingo. "
   ]
  },
  {
   "cell_type": "code",
   "execution_count": null,
   "id": "72727712",
   "metadata": {},
   "outputs": [],
   "source": [
    "a+b"
   ]
  },
  {
   "cell_type": "markdown",
   "id": "01f68498",
   "metadata": {},
   "source": [
    "##### Slicing Lists "
   ]
  },
  {
   "cell_type": "markdown",
   "id": "a0c9f26f",
   "metadata": {},
   "source": [
    "Parts of lists can be accessed using the *slicing* feature. "
   ]
  },
  {
   "cell_type": "code",
   "execution_count": null,
   "id": "840b63d2",
   "metadata": {},
   "outputs": [],
   "source": [
    "# So if we have our list b:\n",
    "b"
   ]
  },
  {
   "cell_type": "code",
   "execution_count": null,
   "id": "d1a00353",
   "metadata": {},
   "outputs": [],
   "source": [
    "# We can slice it for just the first three elements by specifying b[0:3]\n",
    "b[0:3]\n",
    "\n",
    "# So this literally means for our list 'b', I want to index into the list \n",
    "# (thus the square brackets '[]'), and then extract from position 0-3. "
   ]
  },
  {
   "cell_type": "markdown",
   "id": "5eef15ce",
   "metadata": {},
   "source": [
    "Alternatively, we can cut from the third position onwards, as follows:"
   ]
  },
  {
   "cell_type": "code",
   "execution_count": null,
   "id": "9318290f",
   "metadata": {},
   "outputs": [],
   "source": [
    "b[3:]"
   ]
  },
  {
   "cell_type": "markdown",
   "id": "d900f439",
   "metadata": {},
   "source": [
    "Or from the start of the list until the third position:"
   ]
  },
  {
   "cell_type": "code",
   "execution_count": null,
   "id": "a2622ee1",
   "metadata": {},
   "outputs": [],
   "source": [
    "b[:3]"
   ]
  },
  {
   "cell_type": "markdown",
   "id": "3f0c5296",
   "metadata": {},
   "source": [
    "A length of a list can be accessed using the *len* function.\n",
    "\n",
    "This is a really useful function which is used all the time, so remember it!"
   ]
  },
  {
   "cell_type": "code",
   "execution_count": null,
   "id": "1966a03a",
   "metadata": {},
   "outputs": [],
   "source": [
    "len(b)"
   ]
  },
  {
   "cell_type": "markdown",
   "id": "a3c54e49",
   "metadata": {},
   "source": [
    "#### Appending to a List"
   ]
  },
  {
   "cell_type": "markdown",
   "id": "344c8b57",
   "metadata": {},
   "source": [
    "An element can be added at the end of a given list using the **append** function. "
   ]
  },
  {
   "cell_type": "code",
   "execution_count": null,
   "id": "9776ef52",
   "metadata": {},
   "outputs": [],
   "source": [
    "states = ['New York', 'Virginia','Washington DC', 'Delaware','Maryland']\n",
    "states"
   ]
  },
  {
   "cell_type": "code",
   "execution_count": null,
   "id": "8c92451c",
   "metadata": {},
   "outputs": [],
   "source": [
    "states.append('North Carolina')\n",
    "states.append('Las Vegas')\n",
    "states"
   ]
  },
  {
   "cell_type": "markdown",
   "id": "976d4003",
   "metadata": {},
   "source": [
    "<div class=\"alert alert-block alert-info\">\n",
    "    \n",
    "<b>Note:</b> *append* works by adding the element after the last one in the existing list. \n",
    "</div>"
   ]
  },
  {
   "cell_type": "markdown",
   "id": "34800693",
   "metadata": {},
   "source": [
    "Sometimes it might be necessary to add an element at a specific position in a list. This can be achieved using the **insert** function. The position is specified followed by the element. Example;"
   ]
  },
  {
   "cell_type": "code",
   "execution_count": null,
   "id": "5dac395c",
   "metadata": {},
   "outputs": [],
   "source": [
    "states.insert(3,'West Virginia')\n",
    "states"
   ]
  },
  {
   "cell_type": "markdown",
   "id": "df61fb1e",
   "metadata": {},
   "source": [
    "An element of a list can be removed using the **remove** function. This is done by specifying the element."
   ]
  },
  {
   "cell_type": "code",
   "execution_count": null,
   "id": "a267b94b",
   "metadata": {},
   "outputs": [],
   "source": [
    "states.remove('Washington DC')\n",
    "states"
   ]
  },
  {
   "cell_type": "markdown",
   "id": "cc9e269f",
   "metadata": {},
   "source": [
    "Python **del** function can also be used in place of remove. The advantage is that it only accepts the index of the element and not necessary the element which might always return an error due to spelling or case sensitivity. Example, to remove Las Vegas from the list;"
   ]
  },
  {
   "cell_type": "code",
   "execution_count": null,
   "id": "77b6f32d",
   "metadata": {},
   "outputs": [],
   "source": [
    "del states[4]\n",
    "states"
   ]
  },
  {
   "cell_type": "markdown",
   "id": "1faa6894",
   "metadata": {},
   "source": [
    "## Exercise\n",
    "\n",
    "We covered a lot of information on lists, but this is because they are a really useful data structure, and we will use them all the time on this class. \n"
   ]
  },
  {
   "cell_type": "markdown",
   "id": "0fd214ff",
   "metadata": {},
   "source": [
    "Create a list called `my_list` and add your height, hair color, and favourite band/musical artist. "
   ]
  },
  {
   "cell_type": "code",
   "execution_count": null,
   "id": "ed0ccc4a",
   "metadata": {},
   "outputs": [],
   "source": [
    "# Enter your attempt here\n"
   ]
  },
  {
   "cell_type": "markdown",
   "id": "1f1b1136",
   "metadata": {},
   "source": [
    "Create another list called `my_list2` and place your degree name (e.g., 'GGS') and the number of your apartment/house."
   ]
  },
  {
   "cell_type": "code",
   "execution_count": null,
   "id": "17481624",
   "metadata": {},
   "outputs": [],
   "source": [
    "# Enter your attempt here\n"
   ]
  },
  {
   "cell_type": "markdown",
   "id": "f8217d25",
   "metadata": {},
   "source": [
    "Concatenate these data structures into a list called `meta_list`:"
   ]
  },
  {
   "cell_type": "code",
   "execution_count": null,
   "id": "ff5b92ec",
   "metadata": {},
   "outputs": [],
   "source": [
    "# Enter your attempt here\n"
   ]
  },
  {
   "cell_type": "markdown",
   "id": "bbe6999c",
   "metadata": {},
   "source": [
    "Reverse the `meta_list`:"
   ]
  },
  {
   "cell_type": "code",
   "execution_count": null,
   "id": "69cf78a4",
   "metadata": {},
   "outputs": [],
   "source": [
    "# Enter your attempt here\n"
   ]
  },
  {
   "cell_type": "markdown",
   "id": "8691137a",
   "metadata": {},
   "source": [
    "Append your birth year to your list:"
   ]
  },
  {
   "cell_type": "code",
   "execution_count": null,
   "id": "41cf5783",
   "metadata": {},
   "outputs": [],
   "source": [
    "# Enter your attempt here\n"
   ]
  },
  {
   "cell_type": "markdown",
   "id": "9b960d42",
   "metadata": {},
   "source": [
    "For this list, separate out the second and forth values: `['a', 'b', 'c', 'd', 'e']`:\n",
    "        "
   ]
  },
  {
   "cell_type": "code",
   "execution_count": null,
   "id": "7c5a9972",
   "metadata": {},
   "outputs": [],
   "source": [
    "# Enter your attempt here\n"
   ]
  },
  {
   "cell_type": "markdown",
   "id": "35f602fd",
   "metadata": {},
   "source": [
    "## Tuples"
   ]
  },
  {
   "cell_type": "markdown",
   "id": "ee94b8e4",
   "metadata": {},
   "source": [
    "Tuples are lists which are immutable (their individual elements cannot be changed).\n",
    "\n",
    "They are defined by their parentheses e.g. `my_tuple = (0, 1, 2, 3)`\n",
    "\n",
    "This contrasts with lists which use square brackets, e.g. [], or dictionaries which use curly brackets e.g. {}.\n",
    "\n",
    "The individual elements can be accessed in similar manner as lists."
   ]
  },
  {
   "cell_type": "code",
   "execution_count": null,
   "id": "ab413d76",
   "metadata": {},
   "outputs": [],
   "source": [
    "c = (10,20,30,40,50,60)\n",
    "c"
   ]
  },
  {
   "cell_type": "code",
   "execution_count": null,
   "id": "0cbc91df",
   "metadata": {},
   "outputs": [],
   "source": [
    "# Let's index the value at position 3:\n",
    "c[3]"
   ]
  },
  {
   "cell_type": "markdown",
   "id": "5a1dcddd",
   "metadata": {},
   "source": [
    "Let's try changing an element of a tuple. "
   ]
  },
  {
   "cell_type": "code",
   "execution_count": null,
   "id": "c731290e",
   "metadata": {},
   "outputs": [],
   "source": [
    "# Remember tuples are immutable though, so you can't change their contents like this!\n",
    "c[4] = 100"
   ]
  },
  {
   "cell_type": "markdown",
   "id": "e32a0267",
   "metadata": {},
   "source": [
    "A really useful characteristic of tuples is that you can unpack them to individual variables:"
   ]
  },
  {
   "cell_type": "code",
   "execution_count": null,
   "id": "11e7e9b5",
   "metadata": {},
   "outputs": [],
   "source": [
    "# Example: So for our tuple c, we can unpack the elements individually to x, y, z:\n",
    "\n",
    "c = (10,20,30)\n",
    "\n",
    "x, y, z, = c\n",
    "x, y, z"
   ]
  },
  {
   "cell_type": "markdown",
   "id": "39e5ce81",
   "metadata": {},
   "source": [
    "##### Multidimensional lists, consisting of lists and tuples"
   ]
  },
  {
   "cell_type": "markdown",
   "id": "6b6bd751",
   "metadata": {},
   "source": [
    "This is a common data structure we will use in satellite image processing.\n",
    "\n",
    "For example, using:\n",
    "\n",
    "    - A list of lists\n",
    "    - A list of tuples"
   ]
  },
  {
   "cell_type": "code",
   "execution_count": null,
   "id": "7c2cf225",
   "metadata": {},
   "outputs": [],
   "source": [
    "# Example\n",
    "# A list of lists: (remember lists of square brackets)\n",
    "\n",
    "navsats_list = [\n",
    "    ['GPS','USA'],\n",
    "    ['Galileo','EU'],\n",
    "    ['Glonnas','Russia']\n",
    "]\n",
    "navsats_list"
   ]
  },
  {
   "cell_type": "code",
   "execution_count": null,
   "id": "c2441eca",
   "metadata": {},
   "outputs": [],
   "source": [
    "# Example:\n",
    "# A list of tuples: (remember tuples use normal parantheses/brackets)\n",
    "\n",
    "navsats_tuples = [\n",
    "    ('GPS','USA'),\n",
    "    ('Galileo','EU'),\n",
    "    ('Glonnas','Russia')\n",
    "]\n",
    "navsats_tuples"
   ]
  },
  {
   "cell_type": "code",
   "execution_count": null,
   "id": "02008615",
   "metadata": {},
   "outputs": [],
   "source": [
    "# Example:\n",
    "# You can index them like normal lists\n",
    "navsats_list[0]"
   ]
  },
  {
   "cell_type": "code",
   "execution_count": null,
   "id": "fb633719",
   "metadata": {},
   "outputs": [],
   "source": [
    "# You can also iterate over them like a normal list using a loop:\n",
    "    \n",
    "for i in navsats_list:\n",
    "    print(i)"
   ]
  },
  {
   "cell_type": "markdown",
   "id": "54e0e577",
   "metadata": {},
   "source": [
    "It's the same for the tuple list:"
   ]
  },
  {
   "cell_type": "code",
   "execution_count": null,
   "id": "ebe71e72",
   "metadata": {},
   "outputs": [],
   "source": [
    "navsats_tuples[1]"
   ]
  },
  {
   "cell_type": "code",
   "execution_count": null,
   "id": "05867c0b",
   "metadata": {},
   "outputs": [],
   "source": [
    "# You can also iterate over them like a normal list using a loop:\n",
    "    \n",
    "for i in navsats_tuples:\n",
    "    print(i)"
   ]
  },
  {
   "cell_type": "markdown",
   "id": "bac6f2c1",
   "metadata": {},
   "source": [
    "You can even start to include some logic in the loop:"
   ]
  },
  {
   "cell_type": "code",
   "execution_count": null,
   "id": "6d61ffc0",
   "metadata": {},
   "outputs": [],
   "source": [
    "for i in navsats_tuples:  # So we're iterating over our list of tuples using a for loop.\n",
    "    if i[1] == 'USA':     # And placing an if function to see if the first item in each tuple is equal to 'USA'.\n",
    "        print(i[0])       # If it is, we print the constellation name."
   ]
  },
  {
   "cell_type": "markdown",
   "id": "73cb2964",
   "metadata": {},
   "source": [
    "## Exercise\n",
    "\n",
    "Let us now recap on tuples.\n",
    "\n",
    "Create a tuple with the numbers 6, 7, 8 called `my_tuple`.\n"
   ]
  },
  {
   "cell_type": "code",
   "execution_count": null,
   "id": "9e06b8a9",
   "metadata": {},
   "outputs": [],
   "source": [
    "# Enter your attempt here\n"
   ]
  },
  {
   "cell_type": "markdown",
   "id": "234490d1",
   "metadata": {},
   "source": [
    "Index the number `7` and allocate it to a variable `my_item`. Remember zero indexing ;)"
   ]
  },
  {
   "cell_type": "code",
   "execution_count": null,
   "id": "e6659d67",
   "metadata": {},
   "outputs": [],
   "source": [
    "# Enter your attempt here\n"
   ]
  },
  {
   "cell_type": "markdown",
   "id": "49db727d",
   "metadata": {},
   "source": [
    "Using a single line, unpack all items in our tuple to the variables `var1`, `var2`, `var3`:"
   ]
  },
  {
   "cell_type": "code",
   "execution_count": null,
   "id": "6393f2d4",
   "metadata": {},
   "outputs": [],
   "source": [
    "# Enter your attempt here\n"
   ]
  },
  {
   "cell_type": "markdown",
   "id": "5b4000e2",
   "metadata": {},
   "source": [
    "Create a list of lists containing the following two lists:\n",
    "\n",
    "    - [1,2]\n",
    "    - [2,3]"
   ]
  },
  {
   "cell_type": "code",
   "execution_count": null,
   "id": "e5b638c1",
   "metadata": {},
   "outputs": [],
   "source": [
    "# Enter your attempt here\n"
   ]
  },
  {
   "cell_type": "markdown",
   "id": "42ca847f",
   "metadata": {},
   "source": [
    "Append this list to your list of lists:\n",
    "\n",
    "    - [3,4]"
   ]
  },
  {
   "cell_type": "code",
   "execution_count": null,
   "id": "df5cc1c1",
   "metadata": {},
   "outputs": [],
   "source": [
    "# Enter your attempt here\n"
   ]
  },
  {
   "cell_type": "markdown",
   "id": "14dedf8f",
   "metadata": {},
   "source": [
    "Now use a loop to print the content of your list of lists."
   ]
  },
  {
   "cell_type": "code",
   "execution_count": null,
   "id": "fd6ea19c",
   "metadata": {},
   "outputs": [],
   "source": [
    "# Enter your attempt here\n"
   ]
  },
  {
   "cell_type": "markdown",
   "id": "8818f8c9",
   "metadata": {},
   "source": [
    "Create a list of tuples containing the following two tuples:\n",
    "\n",
    "    - (1,2)\n",
    "    - (2,3)"
   ]
  },
  {
   "cell_type": "code",
   "execution_count": null,
   "id": "c5cace76",
   "metadata": {},
   "outputs": [],
   "source": [
    "# Enter your attempt here\n"
   ]
  },
  {
   "cell_type": "markdown",
   "id": "83f42144",
   "metadata": {},
   "source": [
    "Append this tuple to your list of tuples:\n",
    "\n",
    "    - (3,4)"
   ]
  },
  {
   "cell_type": "code",
   "execution_count": null,
   "id": "983fb32d",
   "metadata": {},
   "outputs": [],
   "source": [
    "# Enter your attempt here\n"
   ]
  },
  {
   "cell_type": "markdown",
   "id": "2d8520e2",
   "metadata": {},
   "source": [
    "Now use a loop to print the content of your list of tuples."
   ]
  },
  {
   "cell_type": "code",
   "execution_count": null,
   "id": "61cfeed9",
   "metadata": {},
   "outputs": [],
   "source": [
    "# Enter your attempt here\n"
   ]
  },
  {
   "cell_type": "markdown",
   "id": "b6d0799a",
   "metadata": {},
   "source": [
    "## Dictionaries"
   ]
  },
  {
   "cell_type": "markdown",
   "id": "38514ef1",
   "metadata": {},
   "source": [
    "Unlike lists where square brackets are used, dictionaries use curly brackets, **{ }**. \n",
    "\n",
    "Whereas lists have an inherent order, dictionaries have no order. In fact, python guarantees no repeatable order. This is because the data structure is indexed using keys, not numbers. \n",
    "\n",
    "*A Python list is a collection of Python objects indexed by an ordered sequence of integers\n",
    "starting from zero. A dictionary is also collection of Python objects, just like a list,\n",
    "but one that is indexed by strings or numbers (not necessarily integers and not in any\n",
    "particular order) or even tuples!*, (Pine, 2013).\n",
    "\n",
    "Dicts have a very specific structure inside the curly brackets, based on key-value pairs. They have this name as each pair has a key and a value separated by a colon. See the my_dict example below: "
   ]
  },
  {
   "cell_type": "code",
   "execution_count": null,
   "id": "91c2f19c",
   "metadata": {},
   "outputs": [],
   "source": [
    "my_dict = {\n",
    "'my_key': 'my_value',\n",
    "'my_second_key': 'my_second_value',\n",
    "}\n",
    "my_dict"
   ]
  },
  {
   "cell_type": "markdown",
   "id": "d583ee2f",
   "metadata": {},
   "source": [
    "Dicts can actually hold any data types, even other lists or dicts. "
   ]
  },
  {
   "cell_type": "code",
   "execution_count": null,
   "id": "1447a114",
   "metadata": {},
   "outputs": [],
   "source": [
    "my_dict = {\n",
    "'my_key': 6,\n",
    "'my_second_key': (0, 1, 2, 3),\n",
    "}\n",
    "my_dict"
   ]
  },
  {
   "cell_type": "markdown",
   "id": "1ad14cbb",
   "metadata": {},
   "source": [
    "Example: Let us create a dictionary containing Remote Sensing satellite mission information with year of launch, ownership and orbital inclination.\n",
    "\n",
    "We first need to create out empty dictionary:"
   ]
  },
  {
   "cell_type": "code",
   "execution_count": null,
   "id": "2294d563",
   "metadata": {},
   "outputs": [],
   "source": [
    "# Example\n",
    "satellites = {} # This is our empty dict!\n",
    "satellites # As demonstrated when printed!"
   ]
  },
  {
   "cell_type": "code",
   "execution_count": null,
   "id": "d1823cdc",
   "metadata": {},
   "outputs": [],
   "source": [
    "# Example\n",
    "# Let's populate our dictionary.\n",
    "satellites['mission'] ='LandSat' \n",
    "satellites['Launch Year']=1972\n",
    "satellites['Orbital Inclination'] = 99.2\n",
    "satellites"
   ]
  },
  {
   "cell_type": "markdown",
   "id": "43c07b6c",
   "metadata": {},
   "source": [
    "The real strength of dicts comes when you want to index into them to grab information from the key-value pairs. \n",
    "\n",
    "For example, we can access the mission name from the dict as follows:"
   ]
  },
  {
   "cell_type": "code",
   "execution_count": null,
   "id": "edb9370c",
   "metadata": {},
   "outputs": [],
   "source": [
    "# Example\n",
    "satellites['mission'] # So we can index into the dict using the key name, and it returns the value from that pair!"
   ]
  },
  {
   "cell_type": "markdown",
   "id": "962b26dd",
   "metadata": {},
   "source": [
    "We can also access the keys and values separately using either the .keys() or .values() functions."
   ]
  },
  {
   "cell_type": "code",
   "execution_count": null,
   "id": "59c0306d",
   "metadata": {},
   "outputs": [],
   "source": [
    "satellites.keys()"
   ]
  },
  {
   "cell_type": "code",
   "execution_count": null,
   "id": "f1fa9213",
   "metadata": {},
   "outputs": [],
   "source": [
    "satellites.values()"
   ]
  },
  {
   "cell_type": "markdown",
   "id": "ac14fdbd",
   "metadata": {},
   "source": [
    "We can also iterate over the keys and values in tandem."
   ]
  },
  {
   "cell_type": "code",
   "execution_count": null,
   "id": "62212112",
   "metadata": {
    "scrolled": true
   },
   "outputs": [],
   "source": [
    "for key, value in satellites.items():\n",
    "    print(key, value)"
   ]
  },
  {
   "cell_type": "markdown",
   "id": "a675b648",
   "metadata": {},
   "source": [
    "## Exercise\n",
    "\n",
    "Let's recap on dictionaries.\n",
    "\n",
    "Create a dictionary called `my_dict` and add a key called `my_first_key` and a value called `my_first_value`."
   ]
  },
  {
   "cell_type": "code",
   "execution_count": null,
   "id": "b669b528",
   "metadata": {},
   "outputs": [],
   "source": [
    "# Enter your attempt here\n"
   ]
  },
  {
   "cell_type": "markdown",
   "id": "d2f33f33",
   "metadata": {},
   "source": [
    "Add a new key called `my_key2` and allocate it the value `my_value2`."
   ]
  },
  {
   "cell_type": "code",
   "execution_count": null,
   "id": "3e51a9aa",
   "metadata": {},
   "outputs": [],
   "source": [
    "# Enter your attempt here\n"
   ]
  },
  {
   "cell_type": "markdown",
   "id": "f40c1f27",
   "metadata": {},
   "source": [
    "Now print the keys of your dictionary."
   ]
  },
  {
   "cell_type": "code",
   "execution_count": null,
   "id": "e6275657",
   "metadata": {},
   "outputs": [],
   "source": [
    "# Enter your attempt here\n"
   ]
  },
  {
   "cell_type": "markdown",
   "id": "b9e1368e",
   "metadata": {},
   "source": [
    "And print the values of your dictionary."
   ]
  },
  {
   "cell_type": "code",
   "execution_count": null,
   "id": "68d5477f",
   "metadata": {},
   "outputs": [],
   "source": [
    "# Enter your attempt here\n"
   ]
  },
  {
   "cell_type": "markdown",
   "id": "ecf36641",
   "metadata": {},
   "source": [
    "Finally, print both the keys and the values using a loop:"
   ]
  },
  {
   "cell_type": "code",
   "execution_count": null,
   "id": "55a51766",
   "metadata": {},
   "outputs": [],
   "source": [
    "# Enter your attempt here\n"
   ]
  }
 ],
 "metadata": {
  "kernelspec": {
   "display_name": "Python 3",
   "language": "python",
   "name": "python3"
  },
  "language_info": {
   "codemirror_mode": {
    "name": "ipython",
    "version": 3
   },
   "file_extension": ".py",
   "mimetype": "text/x-python",
   "name": "python",
   "nbconvert_exporter": "python",
   "pygments_lexer": "ipython3",
   "version": "3.9.12"
  }
 },
 "nbformat": 4,
 "nbformat_minor": 5
}
