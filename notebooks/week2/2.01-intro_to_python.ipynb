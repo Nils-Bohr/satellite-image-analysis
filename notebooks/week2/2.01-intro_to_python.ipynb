{
 "cells": [
  {
   "cell_type": "markdown",
   "id": "ff9fd564",
   "metadata": {},
   "source": [
    "# Welcome to GGS 416 Satellite Image Analysis\n",
    "\n",
    "### Week 2 - Lecture 1\n",
    "\n",
    "Today we will start the introduction to Python. \n",
    "\n",
    "The purpose is to provide a practical guide to using Python for scientific computing. This will set you up for working with large volumes of satellite imagery. \n",
    "\n",
    "Of the many things we will cover, important aspects include:\n",
    "\n",
    "1. Python as a calculator (addition, subtraction, multiplication, division, floor division, remainder, power etc).\n",
    "2. Types of Numbers (plain integers, floating point and complex numbers).\n",
    "3. Variables. \n",
    "4. Importing Modules.\n",
    "5. Strings, Lists, Arrays and Dictionaries.\n",
    "6. Keyboard Input and Screen Output.\n",
    "7. File input (Reading and writing csv and txt files).\n",
    "8. Plotting.\n",
    "9. Conditions (if, else, elif, and & or statements).\n",
    "10. Loops (for & while).\n",
    "11. Functions.\n",
    "12. Selected Libraries (pandas)"
   ]
  },
  {
   "cell_type": "markdown",
   "id": "bd799e56",
   "metadata": {},
   "source": [
    "<div class=\"alert alert-block alert-info\">\n",
    "    \n",
    "<b>Note:</b> Make sure you open this notebook properly in Jupyter so you can run the tasks being covered. \n",
    "\n",
    "</div>"
   ]
  },
  {
   "cell_type": "markdown",
   "id": "9a7c14ea",
   "metadata": {},
   "source": [
    "## 1. Python as a Calculator"
   ]
  },
  {
   "cell_type": "markdown",
   "id": "0c585a2d",
   "metadata": {},
   "source": [
    "Python can be used to perfrom simple arithmetic functions, as we will cover here.\n",
    "\n",
    "However, you need to understand Python operators (don't worry, their easy!).\n",
    "\n",
    "Frequent operators include:\n",
    "    - Addition (+)\n",
    "    - Substraction (-)\n",
    "    - Multiplication (*)\n",
    "    - Divsion (/)\n",
    "    - Power (**)\n",
    "    \n",
    "See more here: https://www.w3schools.com/python/python_operators.asp"
   ]
  },
  {
   "cell_type": "markdown",
   "id": "6072d9db",
   "metadata": {},
   "source": [
    "#### General Operations"
   ]
  },
  {
   "cell_type": "markdown",
   "id": "159762f3",
   "metadata": {},
   "source": [
    "How would you add five plus five in Python?\n",
    "\n",
    "(Hint: We did this at the end of the last lecture)\n",
    "\n",
    "Have a go below:"
   ]
  },
  {
   "cell_type": "code",
   "execution_count": 1,
   "id": "09e75f3e",
   "metadata": {},
   "outputs": [
    {
     "data": {
      "text/plain": [
       "10"
      ]
     },
     "execution_count": 1,
     "metadata": {},
     "output_type": "execute_result"
    }
   ],
   "source": [
    "#\n",
    "#\n",
    "#\n",
    "#\n",
    "#\n",
    "#Enter your attempt below:\n",
    "5+5\n",
    "#\n",
    "#\n",
    "#\n",
    "#\n",
    "#\n",
    "#"
   ]
  },
  {
   "cell_type": "markdown",
   "id": "f39c7165",
   "metadata": {},
   "source": [
    "Now you've had a go at addition, next you should attempt to write out:\n",
    "\n",
    "three plus four minus two\n",
    "\n",
    "(Hint: Consider parentheses/brackets!)\n",
    "\n",
    "Have a go below:"
   ]
  },
  {
   "cell_type": "code",
   "execution_count": 2,
   "id": "d52fe8c6",
   "metadata": {},
   "outputs": [
    {
     "data": {
      "text/plain": [
       "5"
      ]
     },
     "execution_count": 2,
     "metadata": {},
     "output_type": "execute_result"
    }
   ],
   "source": [
    "#\n",
    "#\n",
    "#\n",
    "#\n",
    "#\n",
    "#Enter your attempt below:\n",
    "(3+4)-2\n",
    "#\n",
    "#\n",
    "#\n",
    "#\n",
    "#\n",
    "#"
   ]
  },
  {
   "cell_type": "markdown",
   "id": "37397823",
   "metadata": {},
   "source": [
    "So that gave you a chance to think about how you would add and substract.\n",
    "\n",
    "Next have an attempt at multiplication. \n",
    "\n",
    "How would you multiply five by five?:\n",
    "    \n",
    "Have a go below:"
   ]
  },
  {
   "cell_type": "code",
   "execution_count": 3,
   "id": "3e763a81",
   "metadata": {},
   "outputs": [
    {
     "data": {
      "text/plain": [
       "25"
      ]
     },
     "execution_count": 3,
     "metadata": {},
     "output_type": "execute_result"
    }
   ],
   "source": [
    "#\n",
    "#\n",
    "#\n",
    "#\n",
    "#\n",
    "#Enter your attempt below:\n",
    "5*5\n",
    "#\n",
    "#\n",
    "#\n",
    "#\n",
    "#\n",
    "#"
   ]
  },
  {
   "cell_type": "markdown",
   "id": "eba53354",
   "metadata": {},
   "source": [
    "Indeed, there are multiple ways you could write five multiplied by five. \n",
    "\n",
    "An exponentiation is the operation of raising one quantity to the power of another.\n",
    "\n",
    "Thus, you could also raise five to the power of 2! \n",
    "\n",
    "This is possible in Python by using a double asterik (**)\n",
    "\n",
    "Have a go below:"
   ]
  },
  {
   "cell_type": "code",
   "execution_count": 4,
   "id": "a63af0d3",
   "metadata": {},
   "outputs": [
    {
     "data": {
      "text/plain": [
       "25"
      ]
     },
     "execution_count": 4,
     "metadata": {},
     "output_type": "execute_result"
    }
   ],
   "source": [
    "#\n",
    "#\n",
    "#\n",
    "#\n",
    "#\n",
    "#Enter your attempt below:\n",
    "5**2\n",
    "#\n",
    "#\n",
    "#\n",
    "#\n",
    "#\n",
    "#"
   ]
  },
  {
   "cell_type": "code",
   "execution_count": null,
   "id": "1986a6c6",
   "metadata": {},
   "outputs": [],
   "source": [
    "In terms of normal division, how would you divide the number ten by two, now that you know the divisional operator?\n",
    "\n",
    "Have a go below:"
   ]
  },
  {
   "cell_type": "code",
   "execution_count": 5,
   "id": "d831bce0",
   "metadata": {},
   "outputs": [
    {
     "data": {
      "text/plain": [
       "5.0"
      ]
     },
     "execution_count": 5,
     "metadata": {},
     "output_type": "execute_result"
    }
   ],
   "source": [
    "#\n",
    "#\n",
    "#\n",
    "#\n",
    "#\n",
    "#Enter your attempt below:\n",
    "10/2\n",
    "#\n",
    "#\n",
    "#\n",
    "#\n",
    "#\n",
    "#"
   ]
  },
  {
   "cell_type": "code",
   "execution_count": null,
   "id": "e8bbcd74",
   "metadata": {},
   "outputs": [],
   "source": [
    "In addition to normal division, we also have floor division, which is represented by a double division sign (//).\n",
    "\n",
    "Floor division divides two numbers and rounds the result down to the nearest integer\n",
    "\n",
    "How would you divide ten by three using floor division? And what number do you think you would get?"
   ]
  },
  {
   "cell_type": "code",
   "execution_count": 6,
   "id": "d21915bf",
   "metadata": {},
   "outputs": [
    {
     "data": {
      "text/plain": [
       "3"
      ]
     },
     "execution_count": 6,
     "metadata": {},
     "output_type": "execute_result"
    }
   ],
   "source": [
    "#\n",
    "#\n",
    "#\n",
    "#\n",
    "#\n",
    "#Enter your attempt below:\n",
    "10//3\n",
    "#\n",
    "#\n",
    "#\n",
    "#\n",
    "#\n",
    "#"
   ]
  },
  {
   "cell_type": "markdown",
   "id": "89edbe2a",
   "metadata": {},
   "source": [
    "Alternatively, a modulo operation using **%** is a remainder operation, meaning after the division specified, the remaining quantity is returned. \n",
    "\n",
    "If we divide twelve by five, what answer do you think you will get?\n",
    "\n",
    "Have a go below:"
   ]
  },
  {
   "cell_type": "code",
   "execution_count": 19,
   "id": "8ee73200",
   "metadata": {},
   "outputs": [],
   "source": [
    "#\n",
    "#\n",
    "#\n",
    "#\n",
    "#\n",
    "#Enter your attempt below:\n",
    "\n",
    "#\n",
    "#\n",
    "#\n",
    "#\n",
    "#\n",
    "#"
   ]
  },
  {
   "cell_type": "markdown",
   "id": "96f8138d",
   "metadata": {},
   "source": [
    "A handy shortcut which is usful in both Python and Excel is writing out long numbers using scientific notation.\n",
    "\n",
    "For example, one million can be written out using the number one, followed by the letter 'e' to indicate this is scientific notation, and then the number of following zeros, which for one million would be six. "
   ]
  },
  {
   "cell_type": "code",
   "execution_count": 7,
   "id": "c54d2a7e",
   "metadata": {},
   "outputs": [
    {
     "data": {
      "text/plain": [
       "1000000.0"
      ]
     },
     "execution_count": 7,
     "metadata": {},
     "output_type": "execute_result"
    }
   ],
   "source": [
    "#\n",
    "#\n",
    "#\n",
    "#\n",
    "#\n",
    "#Enter your attempt below:\n",
    "1e6\n",
    "#\n",
    "#\n",
    "#\n",
    "#\n",
    "#\n",
    "#"
   ]
  },
  {
   "cell_type": "markdown",
   "id": "a842340a",
   "metadata": {},
   "source": [
    "<div class=\"alert alert-block alert-warning\">\n",
    "\n",
    "<b>!! Note !!</b> More complicated calculations can be done by combining these operations. Eg.\n",
    "\n",
    "</div>"
   ]
  },
  {
   "cell_type": "markdown",
   "id": "877abf5b",
   "metadata": {},
   "source": [
    "What number would you get if you summed six and twenty one, and the multiplied it by 2, and divided by three?\n",
    "\n",
    "Have a go below:"
   ]
  },
  {
   "cell_type": "code",
   "execution_count": 10,
   "id": "e2742812",
   "metadata": {},
   "outputs": [
    {
     "data": {
      "text/plain": [
       "18.0"
      ]
     },
     "execution_count": 10,
     "metadata": {},
     "output_type": "execute_result"
    }
   ],
   "source": [
    "#\n",
    "#\n",
    "#\n",
    "#\n",
    "#\n",
    "#Enter your attempt below:\n",
    "((6+21)*2)/3\n",
    "#\n",
    "#\n",
    "#\n",
    "#\n",
    "#\n",
    "#"
   ]
  },
  {
   "cell_type": "markdown",
   "id": "e7a15520",
   "metadata": {},
   "source": [
    "## 2. Types of Numbers"
   ]
  },
  {
   "cell_type": "markdown",
   "id": "d7c120d7",
   "metadata": {},
   "source": [
    "### a. Plain Integers "
   ]
  },
  {
   "cell_type": "markdown",
   "id": "96c076ef",
   "metadata": {},
   "source": [
    "Ints (as they are known) are integers of 32 binary digits extending from -2^31 (-2147483648) to 2^31 (2147483647).\n",
    "Python automatically treats a number as an integer if it is written without a decimal point and is within the bounds stated above. \n",
    "\n",
    "If the number is beyond the given bounds, it is known as a **long integer** and designaed as such by an L symbol. \n",
    "\n",
    "When operating on existing integers, which produce other whole numbers, the answer should also be an integer. "
   ]
  },
  {
   "cell_type": "code",
   "execution_count": 30,
   "id": "f1fb66b9",
   "metadata": {},
   "outputs": [
    {
     "data": {
      "text/plain": [
       "42"
      ]
     },
     "execution_count": 30,
     "metadata": {},
     "output_type": "execute_result"
    }
   ],
   "source": [
    "14*3"
   ]
  },
  {
   "cell_type": "code",
   "execution_count": 31,
   "id": "b7d2871e",
   "metadata": {},
   "outputs": [
    {
     "data": {
      "text/plain": [
       "-175"
      ]
     },
     "execution_count": 31,
     "metadata": {},
     "output_type": "execute_result"
    }
   ],
   "source": [
    "5+6*4-(34*6)"
   ]
  },
  {
   "cell_type": "code",
   "execution_count": null,
   "id": "14a98843",
   "metadata": {},
   "outputs": [],
   "source": [
    "We are also able to convert numbers to integers, so for example we can use the 'int()' function.\n",
    "\n",
    "Try to convert 2.000 into an integer using the int() function.\n",
    "\n",
    "Have a go below:"
   ]
  },
  {
   "cell_type": "code",
   "execution_count": 11,
   "id": "84324f0a",
   "metadata": {},
   "outputs": [
    {
     "data": {
      "text/plain": [
       "2"
      ]
     },
     "execution_count": 11,
     "metadata": {},
     "output_type": "execute_result"
    }
   ],
   "source": [
    "#\n",
    "#\n",
    "#\n",
    "#\n",
    "#\n",
    "#Enter your attempt below:\n",
    "int(2.000)\n",
    "#\n",
    "#\n",
    "#\n",
    "#\n",
    "#\n",
    "#"
   ]
  },
  {
   "cell_type": "markdown",
   "id": "5fdb752a",
   "metadata": {},
   "source": [
    "### b. Floating Points"
   ]
  },
  {
   "cell_type": "markdown",
   "id": "cb06c08b",
   "metadata": {},
   "source": [
    "Floats (as they are known) rational numbers and may have fractional part.\n",
    "\n",
    "They range between ±2 * 10^-308 to ±2 * 10^308.\n",
    "\n",
    "They are written in python by introducing a punctuation mark at the end of the integer to indicate a decimal.\n",
    "\n",
    "So, two point four written in full notation should produce a float.  \n",
    "\n",
    "Have a go below:"
   ]
  },
  {
   "cell_type": "code",
   "execution_count": 12,
   "id": "6ef12350",
   "metadata": {},
   "outputs": [
    {
     "data": {
      "text/plain": [
       "2.4"
      ]
     },
     "execution_count": 12,
     "metadata": {},
     "output_type": "execute_result"
    }
   ],
   "source": [
    "#\n",
    "#\n",
    "#\n",
    "#\n",
    "#\n",
    "#Enter your attempt below:\n",
    "2.4\n",
    "#\n",
    "#\n",
    "#\n",
    "#\n",
    "#\n",
    "#"
   ]
  },
  {
   "cell_type": "markdown",
   "id": "d5b41837",
   "metadata": {},
   "source": [
    "We can actually find out the type of a number using python's inbuilt function, **type**.\n",
    "\n",
    "As this is a function, e.g., type(), you need to place the number or variable you want to query in the function brackets/parentheses. \n",
    "\n",
    "Have a go below:"
   ]
  },
  {
   "cell_type": "code",
   "execution_count": 13,
   "id": "f148ffd9",
   "metadata": {},
   "outputs": [
    {
     "data": {
      "text/plain": [
       "float"
      ]
     },
     "execution_count": 13,
     "metadata": {},
     "output_type": "execute_result"
    }
   ],
   "source": [
    "#\n",
    "#\n",
    "#\n",
    "#\n",
    "#\n",
    "#Enter your attempt below:\n",
    "type(2.4)\n",
    "#\n",
    "#\n",
    "#\n",
    "#\n",
    "#\n",
    "#"
   ]
  },
  {
   "cell_type": "markdown",
   "id": "7f89c576",
   "metadata": {},
   "source": [
    "<div class=\"alert alert-block alert-info\">\n",
    "    \n",
    "<b>Note:</b> The result of any operation involving floating numbers as input is a floating number. \n",
    "\n",
    "</div>"
   ]
  },
  {
   "cell_type": "markdown",
   "id": "52b51518",
   "metadata": {},
   "source": [
    "### c. Complex Numbers"
   ]
  },
  {
   "cell_type": "markdown",
   "id": "c8334022",
   "metadata": {},
   "source": [
    "It is a sum of real and imaginary part. \n",
    "\n",
    "For example 3  2i is represented as 3-2j where j is the imaginary part."
   ]
  },
  {
   "cell_type": "code",
   "execution_count": 55,
   "id": "2747e649",
   "metadata": {},
   "outputs": [
    {
     "data": {
      "text/plain": [
       "(-18+16j)"
      ]
     },
     "execution_count": 55,
     "metadata": {},
     "output_type": "execute_result"
    }
   ],
   "source": [
    "(5+2j)*(-2+4j)"
   ]
  },
  {
   "cell_type": "markdown",
   "id": "1dc15dcc",
   "metadata": {},
   "source": [
    "## 3. Variables"
   ]
  },
  {
   "cell_type": "markdown",
   "id": "9e9c40e4",
   "metadata": {},
   "source": [
    "A variable is a name used to store data \n",
    "\n",
    "(Remember: The term 'data' is plural, whereas a datum is a single value). \n",
    "\n",
    "This could be any type of data, dataframe etc. but here we will consider numerical  values. \n",
    "\n",
    "You can allocate a number to a variable name by using the equals sign.\n",
    "\n",
    "How would you allocate the value twelve to the letter a?"
   ]
  },
  {
   "cell_type": "code",
   "execution_count": 14,
   "id": "1a1b1429",
   "metadata": {},
   "outputs": [
    {
     "data": {
      "text/plain": [
       "12"
      ]
     },
     "execution_count": 14,
     "metadata": {},
     "output_type": "execute_result"
    }
   ],
   "source": [
    "#\n",
    "#\n",
    "#\n",
    "#\n",
    "#\n",
    "#Enter your attempt below:\n",
    "a=12\n",
    "a\n",
    "#\n",
    "#\n",
    "#\n",
    "#\n",
    "#\n",
    "#"
   ]
  },
  {
   "cell_type": "markdown",
   "id": "a0e2b2f5",
   "metadata": {},
   "source": [
    "You can also allocate multiple values to multiple variables at once. \n",
    "\n",
    "So for example, you can use a comma to separate the variable names and the values. "
   ]
  },
  {
   "cell_type": "code",
   "execution_count": 62,
   "id": "8a35a5da",
   "metadata": {},
   "outputs": [],
   "source": [
    "b, c = 67.2, 3.14"
   ]
  },
  {
   "cell_type": "markdown",
   "id": "d11f345e",
   "metadata": {},
   "source": [
    "So remember, the equals sign (\"=\") is the **assignment operator**. In the first example, we assign *12* to the variable *a*. In the second case, we assign a value of 67.2 to *b* and a value of 3.14 to *c*.\n",
    "\n",
    "More specifically, the variable name (such as *a*) is associated with a memory location in your computer (that's what's happening under the hood!). "
   ]
  },
  {
   "cell_type": "markdown",
   "id": "ef1ecc81",
   "metadata": {},
   "source": [
    "<div class=\"alert alert-block alert-info\">\n",
    "    \n",
    "<b>Note:</b> Python stores the *numerical value* and not the expression used to generate it. Therefore, in the first cell, 12 is stored and not *a*. In fact, they are stored as binary numbers (0s and 1s) \n",
    "\n",
    "</div>"
   ]
  },
  {
   "cell_type": "markdown",
   "id": "3b309c3a",
   "metadata": {},
   "source": [
    "The following examples demonstrate the concept."
   ]
  },
  {
   "cell_type": "code",
   "execution_count": 15,
   "id": "8e28ab8c",
   "metadata": {},
   "outputs": [],
   "source": [
    "a = 23"
   ]
  },
  {
   "cell_type": "code",
   "execution_count": 16,
   "id": "d9dfc0fd",
   "metadata": {},
   "outputs": [],
   "source": [
    "b = a"
   ]
  },
  {
   "cell_type": "code",
   "execution_count": 17,
   "id": "9d1b5700",
   "metadata": {},
   "outputs": [
    {
     "data": {
      "text/plain": [
       "23"
      ]
     },
     "execution_count": 17,
     "metadata": {},
     "output_type": "execute_result"
    }
   ],
   "source": [
    "a"
   ]
  },
  {
   "cell_type": "code",
   "execution_count": 18,
   "id": "98f80fd7",
   "metadata": {},
   "outputs": [
    {
     "data": {
      "text/plain": [
       "23"
      ]
     },
     "execution_count": 18,
     "metadata": {},
     "output_type": "execute_result"
    }
   ],
   "source": [
    "b"
   ]
  },
  {
   "cell_type": "code",
   "execution_count": 19,
   "id": "27d028c4",
   "metadata": {},
   "outputs": [],
   "source": [
    "a = 13"
   ]
  },
  {
   "cell_type": "code",
   "execution_count": 20,
   "id": "0469b715",
   "metadata": {},
   "outputs": [
    {
     "data": {
      "text/plain": [
       "13"
      ]
     },
     "execution_count": 20,
     "metadata": {},
     "output_type": "execute_result"
    }
   ],
   "source": [
    "a"
   ]
  },
  {
   "cell_type": "code",
   "execution_count": 21,
   "id": "84210eee",
   "metadata": {},
   "outputs": [
    {
     "data": {
      "text/plain": [
       "23"
      ]
     },
     "execution_count": 21,
     "metadata": {},
     "output_type": "execute_result"
    }
   ],
   "source": [
    "b"
   ]
  },
  {
   "cell_type": "markdown",
   "id": "3ee02850",
   "metadata": {},
   "source": [
    "<div class=\"alert alert-block alert-info\">\n",
    "    \n",
    "<b>Note:</b> The assignment variable works from right to left; i.e it assigns the value of the number on the right to the variable name on the left. \n",
    "Therefore, the statement \"6 = a\" does not make sense. \n",
    "\n",
    "The assignment operator is not equivalent to the equals sign in algebra. \n",
    "</div>"
   ]
  },
  {
   "cell_type": "markdown",
   "id": "6ac4e114",
   "metadata": {},
   "source": [
    "The assigment operator can be used to increment, decrease or generally change the value of a variable."
   ]
  },
  {
   "cell_type": "code",
   "execution_count": 22,
   "id": "198f5e5a",
   "metadata": {},
   "outputs": [],
   "source": [
    "a = 3"
   ]
  },
  {
   "cell_type": "code",
   "execution_count": 25,
   "id": "1db9b4b0",
   "metadata": {},
   "outputs": [],
   "source": [
    "a = a + 1"
   ]
  },
  {
   "cell_type": "code",
   "execution_count": 26,
   "id": "0bff27b5",
   "metadata": {},
   "outputs": [
    {
     "data": {
      "text/plain": [
       "5"
      ]
     },
     "execution_count": 26,
     "metadata": {},
     "output_type": "execute_result"
    }
   ],
   "source": [
    "a"
   ]
  },
  {
   "cell_type": "markdown",
   "id": "d3289f60",
   "metadata": {},
   "source": [
    "In algebra, a = a + 1 does not make sense but in python, it implies that we \"add 1\" to the current value of *a* and assign the results to *a*. \n",
    "\n",
    "This is a common operation in most programming languages using operations such as +=, -=, /= and *=. \n",
    "\n",
    "Remember, you can see more here: https://www.w3schools.com/python/python_operators.asp"
   ]
  },
  {
   "cell_type": "code",
   "execution_count": 77,
   "id": "77986412",
   "metadata": {},
   "outputs": [],
   "source": [
    "e, f = 5, 9.8"
   ]
  },
  {
   "cell_type": "code",
   "execution_count": 78,
   "id": "2176f29a",
   "metadata": {},
   "outputs": [],
   "source": [
    "e += 2"
   ]
  },
  {
   "cell_type": "code",
   "execution_count": 79,
   "id": "5a008d6a",
   "metadata": {},
   "outputs": [
    {
     "data": {
      "text/plain": [
       "7"
      ]
     },
     "execution_count": 79,
     "metadata": {},
     "output_type": "execute_result"
    }
   ],
   "source": [
    "e"
   ]
  },
  {
   "cell_type": "code",
   "execution_count": 80,
   "id": "c57a7ae0",
   "metadata": {},
   "outputs": [],
   "source": [
    "e *= 3"
   ]
  },
  {
   "cell_type": "code",
   "execution_count": 81,
   "id": "a00caf99",
   "metadata": {},
   "outputs": [
    {
     "data": {
      "text/plain": [
       "21"
      ]
     },
     "execution_count": 81,
     "metadata": {},
     "output_type": "execute_result"
    }
   ],
   "source": [
    "e"
   ]
  },
  {
   "cell_type": "code",
   "execution_count": 82,
   "id": "96b6f3d0",
   "metadata": {},
   "outputs": [],
   "source": [
    "f /= -2"
   ]
  },
  {
   "cell_type": "code",
   "execution_count": 83,
   "id": "80f828c4",
   "metadata": {},
   "outputs": [
    {
     "data": {
      "text/plain": [
       "-4.9"
      ]
     },
     "execution_count": 83,
     "metadata": {},
     "output_type": "execute_result"
    }
   ],
   "source": [
    "f"
   ]
  },
  {
   "cell_type": "code",
   "execution_count": 84,
   "id": "2c4b1376",
   "metadata": {},
   "outputs": [],
   "source": [
    "f -= 4"
   ]
  },
  {
   "cell_type": "code",
   "execution_count": 85,
   "id": "5a3a9a8c",
   "metadata": {},
   "outputs": [
    {
     "data": {
      "text/plain": [
       "-8.9"
      ]
     },
     "execution_count": 85,
     "metadata": {},
     "output_type": "execute_result"
    }
   ],
   "source": [
    "f"
   ]
  },
  {
   "cell_type": "markdown",
   "id": "52615b0f",
   "metadata": {},
   "source": [
    "#### Legal and recommended variable names"
   ]
  },
  {
   "cell_type": "markdown",
   "id": "140683fd",
   "metadata": {},
   "source": [
    "1. Variable names must start with a letter and can be followed by as many alphanumeric characters.\n",
    "2. Spaces are not allowed, instead underscore character \"_\" is used.\n",
    "3. It is advisable to write variable names in small case since python is case sensitive.\n",
    "4. It is recommended that variable names should be descriptive as in following examples. "
   ]
  },
  {
   "cell_type": "code",
   "execution_count": 297,
   "id": "fa375b98",
   "metadata": {},
   "outputs": [],
   "source": [
    "speed_of_light = 3.0*10**8 #variable to store speed of light\n",
    "frequency_of_GPS_satellite = 1575.42*10**6 #variable to store frequency\n",
    "wavelength = speed_of_light/frequency_of_GPS_satellite #calculate the wavelength from above variables\n"
   ]
  },
  {
   "cell_type": "code",
   "execution_count": 298,
   "id": "66899db2",
   "metadata": {},
   "outputs": [
    {
     "data": {
      "text/plain": [
       "0.19042541036675933"
      ]
     },
     "execution_count": 298,
     "metadata": {},
     "output_type": "execute_result"
    }
   ],
   "source": [
    "wavelength"
   ]
  },
  {
   "cell_type": "markdown",
   "id": "5e319fc6",
   "metadata": {},
   "source": [
    "Remember: Anything written to the right of the pound sign ('#') in an active Python cell is commented out\n",
    "\n",
    "And thus not run by the console! \n",
    "\n",
    "Adding comments to code is really important as it helps you remember why you did certain things. "
   ]
  },
  {
   "cell_type": "markdown",
   "id": "137bd4fe",
   "metadata": {},
   "source": [
    "#### Reserved words "
   ]
  },
  {
   "cell_type": "markdown",
   "id": "5d43e048",
   "metadata": {},
   "source": [
    "Some words and names are reserved by Python for special functions and purposes and must be avoided.\n",
    "\n",
    "In python, such words when used, automatically changes color to green, purple or any other color depending on the editor one is using. \n",
    "\n",
    "Examples of such words are;"
   ]
  },
  {
   "cell_type": "markdown",
   "id": "f5dfddc0",
   "metadata": {},
   "source": [
    "*and, as, assert, break, class, continue, def, del, elif, else, except,exec, finally, for, from, global, if, import, in, is, lambda, not, or, pass, print, raise, return, try, while, with, yield*"
   ]
  },
  {
   "cell_type": "markdown",
   "id": "b892b956",
   "metadata": {},
   "source": [
    "## 4. Python Modules"
   ]
  },
  {
   "cell_type": "markdown",
   "id": "2147d0f9",
   "metadata": {},
   "source": [
    "The Python consists of a “core” language and a collection of supplementary software that is contained in **modules** known as **libraries**. Many of these libraries come with the standard Python distribution such as anaconda and provide added functionality for performing computer system tasks.\n",
    "Libraries are for specific functions. Examples include Numpy (for scientific computing), maths (for arithmetic functions), matplotlib (for plotting) etc.\n",
    "\n",
    "Libraries have several functions that one can use just like borrowing a specific book from library. \n",
    "\n",
    "To use a library, it must be loaded into the python environment. There are several ways to do that. However, in this class we recommend using the **import** statement.\n",
    "\n",
    "For instance using square root (sqrt) function of numpy library to calculate the square root of 25 can be performed as follows;"
   ]
  },
  {
   "cell_type": "code",
   "execution_count": 27,
   "id": "2718e977",
   "metadata": {},
   "outputs": [
    {
     "data": {
      "text/plain": [
       "5.0"
      ]
     },
     "execution_count": 27,
     "metadata": {},
     "output_type": "execute_result"
    }
   ],
   "source": [
    "import numpy\n",
    "numpy.sqrt(25)"
   ]
  },
  {
   "cell_type": "code",
   "execution_count": 30,
   "id": "d5a477d9",
   "metadata": {},
   "outputs": [
    {
     "data": {
      "text/plain": [
       "5.0"
      ]
     },
     "execution_count": 30,
     "metadata": {},
     "output_type": "execute_result"
    }
   ],
   "source": [
    "from math import sqrt\n",
    "sqrt(25)"
   ]
  },
  {
   "cell_type": "markdown",
   "id": "b70af16f",
   "metadata": {},
   "source": [
    "However, writing the library everytime in full for long codes or multiple times may be monotonous.\n",
    "\n",
    "Consequently, the library can be shortened so as to avoid the monotony using any short-hand form by the user. However, there are generally accepted short-hand forms for python programming such np for numpy, plt for matplotlib etc. \n",
    "\n",
    "Examples is shown in the subsequent cell"
   ]
  },
  {
   "cell_type": "code",
   "execution_count": 300,
   "id": "23848831",
   "metadata": {},
   "outputs": [
    {
     "data": {
      "text/plain": [
       "5.0"
      ]
     },
     "execution_count": 300,
     "metadata": {},
     "output_type": "execute_result"
    }
   ],
   "source": [
    "import numpy as np\n",
    "np.sqrt(25)"
   ]
  },
  {
   "cell_type": "markdown",
   "id": "09160c2a",
   "metadata": {},
   "source": [
    "Single or a subset of functions can also be imported from a module without importing the entire module. \n",
    "\n",
    "For instance, if you want to import just the *sin* function from numpy, you can write. "
   ]
  },
  {
   "cell_type": "code",
   "execution_count": 301,
   "id": "aa39b253",
   "metadata": {},
   "outputs": [
    {
     "data": {
      "text/plain": [
       "-0.9880316240928618"
      ]
     },
     "execution_count": 301,
     "metadata": {},
     "output_type": "execute_result"
    }
   ],
   "source": [
    "from numpy import sin\n",
    "sin(30)"
   ]
  },
  {
   "cell_type": "markdown",
   "id": "4594c531",
   "metadata": {},
   "source": [
    "You can also import multiple functions as shown below;"
   ]
  },
  {
   "cell_type": "code",
   "execution_count": 302,
   "id": "bfc0d8fd",
   "metadata": {},
   "outputs": [
    {
     "data": {
      "text/plain": [
       "-1.995200412208242"
      ]
     },
     "execution_count": 302,
     "metadata": {},
     "output_type": "execute_result"
    }
   ],
   "source": [
    "from numpy import sin, cos, tan\n",
    "tan(90)"
   ]
  },
  {
   "cell_type": "markdown",
   "id": "70e0e7df",
   "metadata": {},
   "source": [
    "## 5. Strings, Lists, Tuples, Arrays and Dictionaries."
   ]
  },
  {
   "cell_type": "markdown",
   "id": "7704fbc8",
   "metadata": {},
   "source": [
    "### a. Strings"
   ]
  },
  {
   "cell_type": "markdown",
   "id": "a3d617c7",
   "metadata": {},
   "source": [
    "Are lists of keyboard characters, symbols and other characters that may not be on your keyboard.\n",
    "\n",
    "Although they are not much interesting for scientific computing, they are useful in text manipulation, file modification, labelling of plots,requesting input from user, arguments in functions etc.\n",
    "\n",
    "They are created by enclosing a sequence of characters using pair of single of double quotes. It does not matter whether single or double but it should be consistent. \n",
    "\n",
    "Strings can be assigned variable names."
   ]
  },
  {
   "cell_type": "code",
   "execution_count": 35,
   "id": "5a8f7dc5",
   "metadata": {},
   "outputs": [
    {
     "data": {
      "text/plain": [
       "'55'"
      ]
     },
     "execution_count": 35,
     "metadata": {},
     "output_type": "execute_result"
    }
   ],
   "source": [
    "c = \"5\"\n",
    "b = c * 2\n",
    "b"
   ]
  },
  {
   "cell_type": "markdown",
   "id": "3571bfb2",
   "metadata": {},
   "source": [
    "Strings can be concatenated using the \"+\" operator:"
   ]
  },
  {
   "cell_type": "code",
   "execution_count": 39,
   "id": "adc6fba0",
   "metadata": {},
   "outputs": [],
   "source": [
    "# a = 'this is ggs416'\n",
    "# b = 'which is on Monday at 3pm'\n",
    "# c = a  + b\n",
    "# c\n",
    "\n",
    "\n",
    "\n"
   ]
  },
  {
   "cell_type": "markdown",
   "id": "1a88578e",
   "metadata": {},
   "source": [
    "In the above example, three strings a, b and *string literal* in this case a space \" \" is used as a separator between a and b."
   ]
  },
  {
   "cell_type": "markdown",
   "id": "3dc9b463",
   "metadata": {},
   "source": [
    "Strings can also be made of numbers."
   ]
  },
  {
   "cell_type": "code",
   "execution_count": 305,
   "id": "da29bc0f",
   "metadata": {},
   "outputs": [],
   "source": [
    "d = '345'\n",
    "e = 345"
   ]
  },
  {
   "cell_type": "markdown",
   "id": "45e3d2fd",
   "metadata": {},
   "source": [
    "The variable d is a string while e is an integer.\n",
    "Can you try adding them? What do you think will happen?"
   ]
  },
  {
   "cell_type": "markdown",
   "id": "fba51dfd",
   "metadata": {},
   "source": [
    "### b. Lists"
   ]
  },
  {
   "cell_type": "markdown",
   "id": "194df2fa",
   "metadata": {},
   "source": [
    "Consists of one or more elements and can be any data type such as numbers, strings, floats, boolean or both. \n",
    "\n",
    "Lists are defined by a pair of square brackets with individual elements separated by commas."
   ]
  },
  {
   "cell_type": "code",
   "execution_count": 41,
   "id": "5aa8d32e",
   "metadata": {},
   "outputs": [],
   "source": [
    "a = [2017,2018,2019,2020,2021]\n",
    "b = [2.0,\"GMU\",3+0j,\"GGS\",2021]"
   ]
  },
  {
   "cell_type": "markdown",
   "id": "54eb58f7",
   "metadata": {},
   "source": [
    "Individual elements within a list can be accessed using a variable name with square brackets as follows;"
   ]
  },
  {
   "cell_type": "code",
   "execution_count": 49,
   "id": "faf78f93",
   "metadata": {},
   "outputs": [
    {
     "data": {
      "text/plain": [
       "[2021, 'GGS', (3+0j), 'GMU', 2.0]"
      ]
     },
     "execution_count": 49,
     "metadata": {},
     "output_type": "execute_result"
    }
   ],
   "source": [
    "b[::-1]"
   ]
  },
  {
   "cell_type": "code",
   "execution_count": 44,
   "id": "fa829f72",
   "metadata": {},
   "outputs": [
    {
     "data": {
      "text/plain": [
       "'GMU'"
      ]
     },
     "execution_count": 44,
     "metadata": {},
     "output_type": "execute_result"
    }
   ],
   "source": [
    "b[1]"
   ]
  },
  {
   "cell_type": "code",
   "execution_count": 45,
   "id": "6efc21b1",
   "metadata": {},
   "outputs": [
    {
     "data": {
      "text/plain": [
       "(3+0j)"
      ]
     },
     "execution_count": 45,
     "metadata": {},
     "output_type": "execute_result"
    }
   ],
   "source": [
    "b[2]"
   ]
  },
  {
   "cell_type": "markdown",
   "id": "1a46dbc7",
   "metadata": {},
   "source": [
    "Most programming languages such as python and C index lists staring from 0 \n",
    "\n",
    "The last element in list b is b[4] because the list has 5 elements and it can be accessed as b[-1] also.\n",
    "\n",
    "The lists can be accessed in reverse but starting with -1"
   ]
  },
  {
   "cell_type": "code",
   "execution_count": 310,
   "id": "9a65785b",
   "metadata": {},
   "outputs": [
    {
     "data": {
      "text/plain": [
       "2021"
      ]
     },
     "execution_count": 310,
     "metadata": {},
     "output_type": "execute_result"
    }
   ],
   "source": [
    "b[4]"
   ]
  },
  {
   "cell_type": "code",
   "execution_count": 311,
   "id": "5b0de282",
   "metadata": {},
   "outputs": [
    {
     "data": {
      "text/plain": [
       "2021"
      ]
     },
     "execution_count": 311,
     "metadata": {},
     "output_type": "execute_result"
    }
   ],
   "source": [
    "b[-1]"
   ]
  },
  {
   "cell_type": "markdown",
   "id": "a9559be2",
   "metadata": {},
   "source": [
    "The individual elements within the list can be changed."
   ]
  },
  {
   "cell_type": "code",
   "execution_count": 312,
   "id": "f3ffd038",
   "metadata": {},
   "outputs": [
    {
     "data": {
      "text/plain": [
       "[2.0, 'GMU', (3+0j), 'GGS', 2021]"
      ]
     },
     "execution_count": 312,
     "metadata": {},
     "output_type": "execute_result"
    }
   ],
   "source": [
    "b"
   ]
  },
  {
   "cell_type": "code",
   "execution_count": 313,
   "id": "b908cf6e",
   "metadata": {},
   "outputs": [],
   "source": [
    "b[0] = b[0]+1"
   ]
  },
  {
   "cell_type": "code",
   "execution_count": 314,
   "id": "4ccc0b65",
   "metadata": {},
   "outputs": [],
   "source": [
    "b[2] = 'Spring Semester'"
   ]
  },
  {
   "cell_type": "code",
   "execution_count": 315,
   "id": "ebb55638",
   "metadata": {},
   "outputs": [
    {
     "data": {
      "text/plain": [
       "[3.0, 'GMU', 'Spring Semester', 'GGS', 2021]"
      ]
     },
     "execution_count": 315,
     "metadata": {},
     "output_type": "execute_result"
    }
   ],
   "source": [
    "b"
   ]
  },
  {
   "cell_type": "markdown",
   "id": "2ffa11a4",
   "metadata": {},
   "source": [
    "In the above example, 1 has been added to the previous value of b[0] and the complex number 3+0j was replaced with string \"Spring Semester\".\n",
    "\n",
    "Individual elements within a list can also be manipulated."
   ]
  },
  {
   "cell_type": "code",
   "execution_count": 316,
   "id": "d81cd218",
   "metadata": {},
   "outputs": [],
   "source": [
    "b[3] = b[3] + \" Department\""
   ]
  },
  {
   "cell_type": "code",
   "execution_count": 317,
   "id": "0661ca01",
   "metadata": {},
   "outputs": [
    {
     "data": {
      "text/plain": [
       "[3.0, 'GMU', 'Spring Semester', 'GGS Department', 2021]"
      ]
     },
     "execution_count": 317,
     "metadata": {},
     "output_type": "execute_result"
    }
   ],
   "source": [
    "b"
   ]
  },
  {
   "cell_type": "markdown",
   "id": "bc253ad8",
   "metadata": {},
   "source": [
    "Lists can also be added but the results are surprising"
   ]
  },
  {
   "cell_type": "code",
   "execution_count": 318,
   "id": "1e5fe4e9",
   "metadata": {},
   "outputs": [
    {
     "data": {
      "text/plain": [
       "[2017, 2018, 2019, 2020, 2021]"
      ]
     },
     "execution_count": 318,
     "metadata": {},
     "output_type": "execute_result"
    }
   ],
   "source": [
    "a "
   ]
  },
  {
   "cell_type": "code",
   "execution_count": 319,
   "id": "19909c9b",
   "metadata": {},
   "outputs": [
    {
     "data": {
      "text/plain": [
       "[2017, 2018, 2019, 2020, 2021, 2017, 2018, 2019, 2020, 2021]"
      ]
     },
     "execution_count": 319,
     "metadata": {},
     "output_type": "execute_result"
    }
   ],
   "source": [
    "a+a"
   ]
  },
  {
   "cell_type": "code",
   "execution_count": 320,
   "id": "61b0e915",
   "metadata": {},
   "outputs": [
    {
     "data": {
      "text/plain": [
       "[2017,\n",
       " 2018,\n",
       " 2019,\n",
       " 2020,\n",
       " 2021,\n",
       " 3.0,\n",
       " 'GMU',\n",
       " 'Spring Semester',\n",
       " 'GGS Department',\n",
       " 2021]"
      ]
     },
     "execution_count": 320,
     "metadata": {},
     "output_type": "execute_result"
    }
   ],
   "source": [
    "a+b"
   ]
  },
  {
   "cell_type": "markdown",
   "id": "8899f6bd",
   "metadata": {},
   "source": [
    "Unlike the usual arithmetic, adding strings concatenates them just as the \"+\" operater concatenates strings"
   ]
  },
  {
   "cell_type": "markdown",
   "id": "183d4b0a",
   "metadata": {},
   "source": [
    "##### Slicing Strings "
   ]
  },
  {
   "cell_type": "markdown",
   "id": "f371a1e9",
   "metadata": {},
   "source": [
    "Sections/pieces of lists can be accessed using the *slicing* feature. "
   ]
  },
  {
   "cell_type": "code",
   "execution_count": 321,
   "id": "c7906d10",
   "metadata": {},
   "outputs": [
    {
     "data": {
      "text/plain": [
       "[3.0, 'GMU', 'Spring Semester', 'GGS Department', 2021]"
      ]
     },
     "execution_count": 321,
     "metadata": {},
     "output_type": "execute_result"
    }
   ],
   "source": [
    "b"
   ]
  },
  {
   "cell_type": "code",
   "execution_count": 322,
   "id": "d25f5de4",
   "metadata": {},
   "outputs": [
    {
     "data": {
      "text/plain": [
       "['GMU', 'Spring Semester']"
      ]
     },
     "execution_count": 322,
     "metadata": {},
     "output_type": "execute_result"
    }
   ],
   "source": [
    "b[1:3]"
   ]
  },
  {
   "cell_type": "markdown",
   "id": "61b27f3d",
   "metadata": {},
   "source": [
    "A subset of lists can be accessed by specifying two indices and separated by colon \":\""
   ]
  },
  {
   "cell_type": "code",
   "execution_count": 323,
   "id": "e28eefe2",
   "metadata": {},
   "outputs": [
    {
     "data": {
      "text/plain": [
       "['GGS Department', 2021]"
      ]
     },
     "execution_count": 323,
     "metadata": {},
     "output_type": "execute_result"
    }
   ],
   "source": [
    "b[3:]"
   ]
  },
  {
   "cell_type": "code",
   "execution_count": 324,
   "id": "25f4dce7",
   "metadata": {},
   "outputs": [
    {
     "data": {
      "text/plain": [
       "[3.0, 'GMU', 'Spring Semester']"
      ]
     },
     "execution_count": 324,
     "metadata": {},
     "output_type": "execute_result"
    }
   ],
   "source": [
    "b[:3]"
   ]
  },
  {
   "cell_type": "code",
   "execution_count": 325,
   "id": "348e33b9",
   "metadata": {},
   "outputs": [
    {
     "data": {
      "text/plain": [
       "[3.0, 'GMU', 'Spring Semester', 'GGS Department', 2021]"
      ]
     },
     "execution_count": 325,
     "metadata": {},
     "output_type": "execute_result"
    }
   ],
   "source": [
    "b[:]"
   ]
  },
  {
   "cell_type": "markdown",
   "id": "fe73011f",
   "metadata": {},
   "source": [
    "A length of a list can be accessed using the *len* function."
   ]
  },
  {
   "cell_type": "code",
   "execution_count": 326,
   "id": "7a1489fb",
   "metadata": {},
   "outputs": [
    {
     "data": {
      "text/plain": [
       "5"
      ]
     },
     "execution_count": 326,
     "metadata": {},
     "output_type": "execute_result"
    }
   ],
   "source": [
    "len(b)"
   ]
  },
  {
   "cell_type": "markdown",
   "id": "49602d64",
   "metadata": {},
   "source": [
    "##### Creating and modifying lists "
   ]
  },
  {
   "cell_type": "markdown",
   "id": "d6f6a856",
   "metadata": {},
   "source": [
    "Python has inbuilt functions for creating lists. The most useful of them is *range*.\n",
    "\n",
    "It takes the general form of *range([start,] stop[, step])* where the arguments are all integers and arguments inside the square brackets are optional."
   ]
  },
  {
   "cell_type": "code",
   "execution_count": 327,
   "id": "096564f2",
   "metadata": {},
   "outputs": [
    {
     "data": {
      "text/plain": [
       "range(0, 20)"
      ]
     },
     "execution_count": 327,
     "metadata": {},
     "output_type": "execute_result"
    }
   ],
   "source": [
    "range(20) # makes a list of 20 intergers from 0 to 19"
   ]
  },
  {
   "cell_type": "code",
   "execution_count": 328,
   "id": "9e84b471",
   "metadata": {},
   "outputs": [
    {
     "data": {
      "text/plain": [
       "range(5, 20)"
      ]
     },
     "execution_count": 328,
     "metadata": {},
     "output_type": "execute_result"
    }
   ],
   "source": [
    "range(5,20) # makes a list of 20 integers from 5 to 19"
   ]
  },
  {
   "cell_type": "code",
   "execution_count": 329,
   "id": "f812f31f",
   "metadata": {},
   "outputs": [
    {
     "data": {
      "text/plain": [
       "range(0, 20, 2)"
      ]
     },
     "execution_count": 329,
     "metadata": {},
     "output_type": "execute_result"
    }
   ],
   "source": [
    "range(0,20,2) # makes a list of 20 integers from 0 to 19 with increment of 2"
   ]
  },
  {
   "cell_type": "markdown",
   "id": "0fce9ba0",
   "metadata": {},
   "source": [
    "An element can be added at the end of a given list using the **append** function. "
   ]
  },
  {
   "cell_type": "code",
   "execution_count": 330,
   "id": "7d60e764",
   "metadata": {},
   "outputs": [],
   "source": [
    "states = ['New York', 'Virginia','Washington DC', 'Delaware','Maryland']"
   ]
  },
  {
   "cell_type": "code",
   "execution_count": 331,
   "id": "b2acf272",
   "metadata": {},
   "outputs": [
    {
     "data": {
      "text/plain": [
       "['New York', 'Virginia', 'Washington DC', 'Delaware', 'Maryland']"
      ]
     },
     "execution_count": 331,
     "metadata": {},
     "output_type": "execute_result"
    }
   ],
   "source": [
    "states"
   ]
  },
  {
   "cell_type": "code",
   "execution_count": 332,
   "id": "416caf21",
   "metadata": {},
   "outputs": [],
   "source": [
    "states.append('North Carolina')\n",
    "states.append('Las Vegas')"
   ]
  },
  {
   "cell_type": "code",
   "execution_count": 333,
   "id": "e5b75a2f",
   "metadata": {},
   "outputs": [
    {
     "data": {
      "text/plain": [
       "['New York',\n",
       " 'Virginia',\n",
       " 'Washington DC',\n",
       " 'Delaware',\n",
       " 'Maryland',\n",
       " 'North Carolina',\n",
       " 'Las Vegas']"
      ]
     },
     "execution_count": 333,
     "metadata": {},
     "output_type": "execute_result"
    }
   ],
   "source": [
    "states"
   ]
  },
  {
   "cell_type": "markdown",
   "id": "ac52dba9",
   "metadata": {},
   "source": [
    "<div class=\"alert alert-block alert-info\">\n",
    "    \n",
    "<b>Note:</b> *append* works by adding the element after the last one in the existing list. \n",
    "</div>"
   ]
  },
  {
   "cell_type": "markdown",
   "id": "b63acd45",
   "metadata": {},
   "source": [
    "Sometimes it might be necessary to add an element at specific position in a list. This can be done using **insert** function. The position is specified followed by the element. Example;"
   ]
  },
  {
   "cell_type": "code",
   "execution_count": 334,
   "id": "c1a90c7d",
   "metadata": {},
   "outputs": [],
   "source": [
    "states.insert(3,'West Virginia')"
   ]
  },
  {
   "cell_type": "code",
   "execution_count": 335,
   "id": "f2f860a4",
   "metadata": {},
   "outputs": [
    {
     "data": {
      "text/plain": [
       "['New York',\n",
       " 'Virginia',\n",
       " 'Washington DC',\n",
       " 'West Virginia',\n",
       " 'Delaware',\n",
       " 'Maryland',\n",
       " 'North Carolina',\n",
       " 'Las Vegas']"
      ]
     },
     "execution_count": 335,
     "metadata": {},
     "output_type": "execute_result"
    }
   ],
   "source": [
    "states"
   ]
  },
  {
   "cell_type": "markdown",
   "id": "e2ada697",
   "metadata": {},
   "source": [
    "An element of a list can be removed using the **remove** function. This is done by specifying the element."
   ]
  },
  {
   "cell_type": "code",
   "execution_count": 336,
   "id": "ad22b1a1",
   "metadata": {},
   "outputs": [],
   "source": [
    "states.remove('Washington DC')"
   ]
  },
  {
   "cell_type": "code",
   "execution_count": 337,
   "id": "6b08d05a",
   "metadata": {},
   "outputs": [
    {
     "data": {
      "text/plain": [
       "['New York',\n",
       " 'Virginia',\n",
       " 'West Virginia',\n",
       " 'Delaware',\n",
       " 'Maryland',\n",
       " 'North Carolina',\n",
       " 'Las Vegas']"
      ]
     },
     "execution_count": 337,
     "metadata": {},
     "output_type": "execute_result"
    }
   ],
   "source": [
    "states"
   ]
  },
  {
   "cell_type": "markdown",
   "id": "3a67cf11",
   "metadata": {},
   "source": [
    "Python **del** function can also be used in place of remove. The advantage is that it only accepts the index of the element and not necessary the element which might always return an error due to spelling or case sensitivity. Example, to remove Las Vegas from the list;"
   ]
  },
  {
   "cell_type": "code",
   "execution_count": 338,
   "id": "65a75cbf",
   "metadata": {},
   "outputs": [],
   "source": [
    "del states[6]"
   ]
  },
  {
   "cell_type": "code",
   "execution_count": 339,
   "id": "e94a7668",
   "metadata": {},
   "outputs": [
    {
     "data": {
      "text/plain": [
       "['New York',\n",
       " 'Virginia',\n",
       " 'West Virginia',\n",
       " 'Delaware',\n",
       " 'Maryland',\n",
       " 'North Carolina']"
      ]
     },
     "execution_count": 339,
     "metadata": {},
     "output_type": "execute_result"
    }
   ],
   "source": [
    "states"
   ]
  },
  {
   "cell_type": "markdown",
   "id": "30779a9d",
   "metadata": {},
   "source": [
    "### c. Tuples"
   ]
  },
  {
   "cell_type": "markdown",
   "id": "bc00b1a9",
   "metadata": {},
   "source": [
    "Are lists that are immutable (their individual elements cannot be changed).\n",
    "\n",
    "Are written as a sequence of numbers enclosed in round parentheses. The individual elements can be accessed in similar mannaer as lists."
   ]
  },
  {
   "cell_type": "code",
   "execution_count": 50,
   "id": "fd0f2566",
   "metadata": {},
   "outputs": [],
   "source": [
    "c = (10,20,30,40,50,60)"
   ]
  },
  {
   "cell_type": "code",
   "execution_count": 51,
   "id": "a1a94760",
   "metadata": {},
   "outputs": [
    {
     "data": {
      "text/plain": [
       "40"
      ]
     },
     "execution_count": 51,
     "metadata": {},
     "output_type": "execute_result"
    }
   ],
   "source": [
    "c[3]"
   ]
  },
  {
   "cell_type": "markdown",
   "id": "f2cec5d3",
   "metadata": {},
   "source": [
    "Let's try changing an element of a tuple. "
   ]
  },
  {
   "cell_type": "code",
   "execution_count": 52,
   "id": "f9f60562",
   "metadata": {},
   "outputs": [
    {
     "ename": "TypeError",
     "evalue": "'tuple' object does not support item assignment",
     "output_type": "error",
     "traceback": [
      "\u001b[0;31m---------------------------------------------------------------------------\u001b[0m",
      "\u001b[0;31mTypeError\u001b[0m                                 Traceback (most recent call last)",
      "\u001b[0;32m/var/folders/_h/s_p7r6ts2335kxkf2jy49zvc0000gn/T/ipykernel_60734/88376824.py\u001b[0m in \u001b[0;36m<module>\u001b[0;34m\u001b[0m\n\u001b[0;32m----> 1\u001b[0;31m \u001b[0mc\u001b[0m\u001b[0;34m[\u001b[0m\u001b[0;36m4\u001b[0m\u001b[0;34m]\u001b[0m \u001b[0;34m=\u001b[0m \u001b[0;36m100\u001b[0m\u001b[0;34m\u001b[0m\u001b[0;34m\u001b[0m\u001b[0m\n\u001b[0m",
      "\u001b[0;31mTypeError\u001b[0m: 'tuple' object does not support item assignment"
     ]
    }
   ],
   "source": [
    "c[4] = 100"
   ]
  },
  {
   "cell_type": "code",
   "execution_count": 53,
   "id": "39ee56e9",
   "metadata": {},
   "outputs": [
    {
     "data": {
      "text/plain": [
       "(10, 20, 30)"
      ]
     },
     "execution_count": 53,
     "metadata": {},
     "output_type": "execute_result"
    }
   ],
   "source": [
    "c = (10,20,30)\n",
    "\n",
    "x, y, z, = c\n",
    "x, y, z"
   ]
  },
  {
   "cell_type": "markdown",
   "id": "611940b3",
   "metadata": {},
   "source": [
    "##### Multidimensional lists and tuples "
   ]
  },
  {
   "cell_type": "markdown",
   "id": "6a75d2ba",
   "metadata": {},
   "source": [
    "Example: A list of three elements where each element in the list is itself a list."
   ]
  },
  {
   "cell_type": "code",
   "execution_count": 60,
   "id": "01b8d732",
   "metadata": {},
   "outputs": [
    {
     "name": "stdout",
     "output_type": "stream",
     "text": [
      "['GPS', 'USA']\n"
     ]
    }
   ],
   "source": [
    "navsats_list = [\n",
    "    ['GPS','USA'],\n",
    "    ['Galileo','EU'],\n",
    "    ['Glonnas','Russia']\n",
    "]\n",
    "\n",
    "for my_list in navsats_list:\n",
    "    \n",
    "    if my_list[0] == 'GPS':\n",
    "        print(my_list)\n",
    "\n",
    "# navsats_tuples = [\n",
    "#     ('GPS','USA'),\n",
    "#     ('Galileo','EU'),\n",
    "#     ('Glonnas','Russia')\n",
    "# ]\n",
    "\n",
    "# navsats_list[2]\n",
    "# navsats_tuples[2]"
   ]
  },
  {
   "cell_type": "code",
   "execution_count": 344,
   "id": "8647c5ae",
   "metadata": {},
   "outputs": [
    {
     "data": {
      "text/plain": [
       "['GPS', 'USA']"
      ]
     },
     "execution_count": 344,
     "metadata": {},
     "output_type": "execute_result"
    }
   ],
   "source": [
    "navsats[0]"
   ]
  },
  {
   "cell_type": "code",
   "execution_count": 345,
   "id": "fee44682",
   "metadata": {},
   "outputs": [
    {
     "data": {
      "text/plain": [
       "['Galileo', 'EU']"
      ]
     },
     "execution_count": 345,
     "metadata": {},
     "output_type": "execute_result"
    }
   ],
   "source": [
    "navsats[1]"
   ]
  },
  {
   "cell_type": "markdown",
   "id": "ec468c52",
   "metadata": {},
   "source": [
    "### d. NumPy Arrays"
   ]
  },
  {
   "cell_type": "markdown",
   "id": "a1a3c721",
   "metadata": {},
   "source": [
    "These are the real workhorse of data structures for engineering applications and scientific computing and are formally called *ndarray*.\n",
    "\n",
    "It is similar to list but all elements are of the same type. "
   ]
  },
  {
   "cell_type": "markdown",
   "id": "7b5ec88e",
   "metadata": {},
   "source": [
    "Numpy arrays can be acreated in four different ways as follows;\n",
    "1. Converting an existing list using **array** python function. \n",
    "2. Using NumPy **linspace** and **logspace** functions.\n",
    "3. Using NumPy **arange** function.\n",
    "4. Creating an array of **zeros** and **ones** functions."
   ]
  },
  {
   "cell_type": "markdown",
   "id": "c024d91a",
   "metadata": {},
   "source": [
    "We will need to import numpy library to use these functions."
   ]
  },
  {
   "cell_type": "code",
   "execution_count": 2,
   "id": "ac3ce3f2",
   "metadata": {},
   "outputs": [],
   "source": [
    "import numpy as np"
   ]
  },
  {
   "cell_type": "markdown",
   "id": "63d82e3a",
   "metadata": {},
   "source": [
    "##### 1. Converting an existing list using **array** python function.  "
   ]
  },
  {
   "cell_type": "code",
   "execution_count": null,
   "id": "c95679aa",
   "metadata": {},
   "outputs": [],
   "source": [
    "a = [10,20,30,40,50,60,70,80,90]"
   ]
  },
  {
   "cell_type": "code",
   "execution_count": null,
   "id": "48dd0304",
   "metadata": {},
   "outputs": [],
   "source": [
    "b = np.array(a)"
   ]
  },
  {
   "cell_type": "code",
   "execution_count": null,
   "id": "1bbf3bc8",
   "metadata": {},
   "outputs": [],
   "source": [
    "b"
   ]
  },
  {
   "cell_type": "markdown",
   "id": "71279849",
   "metadata": {},
   "source": [
    "The above steps can be written in one step as follows"
   ]
  },
  {
   "cell_type": "code",
   "execution_count": null,
   "id": "8b01e2d1",
   "metadata": {},
   "outputs": [],
   "source": [
    "c = np.array([2,4.5,-6,10])"
   ]
  },
  {
   "cell_type": "code",
   "execution_count": null,
   "id": "209c942c",
   "metadata": {},
   "outputs": [],
   "source": [
    "c"
   ]
  },
  {
   "cell_type": "markdown",
   "id": "4b42f2d9",
   "metadata": {},
   "source": [
    "<div class=\"alert alert-block alert-info\">\n",
    "    \n",
    "<b>Note:</b> b is an integer since it is made from a list of integers while c is a floating point array even though only one element, 4.5 is a floating point. \n",
    "</div>"
   ]
  },
  {
   "cell_type": "markdown",
   "id": "23fa26da",
   "metadata": {},
   "source": [
    "##### 2. Using NumPy **linspace** and **logspace** functions."
   ]
  },
  {
   "cell_type": "markdown",
   "id": "53b89469",
   "metadata": {},
   "source": [
    "**Linspace** creates an array N of evenly spaced points between a starting and ending point. \n",
    "\n",
    "It takes the general from, *linspace(start,stop,N)*.\n",
    "\n",
    "If N is not provided, then it is automatically set to N=50."
   ]
  },
  {
   "cell_type": "code",
   "execution_count": 10,
   "id": "235d3186",
   "metadata": {},
   "outputs": [
    {
     "data": {
      "text/plain": [
       "array([ 0.,  5., 10., 15., 20.])"
      ]
     },
     "execution_count": 10,
     "metadata": {},
     "output_type": "execute_result"
    }
   ],
   "source": [
    "np.linspace(0,20,5)"
   ]
  },
  {
   "cell_type": "markdown",
   "id": "be746d38",
   "metadata": {},
   "source": [
    "The linspace function above produces 5 evenly spaced points between 0 and 20 inclusive."
   ]
  },
  {
   "cell_type": "markdown",
   "id": "6e7a28c9",
   "metadata": {},
   "source": [
    "**Logspace** produces evenly spaced pointson a logarithmically scale.\n",
    "\n",
    "Arguments are the same as those for linspace except that the *start* and *stop* refer to a power of 10. "
   ]
  },
  {
   "cell_type": "markdown",
   "id": "e3c4807d",
   "metadata": {},
   "source": [
    "##### 3. Using NumPy **arange** function."
   ]
  },
  {
   "cell_type": "markdown",
   "id": "495777ce",
   "metadata": {},
   "source": [
    "The NumPy *arange* function is similar to python's *range* function and takes the general form of *arange(start,stop,step)*.\n",
    "\n",
    "By default step=1 and start=0."
   ]
  },
  {
   "cell_type": "code",
   "execution_count": 7,
   "id": "16884b62",
   "metadata": {},
   "outputs": [
    {
     "data": {
      "text/plain": [
       "array([ 0,  2,  4,  6,  8, 10, 12, 14, 16, 18])"
      ]
     },
     "execution_count": 7,
     "metadata": {},
     "output_type": "execute_result"
    }
   ],
   "source": [
    "np.arange(0,20,2)"
   ]
  },
  {
   "cell_type": "code",
   "execution_count": null,
   "id": "8fb6039e",
   "metadata": {},
   "outputs": [],
   "source": [
    "np.arange(0,20,1.5)"
   ]
  },
  {
   "cell_type": "markdown",
   "id": "2168cdea",
   "metadata": {},
   "source": [
    "##### 4. Creating an array of **zeros** and **ones** functions."
   ]
  },
  {
   "cell_type": "markdown",
   "id": "f86751e2",
   "metadata": {},
   "source": [
    "Arrays can be created using **zeros** and **ones** functions.\n",
    "These creates an arrays where all elements are either ones or zeros. You only have to specify the number of them that you want.\n",
    "\n",
    "This can be useful in processing of radionetric values for satellite images where each pixel is an element of an array."
   ]
  },
  {
   "cell_type": "code",
   "execution_count": null,
   "id": "71d8bf86",
   "metadata": {},
   "outputs": [],
   "source": [
    "np.zeros(10)"
   ]
  },
  {
   "cell_type": "code",
   "execution_count": null,
   "id": "021c3947",
   "metadata": {},
   "outputs": [],
   "source": [
    "np.ones(10, dtype=int)"
   ]
  },
  {
   "cell_type": "code",
   "execution_count": null,
   "id": "d18026e3",
   "metadata": {},
   "outputs": [],
   "source": [
    "np.ones(10, dtype=float)"
   ]
  },
  {
   "cell_type": "markdown",
   "id": "54ffd4d7",
   "metadata": {},
   "source": [
    "#### Mathematical operations with arrays"
   ]
  },
  {
   "cell_type": "markdown",
   "id": "24daaf56",
   "metadata": {},
   "source": [
    "The power and utility of arrays is the fact that one can transform and process all the elements in one step. For example;"
   ]
  },
  {
   "cell_type": "code",
   "execution_count": null,
   "id": "07941f41",
   "metadata": {},
   "outputs": [],
   "source": [
    "a = np.linspace(-2.,2,10)"
   ]
  },
  {
   "cell_type": "code",
   "execution_count": null,
   "id": "91934785",
   "metadata": {},
   "outputs": [],
   "source": [
    "a"
   ]
  },
  {
   "cell_type": "code",
   "execution_count": null,
   "id": "0ece63d1",
   "metadata": {},
   "outputs": [],
   "source": [
    "a*2"
   ]
  },
  {
   "cell_type": "markdown",
   "id": "5e8996f0",
   "metadata": {},
   "source": [
    "Each element is multiplied by 2. It works not only for multiplication but also other mathematical functions."
   ]
  },
  {
   "cell_type": "code",
   "execution_count": null,
   "id": "898a1eb1",
   "metadata": {},
   "outputs": [],
   "source": [
    "a/4"
   ]
  },
  {
   "cell_type": "code",
   "execution_count": null,
   "id": "05d1e619",
   "metadata": {},
   "outputs": [],
   "source": [
    "a**3"
   ]
  },
  {
   "cell_type": "code",
   "execution_count": null,
   "id": "7590875b",
   "metadata": {},
   "outputs": [],
   "source": [
    "a+10"
   ]
  },
  {
   "cell_type": "code",
   "execution_count": null,
   "id": "46067962",
   "metadata": {},
   "outputs": [],
   "source": [
    "c = np.linspace(-3.14,3.14,21)"
   ]
  },
  {
   "cell_type": "code",
   "execution_count": null,
   "id": "3db10de1",
   "metadata": {},
   "outputs": [],
   "source": [
    "d = np.cos(c)"
   ]
  },
  {
   "cell_type": "code",
   "execution_count": null,
   "id": "c12b4b80",
   "metadata": {},
   "outputs": [],
   "source": [
    "c"
   ]
  },
  {
   "cell_type": "code",
   "execution_count": null,
   "id": "ed3deed0",
   "metadata": {},
   "outputs": [],
   "source": [
    "d"
   ]
  },
  {
   "cell_type": "markdown",
   "id": "1e2ba476",
   "metadata": {},
   "source": [
    "<div class=\"alert alert-block alert-info\">\n",
    "    \n",
    "<b>Note:</b> Arrays can be sliced and accessed in the same way as lists. \n",
    "    Try this out.\n",
    "</div>"
   ]
  },
  {
   "cell_type": "markdown",
   "id": "21a8e3c6",
   "metadata": {},
   "source": [
    "### e. Dictionaries"
   ]
  },
  {
   "cell_type": "markdown",
   "id": "08628941",
   "metadata": {},
   "source": [
    "*A Python list is a collection of Python objects indexed by an ordered sequence of integers\n",
    "starting from zero. A dictionary is also collection of Python objects, just like a list,\n",
    "but one that is indexed by strings or numbers (not necessarily integers and not in any\n",
    "particular order) or even tuples!*, (Pine, 2013).\n",
    "\n",
    "Unlike lists where square brackets are used, dictionaries use curly brackets, **{ }**. "
   ]
  },
  {
   "cell_type": "markdown",
   "id": "ee92f71a",
   "metadata": {},
   "source": [
    "Example: Let us create a dictionary containing a Remote Sensing satellite mission with year of launch, ownership and orbital inclination.\n",
    "\n",
    "Such a dictionary can be created in a straightforward manner."
   ]
  },
  {
   "cell_type": "code",
   "execution_count": null,
   "id": "cf981007",
   "metadata": {},
   "outputs": [],
   "source": [
    "satellites = {}"
   ]
  },
  {
   "cell_type": "code",
   "execution_count": null,
   "id": "169cb4ce",
   "metadata": {},
   "outputs": [],
   "source": [
    "satellites['mission']='LandSat'\n",
    "satellites['Launch Year']=1972\n",
    "satellites['Orbital Inclination'] = 99.2"
   ]
  },
  {
   "cell_type": "code",
   "execution_count": null,
   "id": "ed64a954",
   "metadata": {},
   "outputs": [],
   "source": [
    "satellites"
   ]
  },
  {
   "cell_type": "markdown",
   "id": "42b413e1",
   "metadata": {},
   "source": [
    "A list of all the keys and values can be accessed by typing the dictionary name followed by *.keys()* or *.values()*. Examples"
   ]
  },
  {
   "cell_type": "code",
   "execution_count": null,
   "id": "84705251",
   "metadata": {},
   "outputs": [],
   "source": [
    "satellites.keys()"
   ]
  },
  {
   "cell_type": "code",
   "execution_count": null,
   "id": "83f3a4ab",
   "metadata": {},
   "outputs": [],
   "source": [
    "satellites.values()"
   ]
  },
  {
   "cell_type": "markdown",
   "id": "64f2863c",
   "metadata": {},
   "source": [
    "### f. Random Numbers"
   ]
  },
  {
   "cell_type": "markdown",
   "id": "4f78b1aa",
   "metadata": {},
   "source": [
    "These are widely used in engineering and science computations. They can be used to model physical phenomen such as distribution of electrons in a medium or simulate noisy data such as signal strength of a GPS satellite .\n",
    "\n",
    "The underlying concept is that a random generator should produce a sequence of numbers distributed accroding to some pre-determined distribution function (Pine, 2013). "
   ]
  },
  {
   "cell_type": "markdown",
   "id": "8ffe4751",
   "metadata": {},
   "source": [
    "In python, random numbers can be generated using NumPy library functions such as *random.rand*, *random.randn* and *random.randint*."
   ]
  },
  {
   "cell_type": "markdown",
   "id": "d77317f1",
   "metadata": {},
   "source": [
    "#### i. *random.rand*"
   ]
  },
  {
   "cell_type": "markdown",
   "id": "f0fb9fc6",
   "metadata": {},
   "source": [
    "*rand* creates an array of float uniformaly distributed between 0 and 1."
   ]
  },
  {
   "cell_type": "code",
   "execution_count": null,
   "id": "9baa7669",
   "metadata": {},
   "outputs": [],
   "source": [
    "np.random.rand()"
   ]
  },
  {
   "cell_type": "code",
   "execution_count": null,
   "id": "a6e9aa42",
   "metadata": {},
   "outputs": [],
   "source": [
    "np.random.rand(10)"
   ]
  },
  {
   "cell_type": "markdown",
   "id": "e133ba4f",
   "metadata": {},
   "source": [
    "Without an argument *random.rand* generates a single value. More values can be generated by specifying the size required as shown above to generate 10 random numbers between 0 and 1. "
   ]
  },
  {
   "cell_type": "markdown",
   "id": "f1124bbb",
   "metadata": {},
   "source": [
    "<div class=\"alert alert-block alert-info\">\n",
    "    \n",
    "<b>Note:</b> Random numbers can be generates between specific intervals. For instance, 50-60. \n",
    "\n",
    "This is done by stretching the interval so that the width is 60-50 and displacing the lower limit from 0 to 50 as follows..\n",
    "</div>"
   ]
  },
  {
   "cell_type": "code",
   "execution_count": null,
   "id": "120ea7e8",
   "metadata": {},
   "outputs": [],
   "source": [
    "a , b = 50, 60"
   ]
  },
  {
   "cell_type": "code",
   "execution_count": null,
   "id": "7baaaf3d",
   "metadata": {},
   "outputs": [],
   "source": [
    "(b-a)*np.random.rand(60) + a"
   ]
  },
  {
   "cell_type": "markdown",
   "id": "5bcccc0f",
   "metadata": {},
   "source": [
    "#### ii. random.randn "
   ]
  },
  {
   "cell_type": "markdown",
   "id": "d8fa2a35",
   "metadata": {},
   "source": [
    "*random.randn* functions produces a normal/Gaussian  random numbers with a mean of 0 and standard deviation of 1."
   ]
  },
  {
   "cell_type": "code",
   "execution_count": null,
   "id": "272b3eaf",
   "metadata": {},
   "outputs": [],
   "source": [
    "np.random.randn(20)"
   ]
  },
  {
   "cell_type": "markdown",
   "id": "5e4466f4",
   "metadata": {},
   "source": [
    "#### iii. random.randint"
   ]
  },
  {
   "cell_type": "markdown",
   "id": "b205238c",
   "metadata": {},
   "source": [
    "It produces uniformly distributed integers from *low(inclusive)* and *high(exclusive)*.\n",
    "\n",
    "It takes the general form of *random.randint(low, high, num)* where low, high and num are the lowest, highest and number of integers of the random numbers generated. Example;"
   ]
  },
  {
   "cell_type": "code",
   "execution_count": null,
   "id": "1ed40bf0",
   "metadata": {},
   "outputs": [],
   "source": [
    "np.random.randint(1,8,13)"
   ]
  },
  {
   "cell_type": "markdown",
   "id": "1a1da068",
   "metadata": {},
   "source": [
    "## 6. Keyboard Input and Screen Output."
   ]
  },
  {
   "cell_type": "markdown",
   "id": "4d6d78f0",
   "metadata": {},
   "source": [
    "Good relatinship with coding requires communication. The communication is two-way (input-output).\n",
    "\n",
    "A user with python task will need to feed some data or information and when python is done, it reports back as an output on the screen or file. \n",
    "\n",
    "In this section we will look at basic input-output (io) in python using keyboard and screen respectively. "
   ]
  },
  {
   "cell_type": "markdown",
   "id": "2fbb853c",
   "metadata": {},
   "source": [
    "### 6.1. Input-Output (IO)"
   ]
  },
  {
   "attachments": {
    "form.jpg": {
     "image/jpeg": "[encoded data removed]"
    }
   },
   "cell_type": "markdown",
   "id": "f6d7f646",
   "metadata": {},
   "source": [
    "Keyboard is a great resource for information input in python.\n",
    "\n",
    "Let us take an example where a remote sensing student wants to calculate the earth angle, **θ**  for different satellites using the formual below;\n",
    "\n",
    "![form.jpg](attachment:form.jpg)"
   ]
  },
  {
   "cell_type": "markdown",
   "id": "31e09c5d",
   "metadata": {},
   "source": [
    "Where **Re** is the radius of the earth 6378km and **h** is the satellite altitude. "
   ]
  },
  {
   "cell_type": "markdown",
   "id": "bcb821d7",
   "metadata": {},
   "source": [
    "To write this code, **Re** and **h** is required. \n",
    "As the student might like to use the same script to determine the earth angle for different satellite heights, it would be useful if the program requested that height from the user when it is run. \n",
    "\n",
    "The python function **input** allows getting input from the user and assigning it a variable name. "
   ]
  },
  {
   "cell_type": "code",
   "execution_count": null,
   "id": "1abd922b",
   "metadata": {},
   "outputs": [],
   "source": [
    "height = float(input(\"Please Enter the satellite height: \"))"
   ]
  },
  {
   "cell_type": "markdown",
   "id": "747a0383",
   "metadata": {},
   "source": [
    "When the input statement is executed, it prints to the computer screen the text in the quotes (\"Please Enter the satellite height: \") and waits for input from the student. The student types a string of characters and clicks the run key. The input function then assigns that string to the variable name (height) on the right of the assignment operator =."
   ]
  },
  {
   "cell_type": "markdown",
   "id": "43e1b3c0",
   "metadata": {},
   "source": [
    "This can now be used in the formula to calculate the earth angle.\n",
    "\n",
    "But first we need to import math library since we will use it calculate the inverse of cosine. "
   ]
  },
  {
   "cell_type": "code",
   "execution_count": null,
   "id": "a168835a",
   "metadata": {},
   "outputs": [],
   "source": [
    "import math as mt"
   ]
  },
  {
   "cell_type": "code",
   "execution_count": null,
   "id": "70c4f624",
   "metadata": {},
   "outputs": [],
   "source": [
    "earth_radius = 6378\n",
    "height = float(input(\"Please Enter the satellite height (km): \"))\n",
    "earth_angle = mt.acos((earth_radius)/(earth_radius+height))\n",
    "print(earth_angle)"
   ]
  },
  {
   "cell_type": "markdown",
   "id": "f26d3158",
   "metadata": {},
   "source": [
    "Let us go through each of the lines to understand the script."
   ]
  },
  {
   "cell_type": "markdown",
   "id": "23b82c90",
   "metadata": {},
   "source": [
    "In the first line, we create a variable (earth_radius) to store the radius of the earth.\n",
    "\n",
    "In line 2, we create a variable (height) that accepts input from the user and converts it to float. Additional information (\"Please Enter the satellite height (km): \") is provided to the user in form of string to guide the user on what is expected from them. \n",
    "\n",
    "Line 3 does the computation using the provided formula.\n",
    "\n",
    "In line 4, the answer of the computation is displayed using python's **print** function. "
   ]
  },
  {
   "cell_type": "markdown",
   "id": "775df37f",
   "metadata": {},
   "source": [
    "We can make the script more user-friendly by adding the units as radians, state what the answer is and also round off the answer to four decimal places as follows;"
   ]
  },
  {
   "cell_type": "code",
   "execution_count": null,
   "id": "c5476f82",
   "metadata": {},
   "outputs": [],
   "source": [
    "earth_angle = round(earth_angle, 4)\n",
    "print(\"The Earth Angle is \" +str(earth_angle)+\" radians\")"
   ]
  },
  {
   "cell_type": "markdown",
   "id": "0b6195ae",
   "metadata": {},
   "source": [
    "## 7. File Input"
   ]
  },
  {
   "cell_type": "markdown",
   "id": "37f99c8d",
   "metadata": {},
   "source": [
    "#### a. Reading .txt files"
   ]
  },
  {
   "cell_type": "markdown",
   "id": "f954c47c",
   "metadata": {},
   "source": [
    "In some cases, you might want to analyze data stored in a text file. Consider for example, the weather data obtained from a raspberry sensor module saved as \"weather.txt\"."
   ]
  },
  {
   "cell_type": "markdown",
   "id": "93115055",
   "metadata": {},
   "source": [
    "Text files can be opened using **open** function and then read using the **read** function as follows;"
   ]
  },
  {
   "cell_type": "code",
   "execution_count": null,
   "id": "e14180c9",
   "metadata": {},
   "outputs": [],
   "source": [
    "f = open(\"weather.txt\",\"r\")"
   ]
  },
  {
   "cell_type": "code",
   "execution_count": null,
   "id": "1c48a12a",
   "metadata": {},
   "outputs": [],
   "source": [
    "print(f.read())"
   ]
  },
  {
   "cell_type": "markdown",
   "id": "b0a54d83",
   "metadata": {},
   "source": [
    "Python allows reading of the text data, line at a time using the **readline** function. "
   ]
  },
  {
   "cell_type": "code",
   "execution_count": null,
   "id": "6c4bf57e",
   "metadata": {},
   "outputs": [],
   "source": [
    "f = open(\"weather.txt\",\"r\")\n",
    "print(f.readline())"
   ]
  },
  {
   "cell_type": "markdown",
   "id": "93c6c15e",
   "metadata": {},
   "source": [
    "Alternatively, the text file can be read using Numpy library's **loadtxt** function as follows;"
   ]
  },
  {
   "cell_type": "code",
   "execution_count": null,
   "id": "0c88b2f8",
   "metadata": {},
   "outputs": [],
   "source": [
    "np.loadtxt('weather.txt',skiprows=1)"
   ]
  },
  {
   "cell_type": "markdown",
   "id": "bb15007f",
   "metadata": {},
   "source": [
    "The loadtxt functio takes two arguments in this case which are; a string that is the *name of the file ('weather.txt')* and *skiprows* which tells it to skip the first one line at the top of the file, in this case the data header. "
   ]
  },
  {
   "cell_type": "markdown",
   "id": "87150915",
   "metadata": {},
   "source": [
    "We can also include other arguments such as *unpack* and *usecols* that to easily read the data into arrays and specify the columns to read as follows;"
   ]
  },
  {
   "cell_type": "code",
   "execution_count": null,
   "id": "cce63c6f",
   "metadata": {},
   "outputs": [],
   "source": [
    "np.loadtxt('weather.txt',skiprows=1, unpack=True,usecols=1)"
   ]
  },
  {
   "cell_type": "markdown",
   "id": "641171ba",
   "metadata": {},
   "source": [
    "#### b. Reading .CSV file "
   ]
  },
  {
   "cell_type": "markdown",
   "id": "4f7fc6e9",
   "metadata": {},
   "source": [
    "Just like text files, *loadtxt* function can also be used to read CSV files as follows;"
   ]
  },
  {
   "cell_type": "code",
   "execution_count": null,
   "id": "b950129c",
   "metadata": {},
   "outputs": [],
   "source": [
    "np.loadtxt('data.csv', skiprows = 1, unpack=True, delimiter=',')"
   ]
  },
  {
   "cell_type": "markdown",
   "id": "9172252a",
   "metadata": {},
   "source": [
    "The format is similar as the previous case but here, *delimiter* argument which tells loadtxt that the columns are separated by commas instead of whitespaces is added. "
   ]
  },
  {
   "cell_type": "markdown",
   "id": "e508805f",
   "metadata": {},
   "source": [
    "<div class=\"alert alert-block alert-info\">\n",
    "    \n",
    "<b>Note:</b> Just like reading files, data can also be written into them. However, we are not going to look into that at the moment. Furthermore, there are better libaries for working with files of any type that we will look into later.\n",
    "</div>"
   ]
  },
  {
   "cell_type": "markdown",
   "id": "d5917c54",
   "metadata": {},
   "source": [
    "## 8. Plotting "
   ]
  },
  {
   "cell_type": "markdown",
   "id": "0670eca1",
   "metadata": {},
   "source": [
    "Plotting can be defined as graphical representation of data or information.\n",
    "\n",
    "Plots are the most important tools for understanding and evaluating theoritical predictions and scientif data. \n",
    "\n",
    "However, it is not part of core Python and therefore it is offered through several libary modules.\n",
    "\n",
    "The most highly developed libary for plotting in python is **MatPlotLib**.\n",
    "\n",
    "MatPlotLib is a collection of several libraries and has to be imported before usage. Moreover, it relies on some extensions and therefore should always be imported together with numpy. \n",
    "\n",
    "Lastly, there are several MatPlotLib sub-libraries, but here, we shall only focus on **pyplot**. "
   ]
  },
  {
   "cell_type": "markdown",
   "id": "a1564501",
   "metadata": {},
   "source": [
    "<div class=\"alert alert-block alert-info\">\n",
    "    \n",
    "<b>Note:</b> We will only scratch the surface here of what is possible with MatPlotLib and as you become used to and an expert, you will do more than this manual describes. **Again, make Google your friend!**.\n",
    "</div>"
   ]
  },
  {
   "cell_type": "markdown",
   "id": "431aa24c",
   "metadata": {},
   "source": [
    "### 8.1 Basic Plotting "
   ]
  },
  {
   "cell_type": "markdown",
   "id": "f8773240",
   "metadata": {},
   "source": [
    "The easiest way to learn plotting is by using an example. Lets plot a simple sine wave signal of interval 0 and 4pi.  "
   ]
  },
  {
   "cell_type": "code",
   "execution_count": null,
   "id": "035a4428",
   "metadata": {},
   "outputs": [],
   "source": [
    "import numpy as np\n",
    "import matplotlib.pyplot as plt\n",
    "x = np.linspace(0, 4*np.pi, 66)\n",
    "y = np.sin(x)\n",
    "plt.plot(x, y)\n",
    "plt.show()"
   ]
  },
  {
   "cell_type": "markdown",
   "id": "fcb5a200",
   "metadata": {},
   "source": [
    "Let us see what the code is doing;"
   ]
  },
  {
   "cell_type": "markdown",
   "id": "76df9600",
   "metadata": {},
   "source": [
    "The first two lines involves importing the necessary libraries.\n",
    "\n",
    "Next we create a set of x datapoints using numpy linspace function\n",
    "\n",
    "In the third line, a corresponding y points are created using the sine function in numpy.\n",
    "\n",
    "In the second last line, MatPlotLib **plot** function is used to generate the plot. \n",
    "\n",
    "Lastly, we use the **show** function to display the graph. "
   ]
  },
  {
   "cell_type": "markdown",
   "id": "5282bb23",
   "metadata": {},
   "source": [
    "Other than the basic functionalities, we can make our graph nicer as follows;"
   ]
  },
  {
   "cell_type": "code",
   "execution_count": null,
   "id": "5c2d8fe0",
   "metadata": {},
   "outputs": [],
   "source": [
    "plt.plot(x, y, 'ro',)\n",
    "plt.title('A Simple Sine Wave Signal')\n",
    "plt.ylabel('Amplitude (dB)')\n",
    "plt.xlabel('Phase (θ)')\n",
    "plt.show()"
   ]
  },
  {
   "cell_type": "markdown",
   "id": "ce168a11",
   "metadata": {},
   "source": [
    "We have modified the graph to inlude the graph title and axes labels using ylabel/xlabel and title functions.\n",
    "\n",
    "Futhermore, we have changed the style of the plot by including an extra argument 'ro' to the plot function. \n",
    "\n",
    "For more styles and plot functionalities, refer to the reference at the end of this tutorial. "
   ]
  },
  {
   "cell_type": "markdown",
   "id": "efecd452",
   "metadata": {},
   "source": [
    "## 9. Conditionals "
   ]
  },
  {
   "cell_type": "markdown",
   "id": "384d63f8",
   "metadata": {},
   "source": [
    "These are series of statements that allow a computer program to perform different actions based on whether some requirement or set of instructions is true or false.\n",
    "\n",
    "It therefore allows the programmer to control the flow of the program. \n",
    "\n",
    "We are going to look at **if**, **elif** and **else** statements among others in this tutorial. "
   ]
  },
  {
   "cell_type": "markdown",
   "id": "5b0199fa",
   "metadata": {},
   "source": [
    "Let's take a simple example where we are writing a script that asks the user to enter an integer and then it shows the user whether it is even or odd. This can be done as follows;"
   ]
  },
  {
   "cell_type": "code",
   "execution_count": null,
   "id": "634b69f7",
   "metadata": {},
   "outputs": [],
   "source": [
    "number = int(input(\"Please Enter the Integer: \"))\n",
    "if number%2==0:\n",
    "    print(\"EVEN\")\n",
    "else:\n",
    "    print('ODD')"
   ]
  },
  {
   "cell_type": "markdown",
   "id": "6da5a9ea",
   "metadata": {},
   "source": [
    "As expected, the code works but lets explain it line by line;"
   ]
  },
  {
   "cell_type": "markdown",
   "id": "8120cd65",
   "metadata": {},
   "source": [
    "First we create a variable (number) that contains the input from the user.\n",
    "\n",
    "Line 2 sets an **if** condition that evaluates whether the division of the number yields a reminder of zero using the **modulo** operation:\n",
    "\n",
    "The indented line 3 simply displays \"EVEN\" if the condition in line 2 is true.\n",
    "\n",
    "Line 4 introduces **else** to display \"ODD\" if the first condition in Line 2 is not met. "
   ]
  },
  {
   "cell_type": "markdown",
   "id": "8578034d",
   "metadata": {},
   "source": [
    "In day to day programming, one might be faced with situation where it is not only two oprtions but more. \n",
    "\n",
    "For example lets write a simple program that will allow a user to enter windspeeds of a storm and determine whether it is a tropical depression, storm, category 1, 2 or 3 hurricane as per **Saffir-Simpson Hurricane Wind Scale**\n",
    "\n",
    "You can google about Saffir-Simpson Hurricane Wind Scale to learn more here. "
   ]
  },
  {
   "cell_type": "code",
   "execution_count": null,
   "id": "ebbec047",
   "metadata": {},
   "outputs": [],
   "source": [
    "windspeed = float(input('Please Enter Windspeed in mph: '))\n",
    "if windspeed>=38 and windspeed<=39:\n",
    "    print('Tropical Depression')\n",
    "elif windspeed>=39 and windspeed<=73:\n",
    "    print('Tropical Storm')\n",
    "elif windspeed>=74 and windspeed<=95:\n",
    "    print('Category 1 Hurricane')\n",
    "elif windspeed>=96 and windspeed<=110:\n",
    "    print('Category 2 Hurricane')\n",
    "elif windspeed>=111 and windspeed<=129:\n",
    "    print('Category 3 Major Hurricane')\n",
    "else:\n",
    "    print('Above category 3 Major Hurricane')"
   ]
  },
  {
   "cell_type": "markdown",
   "id": "91488f0a",
   "metadata": {},
   "source": [
    "The syntax is rather the same except that **elif** statement is introduced to take care of the other options apart from the first two.\n",
    "\n",
    "Moreover, the **and** condition is introduced to ensure that the values are within the boundary.\n",
    "\n",
    "For instance in line 2, the windspeed must be between 38 and 39 for the code to return \"Tropical Depression\" otherwise it skips to the next line to evaluate if the subsequent condition is met."
   ]
  },
  {
   "cell_type": "markdown",
   "id": "92805317",
   "metadata": {},
   "source": [
    "<div class=\"alert alert-block alert-info\">\n",
    "    \n",
    "<b>Note:</b> There are several logical operators that can be applied a condition to write a script according to the expectations of the users. Some of the operators are given below.\n",
    "</div>"
   ]
  },
  {
   "attachments": {
    "operator.jpg": {
     "image/jpeg": "[encoded data removed]"
    }
   },
   "cell_type": "markdown",
   "id": "fc65a305",
   "metadata": {},
   "source": [
    "![operator.jpg](attachment:operator.jpg)"
   ]
  },
  {
   "cell_type": "markdown",
   "id": "268b3f12",
   "metadata": {},
   "source": [
    "## 10. Loops "
   ]
  },
  {
   "cell_type": "markdown",
   "id": "244734f9",
   "metadata": {},
   "source": [
    "It can be defined as a statement or a series of statements that is executed repeatedly. \n",
    "\n",
    "They are useful for performing repeatitive or boring tasks as computers can do this without complaining or getting tired.\n",
    "\n",
    "There are two kinds of python loops (**for** and **while**)."
   ]
  },
  {
   "cell_type": "markdown",
   "id": "76dd7428",
   "metadata": {},
   "source": [
    "### 10.1 for Loops "
   ]
  },
  {
   "cell_type": "markdown",
   "id": "314b5cf2",
   "metadata": {},
   "source": [
    "It takes the general form of;"
   ]
  },
  {
   "cell_type": "code",
   "execution_count": null,
   "id": "c248af82",
   "metadata": {
    "scrolled": true
   },
   "outputs": [],
   "source": [
    "for <itervar> in <sequence>:\n",
    "    <body>"
   ]
  },
  {
   "cell_type": "markdown",
   "id": "46ecc196",
   "metadata": {},
   "source": [
    "Where *intervar* is a variable, *sequence* is a sequence such as a string, array, list or even a function and *body* a block of commands or tasks to repeated. \n",
    "    \n",
    "The body has to be indented from the rest of the code to define the extent of the loop.\n",
    "    \n",
    "For example let us print all the individual states in a list containing some American states."
   ]
  },
  {
   "cell_type": "code",
   "execution_count": null,
   "id": "0eced8af",
   "metadata": {},
   "outputs": [],
   "source": [
    "for states in ['Virginia', 'Georgia','New Jersey','New York']:\n",
    "    print(states)\n",
    "print('All Printed')"
   ]
  },
  {
   "cell_type": "markdown",
   "id": "b0fa97df",
   "metadata": {},
   "source": [
    "Lets explain how the code works.\n",
    "\n",
    "The *iteration variable* or *loop index* **states** is set equal to the first element in the list, \"Virginia\", and then the line in the indented body is executed. Then states is set equal to second element in the list, \"Georgia\", and the line in the indented body is executed. The loop cycles through all the elements of the list, and then moves on to the code that follows the for loop and prints **All Printed**"
   ]
  },
  {
   "cell_type": "markdown",
   "id": "5c2e43fb",
   "metadata": {},
   "source": [
    "for loop can also be used with python **range** function to produce better results.\n",
    "\n",
    "For instance, lets write a code that prints the current year 100 times. A direct way is to type the print function with the year a 100 times.But this is obviously tiring and beats the logic of programming. \n",
    "\n",
    "Instead let us look how to do that using loop and range function."
   ]
  },
  {
   "cell_type": "code",
   "execution_count": null,
   "id": "736d226d",
   "metadata": {
    "scrolled": true
   },
   "outputs": [],
   "source": [
    "for i in range(100):\n",
    "    print(2021)"
   ]
  },
  {
   "cell_type": "markdown",
   "id": "57ac67a7",
   "metadata": {},
   "source": [
    "For loops can be used in completed tasks such as within functions or in calculations.\n",
    "\n",
    "Example: Calculate area for a rectangle of width 10 but changing length starting from 100 to 150."
   ]
  },
  {
   "cell_type": "code",
   "execution_count": null,
   "id": "d669b054",
   "metadata": {},
   "outputs": [],
   "source": [
    "for length in range(10,20):\n",
    "    w = 10\n",
    "    area = w*length\n",
    "    print(area)"
   ]
  },
  {
   "cell_type": "markdown",
   "id": "0012eb96",
   "metadata": {},
   "source": [
    "### 10.2 while Loops"
   ]
  },
  {
   "cell_type": "markdown",
   "id": "9b6b1a0d",
   "metadata": {},
   "source": [
    "It takes the general form;"
   ]
  },
  {
   "cell_type": "code",
   "execution_count": null,
   "id": "6c763d06",
   "metadata": {},
   "outputs": [],
   "source": [
    "while <condition>:\n",
    "    <body>"
   ]
  },
  {
   "cell_type": "markdown",
   "id": "c65ff144",
   "metadata": {},
   "source": [
    "Where *condition* is a statement that can be either True or False and *body* is a series of Python commands that is executed repeatedly until *condition* becomes false. Therefore, somewhere in the *body*, the truth value of *condition* must be changed so that it becomes false after a finite number of iterations."
   ]
  },
  {
   "cell_type": "markdown",
   "id": "1d0ba743",
   "metadata": {},
   "source": [
    "For example, let us take an example where we want to print the current year four times."
   ]
  },
  {
   "cell_type": "code",
   "execution_count": null,
   "id": "132e829c",
   "metadata": {},
   "outputs": [],
   "source": [
    "incr = 0\n",
    "current_year = 2022\n",
    "\n",
    "while incr<4:\n",
    "    print(current_year)\n",
    "    incr+=1"
   ]
  },
  {
   "cell_type": "markdown",
   "id": "ae2c7fe7",
   "metadata": {},
   "source": [
    "Lets explain the code;\n",
    "\n",
    "First an arbitrary variable, incr is declared which checks the condition **incr<4** if it is true after which it prints the year.\n",
    "\n",
    "The condition is true and the **current_year** is printed since **incr** is initially 0.\n",
    "\n",
    "The critical part of this code is the **incr+=1** that increments the value of incr to 1 ad then 2, until it reaches 4 the **\"while\"** loop condition fails as \"incr\" is not less than 4 anymore and the \"while\" loop stops. \n",
    "\n",
    "If incr+=1 is not written, the while loop will never terminate."
   ]
  },
  {
   "cell_type": "markdown",
   "id": "975b8397",
   "metadata": {},
   "source": [
    "## 11. Functions "
   ]
  },
  {
   "cell_type": "markdown",
   "id": "1655b04a",
   "metadata": {},
   "source": [
    "As one developes complex computer codes, it becomes vital to organize the code in modular blocks that can be reused. This is done through **user-defined functions**. \n",
    "\n",
    "The user-defined functions are similar to the previous functions that we have been using except that they are built by you.\n",
    "\n",
    "Lets write a function to calculate a wavelength of a signal given its frequency travelling at the speed of light. "
   ]
  },
  {
   "cell_type": "code",
   "execution_count": null,
   "id": "bc5b6689",
   "metadata": {},
   "outputs": [],
   "source": [
    "def signal_wavelength(frequency):\n",
    "    speed_light = 3.0*10**8\n",
    "    wavelength = speed_light/(frequency*10**6)\n",
    "    return wavelength\n",
    "signal_wavelength(6)"
   ]
  },
  {
   "cell_type": "markdown",
   "id": "5b2ad980",
   "metadata": {},
   "source": [
    "As is the case, the function begins with the word **def** followed by the name of the function. This can be any name, in this case **signal_wavelength**.\n",
    "\n",
    "A list of arguments is enclosed within the bracket and then terminated with a colon to ensure that the next line is automatically indented in most python editors.\n",
    "\n",
    "In the example, there is only one argument but generally, one can include as many arguments as possible including no arguments at all. \n",
    "\n",
    "THe next lines define what the function does including declaring speed of light as constant and dividing it with the frequency that the user provides to obatin an answer stored in the variable called **wavelength**.\n",
    "\n",
    "The **return** statement returns the value of the wavelength calculated. \n",
    "\n",
    "The last line calls the function to be used and the user must provide an argument for it to work. In this case, only one argument is provided which frequency in megahertz (6). This is actually similar to using functions by importing them as has been the case in some of our previous sessions.\n",
    "\n",
    "\n",
    "*Applying the knowledge from the previous sessions, can you explain what the following function does?*"
   ]
  },
  {
   "cell_type": "code",
   "execution_count": null,
   "id": "76ce4af2",
   "metadata": {},
   "outputs": [],
   "source": [
    "import numpy as np\n",
    "import matplotlib.pyplot as plt\n",
    "import pylab as pl\n",
    "import math\n",
    "\n",
    "def coverage_area(beta):\n",
    "    earth_radius = 6378\n",
    "    pi = np.pi\n",
    "    area = 2*pi*earth_radius**2*(1-np.cos(math.radians(beta)))/4*pi*earth_radius**2\n",
    "    return area\n",
    "\n",
    "coverage = []\n",
    "for angle in range(2,20,1):\n",
    "    coverage.append(coverage_area(angle))\n",
    "x = np.arange(2,20,1)\n",
    "y= coverage\n",
    "\n",
    "pl.figure(figsize=(10,10))\n",
    "plt.xlabel(\"Footprint Angle\")\n",
    "plt.ylabel(\"Coverage Area (%)\")\n",
    "plt.title(\"A graph of Satellite Coverage against Footprint Angle\")\n",
    "plt.plot(x,y,linestyle=\"--\",marker=\"x\")\n",
    "plt.show()"
   ]
  },
  {
   "cell_type": "markdown",
   "id": "c95ecaee",
   "metadata": {},
   "source": [
    "## 12. Selected Libraries (pandas)"
   ]
  },
  {
   "cell_type": "markdown",
   "id": "2569258f",
   "metadata": {},
   "source": [
    "Apart from lists, arrays, dictionaries, there are other more complicated and usefual data types and ways of organizing them to contain information. For instance, a satellite image might contain radiation values of different electromagnetic bands, geolocation of the image and time when it was taken among other information. In such case, the data should be stored in such a way that it preserves all the information and can easily be accessible. **Dataframes** are such data types that allow storage of data into rows and columns just like spreadsheets except that they are optimised for usage in programming languages such as python.\n",
    "\n",
    "To handle data types such as dataframes, programmers have developed special libraries to help with their manipulation. One such example is the **pandas** library. In this tutorial, we will focus on manipulation of dataframes using pandas. "
   ]
  },
  {
   "cell_type": "markdown",
   "id": "b2578b99",
   "metadata": {},
   "source": [
    "<div class=\"alert alert-block alert-info\">\n",
    "    \n",
    "<b>Note:</b> There are several sub-libraries of pandas such as geopandas for geospatial data that you can always harness their power while performing highly specialised tasks. **Remember Google is your friend!**.\n",
    "</div>"
   ]
  },
  {
   "cell_type": "markdown",
   "id": "6716fbdc",
   "metadata": {},
   "source": [
    "To begin working with dataframes, we first import pandas as was the case in previous sessions. "
   ]
  },
  {
   "cell_type": "markdown",
   "id": "6b7e0f5d",
   "metadata": {},
   "source": [
    "<div class=\"alert alert-block alert-warning\">\n",
    "\n",
    "<b>!! Note !!</b> Pandas is not part of most python distribution packages hence it should be installed where it is not available before starting these tutorial\n",
    "\n",
    "</div>"
   ]
  },
  {
   "cell_type": "code",
   "execution_count": null,
   "id": "66ed8954",
   "metadata": {},
   "outputs": [],
   "source": [
    "import pandas as pd"
   ]
  },
  {
   "cell_type": "markdown",
   "id": "d0e77d4e",
   "metadata": {},
   "source": [
    "### 12.1. Creating Dataframe"
   ]
  },
  {
   "cell_type": "markdown",
   "id": "3ab7c775",
   "metadata": {},
   "source": [
    "Here we are focusing on ways of creating dataframes. However, in most day-to-day programming, you are likely to work with data in other formats which you can convert to dataframe by a single line of code. "
   ]
  },
  {
   "cell_type": "markdown",
   "id": "5ba92bea",
   "metadata": {},
   "source": [
    "Nevertheless, dataframes can be created by converting lists to dictionary and then dataframe, as shown in the subsequent steps, using an example of satellite missions. "
   ]
  },
  {
   "cell_type": "markdown",
   "id": "a919b69b",
   "metadata": {},
   "source": [
    "a. Create a list with the details"
   ]
  },
  {
   "cell_type": "code",
   "execution_count": null,
   "id": "5f149257",
   "metadata": {},
   "outputs": [],
   "source": [
    "satellites =['LandSat','EumetSat','Sentinel','PlanetScope','RasCom',\\\n",
    "             'Starlink','Telesat','RadarSat','Alos','KitSat-1','Chollian','Iridium','OneWeb']\n",
    "Year = [1972,1986,2013,2015,2010,2018,2019,1995,2006,1999,2010,1999,2021]\n",
    "inclination = [99.2,66,98.65,98.1,0.1,53.2,None,98.6,98.16,None,0.2,86.4,86.4]\n",
    "Government = [True,True,True,False,True,False,False,True,None,True,True,False,None]\n",
    "Role = ['Remote sensing','Remote sensing','Remote sensing',\\\n",
    "        'Communication','Communication','Communication','Remote sensing',\\\n",
    "        'Remote sensing','Remote sensing','Communication','Communication',\\\n",
    "        'Remote sensing','Communication',]"
   ]
  },
  {
   "cell_type": "markdown",
   "id": "a7860967",
   "metadata": {},
   "source": [
    "b. Combine the lists into a dictionary"
   ]
  },
  {
   "cell_type": "code",
   "execution_count": null,
   "id": "9bc36611",
   "metadata": {},
   "outputs": [],
   "source": [
    "sat_data = {'satellite':satellites,'year':Year,'inclination':\\\n",
    "            inclination,'government owned?':Government,'mission':Role}"
   ]
  },
  {
   "cell_type": "markdown",
   "id": "c346b866",
   "metadata": {},
   "source": [
    "c. Convert the dictionary into dataframe using the pandas library function."
   ]
  },
  {
   "cell_type": "code",
   "execution_count": null,
   "id": "973f6b01",
   "metadata": {},
   "outputs": [],
   "source": [
    "df = pd.DataFrame(sat_data)"
   ]
  },
  {
   "cell_type": "markdown",
   "id": "c648dd16",
   "metadata": {},
   "source": [
    "The prepared dataframe can be converted to other formats such as excel spreadsheet or CSV files, Example;"
   ]
  },
  {
   "cell_type": "code",
   "execution_count": null,
   "id": "0f3bdb87",
   "metadata": {},
   "outputs": [],
   "source": [
    "df.to_excel('satellite missions.xlsx')"
   ]
  },
  {
   "cell_type": "markdown",
   "id": "2179394f",
   "metadata": {},
   "source": [
    "### 12.2. Accessing Data on DataFrames"
   ]
  },
  {
   "cell_type": "markdown",
   "id": "0434d555",
   "metadata": {},
   "source": [
    "You can view the first few rows of your data using the 'head' function"
   ]
  },
  {
   "cell_type": "code",
   "execution_count": null,
   "id": "617219aa",
   "metadata": {},
   "outputs": [],
   "source": [
    "df.head()"
   ]
  },
  {
   "cell_type": "markdown",
   "id": "e85a38ed",
   "metadata": {},
   "source": [
    "You can view the last few rows of your data using the 'tail' function."
   ]
  },
  {
   "cell_type": "code",
   "execution_count": null,
   "id": "f957e449",
   "metadata": {},
   "outputs": [],
   "source": [
    "df.tail()"
   ]
  },
  {
   "cell_type": "markdown",
   "id": "500fb567",
   "metadata": {},
   "source": [
    "You can know how many rows and columns are in your data using the shape function."
   ]
  },
  {
   "cell_type": "code",
   "execution_count": null,
   "id": "9f05b223",
   "metadata": {},
   "outputs": [],
   "source": [
    "df.shape"
   ]
  },
  {
   "cell_type": "markdown",
   "id": "f7ebc421",
   "metadata": {},
   "source": [
    "You can know the name of columns by using the column function."
   ]
  },
  {
   "cell_type": "code",
   "execution_count": null,
   "id": "5c4a62e6",
   "metadata": {},
   "outputs": [],
   "source": [
    "df.columns"
   ]
  },
  {
   "cell_type": "markdown",
   "id": "c2c16b01",
   "metadata": {},
   "source": [
    "You can access a single columns using the following syntax."
   ]
  },
  {
   "cell_type": "code",
   "execution_count": null,
   "id": "d68017bc",
   "metadata": {},
   "outputs": [],
   "source": [
    "df['satellite']"
   ]
  },
  {
   "cell_type": "markdown",
   "id": "d95b293b",
   "metadata": {},
   "source": [
    "You can access multiple columns using the following line of code."
   ]
  },
  {
   "cell_type": "code",
   "execution_count": null,
   "id": "d206bac6",
   "metadata": {},
   "outputs": [],
   "source": [
    "df[['satellite','year']]"
   ]
  },
  {
   "cell_type": "markdown",
   "id": "717f8518",
   "metadata": {},
   "source": [
    "You can access individual rows by specifying the row index, e.g;"
   ]
  },
  {
   "cell_type": "code",
   "execution_count": null,
   "id": "8eb5e31e",
   "metadata": {},
   "outputs": [],
   "source": [
    "df.loc[7]"
   ]
  },
  {
   "cell_type": "markdown",
   "id": "1d5cbdca",
   "metadata": {},
   "source": [
    "You can access datapoints between a given range by;"
   ]
  },
  {
   "cell_type": "code",
   "execution_count": null,
   "id": "984489c7",
   "metadata": {},
   "outputs": [],
   "source": [
    "df.loc[8:10]"
   ]
  },
  {
   "cell_type": "markdown",
   "id": "2b08d244",
   "metadata": {},
   "source": [
    "You can access data of specific attributes. Eg satellites launched in 2010 or above."
   ]
  },
  {
   "cell_type": "code",
   "execution_count": null,
   "id": "89bbb819",
   "metadata": {},
   "outputs": [],
   "source": [
    "df[df['year']>=2010]"
   ]
  },
  {
   "cell_type": "markdown",
   "id": "64e46d07",
   "metadata": {},
   "source": [
    "select only communication satellites;"
   ]
  },
  {
   "cell_type": "code",
   "execution_count": null,
   "id": "1413eb7b",
   "metadata": {},
   "outputs": [],
   "source": [
    "df[df['year']>=2010][df['mission']=='Communication']"
   ]
  },
  {
   "cell_type": "markdown",
   "id": "9a27c8dc",
   "metadata": {},
   "source": [
    "You can create add a new column to the existing dataframe as follows;"
   ]
  },
  {
   "cell_type": "code",
   "execution_count": null,
   "id": "0ea9f1fd",
   "metadata": {},
   "outputs": [],
   "source": [
    "df['mission code']=''"
   ]
  },
  {
   "cell_type": "code",
   "execution_count": null,
   "id": "290df3a5",
   "metadata": {},
   "outputs": [],
   "source": [
    "df"
   ]
  },
  {
   "cell_type": "markdown",
   "id": "74ca7591",
   "metadata": {},
   "source": [
    "#### Computation in dataframes "
   ]
  },
  {
   "cell_type": "markdown",
   "id": "f3fc0f52",
   "metadata": {},
   "source": [
    "Of course data analysis will not always involve only accessing dataframes but more demanding tasks such making changes and writing functions that perform certain tasks. \n",
    "\n",
    "For instance, using the knowledge from previous sessions let us write a function that checks for the \"mission\" column in the dataframe and then assign a code to the corresponding \"mission code\" column. It should assign 1 if the mission is remote sensing and 2 if it is for communication.\n",
    "\n",
    "This can be done as follows;"
   ]
  },
  {
   "cell_type": "code",
   "execution_count": null,
   "id": "089bd85b",
   "metadata": {},
   "outputs": [],
   "source": [
    "for i in range(13):\n",
    "    if df['mission'].loc[i]=='Remote sensing':\n",
    "        df['mission code'].loc[i]=1\n",
    "    elif df['mission'].loc[i]=='Communication':\n",
    "        df['mission code'].loc[i]=2\n",
    "    else:\n",
    "        break\n",
    "df"
   ]
  },
  {
   "cell_type": "markdown",
   "id": "3d72e469",
   "metadata": {},
   "source": [
    "#### More analysis...? "
   ]
  },
  {
   "cell_type": "markdown",
   "id": "68997c5a",
   "metadata": {},
   "source": [
    "Create a new list called \"altitude\" and then add it to the dataframe."
   ]
  },
  {
   "cell_type": "code",
   "execution_count": null,
   "id": "dafb482d",
   "metadata": {},
   "outputs": [],
   "source": [
    "altitude = [917,817,693,475,35919,550,1000,798,692,1300,35786,780,500]"
   ]
  },
  {
   "cell_type": "markdown",
   "id": "75a8703c",
   "metadata": {},
   "source": [
    "1. Add the new column by <font color='purple'>*declaring a new list as a column*.</font>"
   ]
  },
  {
   "cell_type": "code",
   "execution_count": null,
   "id": "7406cb3e",
   "metadata": {},
   "outputs": [],
   "source": [
    "df['altitude'] = altitude"
   ]
  },
  {
   "cell_type": "markdown",
   "id": "d26229c7",
   "metadata": {},
   "source": [
    "2. Method 2: <font color='orange'>by using DataFrame.insert()</font>"
   ]
  },
  {
   "cell_type": "code",
   "execution_count": null,
   "id": "078f809c",
   "metadata": {},
   "outputs": [],
   "source": [
    "#df.insert(5, \"altitude\", altitude, True)"
   ]
  },
  {
   "cell_type": "markdown",
   "id": "3ffda7c1",
   "metadata": {},
   "source": [
    "3. Method 3: <font color='magenta'>using Dataframe.assign() method</font>"
   ]
  },
  {
   "cell_type": "code",
   "execution_count": null,
   "id": "415a5c9b",
   "metadata": {},
   "outputs": [],
   "source": [
    "#df = df.assign(altitude=altitude)"
   ]
  },
  {
   "cell_type": "code",
   "execution_count": null,
   "id": "7711d10b",
   "metadata": {},
   "outputs": [],
   "source": [
    "df"
   ]
  },
  {
   "attachments": {
    "foot.jpg": {
     "image/jpeg": "[encoded data removed]"
    }
   },
   "cell_type": "markdown",
   "id": "e0a71b48",
   "metadata": {},
   "source": [
    "Given that the satellite **footprint area (coverage area), A** on the earth surface is given by the formula below, sort the satellites in descending order based on the area of coverage. \n",
    "![foot.jpg](attachment:foot.jpg)"
   ]
  },
  {
   "attachments": {
    "form.jpg": {
     "image/jpeg": "[encoded data removed]"
    }
   },
   "cell_type": "markdown",
   "id": "b2bca4ba",
   "metadata": {},
   "source": [
    "Where **θ** is the *earth angle* given by;\n",
    "![form.jpg](attachment:form.jpg)\n",
    "and **Re** is the radius of the earth 6378km and **h** is the satellite altitude."
   ]
  },
  {
   "cell_type": "markdown",
   "id": "e5d2a967",
   "metadata": {},
   "source": [
    "1. First we need to create new columns known as \"earth angle\" and \"coverage area\"."
   ]
  },
  {
   "cell_type": "code",
   "execution_count": null,
   "id": "df302e76",
   "metadata": {},
   "outputs": [],
   "source": [
    "df['earth angle']=\"\"\n",
    "df['coverage area']=\"\""
   ]
  },
  {
   "cell_type": "markdown",
   "id": "0c34e361",
   "metadata": {},
   "source": [
    "2. Using a loop, we are going to use the formulas to calculate the earth angle and coverage area;"
   ]
  },
  {
   "cell_type": "markdown",
   "id": "c5091b3e",
   "metadata": {},
   "source": [
    "The following code calculates the earth angle and populates the results in the respective column."
   ]
  },
  {
   "cell_type": "code",
   "execution_count": null,
   "id": "dacd5e3d",
   "metadata": {},
   "outputs": [],
   "source": [
    "Re=6378\n",
    "for i in range(13):\n",
    "    θ=math.acos((Re)/(Re+df['altitude'].loc[i]))\n",
    "    #print(θ)\n",
    "    df['earth angle'].loc[i]=θ\n",
    "df"
   ]
  },
  {
   "cell_type": "markdown",
   "id": "ca8bd99e",
   "metadata": {},
   "source": [
    "Using the results of the earth angle, we can calculate the coverage area and fill in the respective column."
   ]
  },
  {
   "cell_type": "code",
   "execution_count": null,
   "id": "ec8772ff",
   "metadata": {},
   "outputs": [],
   "source": [
    "for i in range(13):\n",
    "    A = 2*np.pi*Re**2*np.sin(df['earth angle'].loc[i])\n",
    "    df['coverage area'].loc[i]=A\n",
    "df"
   ]
  },
  {
   "cell_type": "markdown",
   "id": "b724d5f7",
   "metadata": {},
   "source": [
    "And finally, we arrange the satellites in descsinding order using python sort function."
   ]
  },
  {
   "cell_type": "code",
   "execution_count": null,
   "id": "9b2ee0fd",
   "metadata": {},
   "outputs": [],
   "source": [
    "sorted_df=df.sort_values(by=\"coverage area\",ascending=False)\n",
    "sorted_df"
   ]
  },
  {
   "cell_type": "markdown",
   "id": "f698a3c3",
   "metadata": {},
   "source": [
    "We can reset the index to appear neatly."
   ]
  },
  {
   "cell_type": "code",
   "execution_count": null,
   "id": "f853a7ea",
   "metadata": {},
   "outputs": [],
   "source": [
    "sorted_df.reset_index()"
   ]
  },
  {
   "cell_type": "code",
   "execution_count": null,
   "id": "f16fec42",
   "metadata": {},
   "outputs": [],
   "source": [
    "df =df.groupby('mission').size().reset_index(name='number')\n",
    "df"
   ]
  },
  {
   "cell_type": "markdown",
   "id": "34b0e01e",
   "metadata": {},
   "source": [
    "We can plot a graph showing the mission types using MatPlotLib as demonstrated previously except that now, the data is obtained directly from the dataframe as follows;"
   ]
  },
  {
   "cell_type": "code",
   "execution_count": null,
   "id": "c789e79f",
   "metadata": {},
   "outputs": [],
   "source": [
    "plt.figure(figsize=(8, 8))\n",
    "plt.ylabel(\"Number of Satellites\")\n",
    "plt.title(\"Satellite Missions\")\n",
    "\n",
    "x=df['mission']\n",
    "y=df['number']\n",
    "\n",
    "plt.bar(x, y,color='green')\n",
    "plt.grid(which='both', linestyle=':')"
   ]
  },
  {
   "cell_type": "markdown",
   "id": "d171602f",
   "metadata": {},
   "source": [
    "## References "
   ]
  },
  {
   "cell_type": "markdown",
   "id": "370b4e03",
   "metadata": {},
   "source": [
    "1. D. Pine, (2013). *Introduction to Python for Science*. Release 0.9.23\n",
    "2. B. A. Campbell & P. W. McCandless, (1996). Introduction to space sciences and spacecraft applications. *Elsevier*."
   ]
  }
 ],
 "metadata": {
  "kernelspec": {
   "display_name": "Python 3 (ipykernel)",
   "language": "python",
   "name": "python3"
  },
  "language_info": {
   "codemirror_mode": {
    "name": "ipython",
    "version": 3
   },
   "file_extension": ".py",
   "mimetype": "text/x-python",
   "name": "python",
   "nbconvert_exporter": "python",
   "pygments_lexer": "ipython3",
   "version": "3.9.7"
  }
 },
 "nbformat": 4,
 "nbformat_minor": 5
}
