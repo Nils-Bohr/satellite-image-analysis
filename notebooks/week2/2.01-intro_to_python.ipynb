{
 "cells": [
  {
   "cell_type": "markdown",
   "metadata": {},
   "source": [
    "# Welcome to GGS 416 Satellite Image Analysis\n",
    "\n",
    "### Week 2 - Lecture 1\n",
    "\n",
    "Today we will start the introduction to Python. \n",
    "\n",
    "The purpose is to provide a practical guide to using Python for scientific computing. This will set you up for working with large volumes of satellite imagery. \n",
    "\n",
    "Of the many things we will cover, important aspects include:\n",
    "\n",
    "1. Python as a calculator (addition, subtraction, multiplication, division, floor division, remainder, power etc).\n",
    "2. Types of Numbers (plain integers, floating point and complex numbers).\n",
    "3. Variables. \n",
    "4. Importing Modules.\n",
    "5. Strings, Lists, Arrays and Dictionaries.\n",
    "6. File input (Reading and writing csv and txt files).\n",
    "7. Conditions (if, else, elif, and & or statements).\n",
    "8. Loops (for & while).\n",
    "9. Functions.\n",
    "10. Selected Libraries (pandas)"
   ]
  },
  {
   "cell_type": "markdown",
   "metadata": {},
   "source": [
    "<div class=\"alert alert-block alert-info\">\n",
    "    \n",
    "<b>Note:</b> Make sure you open this notebook properly in Jupyter so you can run the tasks being covered. \n",
    "\n",
    "</div>"
   ]
  },
  {
   "cell_type": "markdown",
   "metadata": {},
   "source": [
    "## 1. Python as a Calculator"
   ]
  },
  {
   "cell_type": "markdown",
   "metadata": {},
   "source": [
    "Python can be used to perfrom simple arithmetic functions, as we will cover here.\n",
    "\n",
    "However, you need to understand Python operators (don't worry, their easy!).\n",
    "\n",
    "Frequent operators include:\n",
    "    - Addition (+)\n",
    "    - Substraction (-)\n",
    "    - Multiplication (*)\n",
    "    - Divsion (/)\n",
    "    - Power (**)\n",
    "    \n",
    "See more here: https://www.w3schools.com/python/python_operators.asp"
   ]
  },
  {
   "cell_type": "markdown",
   "metadata": {},
   "source": [
    "#### General Operations"
   ]
  },
  {
   "cell_type": "markdown",
   "metadata": {},
   "source": [
    "How would you add five plus five in Python?\n",
    "\n",
    "(Hint: We did this at the end of the last lecture)\n",
    "\n",
    "Have a go below:"
   ]
  },
  {
   "cell_type": "code",
   "execution_count": null,
   "metadata": {},
   "outputs": [],
   "source": [
    "#\n",
    "#\n",
    "#\n",
    "#\n",
    "#\n",
    "#Enter your attempt below:\n",
    "5+5\n",
    "#\n",
    "#\n",
    "#\n",
    "#\n",
    "#\n",
    "#"
   ]
  },
  {
   "cell_type": "markdown",
   "metadata": {},
   "source": [
    "Now you've had a go at addition, next you should attempt to write out:\n",
    "\n",
    "three plus four minus two\n",
    "\n",
    "(Hint: Consider parentheses/brackets!)\n",
    "\n",
    "Have a go below:"
   ]
  },
  {
   "cell_type": "code",
   "execution_count": null,
   "metadata": {},
   "outputs": [],
   "source": [
    "#\n",
    "#\n",
    "#\n",
    "#\n",
    "#\n",
    "#Enter your attempt below:\n",
    "(3+4)-2\n",
    "#\n",
    "#\n",
    "#\n",
    "#\n",
    "#\n",
    "#"
   ]
  },
  {
   "cell_type": "markdown",
   "metadata": {},
   "source": [
    "So that gave you a chance to think about how you would add and substract.\n",
    "\n",
    "Next have an attempt at multiplication. \n",
    "\n",
    "How would you multiply five by five?:\n",
    "    \n",
    "Have a go below:"
   ]
  },
  {
   "cell_type": "code",
   "execution_count": null,
   "metadata": {},
   "outputs": [],
   "source": [
    "##### \n",
    "#\n",
    "#\n",
    "#\n",
    "#Enter your attempt below:\n",
    "5*5\n",
    "#\n",
    "#\n",
    "#\n",
    "#\n",
    "#\n",
    "#"
   ]
  },
  {
   "cell_type": "markdown",
   "metadata": {},
   "source": [
    "Indeed, there are multiple ways you could write five multiplied by five. \n",
    "\n",
    "An exponentiation is the operation of raising one quantity to the power of another.\n",
    "\n",
    "Thus, you could also raise five to the power of 2! \n",
    "\n",
    "This is possible in Python by using a double asterik (**)\n",
    "\n",
    "Have a go below:"
   ]
  },
  {
   "cell_type": "code",
   "execution_count": null,
   "metadata": {},
   "outputs": [],
   "source": [
    "#\n",
    "#\n",
    "#\n",
    "#\n",
    "#\n",
    "#Enter your attempt below:\n",
    "5**2\n",
    "#\n",
    "#\n",
    "#\n",
    "#\n",
    "#\n",
    "#"
   ]
  },
  {
   "cell_type": "markdown",
   "metadata": {},
   "source": [
    "In terms of normal division, how would you divide the number ten by two, now that you know the divisional operator?\n",
    "\n",
    "Have a go below:"
   ]
  },
  {
   "cell_type": "code",
   "execution_count": null,
   "metadata": {},
   "outputs": [],
   "source": [
    "#\n",
    "#\n",
    "#\n",
    "#\n",
    "#\n",
    "#Enter your attempt below:\n",
    "10/2\n",
    "#\n",
    "#\n",
    "#\n",
    "#\n",
    "#\n",
    "#"
   ]
  },
  {
   "cell_type": "markdown",
   "metadata": {},
   "source": [
    "In addition to normal division, we also have floor division, which is represented by a double division sign (//).\n",
    "\n",
    "Floor division divides two numbers and rounds the result down to the nearest integer\n",
    "\n",
    "How would you divide ten by three using floor division? And what number do you think you would get?"
   ]
  },
  {
   "cell_type": "code",
   "execution_count": null,
   "metadata": {},
   "outputs": [],
   "source": [
    "#\n",
    "#\n",
    "#\n",
    "#\n",
    "#\n",
    "#Enter your attempt below:\n",
    "10//3\n",
    "#\n",
    "#\n",
    "#\n",
    "#\n",
    "#\n",
    "#"
   ]
  },
  {
   "cell_type": "markdown",
   "metadata": {},
   "source": [
    "Alternatively, a modulo operation using **%** is a remainder operation, meaning after the division specified, the remaining quantity is returned. \n",
    "\n",
    "If we divide twelve by five, what answer do you think you will get?\n",
    "\n",
    "Have a go below:"
   ]
  },
  {
   "cell_type": "code",
   "execution_count": null,
   "metadata": {},
   "outputs": [],
   "source": [
    "#\n",
    "#\n",
    "#\n",
    "#\n",
    "#\n",
    "#Enter your attempt below:\n",
    "12%5\n",
    "#\n",
    "#\n",
    "#\n",
    "#\n",
    "#\n",
    "#"
   ]
  },
  {
   "cell_type": "markdown",
   "metadata": {},
   "source": [
    "A handy shortcut which is usful in both Python and Excel is writing out long numbers using scientific notation.\n",
    "\n",
    "For example, one million can be written out using the number one, followed by the letter 'e' to indicate this is scientific notation, and then the number of following zeros, which for one million would be six. "
   ]
  },
  {
   "cell_type": "code",
   "execution_count": null,
   "metadata": {},
   "outputs": [],
   "source": [
    "#\n",
    "#\n",
    "#\n",
    "#\n",
    "#\n",
    "#Enter your attempt below:\n",
    "1e6\n",
    "#\n",
    "#\n",
    "#\n",
    "#\n",
    "#\n",
    "#"
   ]
  },
  {
   "cell_type": "markdown",
   "metadata": {},
   "source": [
    "<div class=\"alert alert-block alert-warning\">\n",
    "\n",
    "<b>!! Note !!</b> More complicated calculations can be done by combining these operations. Eg.\n",
    "\n",
    "</div>"
   ]
  },
  {
   "cell_type": "markdown",
   "metadata": {},
   "source": [
    "What number would you get if you summed six and twenty one, and the multiplied it by 2, and divided by three?\n",
    "\n",
    "Have a go below:"
   ]
  },
  {
   "cell_type": "code",
   "execution_count": null,
   "metadata": {},
   "outputs": [],
   "source": [
    "#\n",
    "#\n",
    "#\n",
    "#\n",
    "#\n",
    "#Enter your attempt below:\n",
    "((6+21)*2)/3\n",
    "#\n",
    "#\n",
    "#\n",
    "#\n",
    "#\n",
    "#"
   ]
  },
  {
   "cell_type": "markdown",
   "metadata": {},
   "source": [
    "## 2. Types of Numbers"
   ]
  },
  {
   "cell_type": "markdown",
   "metadata": {},
   "source": [
    "### a. Plain Integers "
   ]
  },
  {
   "cell_type": "markdown",
   "metadata": {},
   "source": [
    "Ints (as they are known) are integers of 32 binary digits extending from -2^31 (-2147483648) to 2^31 (2147483647).\n",
    "Python automatically treats a number as an integer if it is written without a decimal point and is within the bounds stated above. \n",
    "\n",
    "If the number is beyond the given bounds, it is known as a **long integer** and designaed as such by an L symbol. \n",
    "\n",
    "When operating on existing integers, which produce other whole numbers, the answer should also be an integer. "
   ]
  },
  {
   "cell_type": "code",
   "execution_count": null,
   "metadata": {},
   "outputs": [],
   "source": [
    "14*3"
   ]
  },
  {
   "cell_type": "code",
   "execution_count": null,
   "metadata": {},
   "outputs": [],
   "source": [
    "5+6*4-(34*6)"
   ]
  },
  {
   "cell_type": "markdown",
   "metadata": {},
   "source": [
    "We are also able to convert numbers to integers, so for example we can use the 'int()' function.\n",
    "\n",
    "Try to convert 2.000 into an integer using the int() function.\n",
    "\n",
    "Have a go below:"
   ]
  },
  {
   "cell_type": "code",
   "execution_count": null,
   "metadata": {},
   "outputs": [],
   "source": [
    "#\n",
    "#\n",
    "#\n",
    "#\n",
    "#\n",
    "#Enter your attempt below:\n",
    "int(2.000)\n",
    "#\n",
    "#\n",
    "#\n",
    "#\n",
    "#\n",
    "#"
   ]
  },
  {
   "cell_type": "markdown",
   "metadata": {},
   "source": [
    "### b. Floating Points"
   ]
  },
  {
   "cell_type": "markdown",
   "metadata": {},
   "source": [
    "Floats (as they are known) rational numbers and may have fractional part.\n",
    "\n",
    "They range between ±2 * 10^-308 to ±2 * 10^308.\n",
    "\n",
    "They are written in python by introducing a period punctuation mark at the end of the integer to indicate a decimal.\n",
    "\n",
    "So, two point four written in full notation should produce a float.  \n",
    "\n",
    "Have a go below:"
   ]
  },
  {
   "cell_type": "code",
   "execution_count": null,
   "metadata": {},
   "outputs": [],
   "source": [
    "#\n",
    "#\n",
    "#\n",
    "#\n",
    "#\n",
    "#Enter your attempt below:\n",
    "2.4\n",
    "\n",
    "#\n",
    "#\n",
    "#\n",
    "#\n",
    "#\n"
   ]
  },
  {
   "cell_type": "code",
   "execution_count": null,
   "metadata": {},
   "outputs": [],
   "source": [
    "# We can also transform an int to a float using the float() function\n",
    "float(1)"
   ]
  },
  {
   "cell_type": "code",
   "execution_count": null,
   "metadata": {},
   "outputs": [],
   "source": [
    "# And then change it back:\n",
    "int(1.0)"
   ]
  },
  {
   "cell_type": "markdown",
   "metadata": {},
   "source": [
    "We can actually find out the type of a number using python's inbuilt function, **type**.\n",
    "\n",
    "As this is a function, e.g., type(), you need to place the number or variable you want to query in the function brackets/parentheses. \n",
    "\n",
    "Have a go below:"
   ]
  },
  {
   "cell_type": "code",
   "execution_count": null,
   "metadata": {},
   "outputs": [],
   "source": [
    "#\n",
    "#\n",
    "#\n",
    "#\n",
    "#\n",
    "#Enter your attempt below:\n",
    "type(2.4)\n",
    "#\n",
    "#\n",
    "#\n",
    "#\n",
    "#\n",
    "#"
   ]
  },
  {
   "cell_type": "markdown",
   "metadata": {},
   "source": [
    "<div class=\"alert alert-block alert-info\">\n",
    "    \n",
    "<b>Note:</b> The result of any operation involving floating numbers as input is a floating number. \n",
    "\n",
    "</div>"
   ]
  },
  {
   "cell_type": "markdown",
   "metadata": {},
   "source": [
    "### c. Complex Numbers"
   ]
  },
  {
   "cell_type": "markdown",
   "metadata": {},
   "source": [
    "It is a sum of real and imaginary part. \n",
    "\n",
    "For example 3  2i is represented as 3-2j where j is the imaginary part."
   ]
  },
  {
   "cell_type": "code",
   "execution_count": null,
   "metadata": {},
   "outputs": [],
   "source": [
    "(5+2j)*(-2+4j)"
   ]
  },
  {
   "cell_type": "markdown",
   "metadata": {},
   "source": [
    "## 3. Variables"
   ]
  },
  {
   "cell_type": "markdown",
   "metadata": {},
   "source": [
    "A variable is a name used to store data \n",
    "\n",
    "(Remember: The term 'data' is plural, whereas a datum is a single value). \n",
    "\n",
    "This could be any type of data, dataframe etc. but here we will consider numerical  values. \n",
    "\n",
    "You can allocate a number to a variable name by using the equals sign.\n",
    "\n",
    "How would you allocate the value twelve to the letter a?"
   ]
  },
  {
   "cell_type": "code",
   "execution_count": null,
   "metadata": {},
   "outputs": [],
   "source": [
    "#\n",
    "#\n",
    "#\n",
    "#\n",
    "#\n",
    "#Enter your attempt below:\n",
    "a=12\n",
    "a\n",
    "#\n",
    "#\n",
    "#\n",
    "#\n",
    "#\n",
    "#"
   ]
  },
  {
   "cell_type": "markdown",
   "metadata": {},
   "source": [
    "You can also allocate multiple values to multiple variables at once. \n",
    "\n",
    "So for example, you can use a comma to separate the variable names and the values. "
   ]
  },
  {
   "cell_type": "code",
   "execution_count": null,
   "metadata": {},
   "outputs": [],
   "source": [
    "b, c = 67.2, 3.14\n",
    "print(b, c)"
   ]
  },
  {
   "cell_type": "markdown",
   "metadata": {},
   "source": [
    "So remember, the equals sign (\"=\") is the **assignment operator**. In the first example, we assign *12* to the variable *a*. In the second case, we assign a value of 67.2 to *b* and a value of 3.14 to *c*.\n",
    "\n",
    "More specifically, the variable name (such as *a*) is associated with a memory location in your computer (that's what's happening under the hood!). "
   ]
  },
  {
   "cell_type": "markdown",
   "metadata": {},
   "source": [
    "<div class=\"alert alert-block alert-info\">\n",
    "    \n",
    "<b>Note:</b> Python stores the *numerical value* and not the expression used to generate it. Therefore, in the first cell, 12 is stored and not *a*. In fact, they are stored as binary numbers (0s and 1s) \n",
    "\n",
    "</div>"
   ]
  },
  {
   "cell_type": "markdown",
   "metadata": {},
   "source": [
    "The following examples demonstrate the concept."
   ]
  },
  {
   "cell_type": "code",
   "execution_count": null,
   "metadata": {},
   "outputs": [],
   "source": [
    "a = 23"
   ]
  },
  {
   "cell_type": "code",
   "execution_count": null,
   "metadata": {},
   "outputs": [],
   "source": [
    "b = a"
   ]
  },
  {
   "cell_type": "code",
   "execution_count": null,
   "metadata": {},
   "outputs": [],
   "source": [
    "a"
   ]
  },
  {
   "cell_type": "code",
   "execution_count": null,
   "metadata": {},
   "outputs": [],
   "source": [
    "b"
   ]
  },
  {
   "cell_type": "code",
   "execution_count": null,
   "metadata": {},
   "outputs": [],
   "source": [
    "a = 13"
   ]
  },
  {
   "cell_type": "code",
   "execution_count": null,
   "metadata": {},
   "outputs": [],
   "source": [
    "a"
   ]
  },
  {
   "cell_type": "code",
   "execution_count": null,
   "metadata": {},
   "outputs": [],
   "source": [
    "b"
   ]
  },
  {
   "cell_type": "markdown",
   "metadata": {},
   "source": [
    "<div class=\"alert alert-block alert-info\">\n",
    "    \n",
    "<b>Note:</b> The assignment variable works from right to left; i.e it assigns the value of the number on the right to the variable name on the left. \n",
    "Therefore, the statement \"6 = a\" does not make sense. \n",
    "\n",
    "The assignment operator is not equivalent to the equals sign in algebra. \n",
    "</div>"
   ]
  },
  {
   "cell_type": "markdown",
   "metadata": {},
   "source": [
    "The assigment operator can be used to increment, decrease or generally change the value of a variable."
   ]
  },
  {
   "cell_type": "code",
   "execution_count": null,
   "metadata": {},
   "outputs": [],
   "source": [
    "a = 3"
   ]
  },
  {
   "cell_type": "code",
   "execution_count": null,
   "metadata": {},
   "outputs": [],
   "source": [
    "a = a + 1"
   ]
  },
  {
   "cell_type": "code",
   "execution_count": null,
   "metadata": {},
   "outputs": [],
   "source": [
    "a"
   ]
  },
  {
   "cell_type": "markdown",
   "metadata": {},
   "source": [
    "In algebra, a = a + 1 is not logical. However, in python, it implies that we \"add 1\" to the current value of *a* and assign the results to *a*. \n",
    "\n",
    "This is a common operation in most programming languages using operations such as +=, -=, /= and *=. \n",
    "\n",
    "Remember, you can see more here: https://www.w3schools.com/python/python_operators.asp"
   ]
  },
  {
   "cell_type": "code",
   "execution_count": null,
   "metadata": {},
   "outputs": [],
   "source": [
    "e, f = 5, 9.8"
   ]
  },
  {
   "cell_type": "code",
   "execution_count": null,
   "metadata": {},
   "outputs": [],
   "source": [
    "e += 2"
   ]
  },
  {
   "cell_type": "code",
   "execution_count": null,
   "metadata": {},
   "outputs": [],
   "source": [
    "e"
   ]
  },
  {
   "cell_type": "code",
   "execution_count": null,
   "metadata": {},
   "outputs": [],
   "source": [
    "e *= 3"
   ]
  },
  {
   "cell_type": "code",
   "execution_count": null,
   "metadata": {},
   "outputs": [],
   "source": [
    "e"
   ]
  },
  {
   "cell_type": "code",
   "execution_count": null,
   "metadata": {},
   "outputs": [],
   "source": [
    "f /= -2"
   ]
  },
  {
   "cell_type": "code",
   "execution_count": null,
   "metadata": {},
   "outputs": [],
   "source": [
    "f"
   ]
  },
  {
   "cell_type": "code",
   "execution_count": null,
   "metadata": {},
   "outputs": [],
   "source": [
    "f -= 4"
   ]
  },
  {
   "cell_type": "code",
   "execution_count": null,
   "metadata": {},
   "outputs": [],
   "source": [
    "f"
   ]
  },
  {
   "cell_type": "markdown",
   "metadata": {},
   "source": [
    "#### Legal and recommended variable names"
   ]
  },
  {
   "cell_type": "markdown",
   "metadata": {},
   "source": [
    "Make sure you are aware that python has it's own style guide, known as the PEP 8 -- Style Guide for Python Code\n",
    "\n",
    "See here: https://www.python.org/dev/peps/pep-0008/\n",
    "\n",
    "Also be aware:\n",
    "\n",
    "1. Variable names must start with a letter but can then be followed by alphanumeric characters.\n",
    "2. Spaces are not allowed, instead you can use, for example, an underscore character \"_\".\n",
    "3. It is advisable to write variable names in small case since python is case sensitive.\n",
    "4. It is recommended that variable names should be descriptive as in following examples. "
   ]
  },
  {
   "cell_type": "code",
   "execution_count": null,
   "metadata": {},
   "outputs": [],
   "source": [
    "# Examples:\n",
    "speed_of_light = 3.0*10**8 #variable to store speed of light\n",
    "frequency_of_GPS_satellite = 1575.42*10**6 #variable to store frequency\n",
    "wavelength = speed_of_light/frequency_of_GPS_satellite #calculate the wavelength from above variables\n",
    "wavelength"
   ]
  },
  {
   "cell_type": "markdown",
   "metadata": {},
   "source": [
    "Remember: Anything written to the right of the pound sign ('#') in an active Python cell is commented out.\n",
    "\n",
    "And thus not run by the console! \n",
    "\n",
    "Adding comments to code is really important as it helps you remember why you did certain things. "
   ]
  },
  {
   "cell_type": "markdown",
   "metadata": {},
   "source": [
    "#### Reserved words "
   ]
  },
  {
   "cell_type": "markdown",
   "metadata": {},
   "source": [
    "Some words and names are reserved by Python for special functions and purposes and must be avoided.\n",
    "\n",
    "In python, such words should automatically change color to green, purple or any other color depending on the editor one is using. \n",
    "\n",
    "Examples of such words include and, as, assert, break, class, continue, def, del, elif, else, except,exec, finally, for, from, global, if, import, in, is, lambda, not, or, pass, print, raise, return, try, while, with, yield*\n",
    "\n",
    "Examine the color of the reserved words below in this simple loop:"
   ]
  },
  {
   "cell_type": "code",
   "execution_count": null,
   "metadata": {},
   "outputs": [],
   "source": [
    "for i in range(0,3):\n",
    "    print(i)"
   ]
  },
  {
   "cell_type": "markdown",
   "metadata": {},
   "source": [
    "## 4. Python Modules"
   ]
  },
  {
   "cell_type": "markdown",
   "metadata": {},
   "source": [
    "The Python consists of a “core” language and a collection of supplementary software that is contained in **modules** known as **libraries**. Many of these libraries come with the standard Python distribution such as anaconda and provide added functionality for performing computer system tasks.\n",
    "Libraries may be needed for additional specific functions. Examples include Numpy (for scientific computing), math (for arithmetic functions), matplotlib (for plotting) etc.\n",
    "\n",
    "Libraries have several functions that one can use just like borrowing a specific book from the Fenwick Library. \n",
    "\n",
    "To use, you must import into the current python environment. There are several ways to do that. However, in GGS416 it is recommended you use the **import** statement.\n",
    "\n",
    "For instance using square root (sqrt) function of numpy library to calculate the square root of 25 can be performed as follows;"
   ]
  },
  {
   "cell_type": "code",
   "execution_count": 1,
   "metadata": {},
   "outputs": [
    {
     "data": {
      "text/plain": [
       "5.0"
      ]
     },
     "execution_count": 1,
     "metadata": {},
     "output_type": "execute_result"
    }
   ],
   "source": [
    "import numpy\n",
    "numpy.sqrt(25)"
   ]
  },
  {
   "cell_type": "code",
   "execution_count": null,
   "metadata": {},
   "outputs": [],
   "source": [
    "from math import sqrt\n",
    "sqrt(25)"
   ]
  },
  {
   "cell_type": "markdown",
   "metadata": {},
   "source": [
    "However, writing the library name in full may be monotonous.\n",
    "\n",
    "Consequently, the library name can be shortened using any desired short-hand form by the user. However, there are generally accepted short-hand forms for python programming such np for numpy, plt for matplotlib etc. \n",
    "\n",
    "For example, see the abbreviated numpy term `np` below:"
   ]
  },
  {
   "cell_type": "code",
   "execution_count": 6,
   "metadata": {},
   "outputs": [
    {
     "data": {
      "text/plain": [
       "5.0"
      ]
     },
     "execution_count": 6,
     "metadata": {},
     "output_type": "execute_result"
    }
   ],
   "source": [
    "import numpy as np\n",
    "np.sqrt(25)"
   ]
  },
  {
   "cell_type": "markdown",
   "metadata": {},
   "source": [
    "More specifically, a subset of functions can also be imported from a module without importing the entire module. \n",
    "\n",
    "For instance, if you want to import just the *sin* function from numpy, you can write as follows (and you won't need to write numpy.sin() because you have imported the function globally into the notebook):"
   ]
  },
  {
   "cell_type": "code",
   "execution_count": null,
   "metadata": {},
   "outputs": [],
   "source": [
    "from numpy import sin\n",
    "sin(30)"
   ]
  },
  {
   "cell_type": "markdown",
   "metadata": {},
   "source": [
    "You can also import multiple functions as shown below;"
   ]
  },
  {
   "cell_type": "code",
   "execution_count": null,
   "metadata": {},
   "outputs": [],
   "source": [
    "from numpy import sin, cos, tan\n",
    "tan(90)"
   ]
  },
  {
   "cell_type": "markdown",
   "metadata": {},
   "source": [
    "## 5. Strings, Lists, Tuples, Arrays and Dictionaries."
   ]
  },
  {
   "cell_type": "markdown",
   "metadata": {},
   "source": [
    "### a. Strings"
   ]
  },
  {
   "cell_type": "markdown",
   "metadata": {},
   "source": [
    "Strings consist of characters and symbols, often representing natural human language (as opposed to a computer language).\n",
    "\n",
    "Strings are handy for text manipulation, file modification, labelling of plots, requesting inputs from user, arguments in functions etc.\n",
    "\n",
    "They are created by enclosing a sequence of characters using pair of single of double quotes. It does not matter whether single or double but it should be consistent. \n",
    "\n",
    "Strings can be assigned variable names."
   ]
  },
  {
   "cell_type": "code",
   "execution_count": null,
   "metadata": {},
   "outputs": [],
   "source": [
    "my_string = 'this is my string'\n",
    "my_string"
   ]
  },
  {
   "cell_type": "markdown",
   "metadata": {},
   "source": [
    "Strings can be concatenated using the \"+\" operator:"
   ]
  },
  {
   "cell_type": "code",
   "execution_count": null,
   "metadata": {},
   "outputs": [],
   "source": [
    "a = 'this is ggs416'\n",
    "b = 'which is on Monday at 3pm'\n",
    "c = a + \" \" + b\n",
    "c"
   ]
  },
  {
   "cell_type": "markdown",
   "metadata": {},
   "source": [
    "Strings can also be made of numbers. This might catch you out from time to time."
   ]
  },
  {
   "cell_type": "code",
   "execution_count": null,
   "metadata": {},
   "outputs": [],
   "source": [
    "d = '345'\n",
    "e = 345"
   ]
  },
  {
   "cell_type": "markdown",
   "metadata": {},
   "source": [
    "The variable d is a string while e is an integer.\n",
    "Can you try adding them? What do you think will happen?"
   ]
  },
  {
   "cell_type": "markdown",
   "metadata": {},
   "source": [
    "What do you think will happen if you multiple d by two?\n",
    "\n",
    "(Remember d is a string, so you won't get 690. Instead, you will get the string repeated twice, so '345345')"
   ]
  },
  {
   "cell_type": "code",
   "execution_count": null,
   "metadata": {},
   "outputs": [],
   "source": [
    "# Example:\n",
    "d * 2\n",
    "\n",
    "# Answer: '345345'"
   ]
  },
  {
   "cell_type": "markdown",
   "metadata": {},
   "source": [
    "### b. Lists"
   ]
  },
  {
   "cell_type": "markdown",
   "metadata": {},
   "source": [
    "Lists consist of one or more elements and can contain any data type such as numbers, strings, floats, bools or both. \n",
    "\n",
    "Lists are defined by a pair of square brackets with individual elements separated by commas."
   ]
  },
  {
   "cell_type": "code",
   "execution_count": null,
   "metadata": {},
   "outputs": [],
   "source": [
    "a = [2017,2018,2019,2020,2021]\n",
    "a"
   ]
  },
  {
   "cell_type": "code",
   "execution_count": null,
   "metadata": {},
   "outputs": [],
   "source": [
    "b = [2.0,\"GMU\",3+0j,\"GGS\",2021]\n",
    "b"
   ]
  },
  {
   "cell_type": "markdown",
   "metadata": {},
   "source": [
    "Individual elements within a list can be accessed using a variable name with square brackets as follows;"
   ]
  },
  {
   "cell_type": "code",
   "execution_count": null,
   "metadata": {},
   "outputs": [],
   "source": [
    "b[0]"
   ]
  },
  {
   "cell_type": "code",
   "execution_count": null,
   "metadata": {},
   "outputs": [],
   "source": [
    "b[1]"
   ]
  },
  {
   "cell_type": "code",
   "execution_count": null,
   "metadata": {},
   "outputs": [],
   "source": [
    "b[3]"
   ]
  },
  {
   "cell_type": "markdown",
   "metadata": {},
   "source": [
    "Proper programming languages, such as python and C, index lists starting from 0. \n",
    "\n",
    "The last element in list b is b[4] because the list has 5 elements and it can be accessed as b[-1] also.\n",
    "\n",
    "The lists can be accessed in reverse but starting with -1:"
   ]
  },
  {
   "cell_type": "code",
   "execution_count": null,
   "metadata": {},
   "outputs": [],
   "source": [
    "b[4]"
   ]
  },
  {
   "cell_type": "code",
   "execution_count": null,
   "metadata": {},
   "outputs": [],
   "source": [
    "b[-1]"
   ]
  },
  {
   "cell_type": "markdown",
   "metadata": {},
   "source": [
    "The individual elements within the list can be changed."
   ]
  },
  {
   "cell_type": "code",
   "execution_count": null,
   "metadata": {},
   "outputs": [],
   "source": [
    "b"
   ]
  },
  {
   "cell_type": "code",
   "execution_count": null,
   "metadata": {},
   "outputs": [],
   "source": [
    "b[0] = b[0]+1\n",
    "b"
   ]
  },
  {
   "cell_type": "code",
   "execution_count": null,
   "metadata": {},
   "outputs": [],
   "source": [
    "b[2] = 'Spring Semester'"
   ]
  },
  {
   "cell_type": "code",
   "execution_count": null,
   "metadata": {},
   "outputs": [],
   "source": [
    "b"
   ]
  },
  {
   "cell_type": "markdown",
   "metadata": {},
   "source": [
    "In the above example, 1 has been added to the previous value of b[0] and the complex number 3+0j was replaced with string \"Spring Semester\".\n",
    "\n",
    "Individual elements within a list can also be manipulated."
   ]
  },
  {
   "cell_type": "code",
   "execution_count": null,
   "metadata": {},
   "outputs": [],
   "source": [
    "b[3] = b[3] + \" -\"\n",
    "b"
   ]
  },
  {
   "cell_type": "markdown",
   "metadata": {},
   "source": [
    "We can also reverse the order of the list:"
   ]
  },
  {
   "cell_type": "code",
   "execution_count": null,
   "metadata": {},
   "outputs": [],
   "source": [
    "b = b[::-1]\n",
    "b"
   ]
  },
  {
   "cell_type": "markdown",
   "metadata": {},
   "source": [
    "A key feature of lists is that they can be added together:"
   ]
  },
  {
   "cell_type": "code",
   "execution_count": null,
   "metadata": {},
   "outputs": [],
   "source": [
    "a "
   ]
  },
  {
   "cell_type": "code",
   "execution_count": null,
   "metadata": {},
   "outputs": [],
   "source": [
    "a+a"
   ]
  },
  {
   "cell_type": "markdown",
   "metadata": {},
   "source": [
    "Note how the individual elements are not added, but the two data structures are combined into a single list. "
   ]
  },
  {
   "cell_type": "code",
   "execution_count": null,
   "metadata": {},
   "outputs": [],
   "source": [
    "a+b"
   ]
  },
  {
   "cell_type": "markdown",
   "metadata": {},
   "source": [
    "##### Slicing Lists "
   ]
  },
  {
   "cell_type": "markdown",
   "metadata": {},
   "source": [
    "Parts of lists can be accessed using the *slicing* feature. "
   ]
  },
  {
   "cell_type": "code",
   "execution_count": null,
   "metadata": {},
   "outputs": [],
   "source": [
    "# So if we have our list b:\n",
    "b"
   ]
  },
  {
   "cell_type": "code",
   "execution_count": null,
   "metadata": {},
   "outputs": [],
   "source": [
    "# We can slice it for just the first three elements by specifying b[0:3]\n",
    "b[0:3]\n",
    "\n",
    "# So this literally means for our list 'b', I want to index into the list \n",
    "# (thus the square brackets '[]'), and then extract from position 0-3. "
   ]
  },
  {
   "cell_type": "markdown",
   "metadata": {},
   "source": [
    "Alternatively, we can cut from the third position onwards, as follows:"
   ]
  },
  {
   "cell_type": "code",
   "execution_count": null,
   "metadata": {},
   "outputs": [],
   "source": [
    "b[3:]"
   ]
  },
  {
   "cell_type": "markdown",
   "metadata": {},
   "source": [
    "Or from the start of the list until the third position:"
   ]
  },
  {
   "cell_type": "code",
   "execution_count": null,
   "metadata": {},
   "outputs": [],
   "source": [
    "b[:3]"
   ]
  },
  {
   "cell_type": "markdown",
   "metadata": {},
   "source": [
    "A length of a list can be accessed using the *len* function.\n",
    "\n",
    "This is a really useful function which is used all the time, so remember it!"
   ]
  },
  {
   "cell_type": "code",
   "execution_count": null,
   "metadata": {},
   "outputs": [],
   "source": [
    "len(b)"
   ]
  },
  {
   "cell_type": "markdown",
   "metadata": {},
   "source": [
    "#### Appending to a List"
   ]
  },
  {
   "cell_type": "markdown",
   "metadata": {},
   "source": [
    "An element can be added at the end of a given list using the **append** function. "
   ]
  },
  {
   "cell_type": "code",
   "execution_count": null,
   "metadata": {},
   "outputs": [],
   "source": [
    "states = ['New York', 'Virginia','Washington DC', 'Delaware','Maryland']"
   ]
  },
  {
   "cell_type": "code",
   "execution_count": null,
   "metadata": {},
   "outputs": [],
   "source": [
    "states"
   ]
  },
  {
   "cell_type": "code",
   "execution_count": null,
   "metadata": {},
   "outputs": [],
   "source": [
    "states.append('North Carolina')\n",
    "states.append('Las Vegas')"
   ]
  },
  {
   "cell_type": "code",
   "execution_count": null,
   "metadata": {},
   "outputs": [],
   "source": [
    "states"
   ]
  },
  {
   "cell_type": "markdown",
   "metadata": {},
   "source": [
    "<div class=\"alert alert-block alert-info\">\n",
    "    \n",
    "<b>Note:</b> *append* works by adding the element after the last one in the existing list. \n",
    "</div>"
   ]
  },
  {
   "cell_type": "markdown",
   "metadata": {},
   "source": [
    "Sometimes it might be necessary to add an element at a specific position in a list. This can be achieved using the **insert** function. The position is specified followed by the element. Example;"
   ]
  },
  {
   "cell_type": "code",
   "execution_count": null,
   "metadata": {},
   "outputs": [],
   "source": [
    "states.insert(3,'West Virginia')"
   ]
  },
  {
   "cell_type": "code",
   "execution_count": null,
   "metadata": {},
   "outputs": [],
   "source": [
    "states"
   ]
  },
  {
   "cell_type": "markdown",
   "metadata": {},
   "source": [
    "An element of a list can be removed using the **remove** function. This is done by specifying the element."
   ]
  },
  {
   "cell_type": "code",
   "execution_count": null,
   "metadata": {},
   "outputs": [],
   "source": [
    "states.remove('Washington DC')\n",
    "states"
   ]
  },
  {
   "cell_type": "markdown",
   "metadata": {},
   "source": [
    "Python **del** function can also be used in place of remove. The advantage is that it only accepts the index of the element and not necessary the element which might always return an error due to spelling or case sensitivity. Example, to remove Las Vegas from the list;"
   ]
  },
  {
   "cell_type": "code",
   "execution_count": null,
   "metadata": {},
   "outputs": [],
   "source": [
    "del states[4]\n",
    "states"
   ]
  },
  {
   "cell_type": "markdown",
   "metadata": {},
   "source": [
    "### c. Tuples"
   ]
  },
  {
   "cell_type": "markdown",
   "metadata": {},
   "source": [
    "Tuples are lists which are immutable (their individual elements cannot be changed).\n",
    "\n",
    "They are defined by their parentheses e.g. my_tuple = (0, 1, 2, 3)\n",
    "\n",
    "This contrasts with lists which use square brackets, e.g. [], or dictionaries which use curly brackets e.g. {}.\n",
    "\n",
    "The individual elements can be accessed in similar manner as lists."
   ]
  },
  {
   "cell_type": "code",
   "execution_count": null,
   "metadata": {},
   "outputs": [],
   "source": [
    "c = (10,20,30,40,50,60)\n",
    "c"
   ]
  },
  {
   "cell_type": "code",
   "execution_count": null,
   "metadata": {},
   "outputs": [],
   "source": [
    "# Let's index the value at position 3:\n",
    "c[3]"
   ]
  },
  {
   "cell_type": "markdown",
   "metadata": {},
   "source": [
    "Let's try changing an element of a tuple. "
   ]
  },
  {
   "cell_type": "code",
   "execution_count": null,
   "metadata": {},
   "outputs": [],
   "source": [
    "# Remember tuples are immutable though, so you can't change their contents like this!\n",
    "#c[4] = 100"
   ]
  },
  {
   "cell_type": "markdown",
   "metadata": {},
   "source": [
    "A really useful characteristic of tuples is that you can unpack them to individual variables:"
   ]
  },
  {
   "cell_type": "code",
   "execution_count": null,
   "metadata": {},
   "outputs": [],
   "source": [
    "# Example: So for our tuple c, we can unpack the elements individually to x, y, z:\n",
    "\n",
    "c = (10,20,30)\n",
    "\n",
    "x, y, z, = c\n",
    "x, y, z"
   ]
  },
  {
   "cell_type": "markdown",
   "metadata": {},
   "source": [
    "##### Multidimensional lists and tuples "
   ]
  },
  {
   "cell_type": "markdown",
   "metadata": {},
   "source": [
    "This is a common data structure we will use in satellite image processing.\n",
    "\n",
    "For example, using:\n",
    "\n",
    "    - A list of lists\n",
    "    - A list of tuples"
   ]
  },
  {
   "cell_type": "code",
   "execution_count": null,
   "metadata": {},
   "outputs": [],
   "source": [
    "# Example\n",
    "# A list of lists: (remember lists of square brackets)\n",
    "\n",
    "navsats_list = [\n",
    "    ['GPS','USA'],\n",
    "    ['Galileo','EU'],\n",
    "    ['Glonnas','Russia']\n",
    "]\n",
    "navsats_list"
   ]
  },
  {
   "cell_type": "code",
   "execution_count": null,
   "metadata": {},
   "outputs": [],
   "source": [
    "# Example:\n",
    "# A list of tuples: (remember tuples use normal parantheses/brackets)\n",
    "\n",
    "navsats_tuples = [\n",
    "    ('GPS','USA'),\n",
    "    ('Galileo','EU'),\n",
    "    ('Glonnas','Russia')\n",
    "]\n",
    "navsats_tuples"
   ]
  },
  {
   "cell_type": "code",
   "execution_count": null,
   "metadata": {},
   "outputs": [],
   "source": [
    "# Example:\n",
    "# You can index them like normal lists\n",
    "navsats_list[0]"
   ]
  },
  {
   "cell_type": "code",
   "execution_count": null,
   "metadata": {},
   "outputs": [],
   "source": [
    "# You can also iterate over them like a normal list using a loop:\n",
    "    \n",
    "for i in navsats_list:\n",
    "    print(i)"
   ]
  },
  {
   "cell_type": "markdown",
   "metadata": {},
   "source": [
    "It's the same for the tuple list:"
   ]
  },
  {
   "cell_type": "code",
   "execution_count": null,
   "metadata": {},
   "outputs": [],
   "source": [
    "navsats_tuples[1]"
   ]
  },
  {
   "cell_type": "code",
   "execution_count": null,
   "metadata": {},
   "outputs": [],
   "source": [
    "# You can also iterate over them like a normal list using a loop:\n",
    "    \n",
    "for i in navsats_tuples:\n",
    "    print(i)"
   ]
  },
  {
   "cell_type": "markdown",
   "metadata": {},
   "source": [
    "You can even start to include some logic in the loop:"
   ]
  },
  {
   "cell_type": "code",
   "execution_count": null,
   "metadata": {},
   "outputs": [],
   "source": [
    "for i in navsats_tuples:  # So we're iterating over our list of tuples using a for loop.\n",
    "    if i[1] == 'USA':     # And placing an if function to see if the first item in each tuple is equal to 'USA'.\n",
    "        print(i[0])       # If it is, we print the constellation name."
   ]
  },
  {
   "cell_type": "markdown",
   "metadata": {},
   "source": [
    "### d. NumPy Arrays"
   ]
  },
  {
   "cell_type": "markdown",
   "metadata": {},
   "source": [
    "These are the real workhorse of data structures for engineering applications and scientific computing and are formally called *ndarray*.\n",
    "\n",
    "It is similar to list but all elements are of the same type. "
   ]
  },
  {
   "cell_type": "markdown",
   "metadata": {},
   "source": [
    "Numpy arrays can be acreated in four different ways as follows;\n",
    "1. Converting an existing list using **array** python function. \n",
    "2. Using NumPy **linspace** and **logspace** functions.\n",
    "3. Using NumPy **arrange** function.\n",
    "4. Creating an array of **zeros** and **ones** functions."
   ]
  },
  {
   "cell_type": "markdown",
   "metadata": {},
   "source": [
    "We will need to import the numpy library to use these functions."
   ]
  },
  {
   "cell_type": "code",
   "execution_count": 7,
   "metadata": {},
   "outputs": [],
   "source": [
    "import numpy as np"
   ]
  },
  {
   "cell_type": "markdown",
   "metadata": {},
   "source": [
    "##### 1. Converting an existing list using **array** python function.  "
   ]
  },
  {
   "cell_type": "code",
   "execution_count": 8,
   "metadata": {},
   "outputs": [
    {
     "data": {
      "text/plain": [
       "[10, 20, 30, 40, 50, 60, 70, 80, 90]"
      ]
     },
     "execution_count": 8,
     "metadata": {},
     "output_type": "execute_result"
    }
   ],
   "source": [
    "a = [10,20,30,40,50,60,70,80,90]\n",
    "a"
   ]
  },
  {
   "cell_type": "code",
   "execution_count": 9,
   "metadata": {},
   "outputs": [
    {
     "data": {
      "text/plain": [
       "array([10, 20, 30, 40, 50, 60, 70, 80, 90])"
      ]
     },
     "execution_count": 9,
     "metadata": {},
     "output_type": "execute_result"
    }
   ],
   "source": [
    "b = np.array(a)\n",
    "b"
   ]
  },
  {
   "cell_type": "markdown",
   "metadata": {},
   "source": [
    "The above steps can be written in one step as follows"
   ]
  },
  {
   "cell_type": "code",
   "execution_count": 5,
   "metadata": {},
   "outputs": [
    {
     "ename": "NameError",
     "evalue": "name 'np' is not defined",
     "output_type": "error",
     "traceback": [
      "\u001b[1;31m---------------------------------------------------------------------------\u001b[0m",
      "\u001b[1;31mNameError\u001b[0m                                 Traceback (most recent call last)",
      "\u001b[1;32m<ipython-input-5-6f3ac027fdb5>\u001b[0m in \u001b[0;36m<module>\u001b[1;34m\u001b[0m\n\u001b[1;32m----> 1\u001b[1;33m \u001b[0mc\u001b[0m \u001b[1;33m=\u001b[0m \u001b[0mnp\u001b[0m\u001b[1;33m.\u001b[0m\u001b[0marray\u001b[0m\u001b[1;33m(\u001b[0m\u001b[1;33m[\u001b[0m\u001b[1;36m2\u001b[0m\u001b[1;33m,\u001b[0m\u001b[1;36m4.5\u001b[0m\u001b[1;33m,\u001b[0m\u001b[1;33m-\u001b[0m\u001b[1;36m6\u001b[0m\u001b[1;33m,\u001b[0m\u001b[1;36m10\u001b[0m\u001b[1;33m]\u001b[0m\u001b[1;33m)\u001b[0m\u001b[1;33m\u001b[0m\u001b[1;33m\u001b[0m\u001b[0m\n\u001b[0m\u001b[0;32m      2\u001b[0m \u001b[0mc\u001b[0m\u001b[1;33m\u001b[0m\u001b[1;33m\u001b[0m\u001b[0m\n",
      "\u001b[1;31mNameError\u001b[0m: name 'np' is not defined"
     ]
    }
   ],
   "source": [
    "c = np.array([2,4.5,-6,10])\n",
    "c"
   ]
  },
  {
   "cell_type": "markdown",
   "metadata": {},
   "source": [
    "##### 2. Using NumPy **linspace** and **logspace** functions."
   ]
  },
  {
   "cell_type": "markdown",
   "metadata": {},
   "source": [
    "**Linspace** creates an array N of evenly spaced points between a starting and ending point. \n",
    "\n",
    "The function name stands for linear spacing.\n",
    "\n",
    "It takes the general from, *linspace(start,stop,N)*.\n",
    "\n",
    "If N is not provided, then it is automatically set to N=50."
   ]
  },
  {
   "cell_type": "code",
   "execution_count": null,
   "metadata": {},
   "outputs": [],
   "source": [
    "# Example\n",
    "# Here we are creating a sequence of 5 values between 0 to 20.\n",
    "np.linspace(0,20,5)"
   ]
  },
  {
   "cell_type": "markdown",
   "metadata": {},
   "source": [
    "**Logspace** produces evenly spaced points on a logarithmic scale.\n",
    "\n",
    "Arguments are the same as those for linspace except that the *start* and *stop* refer to a power of 10. "
   ]
  },
  {
   "cell_type": "code",
   "execution_count": null,
   "metadata": {},
   "outputs": [],
   "source": [
    "# Example\n",
    "np.logspace(0,20,5)"
   ]
  },
  {
   "cell_type": "markdown",
   "metadata": {},
   "source": [
    "##### 3. Using NumPy **arange** function."
   ]
  },
  {
   "cell_type": "markdown",
   "metadata": {},
   "source": [
    "The NumPy *arange* function is similar to python's *range* function and takes the general form of *arange(start,stop,step)*.\n",
    "\n",
    "By default step=1 and start=0."
   ]
  },
  {
   "cell_type": "code",
   "execution_count": null,
   "metadata": {},
   "outputs": [],
   "source": [
    "# Example\n",
    "# A sequenced array between 0 and 20, incrementing by 2. \n",
    "np.arange(0,20,2)"
   ]
  },
  {
   "cell_type": "code",
   "execution_count": null,
   "metadata": {},
   "outputs": [],
   "source": [
    "# Example\n",
    "# A sequenced array between 0 and 20, incrementing by 1.5. \n",
    "np.arange(0,20,1.5)"
   ]
  },
  {
   "cell_type": "markdown",
   "metadata": {},
   "source": [
    "### e. Dictionaries"
   ]
  },
  {
   "cell_type": "markdown",
   "metadata": {},
   "source": [
    "Unlike lists where square brackets are used, dictionaries use curly brackets, **{ }**. \n",
    "\n",
    "Whereas lists have an inherent order, dictionaries have no order. In fact, python guarantees no repeatable order. This is because the data structure is indexed using keys. \n",
    "\n",
    "*A Python list is a collection of Python objects indexed by an ordered sequence of integers\n",
    "starting from zero. A dictionary is also collection of Python objects, just like a list,\n",
    "but one that is indexed by strings or numbers (not necessarily integers and not in any\n",
    "particular order) or even tuples!*, (Pine, 2013).\n",
    "\n",
    "Dicts have a very specific structure inside the curly brackets, based on key-value pairs. They have this name as each pair has a key and a value separated by a colon. See the my_dict example below: "
   ]
  },
  {
   "cell_type": "code",
   "execution_count": null,
   "metadata": {},
   "outputs": [],
   "source": [
    "my_dict = {\n",
    "'my_key': 'my_value',\n",
    "'my_second_key': 'my_second_value',\n",
    "}\n",
    "my_dict"
   ]
  },
  {
   "cell_type": "markdown",
   "metadata": {},
   "source": [
    "Dicts can actually hold any data types, even other lists or dicts. "
   ]
  },
  {
   "cell_type": "code",
   "execution_count": null,
   "metadata": {},
   "outputs": [],
   "source": [
    "my_dict = {\n",
    "'my_key': 6,\n",
    "'my_second_key': (0, 1, 2, 3),\n",
    "}\n",
    "my_dict"
   ]
  },
  {
   "cell_type": "markdown",
   "metadata": {},
   "source": [
    "Example: Let us create a dictionary containing Remote Sensing satellite mission information with year of launch, ownership and orbital inclination.\n",
    "\n",
    "We first need to create out empty dictionary:"
   ]
  },
  {
   "cell_type": "code",
   "execution_count": null,
   "metadata": {},
   "outputs": [],
   "source": [
    "# Example\n",
    "satellites = {} # This is our empty dict!\n",
    "satellites # As demonstrated when printed!"
   ]
  },
  {
   "cell_type": "code",
   "execution_count": null,
   "metadata": {},
   "outputs": [],
   "source": [
    "# Example\n",
    "# Let's populate our dictionary.\n",
    "satellites['mission'] ='LandSat' \n",
    "satellites['Launch Year']=1972\n",
    "satellites['Orbital Inclination'] = 99.2\n",
    "satellites"
   ]
  },
  {
   "cell_type": "markdown",
   "metadata": {},
   "source": [
    "The real strength of dicts comes when you want to index into them to grab information from the key-value pairs. \n",
    "\n",
    "For example, we can access the mission name from the dict as follows:"
   ]
  },
  {
   "cell_type": "code",
   "execution_count": null,
   "metadata": {},
   "outputs": [],
   "source": [
    "# Example\n",
    "satellites['mission'] # So we can index into the dict using the key name, and it returns the value from that pair!"
   ]
  },
  {
   "cell_type": "markdown",
   "metadata": {},
   "source": [
    "We can also access the keys and values separately using either the .keys() or .values() functions."
   ]
  },
  {
   "cell_type": "code",
   "execution_count": null,
   "metadata": {},
   "outputs": [],
   "source": [
    "satellites.keys()"
   ]
  },
  {
   "cell_type": "code",
   "execution_count": null,
   "metadata": {},
   "outputs": [],
   "source": [
    "satellites.values()"
   ]
  },
  {
   "cell_type": "code",
   "execution_count": null,
   "metadata": {},
   "outputs": [],
   "source": [
    "# We can also iterate over the keys and values in tandem:"
   ]
  },
  {
   "cell_type": "code",
   "execution_count": null,
   "metadata": {},
   "outputs": [],
   "source": [
    "for key, value in satellites.items():\n",
    "    print(key, value)"
   ]
  },
  {
   "cell_type": "markdown",
   "metadata": {},
   "source": [
    "### f. Random Numbers"
   ]
  },
  {
   "cell_type": "markdown",
   "metadata": {},
   "source": [
    "These are widely used in engineering and science computations. They can be used to model physical phenomen such as distribution of electrons in a medium or simulate noisy data such as signal strength of a GPS satellite .\n",
    "\n",
    "The underlying concept is that a random generator should produce a sequence of numbers distributed according to some pre-determined distribution function (Pine, 2013). "
   ]
  },
  {
   "cell_type": "markdown",
   "metadata": {},
   "source": [
    "In python, random numbers can be generated using NumPy library functions such as *random.rand*, *random.randn* and *random.randint*."
   ]
  },
  {
   "cell_type": "markdown",
   "metadata": {},
   "source": [
    "#### i. *random.rand*"
   ]
  },
  {
   "cell_type": "markdown",
   "metadata": {},
   "source": [
    "*rand* creates an array of float uniformaly distributed between 0 and 1."
   ]
  },
  {
   "cell_type": "code",
   "execution_count": null,
   "metadata": {},
   "outputs": [],
   "source": [
    "np.random.rand()"
   ]
  },
  {
   "cell_type": "code",
   "execution_count": null,
   "metadata": {},
   "outputs": [],
   "source": [
    "np.random.rand(10)"
   ]
  },
  {
   "cell_type": "markdown",
   "metadata": {},
   "source": [
    "Without an argument *random.rand* generates a single value. More values can be generated by specifying the size required as shown above to generate 10 random numbers between 0 and 1. "
   ]
  },
  {
   "cell_type": "markdown",
   "metadata": {},
   "source": [
    "<div class=\"alert alert-block alert-info\">\n",
    "    \n",
    "<b>Note:</b> Random numbers can be generated between specific intervals. For instance, 50-60. \n",
    "\n",
    "This is achieved by stretching the interval so that the width is 50-60 and displacing the lower limit from 0 to 50 as follows..\n",
    "</div>"
   ]
  },
  {
   "cell_type": "code",
   "execution_count": null,
   "metadata": {},
   "outputs": [],
   "source": [
    "a , b = 50, 60\n",
    "a,b "
   ]
  },
  {
   "cell_type": "code",
   "execution_count": null,
   "metadata": {},
   "outputs": [],
   "source": [
    "(b-a)*np.random.rand(60) + a"
   ]
  },
  {
   "cell_type": "markdown",
   "metadata": {},
   "source": [
    "#### ii. random.randn "
   ]
  },
  {
   "cell_type": "markdown",
   "metadata": {},
   "source": [
    "*random.randn* functions produces normal/Gaussian  random numbers with a default mean of 0 and standard deviation of 1."
   ]
  },
  {
   "cell_type": "code",
   "execution_count": null,
   "metadata": {},
   "outputs": [],
   "source": [
    "np.random.randn(20)"
   ]
  },
  {
   "cell_type": "markdown",
   "metadata": {},
   "source": [
    "## 6. File Input"
   ]
  },
  {
   "cell_type": "markdown",
   "metadata": {},
   "source": [
    "#### a. Reading .txt files"
   ]
  },
  {
   "cell_type": "markdown",
   "metadata": {},
   "source": [
    "We will need to read in data stored in external files. Consider a comma separated value (.csv) file containing a satellite imagery lookup table which we need to read."
   ]
  },
  {
   "cell_type": "code",
   "execution_count": null,
   "metadata": {},
   "outputs": [],
   "source": [
    "np.loadtxt('lookup.csv', skiprows = 1, unpack=True, delimiter=',')"
   ]
  },
  {
   "cell_type": "markdown",
   "metadata": {},
   "source": [
    "Here we are telling NumPy to load a new file, but rather than a .txt file, we are loading a .csv and explicitely stating that the *delimiter* is a comma."
   ]
  },
  {
   "cell_type": "markdown",
   "metadata": {},
   "source": [
    "## 7. Conditionals "
   ]
  },
  {
   "cell_type": "markdown",
   "metadata": {},
   "source": [
    "These are series of statements that allow a computer program to perform different actions based on whether some requirement or set of instructions is true or false.\n",
    "\n",
    "It therefore allows the programmer to control the flow of the program. \n",
    "\n",
    "We are going to look at **if**, **elif** and **else** statements among others in this tutorial. \n",
    "\n",
    "Here is an example:"
   ]
  },
  {
   "cell_type": "code",
   "execution_count": null,
   "metadata": {},
   "outputs": [],
   "source": [
    "for i in range(0,5):\n",
    "    if i == 2:\n",
    "        print(i)"
   ]
  },
  {
   "cell_type": "markdown",
   "metadata": {},
   "source": [
    "As expected, the code works but lets explain it line by line;\n",
    "    - First we create a for loop to iterate over the range 0-5.\n",
    "    - Secondly, we specify that if i is equal to the number 2, the loop should proceed.\n",
    "    - Finally, we print i.\n",
    "\n",
    "This logic results in us printing the number 2. "
   ]
  },
  {
   "cell_type": "markdown",
   "metadata": {},
   "source": [
    "We are also able to export the implication of more nuanced logic."
   ]
  },
  {
   "cell_type": "code",
   "execution_count": null,
   "metadata": {},
   "outputs": [],
   "source": [
    "for i in range(0,5):\n",
    "    if i == 0:\n",
    "        print('this is 0')\n",
    "    elif i == 1:\n",
    "        print('this is 1')\n",
    "    else:\n",
    "        print('the remainer must be 2, 3 or 4')"
   ]
  },
  {
   "cell_type": "markdown",
   "metadata": {},
   "source": [
    "So this time the conditional logic is a bit more complicated:\n",
    "    - First we create a for loop to iterate over the range 0-5.\n",
    "    - Secondly, we specify that if i is equal to the number 0, the loop should proceed, and print the given statement.\n",
    "    - If i is not equal to 0, the next step is to see if i is equal to 1. If so, print the given statement. \n",
    "    - For all other numbers which therefore cannot be 1 oe 2, print the given statement.\n",
    "\n",
    "This logic results in us printing the following set of statements:\n",
    "    \n",
    "    this is 0\n",
    "    this is 1\n",
    "    the remainer must be 2, 3 or 4\n",
    "    the remainer must be 2, 3 or 4\n",
    "    the remainer must be 2, 3 or 4\n"
   ]
  },
  {
   "cell_type": "markdown",
   "metadata": {},
   "source": [
    "We have lots of conditional operators available to us!"
   ]
  },
  {
   "attachments": {
    "operator.jpg": {
     "image/jpeg": "[encoded data removed]"
    }
   },
   "cell_type": "markdown",
   "metadata": {},
   "source": [
    "![operator.jpg](attachment:operator.jpg)"
   ]
  },
  {
   "cell_type": "markdown",
   "metadata": {},
   "source": [
    "## 8. Loops "
   ]
  },
  {
   "cell_type": "markdown",
   "metadata": {},
   "source": [
    "Loops allow us to repeatedly iterate over a piece of programing logic. \n",
    "\n",
    "They are useful for performing repetitive tasks very quickly.\n",
    "\n",
    "There are two kinds of python loops (**for** and **while**)."
   ]
  },
  {
   "cell_type": "markdown",
   "metadata": {},
   "source": [
    "### 8.1 for Loops "
   ]
  },
  {
   "cell_type": "markdown",
   "metadata": {},
   "source": [
    "It takes the general form of;"
   ]
  },
  {
   "cell_type": "code",
   "execution_count": null,
   "metadata": {
    "scrolled": true
   },
   "outputs": [],
   "source": [
    "for <itervar> in <sequence>:\n",
    "    <body>"
   ]
  },
  {
   "cell_type": "markdown",
   "metadata": {},
   "source": [
    "Where *intervar* is a variable, *sequence* is a sequence such as a string, array, list or even a function and *body* a block of commands or tasks to repeated. \n",
    "    \n",
    "The body has to be indented from the rest of the code to define the extent of the loop.\n",
    "    \n",
    "For example let us print the individual states in the following list:"
   ]
  },
  {
   "cell_type": "code",
   "execution_count": null,
   "metadata": {},
   "outputs": [],
   "source": [
    "for state in ['Virginia', 'Georgia','New Jersey','New York']:\n",
    "    print(state)\n",
    "print('')\n",
    "print('-- Complete')"
   ]
  },
  {
   "cell_type": "markdown",
   "metadata": {},
   "source": [
    "Lets explain how the code works.\n",
    "\n",
    "The *iteration variable* or *loop index* **state** is set equal to the first element in the list, \"Virginia\", and then the line in the indented body is executed. The loop then cycles through all the elements of the list, and moves on to the code that follows the for loop and prints **-- Complete**"
   ]
  },
  {
   "cell_type": "markdown",
   "metadata": {},
   "source": [
    "#### Using range\n",
    "\n",
    "A 'for loop' can also be used with the Python **range** function.\n",
    "\n",
    "For example, let's loop through all the numbers in the range 1-5."
   ]
  },
  {
   "cell_type": "code",
   "execution_count": null,
   "metadata": {
    "scrolled": true
   },
   "outputs": [],
   "source": [
    "for i in range(1,5):\n",
    "    print(i)"
   ]
  },
  {
   "cell_type": "markdown",
   "metadata": {},
   "source": [
    "For loops are handy for complicated tasks, and are often used to iterate over functions.\n",
    "\n",
    "Example: Calculate the area for a rectangle of width 10, but an increasing length of 10-20 meters."
   ]
  },
  {
   "cell_type": "code",
   "execution_count": null,
   "metadata": {},
   "outputs": [],
   "source": [
    "# Example\n",
    "\n",
    "for length in range(10,20):\n",
    "    w = 10\n",
    "    area = w*length\n",
    "    print(area)"
   ]
  },
  {
   "cell_type": "markdown",
   "metadata": {},
   "source": [
    "### 8.2 while Loops"
   ]
  },
  {
   "cell_type": "markdown",
   "metadata": {},
   "source": [
    "It takes the general form;"
   ]
  },
  {
   "cell_type": "code",
   "execution_count": null,
   "metadata": {},
   "outputs": [],
   "source": [
    "while <condition>:\n",
    "    <body>"
   ]
  },
  {
   "cell_type": "markdown",
   "metadata": {},
   "source": [
    "Where the *condition* is a statement that can be either be True or False and the *body* is a series of Python commands that is executed repeatedly until the *condition* becomes false. Therefore, somewhere in the *body* of the loop, the truth value of the *condition* changes and the loop ceases to iterate further."
   ]
  },
  {
   "cell_type": "markdown",
   "metadata": {},
   "source": [
    "Let us take the following example:"
   ]
  },
  {
   "cell_type": "code",
   "execution_count": null,
   "metadata": {},
   "outputs": [],
   "source": [
    "increment = 0\n",
    "\n",
    "while increment < 4:\n",
    "    print(increment)\n",
    "    increment += 1"
   ]
  },
  {
   "cell_type": "markdown",
   "metadata": {},
   "source": [
    "Let go over this in steps to explain the code;\n",
    "\n",
    "   - We initially set the increment to be zero. \n",
    "   - We then specify that while the increment is below 4, the loop should continue. \n",
    "   - On each iteration, print the increment. \n",
    "   - Then add 1 to the current increment value on each loop. \n",
    "   - When the increment eventually equals 4, the loop ceases to operate. "
   ]
  },
  {
   "cell_type": "markdown",
   "metadata": {},
   "source": [
    "## 9. Functions "
   ]
  },
  {
   "cell_type": "markdown",
   "metadata": {},
   "source": [
    "By developing **user-defined functions** we can avoid repeating code, and make it easier for us to compartmentalize problems. \n",
    "\n",
    "User-defined functions are similar to the previous in-built or package functions that we have been using.\n",
    "\n",
    "We can write a function to divide two numbers. "
   ]
  },
  {
   "cell_type": "code",
   "execution_count": null,
   "metadata": {},
   "outputs": [],
   "source": [
    "def my_division_function(x, y):\n",
    "    \n",
    "    result = x / y\n",
    "    \n",
    "    return result\n",
    "\n",
    "my_division_function(6, 2)"
   ]
  },
  {
   "cell_type": "markdown",
   "metadata": {},
   "source": [
    "The function begins with the word **def** followed by the name of the function. \n",
    "\n",
    "A list of arguments is enclosed within the brackets.\n",
    "\n",
    "We then terminate the function with a colon. This is the required Python format for a function. We also need to make sure the next line is indented using either a tab or four spaces.\n",
    "\n",
    "Our function then divides x by y, and allocates the outcome to the variable name **result**, before returning this variable."
   ]
  },
  {
   "cell_type": "markdown",
   "metadata": {},
   "source": [
    "## 10. Selected Libraries (pandas)"
   ]
  },
  {
   "cell_type": "markdown",
   "metadata": {},
   "source": [
    "There are a very large number of open-source libraries we can import. \n",
    "\n",
    "The Python data analysis package `Pandas` is a favorite: https://pandas.pydata.org/\n",
    "\n",
    "Pandas is based on using **Dataframes**. They allow us to store data as panels in  rows and columns. You may have encountered this data structure in R or Matlab. If not, you can think of the approach as similar to how you use a spreadsheet (except with far greater flexibility and power in Python).\n",
    "\n",
    "In this tutorial, we will focus on manipulation of dataframes using pandas. "
   ]
  },
  {
   "cell_type": "markdown",
   "metadata": {},
   "source": [
    "<div class=\"alert alert-block alert-info\">\n",
    "    \n",
    "<b>Note:</b> There are several sub-libraries of pandas such as geopandas for geospatial data that you can always harness their power while performing highly specialised tasks. **Remember Google is your friend!**.\n",
    "</div>"
   ]
  },
  {
   "cell_type": "markdown",
   "metadata": {},
   "source": [
    "To begin working with dataframes, we first import pandas as was the case in previous sessions. "
   ]
  },
  {
   "cell_type": "markdown",
   "metadata": {},
   "source": [
    "<div class=\"alert alert-block alert-warning\">\n",
    "\n",
    "<b>!! Note !!</b> Pandas is not part of most python distribution packages hence it should be installed where it is not available before starting the tutorial. You may need to exit and reinstall. \n",
    "\n",
    "</div>"
   ]
  },
  {
   "cell_type": "code",
   "execution_count": null,
   "metadata": {},
   "outputs": [],
   "source": [
    "import pandas as pd"
   ]
  },
  {
   "cell_type": "markdown",
   "metadata": {},
   "source": [
    "### 10.1. Creating Dataframe"
   ]
  },
  {
   "cell_type": "markdown",
   "metadata": {},
   "source": [
    "Here we are focusing on ways of creating dataframes. However, in most day-to-day programming, you are likely to work with data in other formats which you can convert to dataframe by a single line of code. "
   ]
  },
  {
   "cell_type": "markdown",
   "metadata": {},
   "source": [
    "Nevertheless, dataframes can be created by converting lists to dictionaries and then to a dataframe, as shown in the subsequent steps, using an example of satellite missions. "
   ]
  },
  {
   "cell_type": "markdown",
   "metadata": {},
   "source": [
    "a. Create a list with the details"
   ]
  },
  {
   "cell_type": "code",
   "execution_count": null,
   "metadata": {},
   "outputs": [],
   "source": [
    "satellites =['LandSat','EumetSat','Sentinel','PlanetScope','RasCom',\\\n",
    "             'Starlink','Telesat','RadarSat','Alos','KitSat-1','Chollian','Iridium','OneWeb']\n",
    "Year = [1972,1986,2013,2015,2010,2018,2019,1995,2006,1999,2010,1999,2021]\n",
    "inclination = [99.2,66,98.65,98.1,0.1,53.2,None,98.6,98.16,None,0.2,86.4,86.4]\n",
    "Government = [True,True,True,False,True,False,False,True,None,True,True,False,None]\n",
    "Role = ['Remote sensing','Remote sensing','Remote sensing',\\\n",
    "        'Communication','Communication','Communication','Remote sensing',\\\n",
    "        'Remote sensing','Remote sensing','Communication','Communication',\\\n",
    "        'Remote sensing','Communication',]"
   ]
  },
  {
   "cell_type": "markdown",
   "metadata": {},
   "source": [
    "b. Combine the lists into a dictionary"
   ]
  },
  {
   "cell_type": "code",
   "execution_count": null,
   "metadata": {},
   "outputs": [],
   "source": [
    "sat_data = {'satellite':satellites,'year':Year,'inclination':\\\n",
    "            inclination,'government owned?':Government,'mission':Role}"
   ]
  },
  {
   "cell_type": "markdown",
   "metadata": {},
   "source": [
    "c. Convert the dictionary into dataframe using the pandas library function."
   ]
  },
  {
   "cell_type": "code",
   "execution_count": null,
   "metadata": {},
   "outputs": [],
   "source": [
    "df = pd.DataFrame(sat_data)"
   ]
  },
  {
   "cell_type": "markdown",
   "metadata": {},
   "source": [
    "The prepared dataframe can be converted to other formats such as excel spreadsheet or CSV files, Example;"
   ]
  },
  {
   "cell_type": "code",
   "execution_count": null,
   "metadata": {},
   "outputs": [],
   "source": [
    "df.to_csv('satellite missions.csv')\n",
    "df.to_excel('satellite missions.xlsx')"
   ]
  },
  {
   "cell_type": "markdown",
   "metadata": {},
   "source": [
    "### 10.2. Accessing Data on DataFrames"
   ]
  },
  {
   "cell_type": "markdown",
   "metadata": {},
   "source": [
    "You can view the first few rows of your data using the 'head' function"
   ]
  },
  {
   "cell_type": "code",
   "execution_count": null,
   "metadata": {},
   "outputs": [],
   "source": [
    "df.head()"
   ]
  },
  {
   "cell_type": "markdown",
   "metadata": {},
   "source": [
    "You can view the last few rows of your data using the 'tail' function."
   ]
  },
  {
   "cell_type": "code",
   "execution_count": null,
   "metadata": {},
   "outputs": [],
   "source": [
    "df.tail()"
   ]
  },
  {
   "cell_type": "markdown",
   "metadata": {},
   "source": [
    "You can know how many rows and columns are in your data using the shape function."
   ]
  },
  {
   "cell_type": "code",
   "execution_count": null,
   "metadata": {},
   "outputs": [],
   "source": [
    "df.shape"
   ]
  },
  {
   "cell_type": "markdown",
   "metadata": {},
   "source": [
    "You can know the name of columns by using the column function."
   ]
  },
  {
   "cell_type": "code",
   "execution_count": null,
   "metadata": {},
   "outputs": [],
   "source": [
    "df.columns"
   ]
  },
  {
   "cell_type": "markdown",
   "metadata": {},
   "source": [
    "You can access a single columns using the following syntax."
   ]
  },
  {
   "cell_type": "code",
   "execution_count": null,
   "metadata": {},
   "outputs": [],
   "source": [
    "df['satellite']"
   ]
  },
  {
   "cell_type": "markdown",
   "metadata": {},
   "source": [
    "You can access multiple columns using the following line of code."
   ]
  },
  {
   "cell_type": "code",
   "execution_count": null,
   "metadata": {},
   "outputs": [],
   "source": [
    "df[['satellite','year']]"
   ]
  },
  {
   "cell_type": "markdown",
   "metadata": {},
   "source": [
    "You can access individual rows by specifying the row index, e.g;"
   ]
  },
  {
   "cell_type": "code",
   "execution_count": null,
   "metadata": {},
   "outputs": [],
   "source": [
    "df.loc[7]"
   ]
  },
  {
   "cell_type": "markdown",
   "metadata": {},
   "source": [
    "You can access datapoints between a given range by;"
   ]
  },
  {
   "cell_type": "code",
   "execution_count": null,
   "metadata": {},
   "outputs": [],
   "source": [
    "df.loc[8:10]"
   ]
  },
  {
   "cell_type": "markdown",
   "metadata": {},
   "source": [
    "You can access data of specific attributes by subsetting. Eg satellites launched in 2010 or above."
   ]
  },
  {
   "cell_type": "code",
   "execution_count": null,
   "metadata": {},
   "outputs": [],
   "source": [
    "df[df['year']>=2010]"
   ]
  },
  {
   "cell_type": "markdown",
   "metadata": {},
   "source": [
    "select only communication satellites;"
   ]
  },
  {
   "cell_type": "code",
   "execution_count": null,
   "metadata": {},
   "outputs": [],
   "source": [
    "df[df['year']>=2010][df['mission']=='Communication']"
   ]
  },
  {
   "cell_type": "markdown",
   "metadata": {},
   "source": [
    "You can create add a new column to the existing dataframe as follows;"
   ]
  },
  {
   "cell_type": "code",
   "execution_count": null,
   "metadata": {},
   "outputs": [],
   "source": [
    "df['mission code'] = ''"
   ]
  },
  {
   "cell_type": "code",
   "execution_count": null,
   "metadata": {},
   "outputs": [],
   "source": [
    "df"
   ]
  },
  {
   "cell_type": "markdown",
   "metadata": {},
   "source": [
    "## References "
   ]
  },
  {
   "cell_type": "markdown",
   "metadata": {},
   "source": [
    "1. D. Pine, (2013). *Introduction to Python for Science*. Release 0.9.23\n",
    "2. B. A. Campbell & P. W. McCandless, (1996). Introduction to space sciences and spacecraft applications. *Elsevier*."
   ]
  }
 ],
 "metadata": {
  "kernelspec": {
   "display_name": "Python 3",
   "language": "python",
   "name": "python3"
  },
  "language_info": {
   "codemirror_mode": {
    "name": "ipython",
    "version": 3
   },
   "file_extension": ".py",
   "mimetype": "text/x-python",
   "name": "python",
   "nbconvert_exporter": "python",
   "pygments_lexer": "ipython3",
   "version": "3.7.4"
  }
 },
 "nbformat": 4,
 "nbformat_minor": 5
}
