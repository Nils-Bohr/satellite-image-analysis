{
 "cells": [
  {
   "cell_type": "markdown",
   "id": "92bbfa7d",
   "metadata": {},
   "source": [
    "# Types of Numbers"
   ]
  },
  {
   "cell_type": "markdown",
   "id": "5a522de4",
   "metadata": {},
   "source": [
    "### a. Plain Integers "
   ]
  },
  {
   "cell_type": "markdown",
   "id": "fcb5ff78",
   "metadata": {},
   "source": [
    "Whole numbers are know as integers or `ints` (in math/computer science) and consist of 32 binary digits extending from -2^31 (-2147483648) to 2^31 (2147483647).\n",
    "Python automatically treats a number as an integer if it is written without a decimal point and is within the bounds stated above. \n",
    "\n",
    "If the number is beyond the given bounds, it is known as a **long integer** and designaed as such by an L symbol. \n",
    "\n",
    "When operating on existing integers, which produce other whole numbers, the answer should also be an integer. "
   ]
  },
  {
   "cell_type": "code",
   "execution_count": 1,
   "id": "7fa4856f",
   "metadata": {},
   "outputs": [
    {
     "data": {
      "text/plain": [
       "42"
      ]
     },
     "execution_count": 1,
     "metadata": {},
     "output_type": "execute_result"
    }
   ],
   "source": [
    "14*3"
   ]
  },
  {
   "cell_type": "code",
   "execution_count": 2,
   "id": "c16e6a49",
   "metadata": {},
   "outputs": [
    {
     "data": {
      "text/plain": [
       "-175"
      ]
     },
     "execution_count": 2,
     "metadata": {},
     "output_type": "execute_result"
    }
   ],
   "source": [
    "5+6*4-(34*6)"
   ]
  },
  {
   "cell_type": "markdown",
   "id": "a4add5db",
   "metadata": {},
   "source": [
    "We are also able to convert numbers to integers, so for example we can use the 'int()' function.\n",
    "\n",
    "Try to convert 2.000 into an integer using the int() function.\n",
    "\n",
    "Have a go below:"
   ]
  },
  {
   "cell_type": "code",
   "execution_count": 16,
   "id": "2696269e",
   "metadata": {},
   "outputs": [],
   "source": [
    "#Enter your attempt below:\n"
   ]
  },
  {
   "cell_type": "markdown",
   "id": "21364ee1",
   "metadata": {},
   "source": [
    "### b. Floating Points"
   ]
  },
  {
   "cell_type": "markdown",
   "id": "e31ee564",
   "metadata": {},
   "source": [
    "Floats (as they are known) rational numbers and may have fractional part.\n",
    "\n",
    "They range between ±2*10^-308 to ±2*10^308.\n",
    "\n",
    "They are written in python by introducing a period punctuation mark at the end of the integer to indicate a decimal.\n",
    "\n",
    "So, pi (3.14) written in full notation should produce a float.  \n",
    "\n",
    "Have a go below:"
   ]
  },
  {
   "cell_type": "code",
   "execution_count": 1,
   "id": "2265cd23",
   "metadata": {},
   "outputs": [
    {
     "data": {
      "text/plain": [
       "3.14"
      ]
     },
     "execution_count": 1,
     "metadata": {},
     "output_type": "execute_result"
    }
   ],
   "source": [
    "#Enter your attempt below:\n",
    "3.14"
   ]
  },
  {
   "cell_type": "code",
   "execution_count": 2,
   "id": "4b2411c6",
   "metadata": {},
   "outputs": [
    {
     "data": {
      "text/plain": [
       "1.0"
      ]
     },
     "execution_count": 2,
     "metadata": {},
     "output_type": "execute_result"
    }
   ],
   "source": [
    "# We can also transform an int to a float using the float() function\n",
    "float(1)"
   ]
  },
  {
   "cell_type": "code",
   "execution_count": 3,
   "id": "83dc276f",
   "metadata": {},
   "outputs": [
    {
     "data": {
      "text/plain": [
       "1"
      ]
     },
     "execution_count": 3,
     "metadata": {},
     "output_type": "execute_result"
    }
   ],
   "source": [
    "# And then change it back:\n",
    "int(1.0)"
   ]
  },
  {
   "cell_type": "markdown",
   "id": "dcf11f9a",
   "metadata": {},
   "source": [
    "We can actually find out the type of a number using python's inbuilt function, **type**.\n",
    "\n",
    "As this is a function, e.g., type(), you need to place the number or variable you want to query in the function brackets/parentheses. \n",
    "\n",
    "Have a go below:"
   ]
  },
  {
   "cell_type": "code",
   "execution_count": 8,
   "id": "cc475ea7",
   "metadata": {},
   "outputs": [],
   "source": [
    "#Enter your attempt below:\n"
   ]
  },
  {
   "cell_type": "markdown",
   "id": "8b52581a",
   "metadata": {},
   "source": [
    "<div class=\"alert alert-block alert-info\">\n",
    "    \n",
    "<b>Note:</b> The result of any operation involving floating numbers as input is a floating number. \n",
    "\n",
    "</div>"
   ]
  },
  {
   "cell_type": "markdown",
   "id": "d5b26751",
   "metadata": {},
   "source": [
    "## Exercise 2\n",
    "\n",
    "Work through the following tasks and have a go at obtaining the answers. "
   ]
  },
  {
   "cell_type": "markdown",
   "id": "dfe4e23f",
   "metadata": {},
   "source": [
    "We are also able to convert numbers to integers, so for example we can use the 'int()' function.\n",
    "\n",
    "Try to convert 2.000 into an integer using the int() function."
   ]
  },
  {
   "cell_type": "code",
   "execution_count": 4,
   "id": "400b8775",
   "metadata": {},
   "outputs": [
    {
     "data": {
      "text/plain": [
       "2"
      ]
     },
     "execution_count": 4,
     "metadata": {},
     "output_type": "execute_result"
    }
   ],
   "source": [
    "#Enter your attempt below:\n"
   ]
  },
  {
   "cell_type": "markdown",
   "id": "cd67575d",
   "metadata": {},
   "source": [
    "Now try to convert 3.14 into an integer using the int() function and inspect what happens. \n",
    "\n",
    "Try to explain why this functionality resulted."
   ]
  },
  {
   "cell_type": "code",
   "execution_count": 3,
   "id": "7c7934fb",
   "metadata": {},
   "outputs": [],
   "source": [
    "#Enter your attempt below:\n"
   ]
  }
 ],
 "metadata": {
  "kernelspec": {
   "display_name": "Python 3",
   "language": "python",
   "name": "python3"
  },
  "language_info": {
   "codemirror_mode": {
    "name": "ipython",
    "version": 3
   },
   "file_extension": ".py",
   "mimetype": "text/x-python",
   "name": "python",
   "nbconvert_exporter": "python",
   "pygments_lexer": "ipython3",
   "version": "3.9.12"
  }
 },
 "nbformat": 4,
 "nbformat_minor": 5
}
