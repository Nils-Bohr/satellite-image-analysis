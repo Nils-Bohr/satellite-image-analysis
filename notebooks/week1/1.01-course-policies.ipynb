{
 "cells": [
  {
   "cell_type": "markdown",
   "metadata": {
    "slideshow": {
     "slide_type": "slide"
    }
   },
   "source": [
    "# Welcome to GGS 416 Satellite Image Analysis!\n",
    "\n",
    "Instructor: Dr. Edward Oughton\t\n",
    "\n",
    "Email: eoughton@gmu.edu\t\n",
    "Location: 2310 Exploratory Hall.    \n",
    "When: Monday and Wednesday 15:00 – 16.15.    \n",
    "Learning Assistants (LAs):  Ulas Qazi (uqazi2@gmu.edu) & Mark Bossinger (mbossing@gmu.edu)\n",
    "Pre-requisites: 60 credits and GGS 412, or permission of instructor.    \n",
    "\n",
    "Contact method: Blackboard discussion board for content related queries (preferred) or direct email for anything that relates to your own personal circumstances (eoughton@gmu.edu). "
   ]
  },
  {
   "cell_type": "markdown",
   "metadata": {
    "slideshow": {
     "slide_type": "slide"
    }
   },
   "source": [
    "## Objectives\n",
    "\n",
    "Satellite imagery has become a primary data source in the natural sciences, economics, archaeology, sustainability, and many other domains which utilize geospatial intelligence. \n",
    "\n",
    "Indeed, the wide variety of imagery sources and the vast amounts of data being collected are now challenging our ability to manage, process, and derive useful insight from this information. \n",
    "\n",
    "Motivated by this, the primary objective of the course is to provide a systematic introduction to computer-based processing of satellite imagery techniques for enhancing, processing, and extracting spatial information from imagery. \n",
    "\n",
    "This course emphasizes the practical application of computer-based image processing (for total beginners) using programming techniques capable of analyzing large quantities of images. "
   ]
  },
  {
   "cell_type": "markdown",
   "metadata": {
    "slideshow": {
     "slide_type": "slide"
    }
   },
   "source": [
    "## Learning Outcomes\n",
    "\n",
    "1.\tUnderstand practical computer programming techniques for processing satellite imagery. \n",
    "2.\tDevelop introductory Python script-based approaches for object detection and extraction. \n",
    "3.\tBecome proficient in using essential computer programming tools and software (Google Colab, Jupyter Notebooks, GitHub etc.).\n"
   ]
  },
  {
   "cell_type": "markdown",
   "metadata": {
    "slideshow": {
     "slide_type": "slide"
    }
   },
   "source": [
    "## GGS Computer Lab, Assignments and Expectations\n",
    "\n",
    "To participate in the course, it is essential that you have a Google Account so that you can take advantage of Google Collaboratory and Google Drive. \n",
    "\n",
    "Additionally, it is essential that an educational access account is obtained for Planet Labs, to obtain free satellite imagery (essential for the course). \n",
    "\n",
    "All materials will be distributed via the course GitHub page which holds all course documents and materials. Some of these resources are in the Jupyter Notebook format (.ipnb), providing all information and code in single location. \n",
    "\n",
    "Assignments will be based on the lecture material you receive and will be administered via Blackboard. \n",
    "\n",
    "Generally, assignments will be set on a Wednesday and will be due the following Tuesday evening (except when noted in the Course Schedule). Late work will be penalized 20% for each day late. Late submissions will only go unpenalized for documented medical reasons or by previous agreement with the instructor. \n"
   ]
  },
  {
   "cell_type": "markdown",
   "metadata": {
    "slideshow": {
     "slide_type": "slide"
    }
   },
   "source": [
    "## Grading\n",
    "\n",
    "Grading will be as follows:\n",
    "\n",
    "- 50% of the grade based on 10 assignments\n",
    "- 50% of the grade based on the submitted coursework project\n",
    "\n",
    "Grades will be based on the following cutoff values, although the instructor reserves the right to alter the values at the end of the course: \n",
    "\n",
    "A (93%), A- (90%), B+ (87%), B (83%), B- (80%), C+ (77%), C (73%), C- (70%), D (60%)\n",
    "\n",
    "The coursework project will include the use of processing techniques taught throughout the entire semester but applied to your own research topic. Students will be expected to submit assignments online through Blackboard. Only Adobe PDF (.pdf) file formats will be accepted (students can save word documents as a .pdf format from within the program).\n",
    "\n",
    "Each student gets the opportunity to drop the two worst performing assignments from the overall score at the end of the semester. Take comfort in the fact that it is highly unlikely that three events justifying extenuating circumstances would occur in a single semester. Thus, the course grading criteria is accounting for unfortunate events. No additional requests will be accommodated unless the extenuating circumstances are highly serious (in which case the university and course director will already be aware of the issue). "
   ]
  },
  {
   "cell_type": "markdown",
   "metadata": {
    "slideshow": {
     "slide_type": "slide"
    }
   },
   "source": [
    "## Optional Texts \n",
    "\n",
    "There are many open and free resources for learning satellite image processing using Python. \n",
    "\n",
    "Importantly, all the information you require will be provided in the course. \n",
    "\n",
    "However, should you require additional information, for example relating to programming languages, there are many options. Check out Al Sweigart’s Automate the Boring Stuff with Python which is free to read and provides practical programming for total beginners. \n",
    "\n",
    "Further readings, if any, will be announced in class or by e-mail."
   ]
  },
  {
   "cell_type": "markdown",
   "metadata": {
    "slideshow": {
     "slide_type": "slide"
    }
   },
   "source": [
    "## Course Resources\n",
    "\n",
    "Content for GGS416 will be available on the course GitHub page. \n",
    "\n",
    "You will need to have access to a computer with a stable Internet connection. \n",
    "\n",
    "It may also be useful to have a web camera with a microphone in case any additional Zoom sessions are required. \n",
    "\n",
    "If you have a laptop, it is best to bring the same one to class each week for consistency."
   ]
  },
  {
   "cell_type": "markdown",
   "metadata": {
    "slideshow": {
     "slide_type": "slide"
    }
   },
   "source": [
    "## Office Hours and Instructor Interaction\n",
    "\n",
    "Instructor interaction is by appointment. \n",
    "\n",
    "Generally, there is more than enough time built into each class for specific problems to be solved in-person at that time. \n",
    "\n",
    "If you have a course-related question, there is a set of instructions to follow:\n",
    "\n",
    "1.\tCheck if your question has already been asked on the GGS416 Blackboard discussion board.\n",
    "2.\tIf not, then place a new public question on the Blackboard discussion board.\n",
    "3.\tThen email Edward Oughton (eoughton@gmu.edu), cc’ing Ulas Qazi (uqazi2@gmu.edu), Mark Bossinger (mbossing@gmu.edu) into the same email, stating that you have placed this question. \n",
    "4.\tA response will then be publicly provided on the course discussion board, for everyone else to view. \n",
    "\n",
    "This is the most efficient way to interact and prevents multiple emails being sent with the same question. This is because other people may ask similar questions, so this becomes a shared knowledge base everyone can access. \n",
    "\n",
    "**Remember that succinct correspondence is likely to increase the efficiency of an answer.** \n",
    "\n",
    "If you need to speak about something more personal with the instructor, then you can reach out via email. Please allow a 24-48 hour response window.\n"
   ]
  },
  {
   "cell_type": "markdown",
   "metadata": {},
   "source": [
    "## Problem Solving\n",
    "\n",
    "It is inevitable that problems will arise, especially when working with Python code. \n",
    "\n",
    "Therefore, it is essential that students follow a set of key procedures when dealing with any coding issues encountered. \n",
    "\n",
    "These are as follows:\n",
    "    \n",
    "1.\tCopy and paste any error messages into a search engine (e.g., Google). Someone else will already have had the same problem, so investigate how other researchers solved similar issues. \n",
    "2.\tExplore Stack Overflow questions and answers. When other programmers have been stuck, they post them publicly on Stack Overflow asking for answers, making this a great resource.\n",
    "3.\tIf you still cannot solve the problem, either post a public question on Stack Overflow, or follow the instructions for posting a public question on the GGS416 Blackboard discussion board.  \n"
   ]
  },
  {
   "cell_type": "markdown",
   "metadata": {},
   "source": [
    "## How To Ask a Question\n",
    "\n",
    "Asking for help with programming issues requires a set structure. \n",
    "\n",
    "For example, if a student emails saying \"I am receiving this error\" there is very little someone can do to help. \n",
    "\n",
    "Therefore, it is necessary to learn how to ask a good question. For example, make sure you read this first:\n",
    "\n",
    "%%html - <a href=\"https://stackoverflow.com/help/how-to-ask\">How do I ask a good question?</a>\n",
    "    \n",
    "At the very least, questions should include the original code, or a screenshot, and include the exact error message. Without this information, it is usually not possible to help solve an issue. \n",
    "\n",
    "An ideal question should have a reproducible example (a 'reprex') which demonstrates the issue. A reprex should have the smallest amount of example data and code to help produce the error. \n"
   ]
  },
  {
   "cell_type": "markdown",
   "metadata": {
    "slideshow": {
     "slide_type": "slide"
    }
   },
   "source": [
    "## Academic Integrity\n",
    "\n",
    "GMU has an Honor Code with clear guidelines regarding academic integrity. \n",
    "\n",
    "Three fundamental and rather simple principles to always follow are that: \n",
    "\n",
    "1. All work submitted be your own; \n",
    "2. When using the work or ideas of others, including fellow students, give full credit through accurate citations; and \n",
    "3. If you are uncertain about the ground rules on a particular assignment, ask for clarification. \n",
    "\n",
    "No grade is important enough to justify academic misconduct. Another aspect of academic integrity is the free play of ideas. \n",
    "\n",
    "Vigorous discussion and debate are encouraged, with the expectation that all aspects of the class will be conducted with civility and tolerance for differing ideas, perspectives, and traditions. \n",
    "    "
   ]
  },
  {
   "cell_type": "markdown",
   "metadata": {
    "slideshow": {
     "slide_type": "slide"
    }
   },
   "source": [
    "## GMU Email Accounts\n",
    "\n",
    "Students must use their MasonLive email account to receive important University information, including messages related to this class. \n",
    "\n",
    "See http://masonlive.gmu.edu for more information. Please do not email the instructor from a non-GMU email account. \n",
    "    "
   ]
  },
  {
   "cell_type": "markdown",
   "metadata": {
    "slideshow": {
     "slide_type": "slide"
    }
   },
   "source": [
    "## Diversity\n",
    "\n",
    "GMU promotes a living and learning environment for outstanding growth and productivity among its students, faculty, and staff. Through its curriculum, programs, policies, procedures, services, and resources, Mason strives to maintain a quality environment for work, study, and personal growth.\n",
    "\n",
    "An emphasis upon diversity and inclusion throughout the campus community is essential to achieve these goals. Diversity is broadly defined to include such characteristics as, but not limited to, ethnicity, gender, religion, age, disability, and sexual orientation. Diversity also entails different viewpoints, philosophies, and perspectives. Attention to these aspects of diversity will help promote a culture of inclusion and belonging, and an environment where diverse opinions, backgrounds, and practices can be voiced, heard, and respected.\n",
    "\n",
    "Acknowledging that the attainment of diversity and inclusion are dynamic and continuous processes, Mason seeks to continuously improve its environment. In this regard, should you have any comments or feedback that you wish to raise, please do let the instructor know as your feedback is incredibly valuable."
   ]
  },
  {
   "cell_type": "markdown",
   "metadata": {
    "slideshow": {
     "slide_type": "slide"
    }
   },
   "source": [
    "## Office of Disability Services\n",
    "\n",
    "If you are a student with a disability and you need academic accommodations, please contact the instructor and the Office of Disability Services (ODS) at 993-2474, http://ods.gmu.edu. All academic accommodations must be arranged through the ODS.\n",
    "    "
   ]
  },
  {
   "cell_type": "markdown",
   "metadata": {
    "slideshow": {
     "slide_type": "slide"
    }
   },
   "source": [
    "## Students as Scholars\n",
    "\n",
    "Students as Scholars is GMU's award-winning initiative to give students the opportunity to conduct undergraduate research. If you are interested in conducting research or simply learning more about the program, check out oscar.gmu.edu or stop by the Office of Student Scholarship, Creative Activities, and Research to learn about the many programs available to GMU students.\n",
    "\n",
    "**All students are encouraged to convert their projects into proposals for further student funding.** "
   ]
  },
  {
   "cell_type": "markdown",
   "metadata": {
    "slideshow": {
     "slide_type": "slide"
    }
   },
   "source": [
    "## GMU Resources\n",
    "\n",
    "- The Writing Center: https://writingcenter.gmu.edu \n",
    "- University Libraries, Ask a Librarian: https://library.gmu.edu/ask  \n",
    "- Counseling and Psychological Services: https://caps.gmu.edu \n",
    "- University Catalog: https://catalog.gmu.edu  \n",
    "- University Policies: https://universitypolicy.gmu.edu"
   ]
  },
  {
   "cell_type": "markdown",
   "metadata": {},
   "source": [
    "## Course Outline\n",
    "\n",
    "See the course schedule on the main page of the course GitHub repository: https://github.com/edwardoughton/satellite-image-analysis/\n"
   ]
  }
 ],
 "metadata": {
  "kernelspec": {
   "display_name": "Python 3",
   "language": "python",
   "name": "python3"
  },
  "language_info": {
   "codemirror_mode": {
    "name": "ipython",
    "version": 3
   },
   "file_extension": ".py",
   "mimetype": "text/x-python",
   "name": "python",
   "nbconvert_exporter": "python",
   "pygments_lexer": "ipython3",
   "version": "3.9.12"
  }
 },
 "nbformat": 4,
 "nbformat_minor": 2
}
