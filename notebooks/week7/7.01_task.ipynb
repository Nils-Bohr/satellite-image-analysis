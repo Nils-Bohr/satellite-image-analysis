{
 "cells": [
  {
   "cell_type": "markdown",
   "id": "630d94d5",
   "metadata": {},
   "source": [
    "# Task\n",
    "\n",
    "Firstly, for a 4-band image of your choice, take the histogram code and:\n",
    "- Load in the image.\n",
    "- Parse into separate color bands.\n",
    "- Create a histogram panel plot containing two plots:\n",
    "    - Green\n",
    "    - NIR\n",
    "- Add the plot title 'Histogram Plots of Green and NIR Bands'. \n",
    "- Export for submission. \n",
    "\n",
    "Secondly, take a 4-band image of your choice, take the histogram code and:\n",
    "- Load in the image.\n",
    "- Parse into separate color bands.\n",
    "- Create a panel plot ordered by:\n",
    "    - Green\n",
    "    - Blue\n",
    "    - Red\n",
    "    - Near-infrared\n",
    "- Add the plot title 'Histogram Plots of GBRN Bands'.\n",
    "- Export for submission. "
   ]
  }
 ],
 "metadata": {
  "kernelspec": {
   "display_name": "Python 3",
   "language": "python",
   "name": "python3"
  },
  "language_info": {
   "codemirror_mode": {
    "name": "ipython",
    "version": 3
   },
   "file_extension": ".py",
   "mimetype": "text/x-python",
   "name": "python",
   "nbconvert_exporter": "python",
   "pygments_lexer": "ipython3",
   "version": "3.10.2"
  }
 },
 "nbformat": 4,
 "nbformat_minor": 5
}
