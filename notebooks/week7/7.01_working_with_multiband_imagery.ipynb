{
 "cells": [
  {
   "cell_type": "markdown",
   "metadata": {},
   "source": [
    "# Visualizing multiband imagery\n",
    "\n",
    "In this tutorial we're going to begin loading multiband imagery using the python package `rasterio`, and then visualizing these images using `pyplot`.\n",
    "\n",
    "Today, we going to visualize imagery, either for (i) a single band layer, (ii) as a true composite, or (iii) false composite image.\n"
   ]
  },
  {
   "cell_type": "markdown",
   "metadata": {},
   "source": [
    "## Raster graphics\n",
    "\n",
    "Now we've downloaded our data assets, we need to check that they can be successfully opened. This requires us to access and display the raster graphics style our data are in. \n",
    "\n",
    "Importantly, raster graphics are based on a two-dimensional image represented by a rectangular matrix (thus, a grid of square pixels). \n",
    "\n",
    "See here for more information: https://en.wikipedia.org/wiki/Raster_graphics\n",
    "\n",
    "These graphics can then be interpreted by a computer to display the underlaying data as an image. \n",
    "\n",
    "It's important to know the difference between vector and raster graphics. Let's watch the following short video to clarify the difference.\n"
   ]
  },
  {
   "cell_type": "code",
   "execution_count": null,
   "metadata": {},
   "outputs": [],
   "source": [
    "%%HTML\n",
    "\n",
    "<iframe width=\"560\" height=\"315\" src=\"https://www.youtube.com/embed/-Fs2t6P5AjY\" title=\"YouTube video player\" frameborder=\"0\" allow=\"accelerometer; autoplay; clipboard-write; encrypted-media; gyroscope; picture-in-picture\" allowfullscreen></iframe>"
   ]
  },
  {
   "cell_type": "markdown",
   "metadata": {},
   "source": [
    "## Downloading 4-band PlanetScope assets \n",
    "\n",
    "You can download a 4-band PlanetScope image from the Planet API. For more details, see here:\n",
    "\n",
    "https://developers.planet.com/docs/data/psscene4band/\n",
    "\n",
    "*PlanetScope 4-band multispectral basic and orthorectified scenes. This data set includes imagery from all PlanetScope sensors. All PSScene4Band items have a corresponding PSScene3Band item.*\n",
    "\n",
    "The constituent components of an 'analytic' 4-band asset include:\n",
    "\n",
    "- Band 1 = Blue\n",
    "- Band 2 = Green\n",
    "- Band 3 = Red\n",
    "- Band 4 = Near-infrared\n",
    "\n",
    "The 'analytic' component refers to this imagery being a radiometrically calibrated GeoTiff product suitable for analytic applications.\n",
    "\n",
    "A GeoTIFF is essentially a normal Tag Image File Format (TIFF) file with a metadata standard which allows embedded georeferencing information.\n",
    "\n",
    "https://en.wikipedia.org/wiki/GeoTIFF"
   ]
  },
  {
   "cell_type": "markdown",
   "metadata": {},
   "source": [
    "## Rasterio\n",
    "\n",
    "To interpret our asset data we can use `rasterio` to both read and write geospatial raster data. \n",
    "\n",
    "You can think of `rasterio` as standing for Raster Input-Output.\n",
    "\n",
    "The GeoTIFF standard (and other raster formats) are common for geographic information systems to organize and store gridded, or raster, datasets. We are able to use `rasterio` to read and write these formats and then provide a Python API based on N-D arrays.\n",
    "\n",
    "An ndarray is a (usually fixed-size) multidimensional container of items of the same type and size. Remember we covered an introduction to `numpy` in a previous lecture. Well, `numpy` uses N-D arrays as its basic data structure. `rasterio` heavily uses `numpy` in its operations.   \n",
    "\n",
    "You can see the GitHub code here: https://github.com/rasterio/rasterio\n",
    "\n",
    "Or, more usefully, you can access the `rasterio` documentation here: https://rasterio.readthedocs.io/en/latest/\n",
    "\n",
    "First, we will need to install `rasterio` into our virtual conda environment."
   ]
  },
  {
   "cell_type": "code",
   "execution_count": null,
   "metadata": {},
   "outputs": [],
   "source": [
    "# Example\n",
    "# Thankfully we can install rasterio into our virtual environment as follows:\n",
    "import sys\n",
    "!conda install --yes --prefix {sys.prefix} rasterio"
   ]
  },
  {
   "cell_type": "markdown",
   "metadata": {},
   "source": [
    "Next, we need to load the `rasterio` package into our current environment using the `import` command: "
   ]
  },
  {
   "cell_type": "code",
   "execution_count": null,
   "metadata": {},
   "outputs": [],
   "source": [
    "import rasterio"
   ]
  },
  {
   "cell_type": "markdown",
   "metadata": {},
   "source": [
    "And now we want to specify the filename for one of the image assets that we have downloaded into our current directory."
   ]
  },
  {
   "cell_type": "code",
   "execution_count": null,
   "metadata": {},
   "outputs": [],
   "source": [
    "# Example\n",
    "# Here we can specify the name of our Planet PSScene analytic image\n",
    "# This image is for Fort Myers following Hurricane Ian (2022)\n",
    "filename = \"20221001_154151_08_248f_1B_AnalyticMS.tif\"\n",
    "filename"
   ]
  },
  {
   "cell_type": "markdown",
   "metadata": {},
   "source": [
    "Finally, we can load in our downloaded image using `rasterio`, via the open function.\n",
    "\n",
    "If this is completed successfully, we should be able to print the `rasterio` object and see the following:\n",
    "\n",
    "```<open DatasetReader name='20221001_154151_08_248f_1B_AnalyticMS.tif' mode='r'>```\n",
    "\n",
    "Now have a go and see what you produce:"
   ]
  },
  {
   "cell_type": "code",
   "execution_count": null,
   "metadata": {},
   "outputs": [],
   "source": [
    "# Example\n",
    "my_raster_image = rasterio.open(filename)\n",
    "my_raster_image"
   ]
  },
  {
   "cell_type": "markdown",
   "metadata": {},
   "source": [
    "This is now a `rasterio` object, which means we can use a range of the `rasterio` package functions on this object. \n",
    "\n",
    "For example, let's unpack these different multiband layers into `numpy` arrays:"
   ]
  },
  {
   "cell_type": "code",
   "execution_count": null,
   "metadata": {},
   "outputs": [],
   "source": [
    "# Example\n",
    "# Unpacking our image layers into separate variables for blue, green, red and infrared:\n",
    "blue, green, red, nir = my_raster_image.read()\n",
    "blue"
   ]
  },
  {
   "cell_type": "markdown",
   "metadata": {},
   "source": [
    "## Single layer imagery\n",
    "\n",
    "Now we can begin to interact with our underlying image data. \n",
    "\n",
    "We will need to download and install `matplotlib` into our virtual environment, in order to acess this package."
   ]
  },
  {
   "cell_type": "code",
   "execution_count": null,
   "metadata": {},
   "outputs": [],
   "source": [
    "# Example\n",
    "# We will need to install matplotlib into our virtual environment\n",
    "import sys\n",
    "!conda install --yes --prefix {sys.prefix} matplotlib"
   ]
  },
  {
   "cell_type": "markdown",
   "metadata": {},
   "source": [
    "Now `matplotlib` is available, we can begin to play with the individual layers using the `pyplot` function. \n",
    "\n",
    "First, we can plot individual bands as images, as follows for the blue band:"
   ]
  },
  {
   "cell_type": "code",
   "execution_count": null,
   "metadata": {},
   "outputs": [],
   "source": [
    "# Example\n",
    "from matplotlib import pyplot\n",
    "\n",
    "# Use imshow to load the blue band.\n",
    "fig = pyplot.imshow(blue)\n",
    "\n",
    "# Display the results.\n",
    "pyplot.show()"
   ]
  },
  {
   "cell_type": "markdown",
   "metadata": {},
   "source": [
    "Let's inspect our green band:"
   ]
  },
  {
   "cell_type": "code",
   "execution_count": null,
   "metadata": {},
   "outputs": [],
   "source": [
    "# Example\n",
    "# Use imshow to load the green band.\n",
    "fig = pyplot.imshow(green)\n",
    "\n",
    "# Display the results.\n",
    "pyplot.show()"
   ]
  },
  {
   "cell_type": "markdown",
   "metadata": {},
   "source": [
    "Let's inspect our red band:"
   ]
  },
  {
   "cell_type": "code",
   "execution_count": null,
   "metadata": {},
   "outputs": [],
   "source": [
    "# Example\n",
    "# Use imshow to load the red band.\n",
    "fig = pyplot.imshow(red)\n",
    "\n",
    "# Display the results.\n",
    "pyplot.show()"
   ]
  },
  {
   "cell_type": "markdown",
   "metadata": {},
   "source": [
    "Let's inspect our near-infrared band:"
   ]
  },
  {
   "cell_type": "code",
   "execution_count": null,
   "metadata": {},
   "outputs": [],
   "source": [
    "# Example\n",
    "# Use imshow to load the nir band.\n",
    "fig = pyplot.imshow(nir)\n",
    "\n",
    "# Display the results.\n",
    "pyplot.show()"
   ]
  },
  {
   "cell_type": "markdown",
   "metadata": {},
   "source": [
    "Having viewed each of those layers, you should reflect on what you see. \n",
    "\n",
    "It is also possible to add your own color map to each layer that you select, to enhance the heterogeneity of each image. "
   ]
  },
  {
   "cell_type": "code",
   "execution_count": null,
   "metadata": {},
   "outputs": [],
   "source": [
    "# Example\n",
    "fig = pyplot.imshow(blue) #create the figure\n",
    "fig.set_cmap('gist_earth') #set the color map, hence `set_cmap()`\n",
    "pyplot.colorbar() #add the colorbar to our plot\n",
    "pyplot.show() #display our image"
   ]
  },
  {
   "cell_type": "code",
   "execution_count": null,
   "metadata": {},
   "outputs": [],
   "source": [
    "# Example\n",
    "fig = pyplot.imshow(red) #create the figure\n",
    "fig.set_cmap('inferno') #set the color map, hence `set_cmap()`\n",
    "pyplot.colorbar() #add the colorbar to our plot\n",
    "pyplot.show() #display our image"
   ]
  },
  {
   "cell_type": "markdown",
   "metadata": {},
   "source": [
    "## Multilayer composite imagery\n",
    "\n",
    "If we want to plot multiple layers at once, we will need to stack the different bands we want to combine.\n",
    "\n",
    "For a standard image, we will want to use red, green and blue. \n",
    "\n",
    "We will need to scale these bands for display purposes, and we can use `numpy` to help stack them together."
   ]
  },
  {
   "cell_type": "code",
   "execution_count": null,
   "metadata": {},
   "outputs": [],
   "source": [
    "import numpy as np\n",
    "from matplotlib import pyplot\n",
    "\n",
    "def scale(band): # scale values for display purposes\n",
    "    return band / 10000.0\n",
    "\n",
    "my_raster_image = rasterio.open(\"20221001_154151_08_248f_1B_AnalyticMS.tif\")\n",
    "\n",
    "blue = scale(my_raster_image.read(1))\n",
    "green = scale(my_raster_image.read(2))\n",
    "red = scale(my_raster_image.read(3))\n",
    "\n",
    "rgb = np.dstack((red, green, blue))\n",
    "pyplot.imshow(rgb)"
   ]
  },
  {
   "cell_type": "markdown",
   "metadata": {},
   "source": [
    "## Exercise\n",
    "\n",
    "You are a FEMA Federal Employee and you've just logged into your system. Your manager has emailed and asked you to immediately check the most up-to-date imagery for the Fort Myers area. \n",
    "\n",
    "Hurricane Ian caused an immense amount of destruction to homes and infrastructure in this area, and you need to examine the latest imagery to understand damage extent. You know that Estero Island is a damage hotspot.\n",
    "\n",
    "Download a Planet image via the API for the follow criteria:\n",
    "\n",
    "- Lon-lat coordinates: -81.9466, 26.4506\n",
    "- Time period: October 1st-2nd 2022\n",
    "- Cloud cover: Below 10%\n",
    "\n",
    "Critically review the imagery you download. \n",
    "\n",
    "Collate your code below. Make sure you visualize each band separately below, as well as illustrating a true color composite of your imagery data.\n",
    "\n",
    "If you complete this task, go find other images to compare your data against. "
   ]
  },
  {
   "cell_type": "code",
   "execution_count": null,
   "metadata": {},
   "outputs": [],
   "source": [
    "# Enter your attempt here\n"
   ]
  }
 ],
 "metadata": {
  "kernelspec": {
   "display_name": "Python 3",
   "language": "python",
   "name": "python3"
  },
  "language_info": {
   "codemirror_mode": {
    "name": "ipython",
    "version": 3
   },
   "file_extension": ".py",
   "mimetype": "text/x-python",
   "name": "python",
   "nbconvert_exporter": "python",
   "pygments_lexer": "ipython3",
   "version": "3.9.12"
  }
 },
 "nbformat": 4,
 "nbformat_minor": 2
}
