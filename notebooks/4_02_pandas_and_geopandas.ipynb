{
 "cells": [
  {
   "cell_type": "markdown",
   "id": "ff53e4d4",
   "metadata": {},
   "source": [
    "# Intro to `pandas` and `geopandas`"
   ]
  },
  {
   "cell_type": "markdown",
   "id": "2e09b5c9",
   "metadata": {},
   "source": [
    "There are a very large number of open-source libraries we can import. \n",
    "\n",
    "The Python data analysis package `pandas` is a favorite: https://pandas.pydata.org/\n",
    "\n",
    "Pandas is based on using **Dataframes**. They allow us to store data as panels in  rows and columns. You may have encountered this data structure in R or Matlab. If not, you can think of the approach as similar to how you use a spreadsheet (except with far greater flexibility and power in Python).\n",
    "\n",
    "In this tutorial, we will focus on manipulation of dataframes using pandas. "
   ]
  },
  {
   "cell_type": "markdown",
   "id": "c1b07664",
   "metadata": {},
   "source": [
    "<div class=\"alert alert-block alert-info\">\n",
    "    \n",
    "<b>Note:</b> There are several sub-libraries of pandas such as geopandas for geospatial data that you can always harness their power while performing highly specialised tasks. **Remember Google is your friend!**.\n",
    "</div>"
   ]
  },
  {
   "cell_type": "markdown",
   "id": "acbeab85",
   "metadata": {},
   "source": [
    "To begin working with dataframes, we first install and import pandas (as we did for packages in previous sessions). "
   ]
  },
  {
   "cell_type": "markdown",
   "id": "eeb842fd",
   "metadata": {},
   "source": [
    "<div class=\"alert alert-block alert-warning\">\n",
    "\n",
    "<b>!! Note !!</b> Pandas is not part of most python distribution packages hence it should be installed where it is not available before starting the tutorial. You may need to exit and reinstall. \n",
    "\n",
    "</div>"
   ]
  },
  {
   "cell_type": "code",
   "execution_count": 1,
   "id": "88466074",
   "metadata": {},
   "outputs": [],
   "source": [
    "# Example\n",
    "# import sys\n",
    "# !conda install --yes --prefix {sys.prefix} pandas\n",
    "import pandas as pd"
   ]
  },
  {
   "cell_type": "markdown",
   "id": "a97a9176",
   "metadata": {},
   "source": [
    "## Creating a `pandas` dataframe"
   ]
  },
  {
   "cell_type": "markdown",
   "id": "63d4a4ce",
   "metadata": {},
   "source": [
    "Here we are focusing on ways of creating dataframes. However, in most day-to-day programming, you are likely to work with data in other formats which you can convert to dataframe by a single line of code. "
   ]
  },
  {
   "cell_type": "markdown",
   "id": "0870ce31",
   "metadata": {},
   "source": [
    "Nevertheless, dataframes can be created by converting lists to dictionaries and then to a dataframe, as shown in the subsequent steps, using an example of satellite missions. "
   ]
  },
  {
   "cell_type": "markdown",
   "id": "927b8cfb",
   "metadata": {},
   "source": [
    "First, let's create a list with our information."
   ]
  },
  {
   "cell_type": "code",
   "execution_count": 31,
   "id": "75c3e8b9",
   "metadata": {},
   "outputs": [
    {
     "data": {
      "text/plain": [
       "['LandSat', 'Sentinel', 'PlanetScope', 'Starlink', 'Iridium', 'OneWeb']"
      ]
     },
     "execution_count": 31,
     "metadata": {},
     "output_type": "execute_result"
    }
   ],
   "source": [
    "# Example\n",
    "satellites = ['LandSat','Sentinel','PlanetScope','Starlink','Iridium','OneWeb']\n",
    "year = [1972,2013,2015,2018,1999,2021]\n",
    "government_owned = [True,True,False,False,False,False]\n",
    "mission = ['Remote sensing','Remote sensing','Remote sensing',\\\n",
    "        'Communication','Communication','Communication']\n",
    "satellites"
   ]
  },
  {
   "cell_type": "markdown",
   "id": "88d18153",
   "metadata": {},
   "source": [
    "Next, we need to combine the lists into a dictionary:"
   ]
  },
  {
   "cell_type": "code",
   "execution_count": 32,
   "id": "9551913f",
   "metadata": {},
   "outputs": [
    {
     "data": {
      "text/plain": [
       "{'satellite': ['LandSat',\n",
       "  'Sentinel',\n",
       "  'PlanetScope',\n",
       "  'Starlink',\n",
       "  'Iridium',\n",
       "  'OneWeb'],\n",
       " 'year': [1972, 2013, 2015, 2018, 1999, 2021],\n",
       " 'government_owned': [True, True, False, False, False, False],\n",
       " 'mission': ['Remote sensing',\n",
       "  'Remote sensing',\n",
       "  'Remote sensing',\n",
       "  'Communication',\n",
       "  'Communication',\n",
       "  'Communication']}"
      ]
     },
     "execution_count": 32,
     "metadata": {},
     "output_type": "execute_result"
    }
   ],
   "source": [
    "# Example\n",
    "sat_data = {\n",
    "    'satellite': satellites,\n",
    "    'year': year,\n",
    "    'government_owned': government_owned,\n",
    "    'mission': mission\n",
    "}\n",
    "sat_data"
   ]
  },
  {
   "cell_type": "markdown",
   "id": "d7be90f8",
   "metadata": {},
   "source": [
    "Finally, we convert the dictionary into dataframe using the `pandas` library function `.DataFrame()`."
   ]
  },
  {
   "cell_type": "code",
   "execution_count": 33,
   "id": "4d3ad879",
   "metadata": {},
   "outputs": [
    {
     "data": {
      "text/html": [
       "<div>\n",
       "<style scoped>\n",
       "    .dataframe tbody tr th:only-of-type {\n",
       "        vertical-align: middle;\n",
       "    }\n",
       "\n",
       "    .dataframe tbody tr th {\n",
       "        vertical-align: top;\n",
       "    }\n",
       "\n",
       "    .dataframe thead th {\n",
       "        text-align: right;\n",
       "    }\n",
       "</style>\n",
       "<table border=\"1\" class=\"dataframe\">\n",
       "  <thead>\n",
       "    <tr style=\"text-align: right;\">\n",
       "      <th></th>\n",
       "      <th>satellite</th>\n",
       "      <th>year</th>\n",
       "      <th>government_owned</th>\n",
       "      <th>mission</th>\n",
       "    </tr>\n",
       "  </thead>\n",
       "  <tbody>\n",
       "    <tr>\n",
       "      <th>0</th>\n",
       "      <td>LandSat</td>\n",
       "      <td>1972</td>\n",
       "      <td>True</td>\n",
       "      <td>Remote sensing</td>\n",
       "    </tr>\n",
       "    <tr>\n",
       "      <th>1</th>\n",
       "      <td>Sentinel</td>\n",
       "      <td>2013</td>\n",
       "      <td>True</td>\n",
       "      <td>Remote sensing</td>\n",
       "    </tr>\n",
       "    <tr>\n",
       "      <th>2</th>\n",
       "      <td>PlanetScope</td>\n",
       "      <td>2015</td>\n",
       "      <td>False</td>\n",
       "      <td>Remote sensing</td>\n",
       "    </tr>\n",
       "    <tr>\n",
       "      <th>3</th>\n",
       "      <td>Starlink</td>\n",
       "      <td>2018</td>\n",
       "      <td>False</td>\n",
       "      <td>Communication</td>\n",
       "    </tr>\n",
       "    <tr>\n",
       "      <th>4</th>\n",
       "      <td>Iridium</td>\n",
       "      <td>1999</td>\n",
       "      <td>False</td>\n",
       "      <td>Communication</td>\n",
       "    </tr>\n",
       "    <tr>\n",
       "      <th>5</th>\n",
       "      <td>OneWeb</td>\n",
       "      <td>2021</td>\n",
       "      <td>False</td>\n",
       "      <td>Communication</td>\n",
       "    </tr>\n",
       "  </tbody>\n",
       "</table>\n",
       "</div>"
      ],
      "text/plain": [
       "     satellite  year  government_owned         mission\n",
       "0      LandSat  1972              True  Remote sensing\n",
       "1     Sentinel  2013              True  Remote sensing\n",
       "2  PlanetScope  2015             False  Remote sensing\n",
       "3     Starlink  2018             False   Communication\n",
       "4      Iridium  1999             False   Communication\n",
       "5       OneWeb  2021             False   Communication"
      ]
     },
     "execution_count": 33,
     "metadata": {},
     "output_type": "execute_result"
    }
   ],
   "source": [
    "# Example\n",
    "df = pd.DataFrame(sat_data)\n",
    "df"
   ]
  },
  {
   "cell_type": "markdown",
   "id": "1867c592",
   "metadata": {},
   "source": [
    "The prepared dataframe can be converted to other formats such as excel spreadsheet or CSV files, Example;"
   ]
  },
  {
   "cell_type": "code",
   "execution_count": 34,
   "id": "f94e8590",
   "metadata": {},
   "outputs": [],
   "source": [
    "# Example\n",
    "df.to_csv('satellite_missions.csv', index=False)"
   ]
  },
  {
   "cell_type": "markdown",
   "id": "4b8de87c",
   "metadata": {},
   "source": [
    "## Exercise\n",
    "\n",
    "Have a go at manually creating a `pandas` dataframe called 'image_data' using the following:\n",
    "\n",
    "    - A column called 'id' containing four numbers from 0-3.\n",
    "    - A column called 'longitude' containing 0.02, 0.05, 0.06 and 0.08.\n",
    "    - A column called 'latitude' containing 1.54, 1.65, 1.48 and 1.59.\n",
    "    - A column called 'filename' containing 'multiband0.tiff', 'multiband1.tiff', 'multiband2.tiff' and 'multiband3.tiff'.\n",
    "    \n",
    "Write this dataframe to a .csv file called 'my_csv.csv'. \n",
    "        "
   ]
  },
  {
   "cell_type": "code",
   "execution_count": 6,
   "id": "20123e76",
   "metadata": {},
   "outputs": [],
   "source": [
    "#Enter your attempt below:\n"
   ]
  },
  {
   "cell_type": "markdown",
   "id": "9dacb58a",
   "metadata": {},
   "source": [
    "## Accessing data"
   ]
  },
  {
   "cell_type": "markdown",
   "id": "0ce64b82",
   "metadata": {},
   "source": [
    "`pandas` provides a lot of functionality. \n",
    "\n",
    "We can easily import a .csv file into our notebook using the `.read_csv()` function.  "
   ]
  },
  {
   "cell_type": "code",
   "execution_count": 35,
   "id": "bc14e1cd",
   "metadata": {},
   "outputs": [
    {
     "data": {
      "text/html": [
       "<div>\n",
       "<style scoped>\n",
       "    .dataframe tbody tr th:only-of-type {\n",
       "        vertical-align: middle;\n",
       "    }\n",
       "\n",
       "    .dataframe tbody tr th {\n",
       "        vertical-align: top;\n",
       "    }\n",
       "\n",
       "    .dataframe thead th {\n",
       "        text-align: right;\n",
       "    }\n",
       "</style>\n",
       "<table border=\"1\" class=\"dataframe\">\n",
       "  <thead>\n",
       "    <tr style=\"text-align: right;\">\n",
       "      <th></th>\n",
       "      <th>satellite</th>\n",
       "      <th>year</th>\n",
       "      <th>government_owned</th>\n",
       "      <th>mission</th>\n",
       "    </tr>\n",
       "  </thead>\n",
       "  <tbody>\n",
       "    <tr>\n",
       "      <th>0</th>\n",
       "      <td>LandSat</td>\n",
       "      <td>1972</td>\n",
       "      <td>True</td>\n",
       "      <td>Remote sensing</td>\n",
       "    </tr>\n",
       "    <tr>\n",
       "      <th>1</th>\n",
       "      <td>Sentinel</td>\n",
       "      <td>2013</td>\n",
       "      <td>True</td>\n",
       "      <td>Remote sensing</td>\n",
       "    </tr>\n",
       "    <tr>\n",
       "      <th>2</th>\n",
       "      <td>PlanetScope</td>\n",
       "      <td>2015</td>\n",
       "      <td>False</td>\n",
       "      <td>Remote sensing</td>\n",
       "    </tr>\n",
       "    <tr>\n",
       "      <th>3</th>\n",
       "      <td>Starlink</td>\n",
       "      <td>2018</td>\n",
       "      <td>False</td>\n",
       "      <td>Communication</td>\n",
       "    </tr>\n",
       "    <tr>\n",
       "      <th>4</th>\n",
       "      <td>Iridium</td>\n",
       "      <td>1999</td>\n",
       "      <td>False</td>\n",
       "      <td>Communication</td>\n",
       "    </tr>\n",
       "    <tr>\n",
       "      <th>5</th>\n",
       "      <td>OneWeb</td>\n",
       "      <td>2021</td>\n",
       "      <td>False</td>\n",
       "      <td>Communication</td>\n",
       "    </tr>\n",
       "  </tbody>\n",
       "</table>\n",
       "</div>"
      ],
      "text/plain": [
       "     satellite  year  government_owned         mission\n",
       "0      LandSat  1972              True  Remote sensing\n",
       "1     Sentinel  2013              True  Remote sensing\n",
       "2  PlanetScope  2015             False  Remote sensing\n",
       "3     Starlink  2018             False   Communication\n",
       "4      Iridium  1999             False   Communication\n",
       "5       OneWeb  2021             False   Communication"
      ]
     },
     "execution_count": 35,
     "metadata": {},
     "output_type": "execute_result"
    }
   ],
   "source": [
    "df = pd.read_csv('satellite_missions.csv')\n",
    "df"
   ]
  },
  {
   "cell_type": "markdown",
   "id": "50225e53",
   "metadata": {},
   "source": [
    "Then we can view the first few rows of data using the 'head' function:"
   ]
  },
  {
   "cell_type": "code",
   "execution_count": 36,
   "id": "b2f9b768",
   "metadata": {},
   "outputs": [
    {
     "data": {
      "text/html": [
       "<div>\n",
       "<style scoped>\n",
       "    .dataframe tbody tr th:only-of-type {\n",
       "        vertical-align: middle;\n",
       "    }\n",
       "\n",
       "    .dataframe tbody tr th {\n",
       "        vertical-align: top;\n",
       "    }\n",
       "\n",
       "    .dataframe thead th {\n",
       "        text-align: right;\n",
       "    }\n",
       "</style>\n",
       "<table border=\"1\" class=\"dataframe\">\n",
       "  <thead>\n",
       "    <tr style=\"text-align: right;\">\n",
       "      <th></th>\n",
       "      <th>satellite</th>\n",
       "      <th>year</th>\n",
       "      <th>government_owned</th>\n",
       "      <th>mission</th>\n",
       "    </tr>\n",
       "  </thead>\n",
       "  <tbody>\n",
       "    <tr>\n",
       "      <th>0</th>\n",
       "      <td>LandSat</td>\n",
       "      <td>1972</td>\n",
       "      <td>True</td>\n",
       "      <td>Remote sensing</td>\n",
       "    </tr>\n",
       "    <tr>\n",
       "      <th>1</th>\n",
       "      <td>Sentinel</td>\n",
       "      <td>2013</td>\n",
       "      <td>True</td>\n",
       "      <td>Remote sensing</td>\n",
       "    </tr>\n",
       "  </tbody>\n",
       "</table>\n",
       "</div>"
      ],
      "text/plain": [
       "  satellite  year  government_owned         mission\n",
       "0   LandSat  1972              True  Remote sensing\n",
       "1  Sentinel  2013              True  Remote sensing"
      ]
     },
     "execution_count": 36,
     "metadata": {},
     "output_type": "execute_result"
    }
   ],
   "source": [
    "# Example\n",
    "df.head(n=2)"
   ]
  },
  {
   "cell_type": "markdown",
   "id": "0404dfcb",
   "metadata": {},
   "source": [
    "You can view the last few rows of your data using the 'tail' function."
   ]
  },
  {
   "cell_type": "code",
   "execution_count": 37,
   "id": "ddd84dc1",
   "metadata": {},
   "outputs": [
    {
     "data": {
      "text/html": [
       "<div>\n",
       "<style scoped>\n",
       "    .dataframe tbody tr th:only-of-type {\n",
       "        vertical-align: middle;\n",
       "    }\n",
       "\n",
       "    .dataframe tbody tr th {\n",
       "        vertical-align: top;\n",
       "    }\n",
       "\n",
       "    .dataframe thead th {\n",
       "        text-align: right;\n",
       "    }\n",
       "</style>\n",
       "<table border=\"1\" class=\"dataframe\">\n",
       "  <thead>\n",
       "    <tr style=\"text-align: right;\">\n",
       "      <th></th>\n",
       "      <th>satellite</th>\n",
       "      <th>year</th>\n",
       "      <th>government_owned</th>\n",
       "      <th>mission</th>\n",
       "    </tr>\n",
       "  </thead>\n",
       "  <tbody>\n",
       "    <tr>\n",
       "      <th>3</th>\n",
       "      <td>Starlink</td>\n",
       "      <td>2018</td>\n",
       "      <td>False</td>\n",
       "      <td>Communication</td>\n",
       "    </tr>\n",
       "    <tr>\n",
       "      <th>4</th>\n",
       "      <td>Iridium</td>\n",
       "      <td>1999</td>\n",
       "      <td>False</td>\n",
       "      <td>Communication</td>\n",
       "    </tr>\n",
       "    <tr>\n",
       "      <th>5</th>\n",
       "      <td>OneWeb</td>\n",
       "      <td>2021</td>\n",
       "      <td>False</td>\n",
       "      <td>Communication</td>\n",
       "    </tr>\n",
       "  </tbody>\n",
       "</table>\n",
       "</div>"
      ],
      "text/plain": [
       "  satellite  year  government_owned        mission\n",
       "3  Starlink  2018             False  Communication\n",
       "4   Iridium  1999             False  Communication\n",
       "5    OneWeb  2021             False  Communication"
      ]
     },
     "execution_count": 37,
     "metadata": {},
     "output_type": "execute_result"
    }
   ],
   "source": [
    "# Example\n",
    "df.tail(n=3)"
   ]
  },
  {
   "cell_type": "markdown",
   "id": "d683ecbb",
   "metadata": {},
   "source": [
    "You can know how many rows and columns are in your data using the shape function."
   ]
  },
  {
   "cell_type": "code",
   "execution_count": 38,
   "id": "c376dcb1",
   "metadata": {},
   "outputs": [
    {
     "data": {
      "text/plain": [
       "(6, 4)"
      ]
     },
     "execution_count": 38,
     "metadata": {},
     "output_type": "execute_result"
    }
   ],
   "source": [
    "# Example\n",
    "df.shape"
   ]
  },
  {
   "cell_type": "markdown",
   "id": "af4ba54e",
   "metadata": {},
   "source": [
    "You can know the name of columns by using the column function."
   ]
  },
  {
   "cell_type": "code",
   "execution_count": 39,
   "id": "8a3d3310",
   "metadata": {},
   "outputs": [
    {
     "data": {
      "text/plain": [
       "Index(['satellite', 'year', 'government_owned', 'mission'], dtype='object')"
      ]
     },
     "execution_count": 39,
     "metadata": {},
     "output_type": "execute_result"
    }
   ],
   "source": [
    "# Example\n",
    "df.columns"
   ]
  },
  {
   "cell_type": "markdown",
   "id": "ad6dde9e",
   "metadata": {},
   "source": [
    "You can access a single columns using the following syntax."
   ]
  },
  {
   "cell_type": "code",
   "execution_count": 40,
   "id": "3b07e701",
   "metadata": {},
   "outputs": [
    {
     "data": {
      "text/plain": [
       "0        LandSat\n",
       "1       Sentinel\n",
       "2    PlanetScope\n",
       "3       Starlink\n",
       "4        Iridium\n",
       "5         OneWeb\n",
       "Name: satellite, dtype: object"
      ]
     },
     "execution_count": 40,
     "metadata": {},
     "output_type": "execute_result"
    }
   ],
   "source": [
    "# Example\n",
    "df['satellite']"
   ]
  },
  {
   "cell_type": "markdown",
   "id": "b248cbdd",
   "metadata": {},
   "source": [
    "You can access multiple columns using the following line of code."
   ]
  },
  {
   "cell_type": "code",
   "execution_count": 41,
   "id": "44ec66fa",
   "metadata": {},
   "outputs": [
    {
     "data": {
      "text/html": [
       "<div>\n",
       "<style scoped>\n",
       "    .dataframe tbody tr th:only-of-type {\n",
       "        vertical-align: middle;\n",
       "    }\n",
       "\n",
       "    .dataframe tbody tr th {\n",
       "        vertical-align: top;\n",
       "    }\n",
       "\n",
       "    .dataframe thead th {\n",
       "        text-align: right;\n",
       "    }\n",
       "</style>\n",
       "<table border=\"1\" class=\"dataframe\">\n",
       "  <thead>\n",
       "    <tr style=\"text-align: right;\">\n",
       "      <th></th>\n",
       "      <th>satellite</th>\n",
       "      <th>year</th>\n",
       "    </tr>\n",
       "  </thead>\n",
       "  <tbody>\n",
       "    <tr>\n",
       "      <th>0</th>\n",
       "      <td>LandSat</td>\n",
       "      <td>1972</td>\n",
       "    </tr>\n",
       "    <tr>\n",
       "      <th>1</th>\n",
       "      <td>Sentinel</td>\n",
       "      <td>2013</td>\n",
       "    </tr>\n",
       "    <tr>\n",
       "      <th>2</th>\n",
       "      <td>PlanetScope</td>\n",
       "      <td>2015</td>\n",
       "    </tr>\n",
       "    <tr>\n",
       "      <th>3</th>\n",
       "      <td>Starlink</td>\n",
       "      <td>2018</td>\n",
       "    </tr>\n",
       "    <tr>\n",
       "      <th>4</th>\n",
       "      <td>Iridium</td>\n",
       "      <td>1999</td>\n",
       "    </tr>\n",
       "    <tr>\n",
       "      <th>5</th>\n",
       "      <td>OneWeb</td>\n",
       "      <td>2021</td>\n",
       "    </tr>\n",
       "  </tbody>\n",
       "</table>\n",
       "</div>"
      ],
      "text/plain": [
       "     satellite  year\n",
       "0      LandSat  1972\n",
       "1     Sentinel  2013\n",
       "2  PlanetScope  2015\n",
       "3     Starlink  2018\n",
       "4      Iridium  1999\n",
       "5       OneWeb  2021"
      ]
     },
     "execution_count": 41,
     "metadata": {},
     "output_type": "execute_result"
    }
   ],
   "source": [
    "# Example\n",
    "df[['satellite','year']]"
   ]
  },
  {
   "cell_type": "markdown",
   "id": "728f661a",
   "metadata": {},
   "source": [
    "You can access individual rows by specifying the row index, e.g;"
   ]
  },
  {
   "cell_type": "code",
   "execution_count": 43,
   "id": "032b0086",
   "metadata": {},
   "outputs": [
    {
     "data": {
      "text/plain": [
       "satellite                 Iridium\n",
       "year                         1999\n",
       "government_owned            False\n",
       "mission             Communication\n",
       "Name: 4, dtype: object"
      ]
     },
     "execution_count": 43,
     "metadata": {},
     "output_type": "execute_result"
    }
   ],
   "source": [
    "# Example\n",
    "df.loc[4]"
   ]
  },
  {
   "cell_type": "markdown",
   "id": "75f03274",
   "metadata": {},
   "source": [
    "You can access datapoints between a given range by;"
   ]
  },
  {
   "cell_type": "code",
   "execution_count": 45,
   "id": "5b2b7a02",
   "metadata": {},
   "outputs": [
    {
     "data": {
      "text/html": [
       "<div>\n",
       "<style scoped>\n",
       "    .dataframe tbody tr th:only-of-type {\n",
       "        vertical-align: middle;\n",
       "    }\n",
       "\n",
       "    .dataframe tbody tr th {\n",
       "        vertical-align: top;\n",
       "    }\n",
       "\n",
       "    .dataframe thead th {\n",
       "        text-align: right;\n",
       "    }\n",
       "</style>\n",
       "<table border=\"1\" class=\"dataframe\">\n",
       "  <thead>\n",
       "    <tr style=\"text-align: right;\">\n",
       "      <th></th>\n",
       "      <th>satellite</th>\n",
       "      <th>year</th>\n",
       "      <th>government_owned</th>\n",
       "      <th>mission</th>\n",
       "    </tr>\n",
       "  </thead>\n",
       "  <tbody>\n",
       "    <tr>\n",
       "      <th>3</th>\n",
       "      <td>Starlink</td>\n",
       "      <td>2018</td>\n",
       "      <td>False</td>\n",
       "      <td>Communication</td>\n",
       "    </tr>\n",
       "    <tr>\n",
       "      <th>4</th>\n",
       "      <td>Iridium</td>\n",
       "      <td>1999</td>\n",
       "      <td>False</td>\n",
       "      <td>Communication</td>\n",
       "    </tr>\n",
       "  </tbody>\n",
       "</table>\n",
       "</div>"
      ],
      "text/plain": [
       "  satellite  year  government_owned        mission\n",
       "3  Starlink  2018             False  Communication\n",
       "4   Iridium  1999             False  Communication"
      ]
     },
     "execution_count": 45,
     "metadata": {},
     "output_type": "execute_result"
    }
   ],
   "source": [
    "# Example\n",
    "df.loc[3:4]"
   ]
  },
  {
   "cell_type": "markdown",
   "id": "85491c14",
   "metadata": {},
   "source": [
    "You can access data of specific attributes by subsetting. Eg satellites launched in 2015 or after."
   ]
  },
  {
   "cell_type": "code",
   "execution_count": 46,
   "id": "e84856df",
   "metadata": {},
   "outputs": [
    {
     "data": {
      "text/html": [
       "<div>\n",
       "<style scoped>\n",
       "    .dataframe tbody tr th:only-of-type {\n",
       "        vertical-align: middle;\n",
       "    }\n",
       "\n",
       "    .dataframe tbody tr th {\n",
       "        vertical-align: top;\n",
       "    }\n",
       "\n",
       "    .dataframe thead th {\n",
       "        text-align: right;\n",
       "    }\n",
       "</style>\n",
       "<table border=\"1\" class=\"dataframe\">\n",
       "  <thead>\n",
       "    <tr style=\"text-align: right;\">\n",
       "      <th></th>\n",
       "      <th>satellite</th>\n",
       "      <th>year</th>\n",
       "      <th>government_owned</th>\n",
       "      <th>mission</th>\n",
       "    </tr>\n",
       "  </thead>\n",
       "  <tbody>\n",
       "    <tr>\n",
       "      <th>2</th>\n",
       "      <td>PlanetScope</td>\n",
       "      <td>2015</td>\n",
       "      <td>False</td>\n",
       "      <td>Remote sensing</td>\n",
       "    </tr>\n",
       "    <tr>\n",
       "      <th>3</th>\n",
       "      <td>Starlink</td>\n",
       "      <td>2018</td>\n",
       "      <td>False</td>\n",
       "      <td>Communication</td>\n",
       "    </tr>\n",
       "    <tr>\n",
       "      <th>5</th>\n",
       "      <td>OneWeb</td>\n",
       "      <td>2021</td>\n",
       "      <td>False</td>\n",
       "      <td>Communication</td>\n",
       "    </tr>\n",
       "  </tbody>\n",
       "</table>\n",
       "</div>"
      ],
      "text/plain": [
       "     satellite  year  government_owned         mission\n",
       "2  PlanetScope  2015             False  Remote sensing\n",
       "3     Starlink  2018             False   Communication\n",
       "5       OneWeb  2021             False   Communication"
      ]
     },
     "execution_count": 46,
     "metadata": {},
     "output_type": "execute_result"
    }
   ],
   "source": [
    "# Example\n",
    "df[df['year'] >= 2015]"
   ]
  },
  {
   "cell_type": "markdown",
   "id": "b556e38b",
   "metadata": {},
   "source": [
    "We can also to multiple subsets at the same time. For example, selecting those launched in 2010 or after, and which were select only remote sensing satellites;"
   ]
  },
  {
   "cell_type": "code",
   "execution_count": 47,
   "id": "371cc8b7",
   "metadata": {},
   "outputs": [
    {
     "name": "stderr",
     "output_type": "stream",
     "text": [
      "C:\\Users\\edwar\\AppData\\Local\\Temp\\ipykernel_16708\\2415505248.py:2: UserWarning: Boolean Series key will be reindexed to match DataFrame index.\n",
      "  df[df['year'] >= 2015][df['mission'] == 'Remote sensing']\n"
     ]
    },
    {
     "data": {
      "text/html": [
       "<div>\n",
       "<style scoped>\n",
       "    .dataframe tbody tr th:only-of-type {\n",
       "        vertical-align: middle;\n",
       "    }\n",
       "\n",
       "    .dataframe tbody tr th {\n",
       "        vertical-align: top;\n",
       "    }\n",
       "\n",
       "    .dataframe thead th {\n",
       "        text-align: right;\n",
       "    }\n",
       "</style>\n",
       "<table border=\"1\" class=\"dataframe\">\n",
       "  <thead>\n",
       "    <tr style=\"text-align: right;\">\n",
       "      <th></th>\n",
       "      <th>satellite</th>\n",
       "      <th>year</th>\n",
       "      <th>government_owned</th>\n",
       "      <th>mission</th>\n",
       "    </tr>\n",
       "  </thead>\n",
       "  <tbody>\n",
       "    <tr>\n",
       "      <th>2</th>\n",
       "      <td>PlanetScope</td>\n",
       "      <td>2015</td>\n",
       "      <td>False</td>\n",
       "      <td>Remote sensing</td>\n",
       "    </tr>\n",
       "  </tbody>\n",
       "</table>\n",
       "</div>"
      ],
      "text/plain": [
       "     satellite  year  government_owned         mission\n",
       "2  PlanetScope  2015             False  Remote sensing"
      ]
     },
     "execution_count": 47,
     "metadata": {},
     "output_type": "execute_result"
    }
   ],
   "source": [
    "# Example\n",
    "df[df['year'] >= 2015][df['mission'] == 'Remote sensing']"
   ]
  },
  {
   "cell_type": "markdown",
   "id": "08b83212",
   "metadata": {},
   "source": [
    "You can create add a new column to the existing dataframe as follows;"
   ]
  },
  {
   "cell_type": "code",
   "execution_count": 49,
   "id": "d0d307ea",
   "metadata": {},
   "outputs": [
    {
     "data": {
      "text/html": [
       "<div>\n",
       "<style scoped>\n",
       "    .dataframe tbody tr th:only-of-type {\n",
       "        vertical-align: middle;\n",
       "    }\n",
       "\n",
       "    .dataframe tbody tr th {\n",
       "        vertical-align: top;\n",
       "    }\n",
       "\n",
       "    .dataframe thead th {\n",
       "        text-align: right;\n",
       "    }\n",
       "</style>\n",
       "<table border=\"1\" class=\"dataframe\">\n",
       "  <thead>\n",
       "    <tr style=\"text-align: right;\">\n",
       "      <th></th>\n",
       "      <th>satellite</th>\n",
       "      <th>year</th>\n",
       "      <th>government_owned</th>\n",
       "      <th>mission</th>\n",
       "      <th>mission code</th>\n",
       "      <th>mission_code</th>\n",
       "    </tr>\n",
       "  </thead>\n",
       "  <tbody>\n",
       "    <tr>\n",
       "      <th>0</th>\n",
       "      <td>LandSat</td>\n",
       "      <td>1972</td>\n",
       "      <td>True</td>\n",
       "      <td>Remote sensing</td>\n",
       "      <td></td>\n",
       "      <td></td>\n",
       "    </tr>\n",
       "    <tr>\n",
       "      <th>1</th>\n",
       "      <td>Sentinel</td>\n",
       "      <td>2013</td>\n",
       "      <td>True</td>\n",
       "      <td>Remote sensing</td>\n",
       "      <td></td>\n",
       "      <td></td>\n",
       "    </tr>\n",
       "    <tr>\n",
       "      <th>2</th>\n",
       "      <td>PlanetScope</td>\n",
       "      <td>2015</td>\n",
       "      <td>False</td>\n",
       "      <td>Remote sensing</td>\n",
       "      <td></td>\n",
       "      <td></td>\n",
       "    </tr>\n",
       "    <tr>\n",
       "      <th>3</th>\n",
       "      <td>Starlink</td>\n",
       "      <td>2018</td>\n",
       "      <td>False</td>\n",
       "      <td>Communication</td>\n",
       "      <td></td>\n",
       "      <td></td>\n",
       "    </tr>\n",
       "    <tr>\n",
       "      <th>4</th>\n",
       "      <td>Iridium</td>\n",
       "      <td>1999</td>\n",
       "      <td>False</td>\n",
       "      <td>Communication</td>\n",
       "      <td></td>\n",
       "      <td></td>\n",
       "    </tr>\n",
       "    <tr>\n",
       "      <th>5</th>\n",
       "      <td>OneWeb</td>\n",
       "      <td>2021</td>\n",
       "      <td>False</td>\n",
       "      <td>Communication</td>\n",
       "      <td></td>\n",
       "      <td></td>\n",
       "    </tr>\n",
       "  </tbody>\n",
       "</table>\n",
       "</div>"
      ],
      "text/plain": [
       "     satellite  year  government_owned         mission mission code  \\\n",
       "0      LandSat  1972              True  Remote sensing                \n",
       "1     Sentinel  2013              True  Remote sensing                \n",
       "2  PlanetScope  2015             False  Remote sensing                \n",
       "3     Starlink  2018             False   Communication                \n",
       "4      Iridium  1999             False   Communication                \n",
       "5       OneWeb  2021             False   Communication                \n",
       "\n",
       "  mission_code  \n",
       "0               \n",
       "1               \n",
       "2               \n",
       "3               \n",
       "4               \n",
       "5               "
      ]
     },
     "execution_count": 49,
     "metadata": {},
     "output_type": "execute_result"
    }
   ],
   "source": [
    "# Example\n",
    "df['mission_code'] = ''\n",
    "df"
   ]
  },
  {
   "cell_type": "markdown",
   "id": "ddac5c2b",
   "metadata": {},
   "source": [
    "## Exercise\n",
    "\n",
    "Now let's use the dataframe you created in the first exercise to practise extracting information.\n",
    "\n",
    "First, print the shape of 'image_data':"
   ]
  },
  {
   "cell_type": "code",
   "execution_count": 19,
   "id": "9fcbf486",
   "metadata": {},
   "outputs": [],
   "source": [
    "#Enter your attempt below:\n"
   ]
  },
  {
   "cell_type": "markdown",
   "id": "1357edab",
   "metadata": {},
   "source": [
    "Now print the top rows of 'image_data' to inspect the contents:"
   ]
  },
  {
   "cell_type": "code",
   "execution_count": 20,
   "id": "75b555f2",
   "metadata": {},
   "outputs": [],
   "source": [
    "#Enter your attempt below:\n"
   ]
  },
  {
   "cell_type": "markdown",
   "id": "7f296486",
   "metadata": {},
   "source": [
    "Subset the 'filename' column, convert to a list, and inspect the contents:"
   ]
  },
  {
   "cell_type": "code",
   "execution_count": 21,
   "id": "7c1b9852",
   "metadata": {},
   "outputs": [],
   "source": [
    "#Enter your attempt below:\n"
   ]
  },
  {
   "cell_type": "markdown",
   "id": "8a9dadda",
   "metadata": {},
   "source": [
    "Subset only the `longitude` and `latitude` columns, and then use a new function called `.to_dict('records')` to convert the dataframe of coordinates to a list of dicts:"
   ]
  },
  {
   "cell_type": "code",
   "execution_count": 22,
   "id": "bcd9a229",
   "metadata": {},
   "outputs": [],
   "source": [
    "#Enter your attempt below:\n"
   ]
  },
  {
   "cell_type": "markdown",
   "id": "aac94a22",
   "metadata": {},
   "source": [
    "Next subset those rows which have a 'latitude' between 1.5 and 1.6:"
   ]
  },
  {
   "cell_type": "code",
   "execution_count": 23,
   "id": "0cab2d71",
   "metadata": {},
   "outputs": [],
   "source": [
    "#Enter your attempt below:\n"
   ]
  },
  {
   "cell_type": "markdown",
   "id": "1d419d34",
   "metadata": {},
   "source": [
    "Finally, subset those rows which have a 'longitude' between 0.05 and 0.1:"
   ]
  },
  {
   "cell_type": "code",
   "execution_count": 24,
   "id": "d86de326",
   "metadata": {},
   "outputs": [],
   "source": [
    "#Enter your attempt below:\n"
   ]
  },
  {
   "cell_type": "markdown",
   "id": "3f88cf25",
   "metadata": {},
   "source": [
    "# Intro `geopandas`\n",
    "\n",
    "The beauty of `geopandas` is that it enables us to manage spatial info using the Python Data Analysis Library: https://pandas.pydata.org\n",
    "\n",
    "Let's start by installing the package:"
   ]
  },
  {
   "cell_type": "code",
   "execution_count": 50,
   "id": "29b48717",
   "metadata": {},
   "outputs": [],
   "source": [
    "# Example\n",
    "# import sys\n",
    "# !conda install --yes --prefix {sys.prefix} numpy=1.22\n",
    "# !conda install --yes --prefix {sys.prefix} geopandas\n",
    "import geopandas"
   ]
  },
  {
   "cell_type": "markdown",
   "id": "2ce06148",
   "metadata": {},
   "source": [
    "## A quick recap on `pandas`\n",
    "\n",
    "Pandas is a Python package \"providing fast, flexible, and expressive data structures designed to make working with “relational” or “labeled” data both easy and intuitive\". \n",
    "\n",
    "It provides us with a range of capabilities:\n",
    "\n",
    "- DataFrame object for data manipulation with integrated indexing.\n",
    "- Tools for reading and writing data between in-memory data structures and different file formats.\n",
    "- Data alignment and integrated handling of missing data.\n",
    "- Reshaping and pivoting of data sets.\n",
    "- Label-based slicing, fancy indexing, and subsetting of large data sets.\n",
    "- Data structure column insertion and deletion.\n",
    "- Group by engine allowing split-apply-combine operations on data sets.\n",
    "- Data set merging and joining.\n",
    "- Hierarchical axis indexing to work with high-dimensional data in a lower-dimensional data structure.\n",
    "- Time series-functionality: Date range generation[6] and frequency conversions, moving window statistics, moving window linear regressions, date shifting and lagging.\n",
    "- Provides data filtration.\n",
    "\n",
    "\n"
   ]
  },
  {
   "cell_type": "markdown",
   "id": "be6e20d7",
   "metadata": {},
   "source": [
    "## So what is special about `geopandas`?\n",
    "\n",
    "\"GeoPandas is a project to add support for geographic data to pandas objects. It currently implements GeoSeries and GeoDataFrame types which are subclasses of pandas.Series and pandas.DataFrame respectively. GeoPandas objects can act on shapely geometry objects and perform geometric operations.\"\n",
    "\n",
    "See the Git repo for more information: https://github.com/geopandas/geopandas\n",
    "\n",
    "The GeoPandas dataframe holds a geometry column which enables cartesian geometry operations (meaning it can interpret pairs of numerical coordinates in space). \n",
    "\n",
    "The coordinate reference system (crs) can be stored as an attribute on an object, and is automatically set when loading from a file. Objects may be transformed to new coordinate systems with the `to_crs()` method. \n",
    "\n",
    "Here we will cover the following basic operations:\n",
    "\n",
    "- Reading data to a geopandas dataframe\n",
    "- Manipulating column data \n",
    "- Creating a new column\n",
    "- Changing coordinate reference systems\n",
    "- Writing data to a geopandas dataframe\n"
   ]
  },
  {
   "cell_type": "markdown",
   "id": "a020a2ae",
   "metadata": {},
   "source": [
    "### Reading vector shapefile data to a `geopandas` dataframe\n",
    "\n",
    "Let's read in the shapefile for GMU. \n",
    "\n",
    "To load this in, we can find the current folder using the `os` package which we previously used, as follows, via the `getcwd` function:"
   ]
  },
  {
   "cell_type": "code",
   "execution_count": 51,
   "id": "6f4fd12c",
   "metadata": {},
   "outputs": [
    {
     "name": "stdout",
     "output_type": "stream",
     "text": [
      "D:\\Github\\satellite-image-analysis\\notebooks\n"
     ]
    }
   ],
   "source": [
    "import os\n",
    "\n",
    "## getcwd stands for 'get current working directory'\n",
    "current_dir = os.getcwd()\n",
    "\n",
    "print(current_dir)    "
   ]
  },
  {
   "cell_type": "markdown",
   "id": "1442e6b2",
   "metadata": {},
   "source": [
    "The `current_dir` variable is merely a string of the directory path which we can manipulate."
   ]
  },
  {
   "cell_type": "code",
   "execution_count": 56,
   "id": "7e0d96b0",
   "metadata": {},
   "outputs": [
    {
     "name": "stdout",
     "output_type": "stream",
     "text": [
      "D:\\Github\\satellite-image-analysis\\notebooks/files/gmu.shp\n"
     ]
    }
   ],
   "source": [
    "## getcwd stands for 'get current working directory'\n",
    "current_dir = os.getcwd()\n",
    "\n",
    "path = current_dir + '/files' + '/gmu.shp'\n",
    "\n",
    "print(path)    "
   ]
  },
  {
   "cell_type": "markdown",
   "id": "8e9a50ce",
   "metadata": {},
   "source": [
    "Now we're ready to read in the data using the path we've specified.\n",
    "\n",
    "Let's first load `geopandas` which should already be installed in your environment. \n",
    "\n",
    "Then we can use the GeoPandas function `read_file` and provide the following arguments:\n",
    "- `path` which contains the path to the shapefile we want to load, and\n",
    "- `crs` which states the coordinate reference system\n"
   ]
  },
  {
   "cell_type": "code",
   "execution_count": 57,
   "id": "d62e4fff",
   "metadata": {
    "scrolled": true
   },
   "outputs": [
    {
     "name": "stdout",
     "output_type": "stream",
     "text": [
      "   FID                                           geometry\n",
      "0    0  POLYGON ((-77.31540 38.83630, -77.30000 38.836...\n"
     ]
    }
   ],
   "source": [
    "import geopandas as gpd\n",
    "\n",
    "#load the file as the variable named data\n",
    "data = gpd.read_file(path, crs='epsg:4326') \n",
    "print(data)"
   ]
  },
  {
   "cell_type": "markdown",
   "id": "c8e43828",
   "metadata": {},
   "source": [
    "## Basic `geopandas` functions\n",
    "\n",
    "`geopandas` provide us with some great functionality, for example, we can change the crs as follows:"
   ]
  },
  {
   "cell_type": "code",
   "execution_count": 58,
   "id": "679d72a1",
   "metadata": {},
   "outputs": [
    {
     "name": "stdout",
     "output_type": "stream",
     "text": [
      "   FID                                           geometry\n",
      "0    0  POLYGON ((-8606710.958 4698250.004, -8604996.6...\n"
     ]
    }
   ],
   "source": [
    "# The previous crs was in decimel degrees (epsg:4326), so let's change to meters ('epsg:3857')\n",
    "data = data.to_crs('epsg:3857')\n",
    "print(data)"
   ]
  },
  {
   "cell_type": "markdown",
   "id": "4fb717fa",
   "metadata": {},
   "source": [
    "Now we are working with a crs which is in meters, we can take the area of this shape as follows:"
   ]
  },
  {
   "cell_type": "code",
   "execution_count": 59,
   "id": "bb375c82",
   "metadata": {},
   "outputs": [
    {
     "name": "stdout",
     "output_type": "stream",
     "text": [
      "   FID                                           geometry          area\n",
      "0    0  POLYGON ((-8606710.958 4698250.004, -8604996.6...  2.768233e+06\n"
     ]
    }
   ],
   "source": [
    "# Due to our current CRS, the area will be in square meters\n",
    "data['area'] = data['geometry'].area \n",
    "print(data)"
   ]
  },
  {
   "cell_type": "markdown",
   "id": "e4ac4a09",
   "metadata": {},
   "source": [
    "The beauty is we can manipulate this as a normal pandas dataframe.\n",
    "\n",
    "So let's for example, convert our square meters into square kilometers (which requires us to divide by 1e6)\n",
    "\n",
    "Remember, we can select a variable by using the square parentheses to index (e.g. `data['area']` gets the area column), and then create a new column this way too (e.g. `data['area_km2']` is the new column we wish to make)."
   ]
  },
  {
   "cell_type": "code",
   "execution_count": 60,
   "id": "b8b6a6bb",
   "metadata": {},
   "outputs": [
    {
     "name": "stdout",
     "output_type": "stream",
     "text": [
      "0    2.768233\n",
      "Name: area_km2, dtype: float64\n"
     ]
    }
   ],
   "source": [
    "data['area_km2'] = data['area'] / 1e6\n",
    "print(data['area_km2'])"
   ]
  },
  {
   "cell_type": "markdown",
   "id": "d39d2be7",
   "metadata": {},
   "source": [
    "We can see the whole dataframe structure with our new column, as follows:"
   ]
  },
  {
   "cell_type": "code",
   "execution_count": 61,
   "id": "1667bcbd",
   "metadata": {},
   "outputs": [
    {
     "name": "stdout",
     "output_type": "stream",
     "text": [
      "   FID                                           geometry          area  \\\n",
      "0    0  POLYGON ((-8606710.958 4698250.004, -8604996.6...  2.768233e+06   \n",
      "\n",
      "   area_km2  \n",
      "0  2.768233  \n"
     ]
    }
   ],
   "source": [
    "print(data)"
   ]
  },
  {
   "cell_type": "markdown",
   "id": "61d0d696",
   "metadata": {},
   "source": [
    "We are able to loop over any content in a GeoDataFrame the same way we would a normal DataFrame, by using the `iterrows()` function, as follows:"
   ]
  },
  {
   "cell_type": "code",
   "execution_count": 62,
   "id": "5cf83c9f",
   "metadata": {},
   "outputs": [
    {
     "name": "stdout",
     "output_type": "stream",
     "text": [
      "(0, FID                                                         0\n",
      "geometry    POLYGON ((-8606710.958478265 4698250.004406621...\n",
      "area                                            2768233.05248\n",
      "area_km2                                             2.768233\n",
      "Name: 0, dtype: object)\n"
     ]
    }
   ],
   "source": [
    "for row in data.iterrows():\n",
    "    print(row)"
   ]
  },
  {
   "cell_type": "markdown",
   "id": "cfe1f16d",
   "metadata": {},
   "source": [
    "This means we can access and print specific parts of each row. \n",
    "\n",
    "The important thing to remember is that you have the row index (here it's a zero) and then the actual row information.\n",
    "\n",
    "For example, we can break out the row index here using `[0]`, and the row information using `[1]`:"
   ]
  },
  {
   "cell_type": "code",
   "execution_count": 63,
   "id": "a527e88a",
   "metadata": {},
   "outputs": [
    {
     "name": "stdout",
     "output_type": "stream",
     "text": [
      "0\n",
      "\n",
      "\n",
      "FID                                                         0\n",
      "geometry    POLYGON ((-8606710.958478265 4698250.004406621...\n",
      "area                                            2768233.05248\n",
      "area_km2                                             2.768233\n",
      "Name: 0, dtype: object\n"
     ]
    }
   ],
   "source": [
    "for row in data.iterrows():\n",
    "    \n",
    "    ##this will print our row index\n",
    "    print(row[0]) \n",
    "    print('')\n",
    "    print('')\n",
    "    ##this will print our row information\n",
    "    print(row[1])"
   ]
  },
  {
   "cell_type": "markdown",
   "id": "c1e48634",
   "metadata": {},
   "source": [
    "We can then access just the geometry as follows:"
   ]
  },
  {
   "cell_type": "code",
   "execution_count": 64,
   "id": "577c1141",
   "metadata": {},
   "outputs": [
    {
     "name": "stdout",
     "output_type": "stream",
     "text": [
      "POLYGON ((-8606710.958478265 4698250.004406621, -8604996.638320047 4698250.004406621, -8604996.638320047 4696635.23423711, -8606599.63898747 4696635.23423711, -8606710.958478265 4696635.23423711, -8606710.958478265 4698250.004406621))\n"
     ]
    }
   ],
   "source": [
    "for row in data.iterrows():\n",
    "    \n",
    "    ##this will print our row geometry\n",
    "    print(row[1]['geometry'])"
   ]
  },
  {
   "cell_type": "markdown",
   "id": "380ce0a7",
   "metadata": {},
   "source": [
    "And we can carry out any manipulations we want in this loop, such as taking the area (let's reuse this as it used it before, so you will be familiar):"
   ]
  },
  {
   "cell_type": "code",
   "execution_count": 65,
   "id": "f2e36027",
   "metadata": {},
   "outputs": [
    {
     "name": "stdout",
     "output_type": "stream",
     "text": [
      "The area of GMU campus is 2.8 square kilometers\n"
     ]
    }
   ],
   "source": [
    "for row in data.iterrows():\n",
    "    \n",
    "    ##this will print our row geometry\n",
    "    area_km2 = (row[1]['geometry'].area / 1e6)\n",
    "    \n",
    "    ##this will round our area to 1 decimal place\n",
    "    area_km2 = round(area_km2, 1)\n",
    "    \n",
    "    print(\"The area of GMU campus is {} square kilometers\".format(area_km2))"
   ]
  }
 ],
 "metadata": {
  "kernelspec": {
   "display_name": "Python 3 (ipykernel)",
   "language": "python",
   "name": "python3"
  },
  "language_info": {
   "codemirror_mode": {
    "name": "ipython",
    "version": 3
   },
   "file_extension": ".py",
   "mimetype": "text/x-python",
   "name": "python",
   "nbconvert_exporter": "python",
   "pygments_lexer": "ipython3",
   "version": "3.9.16"
  }
 },
 "nbformat": 4,
 "nbformat_minor": 5
}
