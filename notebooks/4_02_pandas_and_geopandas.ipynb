{
 "cells": [
  {
   "cell_type": "markdown",
   "id": "ff53e4d4",
   "metadata": {},
   "source": [
    "# Intro to `pandas` and `geopandas`"
   ]
  },
  {
   "cell_type": "markdown",
   "id": "2e09b5c9",
   "metadata": {},
   "source": [
    "There are a very large number of open-source libraries we can import. \n",
    "\n",
    "The Python data analysis package `pandas` is a favorite: https://pandas.pydata.org/\n",
    "\n",
    "Pandas is based on using **Dataframes**. They allow us to store data as panels in  rows and columns. You may have encountered this data structure in R or Matlab. If not, you can think of the approach as similar to how you use a spreadsheet (except with far greater flexibility and power in Python).\n",
    "\n",
    "In this tutorial, we will focus on manipulation of dataframes using pandas. "
   ]
  },
  {
   "cell_type": "markdown",
   "id": "c1b07664",
   "metadata": {},
   "source": [
    "<div class=\"alert alert-block alert-info\">\n",
    "    \n",
    "<b>Note:</b> There are several sub-libraries of pandas such as geopandas for geospatial data that you can always harness their power while performing highly specialised tasks. **Remember Google is your friend!**.\n",
    "</div>"
   ]
  },
  {
   "cell_type": "markdown",
   "id": "acbeab85",
   "metadata": {},
   "source": [
    "To begin working with dataframes, we first install and import pandas (as we did for packages in previous sessions). "
   ]
  },
  {
   "cell_type": "markdown",
   "id": "eeb842fd",
   "metadata": {},
   "source": [
    "<div class=\"alert alert-block alert-warning\">\n",
    "\n",
    "<b>!! Note !!</b> Pandas is not part of most python distribution packages hence it should be installed where it is not available before starting the tutorial. You may need to exit and reinstall. \n",
    "\n",
    "</div>"
   ]
  },
  {
   "cell_type": "code",
   "execution_count": null,
   "id": "88466074",
   "metadata": {},
   "outputs": [],
   "source": [
    "# Example\n",
    "import sys\n",
    "!conda install --yes --prefix {sys.prefix} pandas\n",
    "import pandas as pd"
   ]
  },
  {
   "cell_type": "markdown",
   "id": "a97a9176",
   "metadata": {},
   "source": [
    "## Creating a `pandas` dataframe"
   ]
  },
  {
   "cell_type": "markdown",
   "id": "63d4a4ce",
   "metadata": {},
   "source": [
    "Here we are focusing on ways of creating dataframes. However, in most day-to-day programming, you are likely to work with data in other formats which you can convert to dataframe by a single line of code. "
   ]
  },
  {
   "cell_type": "markdown",
   "id": "0870ce31",
   "metadata": {},
   "source": [
    "Nevertheless, dataframes can be created by converting lists to dictionaries and then to a dataframe, as shown in the subsequent steps, using an example of satellite missions. "
   ]
  },
  {
   "cell_type": "markdown",
   "id": "927b8cfb",
   "metadata": {},
   "source": [
    "First, let's create a list with our information."
   ]
  },
  {
   "cell_type": "code",
   "execution_count": null,
   "id": "75c3e8b9",
   "metadata": {},
   "outputs": [],
   "source": [
    "# Example\n",
    "satellites = ['LandSat','EumetSat','Sentinel','PlanetScope','RasCom',\\\n",
    "             'Starlink','Telesat','RadarSat','Alos','KitSat-1','Chollian','Iridium','OneWeb']\n",
    "year = [1972,1986,2013,2015,2010,2018,2019,1995,2006,1999,2010,1999,2021]\n",
    "inclination = [99.2,66,98.65,98.1,0.1,53.2,None,98.6,98.16,None,0.2,86.4,86.4]\n",
    "government = [True,True,True,False,True,False,False,True,None,True,True,False,None]\n",
    "role = ['Remote sensing','Remote sensing','Remote sensing',\\\n",
    "        'Communication','Communication','Communication','Remote sensing',\\\n",
    "        'Remote sensing','Remote sensing','Communication','Communication',\\\n",
    "        'Remote sensing','Communication']\n",
    "satellites"
   ]
  },
  {
   "cell_type": "markdown",
   "id": "88d18153",
   "metadata": {},
   "source": [
    "Next, we need to combine the lists into a dictionary:"
   ]
  },
  {
   "cell_type": "code",
   "execution_count": null,
   "id": "9551913f",
   "metadata": {},
   "outputs": [],
   "source": [
    "# Example\n",
    "sat_data = {\n",
    "    'satellite': satellites,\n",
    "    'year': year,\n",
    "    'inclination': inclination,\n",
    "    'government_owned': government,\n",
    "    'mission': role\n",
    "}\n",
    "sat_data"
   ]
  },
  {
   "cell_type": "markdown",
   "id": "d7be90f8",
   "metadata": {},
   "source": [
    "Finally, we convert the dictionary into dataframe using the `pandas` library function `.DataFrame()`."
   ]
  },
  {
   "cell_type": "code",
   "execution_count": null,
   "id": "4d3ad879",
   "metadata": {},
   "outputs": [],
   "source": [
    "# Example\n",
    "df = pd.DataFrame(sat_data)\n",
    "df"
   ]
  },
  {
   "cell_type": "markdown",
   "id": "1867c592",
   "metadata": {},
   "source": [
    "The prepared dataframe can be converted to other formats such as excel spreadsheet or CSV files, Example;"
   ]
  },
  {
   "cell_type": "code",
   "execution_count": null,
   "id": "f94e8590",
   "metadata": {},
   "outputs": [],
   "source": [
    "# Example\n",
    "df.to_csv('satellite_missions.csv')"
   ]
  },
  {
   "cell_type": "markdown",
   "id": "4b8de87c",
   "metadata": {},
   "source": [
    "## Exercise\n",
    "\n",
    "Have a go at manually creating a `pandas` dataframe called 'image_data' using the following:\n",
    "\n",
    "    - A column called 'id' containing four numbers from 0-3.\n",
    "    - A column called 'longitude' containing 0.02, 0.05, 0.06 and 0.08.\n",
    "    - A column called 'latitude' containing 1.54, 1.65, 1.48 and 1.59.\n",
    "    - A column called 'filename' containing 'multiband0.tiff', 'multiband1.tiff', 'multiband2.tiff' and 'multiband3.tiff'.\n",
    "    \n",
    "Write this dataframe to a .csv file called 'my_csv.csv'. \n",
    "        "
   ]
  },
  {
   "cell_type": "code",
   "execution_count": null,
   "id": "20123e76",
   "metadata": {},
   "outputs": [],
   "source": [
    "#Enter your attempt below:\n"
   ]
  },
  {
   "cell_type": "markdown",
   "id": "9dacb58a",
   "metadata": {},
   "source": [
    "## Accessing data"
   ]
  },
  {
   "cell_type": "markdown",
   "id": "0ce64b82",
   "metadata": {},
   "source": [
    "`pandas` provides a lot of functionality. For example, you can view the first few rows of data using the 'head' function:"
   ]
  },
  {
   "cell_type": "code",
   "execution_count": null,
   "id": "b2f9b768",
   "metadata": {},
   "outputs": [],
   "source": [
    "# Example\n",
    "df.head()"
   ]
  },
  {
   "cell_type": "markdown",
   "id": "0404dfcb",
   "metadata": {},
   "source": [
    "You can view the last few rows of your data using the 'tail' function."
   ]
  },
  {
   "cell_type": "code",
   "execution_count": null,
   "id": "ddd84dc1",
   "metadata": {},
   "outputs": [],
   "source": [
    "# Example\n",
    "df.tail()"
   ]
  },
  {
   "cell_type": "markdown",
   "id": "d683ecbb",
   "metadata": {},
   "source": [
    "You can know how many rows and columns are in your data using the shape function."
   ]
  },
  {
   "cell_type": "code",
   "execution_count": null,
   "id": "c376dcb1",
   "metadata": {},
   "outputs": [],
   "source": [
    "# Example\n",
    "df.shape"
   ]
  },
  {
   "cell_type": "markdown",
   "id": "af4ba54e",
   "metadata": {},
   "source": [
    "You can know the name of columns by using the column function."
   ]
  },
  {
   "cell_type": "code",
   "execution_count": null,
   "id": "8a3d3310",
   "metadata": {},
   "outputs": [],
   "source": [
    "# Example\n",
    "df.columns"
   ]
  },
  {
   "cell_type": "markdown",
   "id": "ad6dde9e",
   "metadata": {},
   "source": [
    "You can access a single columns using the following syntax."
   ]
  },
  {
   "cell_type": "code",
   "execution_count": null,
   "id": "3b07e701",
   "metadata": {},
   "outputs": [],
   "source": [
    "# Example\n",
    "df['satellite']"
   ]
  },
  {
   "cell_type": "markdown",
   "id": "b248cbdd",
   "metadata": {},
   "source": [
    "You can access multiple columns using the following line of code."
   ]
  },
  {
   "cell_type": "code",
   "execution_count": null,
   "id": "44ec66fa",
   "metadata": {},
   "outputs": [],
   "source": [
    "# Example\n",
    "df[['satellite','year']]"
   ]
  },
  {
   "cell_type": "markdown",
   "id": "728f661a",
   "metadata": {},
   "source": [
    "You can access individual rows by specifying the row index, e.g;"
   ]
  },
  {
   "cell_type": "code",
   "execution_count": null,
   "id": "032b0086",
   "metadata": {},
   "outputs": [],
   "source": [
    "# Example\n",
    "df.loc[7]"
   ]
  },
  {
   "cell_type": "markdown",
   "id": "75f03274",
   "metadata": {},
   "source": [
    "You can access datapoints between a given range by;"
   ]
  },
  {
   "cell_type": "code",
   "execution_count": null,
   "id": "5b2b7a02",
   "metadata": {},
   "outputs": [],
   "source": [
    "# Example\n",
    "df.loc[8:10]"
   ]
  },
  {
   "cell_type": "markdown",
   "id": "85491c14",
   "metadata": {},
   "source": [
    "You can access data of specific attributes by subsetting. Eg satellites launched in 2010 or after."
   ]
  },
  {
   "cell_type": "code",
   "execution_count": null,
   "id": "e84856df",
   "metadata": {},
   "outputs": [],
   "source": [
    "# Example\n",
    "df[df['year'] >= 2010]"
   ]
  },
  {
   "cell_type": "markdown",
   "id": "b556e38b",
   "metadata": {},
   "source": [
    "We can also to multiple subsets at the same time. For example, selecting those launched in 2010 or after, and which were select only remote sensing satellites;"
   ]
  },
  {
   "cell_type": "code",
   "execution_count": null,
   "id": "371cc8b7",
   "metadata": {},
   "outputs": [],
   "source": [
    "# Example\n",
    "df[df['year'] >= 2010][df['mission'] == 'Remote sensing']"
   ]
  },
  {
   "cell_type": "markdown",
   "id": "08b83212",
   "metadata": {},
   "source": [
    "You can create add a new column to the existing dataframe as follows;"
   ]
  },
  {
   "cell_type": "code",
   "execution_count": null,
   "id": "d0d307ea",
   "metadata": {},
   "outputs": [],
   "source": [
    "# Example\n",
    "df['mission code'] = ''\n",
    "df"
   ]
  },
  {
   "cell_type": "markdown",
   "id": "ddac5c2b",
   "metadata": {},
   "source": [
    "## Exercise\n",
    "\n",
    "Now let's use the dataframe you created in the first exercise to practise extracting information.\n",
    "\n",
    "First, print the shape of 'image_data':"
   ]
  },
  {
   "cell_type": "code",
   "execution_count": null,
   "id": "9fcbf486",
   "metadata": {},
   "outputs": [],
   "source": [
    "#Enter your attempt below:\n"
   ]
  },
  {
   "cell_type": "markdown",
   "id": "1357edab",
   "metadata": {},
   "source": [
    "Now print the top rows of 'image_data' to inspect the contents:"
   ]
  },
  {
   "cell_type": "code",
   "execution_count": null,
   "id": "75b555f2",
   "metadata": {},
   "outputs": [],
   "source": [
    "#Enter your attempt below:\n"
   ]
  },
  {
   "cell_type": "markdown",
   "id": "7f296486",
   "metadata": {},
   "source": [
    "Subset the 'filename' column, convert to a list, and inspect the contents:"
   ]
  },
  {
   "cell_type": "code",
   "execution_count": null,
   "id": "7c1b9852",
   "metadata": {},
   "outputs": [],
   "source": [
    "#Enter your attempt below:\n"
   ]
  },
  {
   "cell_type": "markdown",
   "id": "8a9dadda",
   "metadata": {},
   "source": [
    "Subset only the `longitude` and `latitude` columns, and then use a new function called `.to_dict('records')` to convert the dataframe of coordinates to a list of dicts:"
   ]
  },
  {
   "cell_type": "code",
   "execution_count": null,
   "id": "bcd9a229",
   "metadata": {},
   "outputs": [],
   "source": [
    "#Enter your attempt below:\n"
   ]
  },
  {
   "cell_type": "markdown",
   "id": "aac94a22",
   "metadata": {},
   "source": [
    "Next subset those rows which have a 'latitude' between 1.5 and 1.6:"
   ]
  },
  {
   "cell_type": "code",
   "execution_count": null,
   "id": "0cab2d71",
   "metadata": {},
   "outputs": [],
   "source": [
    "#Enter your attempt below:\n"
   ]
  },
  {
   "cell_type": "markdown",
   "id": "1d419d34",
   "metadata": {},
   "source": [
    "Finally, subset those rows which have a 'longitude' between 0.05 and 0.1:"
   ]
  },
  {
   "cell_type": "code",
   "execution_count": null,
   "id": "d86de326",
   "metadata": {},
   "outputs": [],
   "source": [
    "#Enter your attempt below:\n"
   ]
  },
  {
   "cell_type": "markdown",
   "id": "3f88cf25",
   "metadata": {},
   "source": [
    "# Intro `geopandas`\n",
    "\n",
    "The beauty of `geopandas` is that it enables us to manage spatial info using the Python Data Analysis Library: https://pandas.pydata.org\n",
    "\n",
    "Let's start by installing the package:"
   ]
  },
  {
   "cell_type": "code",
   "execution_count": null,
   "id": "29b48717",
   "metadata": {},
   "outputs": [],
   "source": [
    "# Example\n",
    "import sys\n",
    "!conda install --yes --prefix {sys.prefix} numpy=1.22\n",
    "!conda install --yes --prefix {sys.prefix} geopandas"
   ]
  },
  {
   "cell_type": "markdown",
   "id": "2ce06148",
   "metadata": {},
   "source": [
    "## A quick recap on `pandas`\n",
    "\n",
    "Pandas is a Python package \"providing fast, flexible, and expressive data structures designed to make working with “relational” or “labeled” data both easy and intuitive\". \n",
    "\n",
    "It provides us with a range of capabilities:\n",
    "\n",
    "- DataFrame object for data manipulation with integrated indexing.\n",
    "- Tools for reading and writing data between in-memory data structures and different file formats.\n",
    "- Data alignment and integrated handling of missing data.\n",
    "- Reshaping and pivoting of data sets.\n",
    "- Label-based slicing, fancy indexing, and subsetting of large data sets.\n",
    "- Data structure column insertion and deletion.\n",
    "- Group by engine allowing split-apply-combine operations on data sets.\n",
    "- Data set merging and joining.\n",
    "- Hierarchical axis indexing to work with high-dimensional data in a lower-dimensional data structure.\n",
    "- Time series-functionality: Date range generation[6] and frequency conversions, moving window statistics, moving window linear regressions, date shifting and lagging.\n",
    "- Provides data filtration.\n",
    "\n",
    "\n"
   ]
  },
  {
   "cell_type": "markdown",
   "id": "be6e20d7",
   "metadata": {},
   "source": [
    "## So what is special about `geopandas`?\n",
    "\n",
    "\"GeoPandas is a project to add support for geographic data to pandas objects. It currently implements GeoSeries and GeoDataFrame types which are subclasses of pandas.Series and pandas.DataFrame respectively. GeoPandas objects can act on shapely geometry objects and perform geometric operations.\"\n",
    "\n",
    "See the Git repo for more information: https://github.com/geopandas/geopandas\n",
    "\n",
    "The GeoPandas dataframe holds a geometry column which enables cartesian geometry operations (meaning it can interpret pairs of numerical coordinates in space). \n",
    "\n",
    "The coordinate reference system (crs) can be stored as an attribute on an object, and is automatically set when loading from a file. Objects may be transformed to new coordinate systems with the `to_crs()` method. \n",
    "\n",
    "Here we will cover the following basic operations:\n",
    "\n",
    "- Reading data to a geopandas dataframe\n",
    "- Manipulating column data \n",
    "- Creating a new column\n",
    "- Changing coordinate reference systems\n",
    "- Writing data to a geopandas dataframe\n"
   ]
  },
  {
   "cell_type": "markdown",
   "id": "a020a2ae",
   "metadata": {},
   "source": [
    "### Reading vector shapefile data to a `geopandas` dataframe\n",
    "\n",
    "Let's read in the shapefile for GMU. \n",
    "\n",
    "To load this in, we can find the current folder using the `os` package which we previously used, as follows, via the `getcwd` function:"
   ]
  },
  {
   "cell_type": "code",
   "execution_count": null,
   "id": "6f4fd12c",
   "metadata": {},
   "outputs": [],
   "source": [
    "import os\n",
    "\n",
    "## getcwd stands for 'get current working directory'\n",
    "current_dir = os.getcwd()\n",
    "\n",
    "print(current_dir)    "
   ]
  },
  {
   "cell_type": "markdown",
   "id": "1442e6b2",
   "metadata": {},
   "source": [
    "The `current_dir` variable is merely a string of the directory path which we can manipulate."
   ]
  },
  {
   "cell_type": "code",
   "execution_count": null,
   "id": "7e0d96b0",
   "metadata": {},
   "outputs": [],
   "source": [
    "## getcwd stands for 'get current working directory'\n",
    "current_dir = os.getcwd()\n",
    "\n",
    "path = current_dir + '/gmu.shp'\n",
    "\n",
    "print(path)    "
   ]
  },
  {
   "cell_type": "markdown",
   "id": "8e9a50ce",
   "metadata": {},
   "source": [
    "Now we're ready to read in the data using the path we've specified.\n",
    "\n",
    "Let's first load `geopandas` which should already be installed in your environment. \n",
    "\n",
    "Then we can use the GeoPandas function `read_file` and provide the following arguments:\n",
    "- `path` which contains the path to the shapefile we want to load, and\n",
    "- `crs` which states the coordinate reference system\n"
   ]
  },
  {
   "cell_type": "code",
   "execution_count": null,
   "id": "d62e4fff",
   "metadata": {
    "scrolled": true
   },
   "outputs": [],
   "source": [
    "import geopandas as gpd\n",
    "\n",
    "#load the file as the variable named data\n",
    "data = gpd.read_file(path, crs='epsg:4326') \n",
    "print(data)"
   ]
  },
  {
   "cell_type": "markdown",
   "id": "c8e43828",
   "metadata": {},
   "source": [
    "## Basic `geopandas` functions\n",
    "\n",
    "`geopandas` provide us with some great functionality, for example, we can change the crs as follows:"
   ]
  },
  {
   "cell_type": "code",
   "execution_count": null,
   "id": "679d72a1",
   "metadata": {},
   "outputs": [],
   "source": [
    "# The previous crs was in decimel degrees (epsg:4326), so let's change to meters ('epsg:3857')\n",
    "data = data.to_crs('epsg:3857')\n",
    "print(data)"
   ]
  },
  {
   "cell_type": "markdown",
   "id": "4fb717fa",
   "metadata": {},
   "source": [
    "Now we are working with a crs which is in meters, we can take the area of this shape as follows:"
   ]
  },
  {
   "cell_type": "code",
   "execution_count": null,
   "id": "bb375c82",
   "metadata": {},
   "outputs": [],
   "source": [
    "# Due to our current CRS, the area will be in square meters\n",
    "data['area'] = data['geometry'].area \n",
    "print(data)"
   ]
  },
  {
   "cell_type": "markdown",
   "id": "e4ac4a09",
   "metadata": {},
   "source": [
    "The beauty is we can manipulate this as a normal pandas dataframe.\n",
    "\n",
    "So let's for example, convert our square meters into square kilometers (which requires us to divide by 1e6)\n",
    "\n",
    "Remember, we can select a variable by using the square parentheses to index (e.g. `data['area']` gets the area column), and then create a new column this way too (e.g. `data['area_km2']` is the new column we wish to make)."
   ]
  },
  {
   "cell_type": "code",
   "execution_count": null,
   "id": "b8b6a6bb",
   "metadata": {},
   "outputs": [],
   "source": [
    "data['area_km2'] = data['area'] / 1e6\n",
    "print(data['area_km2'])"
   ]
  },
  {
   "cell_type": "markdown",
   "id": "d39d2be7",
   "metadata": {},
   "source": [
    "We can see the whole dataframe structure with our new column, as follows:"
   ]
  },
  {
   "cell_type": "code",
   "execution_count": null,
   "id": "1667bcbd",
   "metadata": {},
   "outputs": [],
   "source": [
    "print(data)"
   ]
  },
  {
   "cell_type": "markdown",
   "id": "61d0d696",
   "metadata": {},
   "source": [
    "We are able to loop over any content in a GeoDataFrame the same way we would a normal DataFrame, by using the `iterrows()` function, as follows:"
   ]
  },
  {
   "cell_type": "code",
   "execution_count": null,
   "id": "5cf83c9f",
   "metadata": {},
   "outputs": [],
   "source": [
    "for row in data.iterrows():\n",
    "    print(row)"
   ]
  },
  {
   "cell_type": "markdown",
   "id": "cfe1f16d",
   "metadata": {},
   "source": [
    "This means we can access and print specific parts of each row. \n",
    "\n",
    "The important thing to remember is that you have the row index (here it's a zero) and then the actual row information.\n",
    "\n",
    "For example, we can break out the row index here using `[0]`, and the row information using `[1]`:"
   ]
  },
  {
   "cell_type": "code",
   "execution_count": null,
   "id": "a527e88a",
   "metadata": {},
   "outputs": [],
   "source": [
    "for row in data.iterrows():\n",
    "    \n",
    "    ##this will print our row index\n",
    "    print(row[0]) \n",
    "    print('')\n",
    "    print('')\n",
    "    ##this will print our row information\n",
    "    print(row[1])"
   ]
  },
  {
   "cell_type": "markdown",
   "id": "c1e48634",
   "metadata": {},
   "source": [
    "We can then access just the geometry as follows:"
   ]
  },
  {
   "cell_type": "code",
   "execution_count": null,
   "id": "577c1141",
   "metadata": {},
   "outputs": [],
   "source": [
    "for row in data.iterrows():\n",
    "    \n",
    "    ##this will print our row geometry\n",
    "    print(row[1]['geometry'])"
   ]
  },
  {
   "cell_type": "markdown",
   "id": "380ce0a7",
   "metadata": {},
   "source": [
    "And we can carry out any manipulations we want in this loop, such as taking the area (let's reuse this as it used it before, so you will be familiar):"
   ]
  },
  {
   "cell_type": "code",
   "execution_count": null,
   "id": "f2e36027",
   "metadata": {},
   "outputs": [],
   "source": [
    "for row in data.iterrows():\n",
    "    \n",
    "    ##this will print our row geometry\n",
    "    area_km2 = (row[1]['geometry'].area / 1e6)\n",
    "    \n",
    "    ##this will round our area to 1 decimal place\n",
    "    area_km2 = round(area_km2, 1)\n",
    "    \n",
    "    print(\"The area of GMU campus is {} square kilometers\".format(area_km2))"
   ]
  }
 ],
 "metadata": {
  "kernelspec": {
   "display_name": "Python 3",
   "language": "python",
   "name": "python3"
  },
  "language_info": {
   "codemirror_mode": {
    "name": "ipython",
    "version": 3
   },
   "file_extension": ".py",
   "mimetype": "text/x-python",
   "name": "python",
   "nbconvert_exporter": "python",
   "pygments_lexer": "ipython3",
   "version": "3.9.12"
  }
 },
 "nbformat": 4,
 "nbformat_minor": 5
}
