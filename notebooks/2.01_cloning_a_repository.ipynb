{
 "cells": [
  {
   "cell_type": "markdown",
   "id": "93e32bca",
   "metadata": {},
   "source": [
    "# Cloning the `sia` repository from GitHub\n",
    "\n",
    "In this notebook we're going to learn how to clone the GitHub `sia` repository: https://github.com/edwardoughton/satellite-image-analysis\n",
    "\n",
    "This will provide you with easy access to all content, materials, data etc. \n",
    "\n",
    "First, you need to install `Git` into your conda environment. \n",
    "\n",
    "*Git is a distributed version control system that tracks changes in any set of computer files, usually used for coordinating work among programmers collaboratively developing source code during software development.*\n",
    "\n",
    "More info here: https://en.wikipedia.org/wiki/Git\n",
    "\n",
    "Once installed and in the directory of our choosing, you can simply type `git clone` followed by the address to the code repository on `GitHub`. For example, navigate to the desktop of your machine and type `git clone https://github.com/edwardoughton/satellite-image-analysis.git`. This will clone the whole repository to your desktop.\n",
    "\n",
    "To summarize these steps from the beginning:\n",
    "\n",
    "1. Using the keyboard, open your Anaconda Prompt (begin typing 'Anaco...' and it should pop up).\n",
    "2. Activate your conda environment (e.g., `conda activate sia`).\n",
    "3. Install `Git` (e.g., `conda install git`).\n",
    "4. In the prompt, navigate to where you want your folder to clone to (e.g., the desktop, using `cd`).\n",
    "5. Then type `git clone https://github.com/edwardoughton/satellite-image-analysis.git`.\n",
    "\n",
    "You should now have copied a version of the `sia` GitHub repository to your desktop!\n",
    "\n",
    "Just be aware that if you make changes to this set of files, `Git` will not let you use a `git pull` command in the future, to prevent you from writing over any changes you have made. \n",
    "\n",
    "Although `Git` is highly sophisticated, the functionality provided here enables you to merely clone a reposity to your local machine, which should be sufficient for this set of tutorials. \n",
    "\n",
    "As you move to more advanced analysis, you should look into how you create your own repositories, and both push and pull changes. However, this is beyond the scope of this analysis.  \n",
    "    "
   ]
  }
 ],
 "metadata": {
  "kernelspec": {
   "display_name": "Python 3 (ipykernel)",
   "language": "python",
   "name": "python3"
  },
  "language_info": {
   "codemirror_mode": {
    "name": "ipython",
    "version": 3
   },
   "file_extension": ".py",
   "mimetype": "text/x-python",
   "name": "python",
   "nbconvert_exporter": "python",
   "pygments_lexer": "ipython3",
   "version": "3.9.12"
  }
 },
 "nbformat": 4,
 "nbformat_minor": 5
}
