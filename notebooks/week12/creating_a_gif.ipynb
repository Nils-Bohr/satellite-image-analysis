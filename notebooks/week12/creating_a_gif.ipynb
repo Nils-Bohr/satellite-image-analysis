{
 "cells": [
  {
   "cell_type": "markdown",
   "id": "92e7b867",
   "metadata": {},
   "source": [
    "# Creating a gif\n",
    "\n",
    "\n"
   ]
  },
  {
   "cell_type": "markdown",
   "id": "d30bee01",
   "metadata": {},
   "source": [
    "In this tutorial we will explore how to create a gif.\n",
    "\n",
    "This acronym 'gif' stands for Graphics Interchange Format and was developed in 1987.\n",
    "\n",
    "See the wiki for more background: https://en.wikipedia.org/wiki/GIF\n",
    "\n",
    "This format is useful for illustrating time series changes in satellite imagery. "
   ]
  },
  {
   "cell_type": "markdown",
   "id": "753a9606",
   "metadata": {},
   "source": [
    "## ImageIO\n",
    "\n",
    "There are a variety of tools out there that you can use to create a gif.\n",
    "\n",
    "In this class, we will utilize the python-based `ImageIO` package, which provides a code-based solution for us to string together large sequences of imagery data (e.g. a year's worth of imagery). Online gif creation engines may not be able to handle large numbers of high-quality images.\n",
    "\n",
    "See the documentation for more information: https://imageio.readthedocs.io/en/stable/user_guide/index.html\n",
    "\n",
    "First, we need to install the package, which we can do from a jupyter notebook as follows, using pip:"
   ]
  },
  {
   "cell_type": "code",
   "execution_count": 1,
   "id": "2148cf89",
   "metadata": {},
   "outputs": [
    {
     "name": "stdout",
     "output_type": "stream",
     "text": [
      "Requirement already satisfied: imageio in d:\\anaconda\\envs\\sia\\lib\\site-packages (2.22.4)\n",
      "Requirement already satisfied: numpy in d:\\anaconda\\envs\\sia\\lib\\site-packages (from imageio) (1.22.3)\n",
      "Requirement already satisfied: pillow>=8.3.2 in d:\\anaconda\\envs\\sia\\lib\\site-packages (from imageio) (9.2.0)\n"
     ]
    }
   ],
   "source": [
    "# Example\n",
    "import sys\n",
    "!{sys.executable} -m pip install imageio"
   ]
  },
  {
   "cell_type": "markdown",
   "id": "55e7af1a",
   "metadata": {},
   "source": [
    "Now we need to import the package into our environment, along with the `os` package which provides some useful file management functions. \n"
   ]
  },
  {
   "cell_type": "code",
   "execution_count": 2,
   "id": "01a83b36",
   "metadata": {},
   "outputs": [],
   "source": [
    "# Example\n",
    "import os\n",
    "import imageio"
   ]
  },
  {
   "cell_type": "markdown",
   "id": "e0f17002",
   "metadata": {},
   "source": [
    "You will find in the `week12` folder, another directory called `images`.\n",
    "\n",
    "Here we have some example Sentinel-2 Fall 2022 images for Hartford, Vermont and Lebanon, New Hampshire. \n",
    "\n",
    "They have been manually put in chronological order, so all we need to do is load a list of filenames. We can do this easily by using the `os.listdir()` function, which lists the files in a chosen directory. "
   ]
  },
  {
   "cell_type": "code",
   "execution_count": 3,
   "id": "919c06b9",
   "metadata": {},
   "outputs": [
    {
     "data": {
      "text/plain": [
       "['a_2022_9_4_v2.png', 'b_2022_10_19_v2.png', 'c_2022_10_29_v2.png']"
      ]
     },
     "execution_count": 3,
     "metadata": {},
     "output_type": "execute_result"
    }
   ],
   "source": [
    "# Example\n",
    "filenames = os.listdir('images') #images is our chosen directory\n",
    "filenames"
   ]
  },
  {
   "cell_type": "markdown",
   "id": "3ed89f1d",
   "metadata": {},
   "source": [
    "Next, we need to provide a list of paths to `ImageIO`, so it can find the images. \n",
    "\n",
    "We can construct these paths by taking the current directory path, adding the images folder to the path, and then the filename."
   ]
  },
  {
   "cell_type": "code",
   "execution_count": 4,
   "id": "1de562c3",
   "metadata": {},
   "outputs": [
    {
     "name": "stdout",
     "output_type": "stream",
     "text": [
      "D:\\Github\\satellite-image-analysis\\notebooks\\week12\\images\\a_2022_9_4_v2.png\n",
      "D:\\Github\\satellite-image-analysis\\notebooks\\week12\\images\\b_2022_10_19_v2.png\n",
      "D:\\Github\\satellite-image-analysis\\notebooks\\week12\\images\\c_2022_10_29_v2.png\n"
     ]
    }
   ],
   "source": [
    "# Example\n",
    "for filename in filenames:\n",
    "    \n",
    "    current_directory = os.getcwd()\n",
    "    \n",
    "    path =  os.path.join(current_directory, 'images', filename)\n",
    "    \n",
    "    print(path)"
   ]
  },
  {
   "cell_type": "markdown",
   "id": "0fa9f988",
   "metadata": {},
   "source": [
    "Now we have the ability to set these file paths, we can stitch the code together to make a list of paths, which we then give to `ImageIO`."
   ]
  },
  {
   "cell_type": "code",
   "execution_count": 5,
   "id": "c7d21318",
   "metadata": {},
   "outputs": [
    {
     "name": "stderr",
     "output_type": "stream",
     "text": [
      "C:\\Users\\edwar\\AppData\\Local\\Temp\\ipykernel_8836\\4260311658.py:10: DeprecationWarning: Starting with ImageIO v3 the behavior of this function will switch to that of iio.v3.imread. To keep the current behavior (and make this warning disappear) use `import imageio.v2 as imageio` or call `imageio.v2.imread` directly.\n",
      "  images.append(imageio.imread(path)) # append our paths to images\n"
     ]
    }
   ],
   "source": [
    "# Examples\n",
    "images = []\n",
    "\n",
    "for filename in filenames:\n",
    "    \n",
    "    current_directory = os.getcwd()\n",
    "\n",
    "    path =  os.path.join(current_directory, 'images', filename)\n",
    "    \n",
    "    images.append(imageio.imread(path)) # append our paths to images\n",
    "\n",
    "# Give the image list to imageio\n",
    "gif_filename = os.path.join('my_gif.gif')\n",
    "imageio.mimsave(gif_filename, images, duration=1)"
   ]
  }
 ],
 "metadata": {
  "kernelspec": {
   "display_name": "Python 3",
   "language": "python",
   "name": "python3"
  },
  "language_info": {
   "codemirror_mode": {
    "name": "ipython",
    "version": 3
   },
   "file_extension": ".py",
   "mimetype": "text/x-python",
   "name": "python",
   "nbconvert_exporter": "python",
   "pygments_lexer": "ipython3",
   "version": "3.9.12"
  }
 },
 "nbformat": 4,
 "nbformat_minor": 5
}
