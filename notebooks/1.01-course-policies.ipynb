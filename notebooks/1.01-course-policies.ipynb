{
 "cells": [
  {
   "cell_type": "markdown",
   "metadata": {
    "slideshow": {
     "slide_type": "slide"
    }
   },
   "source": [
    "# Welcome to GGS 416 Satellite Image Analysis!\n",
    "\n",
    "Instructor: Dr. Edward Oughton\t\n",
    "\n",
    "Email: eoughton@gmu.edu\t\n",
    "Location: 2312 Exploratory Hall.    \n",
    "When: Monday and Wednesday 15:00 – 16.15.    \n",
    "TA:  N/A.    \n",
    "Pre-requisites: 60 credits and GGS 412, or permission of instructor.    \n",
    "\n",
    "Contact method: Blackboard discussion board for content related queries (preferred) or direct email for anything that relates to your own personal circumstances (eoughton@gmu.edu). "
   ]
  },
  {
   "cell_type": "markdown",
   "metadata": {
    "slideshow": {
     "slide_type": "slide"
    }
   },
   "source": [
    "## Objectives\n",
    "\n",
    "Satellite imagery has become a primary data source in the natural sciences, economics, archaeology, sustainability, and many other domains which utilize geospatial intelligence. \n",
    "\n",
    "Indeed, the wide variety of imagery sources and the vast amounts of data being collected are now challenging our ability to manage, process, and derive useful insight from this information. \n",
    "\n",
    "Motivated by this, the primary objective of the course is to provide a systematic introduction to computer-based processing of satellite imagery techniques for enhancing, processing, and extracting spatial information from imagery. \n",
    "\n",
    "This course emphasizes the practical application of computer-based image processing (for total beginners) using programming techniques capable of analyzing large quantities of images. "
   ]
  },
  {
   "cell_type": "markdown",
   "metadata": {
    "slideshow": {
     "slide_type": "slide"
    }
   },
   "source": [
    "## Learning Outcomes\n",
    "\n",
    "1.\tUnderstand practical computer programming techniques for processing satellite imagery. \n",
    "2.\tDevelop introductory Python-based approaches for object detection and extraction. \n",
    "3.\tUtilize introductory JavaScript for running image processing tasks using cloud computing. "
   ]
  },
  {
   "cell_type": "markdown",
   "metadata": {
    "slideshow": {
     "slide_type": "slide"
    }
   },
   "source": [
    "## GGS Computer Lab, Assignments and Expectations\n",
    "\n",
    "GGS 416 students have remote access to the GGS Virtual Computing Lab with the software required for this course. However, as the software is open source you are encouraged (where possible) to download a version on your own machine (e.g. Anaconda). \n",
    "\n",
    "Additionally, you will require a Google account to be able to sign up to the Google Earth Engine platform. \n",
    "\n",
    "All materials will be distributed in the Jupyter Notebook format, providing all information and code in single location for you. You can also add your own notes to these notebooks. This is superior to having to deal with separate files for presentations, code, and notes in different formats. \n",
    "\n",
    "Assignments will be based on the lecture material you receive and will be administered via Blackboard. \n",
    "\n",
    "Generally, assignments will be set on a Wednesday and will be due the following week prior to the start of the lecture (except when noted in the Course Schedule). \n",
    "\n",
    "Late work will be penalized 20% for each day late. Late submissions will only go unpenalized for documented medical reasons or by previous agreement with the instructor. "
   ]
  },
  {
   "cell_type": "markdown",
   "metadata": {
    "slideshow": {
     "slide_type": "slide"
    }
   },
   "source": [
    "## Grading\n",
    "\n",
    "Grading will be as follows:\n",
    "\n",
    "- 50% of the grade based on 10 assignments\n",
    "- 50% of the grade based on the submitted coursework project\n",
    "\n",
    "Grades will be based on the following cutoff values, although the instructor reserves the right to alter the values at the end of the course: \n",
    "\n",
    "A (93%), A- (90%), B+ (87%), B (83%), B- (80%), C+ (77%), C (73%), C- (70%), D (60%)\n",
    "\n",
    "The coursework project will include the use of processing techniques taught throughout the entire semester but applied to your own research topic. Students will be expected to submit assignments online through Blackboard. Only Word document (.docx or .doc) or Adobe PDF (.pdf) file formats will be accepted. Generally, to avoid formatting changes, it is advised to save word documents as the .pdf format prior to submission."
   ]
  },
  {
   "cell_type": "markdown",
   "metadata": {
    "slideshow": {
     "slide_type": "slide"
    }
   },
   "source": [
    "## Optional Texts \n",
    "\n",
    "There are many open and free resources for learning satellite image processing using Python and JavaScript.\n",
    "\n",
    "Importantly, all the information you require will be provided in the course. However, should you require additional information, for example relating to programming languages, there are many options. \n",
    "\n",
    "Check out Al Sweigart’s Automate the Boring Stuff with Python which is free to read and provides practical programming for total beginners. \n",
    "\n",
    "Also, for using JavaScript with Google Earth Engine, there are tutorials provided by Google here (with this information forming the basis for some of the course content). \n",
    "\n",
    "Other useful sources are Geohack, Spatialhack, GEARS, AmericaView, EarthLab and GEEMAP. Further readings, if any, will be announced in class or by e-mail."
   ]
  },
  {
   "cell_type": "markdown",
   "metadata": {
    "slideshow": {
     "slide_type": "slide"
    }
   },
   "source": [
    "## Course Resources\n",
    "\n",
    "Content for GGS416 will be available on Blackboard, otherwise known as myMason. \n",
    "\n",
    "All materials will also be place on the code repository website GitHub. \n",
    "\n",
    "You will need to have access to a computer with a stable Internet connection capable. \n",
    "\n",
    "It may also be useful to have a web camera with a microphone in case any additional Zoom sessions are required. "
   ]
  },
  {
   "cell_type": "markdown",
   "metadata": {
    "slideshow": {
     "slide_type": "slide"
    }
   },
   "source": [
    "## Office Hours and Instructor Interaction\n",
    "\n",
    "Instructor interaction is by appointment. \n",
    "\n",
    "When emailing, a timely response is expected during office hours Monday-Friday. \n",
    "\n",
    "If you have a course-related question, the first port of call will be to place it on the Blackboard discussion board. This is because other people may ask similar questions, so this becomes a shared knowledge base everyone can access. \n",
    "\n",
    "If you need to speak about something more personal with the instructor, then you can reach out via email. Succinct emails are likely to increase the efficiency of an answer. "
   ]
  },
  {
   "cell_type": "markdown",
   "metadata": {
    "slideshow": {
     "slide_type": "slide"
    }
   },
   "source": [
    "## Academic Integrity\n",
    "\n",
    "GMU has an Honor Code with clear guidelines regarding academic integrity. \n",
    "\n",
    "Three fundamental and rather simple principles to always follow are that: \n",
    "\n",
    "(1) all work submitted be your own; \n",
    "(2) when using the work or ideas of others, including fellow students, give full credit through accurate citations; and \n",
    "(3) if you are uncertain about the ground rules on a particular assignment, ask for clarification. \n",
    "\n",
    "No grade is important enough to justify academic misconduct. Another aspect of academic integrity is the free play of ideas. \n",
    "\n",
    "Vigorous discussion and debate are encouraged, with the expectation that all aspects of the class will be conducted with civility and tolerance for differing ideas, perspectives, and traditions. \n",
    "    "
   ]
  },
  {
   "cell_type": "markdown",
   "metadata": {
    "slideshow": {
     "slide_type": "slide"
    }
   },
   "source": [
    "## GMU Email Accounts\n",
    "\n",
    "Students must use their MasonLive email account to receive important University information, including messages related to this class. \n",
    "\n",
    "See http://masonlive.gmu.edu for more information. Please do not email the instructor from a non-GMU email account. \n",
    "    "
   ]
  },
  {
   "cell_type": "markdown",
   "metadata": {
    "slideshow": {
     "slide_type": "slide"
    }
   },
   "source": [
    "## Diversity\n",
    "\n",
    "GMU promotes a living and learning environment for outstanding growth and productivity among its students, faculty, and staff. Through its curriculum, programs, policies, procedures, services, and resources, Mason strives to maintain a quality environment for work, study, and personal growth.\n",
    "\n",
    "An emphasis upon diversity and inclusion throughout the campus community is essential to achieve these goals. Diversity is broadly defined to include such characteristics as, but not limited to, ethnicity, gender, religion, age, disability, and sexual orientation. Diversity also entails different viewpoints, philosophies, and perspectives. Attention to these aspects of diversity will help promote a culture of inclusion and belonging, and an environment where diverse opinions, backgrounds, and practices can be voiced, heard, and respected.\n",
    "\n",
    "Acknowledging that the attainment of diversity and inclusion are dynamic and continuous processes, Mason seeks to continuously improve its environment. In this regard, should you have any comments or feedback that you wish to raise, please do let the instructor know as your feedback is incredibly valuable."
   ]
  },
  {
   "cell_type": "markdown",
   "metadata": {
    "slideshow": {
     "slide_type": "slide"
    }
   },
   "source": [
    "## Office of Disability Services\n",
    "\n",
    "If you are a student with a disability and you need academic accommodations, please contact the instructor and the Office of Disability Services (ODS) at 993-2474, http://ods.gmu.edu. All academic accommodations must be arranged through the ODS.\n",
    "    "
   ]
  },
  {
   "cell_type": "markdown",
   "metadata": {
    "slideshow": {
     "slide_type": "slide"
    }
   },
   "source": [
    "## Students as Scholars\n",
    "\n",
    "Students as Scholars is GMU's award-winning initiative to give students the opportunity to conduct undergraduate research. If you are interested in conducting research or simply learning more about the program, check out oscar.gmu.edu or stop by the Office of Student Scholarship, Creative Activities, and Research to learn about the many programs available to GMU students."
   ]
  },
  {
   "cell_type": "markdown",
   "metadata": {
    "slideshow": {
     "slide_type": "slide"
    }
   },
   "source": [
    "## GMU Resources\n",
    "\n",
    "- The Writing Center: https://writingcenter.gmu.edu \n",
    "- University Libraries, Ask a Librarian: https://library.gmu.edu/ask  \n",
    "- Counseling and Psychological Services: https://caps.gmu.edu \n",
    "- University Catalog: https://catalog.gmu.edu  \n",
    "- University Policies: https://universitypolicy.gmu.edu"
   ]
  },
  {
   "cell_type": "markdown",
   "metadata": {},
   "source": [
    "## Course Outline\n",
    "\n",
    "See course schedule timetable in: https://github.com/edwardoughton/satellite-image-analysis/blob/master/syllabus/format.pdf\n"
   ]
  }
 ],
 "metadata": {
  "kernelspec": {
   "display_name": "Python 3 (ipykernel)",
   "language": "python",
   "name": "python3"
  },
  "language_info": {
   "codemirror_mode": {
    "name": "ipython",
    "version": 3
   },
   "file_extension": ".py",
   "mimetype": "text/x-python",
   "name": "python",
   "nbconvert_exporter": "python",
   "pygments_lexer": "ipython3",
   "version": "3.9.7"
  }
 },
 "nbformat": 4,
 "nbformat_minor": 2
}
