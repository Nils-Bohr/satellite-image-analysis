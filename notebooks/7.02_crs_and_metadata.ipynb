{
 "cells": [
  {
   "cell_type": "markdown",
   "metadata": {},
   "source": [
    "# Spatial referencing systems and metadata\n",
    "\n",
    "In this class we are going to cover:\n",
    "- Spatial referencing systems (a quick overview)\n",
    "- Satellite image metadata (and some more indepth examples, often relating to the crs).\n"
   ]
  },
  {
   "cell_type": "markdown",
   "metadata": {},
   "source": [
    "## Working with a Coordinate Reference System (CRS)\n",
    "\n",
    "We need to be able to map data points to precise locations across space. Indeed, this underpins our ability to process and analyze satellite images. \n",
    "\n",
    "There are hundreds of different types of Coordinate Reference Systems, with many geographic regions specifying their own to enable local consistency and precision. \n",
    "\n",
    "- A **Geographic Coordinate System** measures locations on Earth in latitude and longitude and is based on either a spherical or ellipsoidal coordinate system. \n",
    "    - Latitude is measured in degrees north or south of the equator. \n",
    "    - Longitude is measured in degrees east or west of a prime meridian (a meridian divides a spheroid into two hemispheres).\n",
    "    - See the World Geodetic System (WGS84/EPSG:4326):https://en.wikipedia.org/wiki/World_Geodetic_System\n",
    "\n",
    "\n",
    "- A **Projected Coordinate System** instead represents Earth locations via a specific map projection using cartesian coordinates (x,y) on a planar (2D) surface. \n",
    "    - This approach maps a curved Earth surface onto a flat 2D plane. \n",
    "    - Common units include metric meters and imperial feet. \n",
    "    - See the Universal Transverse Mercator (UTM): https://en.wikipedia.org/wiki/Universal_Transverse_Mercator_coordinate_system\n",
    "    - Or the WGS 84 Pseudo-Mercator: https://epsg.io/3857\n",
    "    "
   ]
  },
  {
   "cell_type": "markdown",
   "metadata": {},
   "source": [
    "## Satellite imagery metadata\n",
    "\n",
    "We often have information about our data which is not actually the data itself. \n",
    "\n",
    "This is referred to as **Metadata**. \n",
    "\n",
    "('Meta' meaning 'above' or 'beyond')\n",
    "\n",
    "We will need to import `rasterio` so that we can load the Planet image data we downloaded in the previous tutorial."
   ]
  },
  {
   "cell_type": "code",
   "execution_count": null,
   "metadata": {},
   "outputs": [],
   "source": [
    "# Example\n",
    "# Load rasterio into our jupyter session\n",
    "import rasterio"
   ]
  },
  {
   "cell_type": "markdown",
   "metadata": {},
   "source": [
    "Let's get started using a 4-band Planet image.\n",
    "\n",
    "We will need to specify the image name, and then use the `rasterio` open function to load the raster.\n",
    "\n",
    "The desired image filename is '20190321_174348_0f1a_3B_AnalyticMS.tif', which you can download from here: \n",
    "\n",
    "https://hello.planet.com/data/s/UG2TX98suVmmi9q/download"
   ]
  },
  {
   "cell_type": "code",
   "execution_count": null,
   "metadata": {},
   "outputs": [],
   "source": [
    "# Example\n",
    "image_filename = \"20190321_174348_0f1a_3B_AnalyticMS.tif\"\n",
    "\n",
    "# Remember that the 4-band image is comprised of blue, green, red and near-infrared\n",
    "# PlanetScope images should be in a UTM projection.\n",
    "my_image = rasterio.open(image_filename)\n",
    "my_image"
   ]
  },
  {
   "cell_type": "markdown",
   "metadata": {},
   "source": [
    "We can now begin to explore information about the loaded Planet image asset.\n",
    "\n",
    "For example, we can view the filename for the given image asset using the `.name()` function:"
   ]
  },
  {
   "cell_type": "code",
   "execution_count": null,
   "metadata": {},
   "outputs": [],
   "source": [
    "# Example\n",
    "print(my_image.name)"
   ]
  },
  {
   "cell_type": "markdown",
   "metadata": {},
   "source": [
    "We can also view the image tags associated with the image asset via the `.tags()` function, which include:\n",
    "- 'AREA_OR_POINT' - defines the type of image asset (area or point).\n",
    "- 'TIFFTAG_DATETIME' - the specific date and time the image was taken in Coordinated Universal Time (UTC)."
   ]
  },
  {
   "cell_type": "code",
   "execution_count": null,
   "metadata": {},
   "outputs": [],
   "source": [
    "# Example\n",
    "print(my_image.tags())"
   ]
  },
  {
   "cell_type": "markdown",
   "metadata": {},
   "source": [
    "In case we need to check, we can obtain the number of bands which are present within this image.\n",
    "\n",
    "Can you remember what these four bands will be?"
   ]
  },
  {
   "cell_type": "code",
   "execution_count": null,
   "metadata": {},
   "outputs": [],
   "source": [
    "# Example\n",
    "# Present number of image bands\n",
    "print(my_image.count)"
   ]
  },
  {
   "cell_type": "markdown",
   "metadata": {},
   "source": [
    "We can also check the number of indexes available.\n",
    "\n",
    "Following the Geospatial Data Abstraction Library (GDAL) convention, these are indexed starting with the number 1, and therefore are not zero-indexed like python."
   ]
  },
  {
   "cell_type": "code",
   "execution_count": null,
   "metadata": {},
   "outputs": [],
   "source": [
    "# Example\n",
    "# Present number of indexes\n",
    "print(my_image.indexes)"
   ]
  },
  {
   "cell_type": "markdown",
   "metadata": {},
   "source": [
    "By querying the image object with these basic functions, we can establish information prior to visualizing. \n",
    "\n",
    "Finally, we can unpack these different layers as follows (remember we practiced unpacking in previous classes):"
   ]
  },
  {
   "cell_type": "code",
   "execution_count": null,
   "metadata": {},
   "outputs": [],
   "source": [
    "# Example\n",
    "# Unpacking our image layers into separate variables for blue, green, red and infrared:\n",
    "blue, green, red, nir = my_image.read()\n",
    "\n",
    "# Let's inspect our blue variable\n",
    "blue\n",
    "\n",
    "# If you see lots of zeros, inspect this image in a GIS and think about why this is!\n",
    "# Hint: What is the orientation?"
   ]
  },
  {
   "cell_type": "markdown",
   "metadata": {},
   "source": [
    "Remember that these are `numpy` arrays:\n",
    "\n",
    "e.g. `array([0, 0, ..., 0, 0])`\n",
    "\n",
    "There are actually many ways we can unpack these bands, they might just take a few more lines of code. \n",
    "\n",
    "For example:\n"
   ]
  },
  {
   "cell_type": "code",
   "execution_count": null,
   "metadata": {},
   "outputs": [],
   "source": [
    "# Example\n",
    "blue = my_image.read(1)\n",
    "green = my_image.read(2)\n",
    "red = my_image.read(3)\n",
    "nir = my_image.read(4)\n",
    "\n",
    "blue"
   ]
  },
  {
   "cell_type": "markdown",
   "metadata": {},
   "source": [
    "Or it is possible to just read all the layers at once, creating a large multidimensional array:"
   ]
  },
  {
   "cell_type": "code",
   "execution_count": null,
   "metadata": {},
   "outputs": [],
   "source": [
    "# Example\n",
    "data = my_image.read()\n",
    "data"
   ]
  },
  {
   "cell_type": "markdown",
   "metadata": {},
   "source": [
    "Remember, this multidimensional array is essentially a list of lists, we can still index into the array like we have previously in the Python tutorial example (should we need to):"
   ]
  },
  {
   "cell_type": "code",
   "execution_count": null,
   "metadata": {
    "scrolled": true
   },
   "outputs": [],
   "source": [
    "# Example\n",
    "# Extract the blue array which will be in position zero\n",
    "blue = data[0]\n",
    "blue"
   ]
  },
  {
   "cell_type": "markdown",
   "metadata": {},
   "source": [
    "If you are still unsure about layer order, check the documentation :-]\n",
    "\n",
    "This ESA source provides a good overview:\n",
    "    \n",
    "- https://earth.esa.int/eogateway/catalog/planetscope-full-archive\n",
    "        "
   ]
  },
  {
   "cell_type": "markdown",
   "metadata": {},
   "source": [
    "Finally, we can examine the dimensions of one of these layers:"
   ]
  },
  {
   "cell_type": "code",
   "execution_count": null,
   "metadata": {
    "scrolled": true
   },
   "outputs": [],
   "source": [
    "# Example\n",
    "# Print the data type of the blue layer (which will be a NumPy data type) \n",
    "print(blue.dtype)\n",
    "\n",
    "# Using the blue band as an example, examine the width & height of the image (in pixels)\n",
    "w = blue.shape[0]\n",
    "h = blue.shape[1]\n",
    "\n",
    "# Let's print the dimensions of the blue layer \n",
    "print(\"width: {w}, height: {h}\".format(w=w, h=h))\n"
   ]
  },
  {
   "cell_type": "markdown",
   "metadata": {},
   "source": [
    "Let's double check those width and heights aginst the raster axis in the underlying image, as explored in the previous class:"
   ]
  },
  {
   "cell_type": "code",
   "execution_count": null,
   "metadata": {
    "scrolled": true
   },
   "outputs": [],
   "source": [
    "# Example\n",
    "import numpy as np\n",
    "from matplotlib import pyplot\n",
    "\n",
    "def scale(band): # scale values for display purposes\n",
    "    return band / 10000.0\n",
    "\n",
    "my_raster_image = rasterio.open(\"20190321_174348_0f1a_3B_AnalyticMS.tif\")\n",
    "\n",
    "blue = scale(my_raster_image.read(1))\n",
    "green = scale(my_raster_image.read(2))\n",
    "red = scale(my_raster_image.read(3))\n",
    "\n",
    "rgb = np.dstack((red, green, blue))\n",
    "pyplot.imshow(rgb)"
   ]
  },
  {
   "cell_type": "markdown",
   "metadata": {},
   "source": [
    "## Exercise\n",
    "\n",
    "With the image on the GitHub repo called `clipped.tif`, follow these processing steps:\n",
    "\n",
    "- Load the image.\n",
    "- Check the layer count and images. Print them to the console. Write a note interpreting them. \n",
    "- Visualize your image as a true color composite. \n",
    "\n"
   ]
  },
  {
   "cell_type": "code",
   "execution_count": null,
   "metadata": {},
   "outputs": [],
   "source": [
    "# Enter your attempt below:\n"
   ]
  },
  {
   "cell_type": "markdown",
   "metadata": {},
   "source": [
    "### Measuring the spatial distance of your image\n",
    "\n",
    "Remember, widths/heights of the image are the underlying metrics for the raster image. They are not a set of spatial reference coordinates. \n",
    "\n",
    "Therefore, we can get the bounds of the current image in the current projected coordinate reference system using the `.bounds` command.\n",
    "\n",
    "Remember, PlanetScope data should be in UTM, the Universal Transverse Mercator system: https://en.wikipedia.org/wiki/Universal_Transverse_Mercator_coordinate_system\n",
    "\n",
    "The measurement unit should be meters (as opposed to degrees when using lat-lon coordinates via WGS84).\n",
    "\n",
    "First, you want to check this is correct using the `.crs()` function:"
   ]
  },
  {
   "cell_type": "code",
   "execution_count": null,
   "metadata": {},
   "outputs": [],
   "source": [
    "# Example\n",
    "my_image.crs"
   ]
  },
  {
   "cell_type": "markdown",
   "metadata": {},
   "source": [
    "You can actually view all of the metadata if you call the `.profile` function.\n",
    "\n",
    "Some of the key parts here include the `.transform` function, which we will get to later."
   ]
  },
  {
   "cell_type": "code",
   "execution_count": null,
   "metadata": {},
   "outputs": [],
   "source": [
    "# Example\n",
    "my_image.profile"
   ]
  },
  {
   "cell_type": "markdown",
   "metadata": {},
   "source": [
    "Now you can begin to explore the geographic bounds of the image in the underlying crs, using the `.bounds` function. "
   ]
  },
  {
   "cell_type": "code",
   "execution_count": null,
   "metadata": {},
   "outputs": [],
   "source": [
    "# Example\n",
    "# Find the bounding box of the image.\n",
    "# The bounding box is the minimum possible box which envelopes the present data.\n",
    "print(my_image.bounds)"
   ]
  },
  {
   "cell_type": "markdown",
   "metadata": {},
   "source": [
    "We can then get the image unit dimensions, in the original units of the coordinate reference system, by subtracting the different bounds of the image.\n",
    "\n",
    "Firstly, let's look at the function available to us to get the corner coordinate bounds of our image:"
   ]
  },
  {
   "cell_type": "code",
   "execution_count": null,
   "metadata": {},
   "outputs": [],
   "source": [
    "# Example\n",
    "# It is possible to call each bound like so:\n",
    "my_image.bounds.left"
   ]
  },
  {
   "cell_type": "code",
   "execution_count": null,
   "metadata": {},
   "outputs": [],
   "source": [
    "# Example\n",
    "# It is possible to call each bound like so:\n",
    "my_image.bounds.right"
   ]
  },
  {
   "cell_type": "markdown",
   "metadata": {},
   "source": [
    "Therefore, we can now put this together to get the image width and height."
   ]
  },
  {
   "cell_type": "code",
   "execution_count": null,
   "metadata": {},
   "outputs": [],
   "source": [
    "# Example\n",
    "# Find the image bound in the original measurement units\n",
    "width_in_projected_units = my_image.bounds.right - my_image.bounds.left\n",
    "height_in_projected_units = my_image.bounds.top - my_image.bounds.bottom\n",
    "\n",
    "print(\"Width: {} meters, Height: {} meters\".format(\n",
    "    round(width_in_projected_units), \n",
    "    round(height_in_projected_units)\n",
    "))"
   ]
  },
  {
   "cell_type": "markdown",
   "metadata": {},
   "source": [
    "## Exercise\n",
    "\n",
    "Open this image in a GIS and verify that the width and height of the image bounds match up!\n",
    "\n",
    "In QGIS, you can use the measure line feature. \n",
    "\n",
    "Finally, describe why this process is important in the box below:"
   ]
  },
  {
   "cell_type": "code",
   "execution_count": null,
   "metadata": {},
   "outputs": [],
   "source": [
    "# Enter your attempt here\n"
   ]
  },
  {
   "cell_type": "markdown",
   "metadata": {},
   "source": [
    "### Finding the number of raster grid tiles\n",
    "\n",
    "Remember that this raster image will be comprised of a grid.\n",
    "\n",
    "We can therefore find the total number of rows and columns by using the height and width commands, as follows:"
   ]
  },
  {
   "cell_type": "code",
   "execution_count": null,
   "metadata": {},
   "outputs": [],
   "source": [
    "# Find the height and width of our image using the relevant functions:\n",
    "print(\"Rows: {}, Columns: {}\".format(my_image.height, my_image.width))"
   ]
  },
  {
   "cell_type": "markdown",
   "metadata": {},
   "source": [
    "## Exercise\n",
    "\n",
    "For your `clipped.tif` image, find the number of raster grid tiles present."
   ]
  },
  {
   "cell_type": "code",
   "execution_count": null,
   "metadata": {},
   "outputs": [],
   "source": [
    "# Enter your attempt below\n"
   ]
  },
  {
   "cell_type": "markdown",
   "metadata": {},
   "source": [
    "### Finding the resolution of a single pixel\n",
    "\n",
    "We may want to clarify the dimensions of a single pixel in our raster grid.\n",
    "\n",
    "Thus, we can find the resolution of the x and y pixels as follows: "
   ]
  },
  {
   "cell_type": "code",
   "execution_count": null,
   "metadata": {},
   "outputs": [],
   "source": [
    "# Find the resolution of a single pixel\n",
    "x_length = (my_image.bounds.right - my_image.bounds.left) / my_image.width\n",
    "y_length = (my_image.bounds.top - my_image.bounds.bottom) / my_image.height\n",
    "\n",
    "print(\"Length of x is: {}. Length of y is: {}\".format(x_length, y_length))\n",
    "print(\"Therefore, it is {} that the pixels are square, with dimensions {} x {} meters.\".format(\n",
    "    x_length == y_length, x_length, y_length))"
   ]
  },
  {
   "cell_type": "markdown",
   "metadata": {},
   "source": [
    "## Exercise\n",
    "\n",
    "Using your `clipped.tif` image, explore what the resolution of each pixel is.\n",
    "\n",
    "Reflect on the answer. Compare your finding to other image sources. "
   ]
  },
  {
   "cell_type": "code",
   "execution_count": null,
   "metadata": {},
   "outputs": [],
   "source": [
    "# Enter your attempt below\n"
   ]
  },
  {
   "cell_type": "markdown",
   "metadata": {},
   "source": [
    "### Changing raster pixel coordinates to geographic coordinates\n",
    "\n",
    "It is important for us to be able to change the pixel coordinates, which we can do via an affine transformation.\n",
    "\n",
    "See here for more info: https://en.wikipedia.org/wiki/Affine_transformation\n",
    "   \n",
    "Think of an affine transformation as a geometry transformation. First we must:\n",
    "\n",
    "- Get the min and max pixel index coordinate values of the image.\n",
    "- Then multiply the `.transform` function by these values to get geographic equivalents. \n",
    "\n",
    "Let's cover a basic example:    \n"
   ]
  },
  {
   "cell_type": "code",
   "execution_count": null,
   "metadata": {},
   "outputs": [],
   "source": [
    "# Example\n",
    "# To convert from pixel coordinates to spatial coordinates, we need the min and max index values.\n",
    "\n",
    "# Upper left pixel coordinates\n",
    "row_min = 0\n",
    "col_min = 0\n",
    "\n",
    "# Lower right pixel coordinates.  \n",
    "# Remember our index here starts at zero, hence we need to subtract 1.\n",
    "row_max = my_image.height - 1\n",
    "col_max = my_image.width - 1\n",
    "\n",
    "print(\n",
    "    'The top left coordinate is {}.'.format((row_min,col_min)),\n",
    "    'The lower right coordinate is {}.'.format((row_max,  col_max)),\n",
    ")"
   ]
  },
  {
   "cell_type": "markdown",
   "metadata": {},
   "source": [
    "Now we can transform these coordinates using the available `.transform` function.\n",
    "\n",
    "This converts our given row coordinates into our present CRS coordinates."
   ]
  },
  {
   "cell_type": "code",
   "execution_count": null,
   "metadata": {},
   "outputs": [],
   "source": [
    "# Transform coordinates with the dataset's affine transformation.\n",
    "topleft = my_image.transform * (row_min, col_min)\n",
    "botright = my_image.transform * (row_max, col_max)\n",
    "\n",
    "print(\"Top left corner coordinates: {}\".format(topleft))\n",
    "print(\"Bottom right corner coordinates: {}\".format(botright))"
   ]
  },
  {
   "cell_type": "markdown",
   "metadata": {},
   "source": [
    "The `.transform` function requires a tuple of raster index coordinates, and returns the geographic coordinates corresponding to this tuple."
   ]
  },
  {
   "cell_type": "markdown",
   "metadata": {},
   "source": [
    "## Exercise\n",
    "\n",
    "You are given a set of locations across San Francisco as raster index coordinates. Convert them to geographic coordinates and identify the location using a qgis:\n",
    "\n",
    "- 3680, 1500\n",
    "- 5100, 3000\n",
    "- 5100, 2500\n",
    "- 6950, 2300"
   ]
  },
  {
   "cell_type": "code",
   "execution_count": null,
   "metadata": {},
   "outputs": [],
   "source": [
    "# Enter your attempt here\n"
   ]
  }
 ],
 "metadata": {
  "kernelspec": {
   "display_name": "Python 3",
   "language": "python",
   "name": "python3"
  },
  "language_info": {
   "codemirror_mode": {
    "name": "ipython",
    "version": 3
   },
   "file_extension": ".py",
   "mimetype": "text/x-python",
   "name": "python",
   "nbconvert_exporter": "python",
   "pygments_lexer": "ipython3",
   "version": "3.9.12"
  }
 },
 "nbformat": 4,
 "nbformat_minor": 2
}
