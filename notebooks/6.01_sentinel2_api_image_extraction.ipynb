{
 "cells": [
  {
   "cell_type": "markdown",
   "metadata": {},
   "source": [
    "# API Image Extraction (via Sentinel-2)\n",
    "\n",
    "This tutorial will move to a more advanced topic: Automated extraction of imagery.\n",
    "\n",
    "Whereas in the previous class we manually extracted satellite imagery from various sources (e.g. Sentinel Hub or Earth Explorer), today we will focus on how to automatically extract satellite imagery from an Application Programming Interface (API).\n",
    "\n",
    "You may be surprised to find that you already engage with APIs on a daily basis when carrying out your online activity!"
   ]
  },
  {
   "cell_type": "markdown",
   "metadata": {},
   "source": [
    "## What is an API?\n",
    "\n",
    "Collecting satellite imagery via an API makes the process of image collection much easier and more efficient - thankfully!\n",
    "\n",
    "Although there can be a bit of a leap in terms of technical understanding, especially if you haven't used Python much before. \n",
    "\n",
    "Consequently, this entire lecture is spent helping you understand how to extract imagery via an API. \n",
    "\n",
    "APIs let a product or service communicate with other products and services without needing to know specifically how each one works. Metaphorically, APIs are sometimes thought of as contracts, with documentation that represents an agreement between parties: If party 1 sends a remote request structured in a particular way, this is how party 2’s software will respond. \n",
    "\n",
    "For example, we send a request for certain satellite images to a server holding imagery data, and the requested data is collected on the server, processed, potentially compressed, and then sent (probably over a computer network such as the Internet) to our machine. We do not need to know how the server is setup or operating to make this request. And the server owner can completely change the server setup and operation, without us needing to change our code, all thanks to our handy API. \n",
    "\n",
    "Essentially, APIs in this case simplify how we connect to an existing computer infrastructure. Indeed, public APIs in general represent unique societal value because they can simplify and expand how we all connect with data (e.g. the Google Maps API is a popular example).\n",
    "\n",
    "Watch the video overview below to get more of a flavor:"
   ]
  },
  {
   "cell_type": "code",
   "execution_count": null,
   "metadata": {},
   "outputs": [],
   "source": [
    "%%HTML\n",
    "\n",
    "<iframe width=\"560\" height=\"315\" src=\"https://www.youtube.com/embed/s7wmiS2mSXY\" title=\"YouTube video player\" frameborder=\"0\" allow=\"accelerometer; autoplay; clipboard-write; encrypted-media; gyroscope; picture-in-picture\" allowfullscreen></iframe>"
   ]
  },
  {
   "cell_type": "markdown",
   "metadata": {},
   "source": [
    "# Sentinelsat\n",
    "\n",
    "`Sentinelsat` provides us with a very flexible and easy-to-use API which we can use to search, download and retrieve Sentinel satellite images and metadata via the Copernicus Open Access Hub.\n",
    "\n",
    "See here the codebase available in this Github repo: https://github.com/sentinelsat/sentinelsat\n",
    "       \n",
    "They also make a handy readthedocs page available which contains all the info you need to get started in extracting Sentinel-2 imagery: https://sentinelsat.readthedocs.io/en/stable/"
   ]
  },
  {
   "cell_type": "markdown",
   "metadata": {},
   "source": [
    "## Installation\n",
    "\n",
    "First, you need to install the `sentinelsat` package in your current environment. \n",
    "\n",
    "Just to recap, make sure you activated your conda environment before taking this step, as you want to make sure you install `sentinelsat` in there (e.g. in the `sia` conda environment).\n"
   ]
  },
  {
   "cell_type": "code",
   "execution_count": null,
   "metadata": {},
   "outputs": [],
   "source": [
    "import sys\n",
    "!{sys.executable} -m pip install sentinelsat"
   ]
  },
  {
   "cell_type": "markdown",
   "metadata": {},
   "source": [
    "## Required functions\n",
    "\n",
    "Now you've managed to install `sentinelsat`, we need to import any required package functions which include:\n",
    "- `SentinelAPI` - Class to connect to Copernicus Open Access Hub, search and download imagery. \n",
    "- `read_geojson` - Import a geojson file for use. \n",
    "- `geojson_to_wkt` - Convert a GeoJSON object to Well-Known Text. Intended for use with OpenSearch queries. 3D points are converted to 2D.\n",
    "\n",
    "(see the API reference here for all functions: https://sentinelsat.readthedocs.io/en/stable/api_reference.html)\n",
    "\n",
    "Let's now import them into our current notebook session:"
   ]
  },
  {
   "cell_type": "code",
   "execution_count": null,
   "metadata": {},
   "outputs": [],
   "source": [
    "import sentinelsat\n",
    "from sentinelsat import SentinelAPI, read_geojson, geojson_to_wkt\n",
    "from datetime import date"
   ]
  },
  {
   "cell_type": "markdown",
   "metadata": {},
   "source": [
    "## Registration\n",
    "\n",
    "You then need to register for the Copernicus Scihub so you have an access account for imagery. \n",
    "\n",
    "https://scihub.copernicus.eu/dhus/#/home\n",
    "\n",
    "Once you've complete this process, you should have a username and a password. Keep these handy, you will need both of them below. \n"
   ]
  },
  {
   "cell_type": "markdown",
   "metadata": {},
   "source": [
    "## API object\n",
    "We are now going to create an object called `api` using the `SentinelAPI` function. \n",
    "\n",
    "You will need to provide your username and password. \n",
    "\n",
    "This is so that when you eventually send your request to the server, the server knows who you are, via your existing account. "
   ]
  },
  {
   "cell_type": "code",
   "execution_count": null,
   "metadata": {},
   "outputs": [],
   "source": [
    "# Example\n",
    "api = SentinelAPI(\n",
    "    'your_username_goes_here', \n",
    "    'your_password_goes_here', \n",
    "    'https://apihub.copernicus.eu/apihub'\n",
    ")\n",
    "api"
   ]
  },
  {
   "cell_type": "markdown",
   "metadata": {},
   "source": [
    "You will need to make sure you can pass a geometry to the API, so that images which intersect this boundary can be retrieved. \n",
    "\n",
    "The easiest way for us to do this is to import the `gmu.geojson` that has been pre-saved to the shapes folder in the main repo. \n",
    "\n",
    "Remember, our path here is going from the directory in which this notebook is saved on the github repo file structure, and then up two folders (`../../`) and into the `shapes` directory (thus, the path is `../../shapes/gmu_geojson.geojson`). \n"
   ]
  },
  {
   "cell_type": "code",
   "execution_count": null,
   "metadata": {},
   "outputs": [],
   "source": [
    "# Example\n",
    "path = '../../shapes/gmu_geojson.geojson'\n",
    "footprint = geojson_to_wkt(read_geojson(path))\n",
    "footprint"
   ]
  },
  {
   "cell_type": "markdown",
   "metadata": {},
   "source": [
    "This geojson is then converted into the Well Known Text (WKT) format. \n",
    "\n",
    "\"Well-known text is a text markup language for representing vector geometry objects. A binary equivalent, known as well-known binary, is used to transfer and store the same information in a more compact form convenient for computer processing but that is not human-readable\"\n",
    "\n",
    "https://en.wikipedia.org/wiki/Well-known_text_representation_of_geometry\n",
    "\n",
    "Thus, we are converting from our human-readable GeoJSON into our WKT machine-readable format using the `geojson_to_wkt` function."
   ]
  },
  {
   "cell_type": "markdown",
   "metadata": {},
   "source": [
    "Now we can begin specifying the API query (e.g., what we want to order from the menu).\n",
    "\n",
    "In this first example, we will use the `api.query` function to search for images intersecting with our polygon, for a specific set of dates, for a specific earth observation platform.\n",
    "\n",
    "    - Footprint is the polygon boundary.\n",
    "    - Date is the range of dates.\n",
    "    - Platformname is the earth observation platform.\n",
    "    \n",
    "We are then provided with all the metadata for the relevant images, within the date ranges and other criteria we specified. "
   ]
  },
  {
   "cell_type": "code",
   "execution_count": null,
   "metadata": {},
   "outputs": [],
   "source": [
    "# Example\n",
    "# Search by polygon, time, and SciHub query keywords\n",
    "image_metadata = api.query(\n",
    "    footprint,\n",
    "    date=('20220718', '20220720'), #date(2015, 12, 29)\n",
    "    platformname='Sentinel-2'                    \n",
    ")\n",
    "image_metadata"
   ]
  },
  {
   "cell_type": "markdown",
   "metadata": {},
   "source": [
    "We can actually save this information to a dataframe.\n",
    "\n",
    "Remember that we covered pandas dataframes in previous classes. We can now use that data structure to export this metadata and inspect/interrogate the results."
   ]
  },
  {
   "cell_type": "code",
   "execution_count": null,
   "metadata": {},
   "outputs": [],
   "source": [
    "# Example\n",
    "import pandas as pd\n",
    "image_metadata_df = api.to_dataframe(image_metadata)\n",
    "image_metadata_df.to_csv('metadata.csv')"
   ]
  },
  {
   "cell_type": "markdown",
   "metadata": {},
   "source": [
    "It is now possible for us to sort these images using the available metadata.\n",
    "\n",
    "Let us now sort this data based on the cloud cover of each image, and the date the image was ingested. "
   ]
  },
  {
   "cell_type": "code",
   "execution_count": null,
   "metadata": {},
   "outputs": [],
   "source": [
    "# Example\n",
    "image_metadata_df_sorted = image_metadata_df.sort_values(\n",
    "    ['cloudcoverpercentage'], ascending=[True])\n",
    "image_metadata_df_sorted.to_csv('metadata_sorted.csv')"
   ]
  },
  {
   "cell_type": "markdown",
   "metadata": {},
   "source": [
    "We can now subset this sorted dataframe using the `.head()` function."
   ]
  },
  {
   "cell_type": "code",
   "execution_count": null,
   "metadata": {},
   "outputs": [],
   "source": [
    "# Example\n",
    "image_metadata_df_sorted = image_metadata_df_sorted.head(1)\n",
    "len(image_metadata_df_sorted)"
   ]
  },
  {
   "cell_type": "markdown",
   "metadata": {},
   "source": [
    "Now we can begin to download our imagery by using the `api.download_all` function.\n",
    "\n",
    "As you will have seen from the metadata, each multispectral image may be >1 GB in size, so it is wise to limit the number of downloads you attempt to obtain at first, until you are sure you know what you need.  "
   ]
  },
  {
   "cell_type": "code",
   "execution_count": null,
   "metadata": {},
   "outputs": [],
   "source": [
    "# Example\n",
    "api.download_all(image_metadata_df_sorted.index)"
   ]
  },
  {
   "cell_type": "markdown",
   "metadata": {},
   "source": [
    "You can now unzip your downloaded data and inspect the results.\n",
    "\n",
    "As there is a large file structure, follow these instructions:\n",
    "\n",
    "- Firstly, navigate to the `GRANULE` folder.\n",
    "- Then follow through the directories to the `IMG_DATA` folder. \n",
    "- Finally, open `T18STJ_20220719T154951_TCI.jp2` in a GIS to inspect (e.g., QGIS).\n",
    "    \n",
    "TCI is a True Color Image built from RGB layers (red, green and blue)."
   ]
  },
  {
   "cell_type": "markdown",
   "metadata": {},
   "source": [
    "## Exercise\n",
    "\n",
    "Now you have the basic code to be able to extract an image from the sentinel-2 api, follow this exercise, writing your code in the box below:\n",
    "\n",
    "- Try download a set of images for the GMU campus for the first full week of September \n",
    "    (for clarity, the 5th-9th Sept. 2022). \n",
    "- Extract the metadata and inspect the available images, downloading the best two images, in terms of cloud cover.\n",
    "- Next, download the image with the highest vegetation percentage.\n",
    "- Critically review your results - they might surprise you! Think about some of the issues you may encounter in your own coursework projects. "
   ]
  },
  {
   "cell_type": "code",
   "execution_count": null,
   "metadata": {},
   "outputs": [],
   "source": [
    "# Enter your attempt here\n"
   ]
  },
  {
   "cell_type": "markdown",
   "metadata": {},
   "source": [
    "## Bounding box geometry\n",
    "\n",
    "Often we need to specify a geometry for the area where we want to extract the imagery.\n",
    "\n",
    "For familiarity, let's create a bounding box around GMU's campus.\n",
    "\n",
    "You can find the actual shape file in the github repo folder `shapes`.\n",
    "\n",
    "We will produce a GeoJSON object similar to the bounding box you see below."
   ]
  },
  {
   "cell_type": "code",
   "execution_count": null,
   "metadata": {
    "scrolled": true
   },
   "outputs": [],
   "source": [
    "from IPython.display import Image\n",
    "Image(\"images/gmu.png\")"
   ]
  },
  {
   "cell_type": "markdown",
   "metadata": {},
   "source": [
    "### The GeoJSON structure \n",
    "\n",
    "GeoJSON is a format for encoding a variety of geographic data structures.\n",
    "\n",
    "GeoJSON supports the following geometry types: Point, LineString, Polygon, MultiPoint, MultiLineString, and MultiPolygon. Geometric objects with additional properties are Feature objects. Sets of features are contained by FeatureCollection objects.\n",
    "\n",
    "https://geojson.org/\n"
   ]
  },
  {
   "cell_type": "markdown",
   "metadata": {},
   "source": [
    "### The GeoJSON Specification (RFC 7946)\n",
    "\n",
    "In 2015, the Internet Engineering Task Force (IETF), in conjunction with the original specification authors, formed a GeoJSON WG to standardize GeoJSON. RFC 7946 was published in August 2016 and is the new standard specification of the GeoJSON format, replacing the 2008 GeoJSON specification."
   ]
  },
  {
   "cell_type": "code",
   "execution_count": null,
   "metadata": {},
   "outputs": [],
   "source": [
    "# Example\n",
    "# Here is a point locating GMU's Exploratory Hall\n",
    "my_point = {\n",
    "  \"type\": \"Feature\", \n",
    "  \"geometry\": {\n",
    "    \"type\": \"Point\",\n",
    "    \"coordinates\": [-77.305626, 38.829897]\n",
    "  },\n",
    "  \"properties\": {\n",
    "    \"name\": \"Exploratory Hall\"\n",
    "  }\n",
    "}\n",
    "my_point"
   ]
  },
  {
   "cell_type": "markdown",
   "metadata": {},
   "source": [
    "You can see that each GeoJSON includes:\n",
    "- `type` which specifies if the GeoJSON is either a Feature or FeatureCollection.\n",
    "- `geometry` which contains:\n",
    "    - `type` referring to seven case-sensitive strings, either \"Point\", \"MultiPoint\", \"LineString\", \"MultiLineString\", \"Polygon\", \"MultiPolygon\", and \"GeometryCollection\".\n",
    "    - `coordinates` an array containing the all important geographic coordinates.\n",
    "- `properties` which contains any affiliated information e.g. an object identifier\n",
    "\n",
    "Let us now define our polygon bounding box of GMU as a GeoJSON format:"
   ]
  },
  {
   "cell_type": "code",
   "execution_count": null,
   "metadata": {},
   "outputs": [],
   "source": [
    "# Example \n",
    "my_geojson = {\n",
    "  \"type\": \"Feature\", #let's define our GeoJSON type. As it's a single geometry, it's just a single 'Feature'\n",
    "  \"geometry\": {\n",
    "\t\"type\": \"Polygon\", #let's define our geometry type, which as we have a square, is a polygon.\n",
    "\t\"coordinates\": [ #Here are our actual geometry coordinates\n",
    "\t  [\n",
    "\t\t[\n",
    "\t\t  -77.3153999999999968,\n",
    "\t\t  38.8239999999999981\n",
    "\t\t],\n",
    "\t\t[\n",
    "\t\t  -77.2956694620074671,\n",
    "\t\t  38.8239999999999981\n",
    "\t\t],\n",
    "\t\t[\n",
    "\t\t  -77.2956694620074671,\n",
    "\t\t  38.8392882996798647\n",
    "\t\t],\n",
    "\t\t[\n",
    "\t\t  -77.3153999999999968,\n",
    "\t\t  38.8392882996798647\n",
    "\t\t],\n",
    "\t\t[\n",
    "\t\t  -77.3153999999999968,\n",
    "\t\t  38.8239999999999981\n",
    "\t\t]\n",
    "\t  ],\n",
    "\t]\n",
    "  },\n",
    "    \"properties\": {'id': 'GMU'}, #And an example geometry ID, although not strictly necessary for this task\n",
    "}\n",
    "my_geojson"
   ]
  },
  {
   "cell_type": "markdown",
   "metadata": {},
   "source": [
    "## Unzipping your downloaded imagery\n",
    "\n",
    "Before you can begin using your imagery, you should unzip and correctly file your data. \n",
    "\n",
    "In the code below you have all the basic processing to:\n",
    "\n",
    "- Obtain the name of all files in your directory.\n",
    "- Create a new list to hold the filenames for the files to be unzipped.\n",
    "- Loop over all files and append only those that are .zip to the new list.\n",
    "- Create a new folder called `unzipped` for your data, if it doesn't already exist.\n",
    "- Loop over your files, extracting the data and placing them in the `unzipped` folder. \n",
    "- Remove the .zip files once unpacked.\n"
   ]
  },
  {
   "cell_type": "code",
   "execution_count": null,
   "metadata": {},
   "outputs": [],
   "source": [
    "import os\n",
    "import zipfile\n",
    "\n",
    "# Get a list of all filenames in our directory\n",
    "all_filenames_in_folder = os.listdir() \n",
    "\n",
    "# Create an empty list for the filenames we want to unzip\n",
    "filenames_to_unzip = []\n",
    "\n",
    "# Loop over filenames and put .zip files in our list\n",
    "for filename in all_filenames_in_folder:\n",
    "    if filename.endswith('.zip'): # Only let .zip files append \n",
    "        filenames_to_unzip.append(filename)\n",
    "\n",
    "# Let's create a new folder for our unzipped files\n",
    "folder = 'unzipped'\n",
    "if not os.path.exists(folder):\n",
    "    os.mkdir(folder) # Make the folder if it does not exist \n",
    "\n",
    "for filename in filenames_to_unzip:\n",
    "    \n",
    "    # Unzip the zip file and put it in the 'unzipped' folder\n",
    "    with zipfile.ZipFile(filename, 'r') as zip_ref:\n",
    "        zip_ref.extractall(folder)\n",
    "\n",
    "    os.remove(filename)"
   ]
  },
  {
   "cell_type": "markdown",
   "metadata": {},
   "source": [
    "## Wrapping up\n",
    "\n",
    "Once complete, you should be all set to begin exploring your Sentinel-2 imagery - woohoo!\n",
    "\n",
    "So congratulations, you completed the API tutorial.\n",
    "\n",
    "This is not an easy topic to get to grips with, but is incredibly powerful if you can learn to master it.\n",
    "\n",
    "Now you should have a good tool to utilize in your group coursework projects for GGS416.\n"
   ]
  }
 ],
 "metadata": {
  "kernelspec": {
   "display_name": "Python 3",
   "language": "python",
   "name": "python3"
  },
  "language_info": {
   "codemirror_mode": {
    "name": "ipython",
    "version": 3
   },
   "file_extension": ".py",
   "mimetype": "text/x-python",
   "name": "python",
   "nbconvert_exporter": "python",
   "pygments_lexer": "ipython3",
   "version": "3.9.12"
  }
 },
 "nbformat": 4,
 "nbformat_minor": 2
}
