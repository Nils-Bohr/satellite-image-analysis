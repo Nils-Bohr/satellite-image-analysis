{
 "cells": [
  {
   "cell_type": "markdown",
   "id": "aadbd14f",
   "metadata": {},
   "source": [
    "# Hacking a literature review\n",
    "\n",
    "A literature review is one of the most important parts of an academic paper. But, why?\n",
    "\n",
    "Well, this is the point at which a researcher surveys related studies. Indeed, such an assessment enables a researcher to do a number of important things, including:\n",
    "\n",
    "- Investigating the findings of past studies. \n",
    "- Determining existing gaps in the literature (thus, under researched areas).\n",
    "- Evaluating potential methods (and their limitations) that might be useful to investigate the current research question.\n",
    "\n",
    "This process can be time consuming. However, there are a set of key steps that can help in carrying out this process, as will be detailed here (thus, the title pertains to 'hacking' this activity). \n"
   ]
  },
  {
   "cell_type": "markdown",
   "id": "ccfb8b6f",
   "metadata": {},
   "source": [
    "## Use a multi-stage process\n",
    "\n",
    "Often new researchers at the undergraduate or graduate stage can find writing a literature review a daunting task.\n",
    "\n",
    "This can be because the task of finding literature sources, and writing the review itself, are attempted simultaneously. Therefore, to make this process easier, break the review into multiple stages, including:\n",
    "\n",
    "1. Collection\n",
    "2. Review\n",
    "3. Writing\n",
    "4. Structuring\n",
    "5. Proofing\n",
    "\n",
    "Each will now be addressed separately."
   ]
  },
  {
   "cell_type": "markdown",
   "id": "cfd689bb",
   "metadata": {},
   "source": [
    "### Step 1 Collection\n",
    "\n",
    "It is imperative that a thorough collection process is undertaken. A preferred approach is using a search engine such as Google Scholar. It is advisable to become a \"ninja\" in using your preferred tool. Here a set of search strategies will be discussed using Scholar, as this is one of the most comprehensive platforms for searching both peer-reviewed and grey literature.\n",
    "\n",
    "- Select a set of key research terms to enter into your search engine. If your area of study is deforestation, your search terms may include 'deforestation', 'land use change', 'logging', 'desertification' etc. If you are stuck on your search terms, use Google to explore synonyms, for example by merely searching 'deforrestation synonyms'. This will help you get a comprehensive list of terms.\n",
    "- Once you are generating results, try to select papers which are published in top journals, such as Nature, Science, Proceedings of the National Academy of Sciences (PNAS) etc.\n",
    "- Look at how many times a paper has been cited. If the paper has more than 1000 citations, it is a seminal paper. More than 100 citations, and the paper is reputable. In contrast, a paper with very few citations may be indicative of various shortcomings, such as publishing in low quality (or predatory) journals where peer-review standards are mixed (thus, you should treat with caution).\n",
    "- Ideally, you want the most up-to-date literature possible. Normally, this will be work in the last three years, although this depends on the field. Some parts of the sciences (e.g. cell biology) may have times as short as 6 months for a paper to become out-of-date. If a paper is seminal (>1000 citations), but old (e.g. 1980), this is still very much worth including. Whereas if a paper has few citations (<50 citations), but is old (e.g. 1980-2010), it may be advisable to not include as this paper may be dated literature (unless it is very highly related to the research question, in which case this is a judgement call). \n",
    "- Use the 'cited by' functionality, which allows you to carry out your own searches within the papers which have cited an article. If you find a seminal paper (e.g., highly cited) related to your research question, then it is advisable to carry out a search of those papers which have cited it, at the very least restraining the year searches to the last 2-3 years. \n",
    "- Save the citations of suitable papers to a Zotero repository. If you have space, it might also save the pdf of the selected citation. However, this can also be saved separately to a folder, so you have a set of pdf files for all related papers. \n",
    "- Preferably, fill out an excel spreadsheet which has columns which list:\n",
    "    - Author names\n",
    "    - Year\n",
    "    - Title\n",
    "    - Publication name\n",
    "    - Article type\n",
    "    - A brief description of the paper\n",
    "    - Notes (any other useful information) \n",
    "- Such a spreadsheet enables you to categorize the literature into groups, which help direct your review, and provides a table (or set of tables) for the final paper. Increasingly, the best literature reviews go beyond merely writing a qualitative description of past studies, and use graphics, tables and even quantitative metrics to help provide a thorough overview of the available literature. From a peer-review perspective, the probability of a reviewer being satisfied that a researcher has carried out a high quality review is higher, if a summary table or graphic is included. Such an approach also boosts the level of visual interest present for the reader, which is a positive thing.\n"
   ]
  },
  {
   "cell_type": "markdown",
   "id": "77c762ff",
   "metadata": {},
   "source": [
    "### Step 2 Review\n",
    "\n",
    "Whereas the previous process was focusing on collecting relevant papers, now we will begin the process of review. The aim here is not to write beautifully worded and structured prose, instead the aim here is to generate original sentences which summarize each paper. To do this, follow these easy steps:\n",
    "- Open a document and focus on adding in 1-3 sentences per paper for the manuscripts you previously identified.\n",
    "- First, try to make a judgement about how much of a paper you want/need to read. Skim the abstract and double check the content relates to your research. If the paper is highly related you may need to read the full paper. If the paper is only tangentially related, you may decide to only skim the abstract, graphics, and conclusions, before trying to cite it. \n",
    "- Remember, most academics may not read a paper in full, unless it is highly central to their work. To quickly review a paper, you should skim the abstract and then examine the main graphics/results, before reading the conclusions. If you want more information still, dig into the method and results, potentially using a search function to quickly find key items of information you need (e.g. data sets).  \n",
    "- In terms of generating content. Let's take as an example Winkler et al. (2021), where the abstract contains the following:\n",
    "\n",
    "    _\"Here we analyse the dynamics of global land use change at an unprecedented spatial resolution by combining multiple open data streams (remote sensing, reconstructions and statistics) to create the HIstoric Land Dynamics Assessment + (HILDA +). We estimate that land use change has affected almost a third (32%) of the global land area in just six decades (1960-2019) and, thus, is around four times greater in extent than previously estimated from long-term land change assessments.\"_\n",
    "    \n",
    "    This can be written up into the following original sentence:\n",
    "    \n",
    "    _\"Recent analysis of global land use change has suggested previous assessments have substantially underestimated the quantity of land area affected. For example, using a variety of remote sensing statistical data sources, between 1960 and 2019 land use change has been estimated to have affected 32% of the total land area of Earth (Winkler et al. 2021). Indeed, this appraisal is approximately four times larger than other land use change assessments have estimated, suggesting the impact of anthropogenic activities on Earth's surface is much larger than previously thought.\"_\n",
    "    \n",
    "Now repeat this process until you have a document with a list of statements about the papers you previously collected. Once complete, you are ready to start stitching to writing these statements into a proper review. \n",
    "\n",
    "\n"
   ]
  },
  {
   "cell_type": "markdown",
   "id": "7c391ab4",
   "metadata": {},
   "source": [
    "### Step 3 Writing\n",
    "\n",
    "Ideally, you sit down during your peak creativity period and begin writing your literature review. You need to:\n",
    "\n",
    "- Turn your phone off\n",
    "- Close all browser window tabs that might cause distraction (e.g., WhatsApp etc.)\n",
    "- Get a cup of coffee\n",
    "- Focus your mind on what you want to achieve, e.g. writing your literature review.\n",
    "\n",
    "Your task is to create your \"zero draft\", which is your very first attempt at your lit review. You will not show it to anyone, it is merely for you to put pen to paper (metaphorically), and churn out your first attempt. You will proof and revise it later.\n",
    "\n",
    "- It helps to have a general idea of what you want to say, in terms of an overall structure. For example, a review of deforestration may include (i) factors affecting deforestation, (ii) review of studies assessing the current rate of change of deforestration, (iii) methods for assessing deforestation.  \n",
    "- Now you have your structure, go through the review document where you made unique paragraphs about different studies you read. Drop them into your sections to help you understand what you have. \n",
    "- Add to each section a beginning and ending. For example, in the first section you may say as the opening sentence \"In this section a review will be undertaken which evaluates those factors which cause and contribute to the process of deforestation\". \n",
    "- Next, you might want to begin with the more general paragraphs which you have in your review. So shuffle them to the top, and put anything more specific to the bottom of the section. \n",
    "- Try to go through each paragraph one by one and edit them so that you can create a flow. This means you need to turn standalone paragraphs created during the review process, into a set of written prose which flow.\n",
    "- Do your best to complete this for the whole review, for example, the three subsections we identified for our example of deforestation. \n",
    "- You may find you don't have enough literature and that you need to go back to step 1 again (collection). This is normal. In fact, this whole process is highly iterative. \n",
    "\n",
    "You don't need to show anyone this. Turn off your computer at the end and go for a walk. You want to turn off the creative part of your mind, and let your eyes rest. Tomorrow you will work on structuring. \n"
   ]
  },
  {
   "cell_type": "markdown",
   "id": "c9a70836",
   "metadata": {},
   "source": [
    "### Step 4 Structuring\n",
    "\n",
    "Next, you need to reread your literature review with fresh eyes. It helps to print the work out onto paper, so you will look at it differently from how you did during the previous writing stage.\n",
    "\n",
    "The point here is to understand if what you have collated makes sense and flows well for the reader. You might find it needs revising, and often this relates to the actual structure of your text. \n",
    "\n",
    "For example, when we say \"structuring\", we really mean restructuring your text to make a logical argument. In software engineering this is often called \"refactoring\". See here: https://en.wikipedia.org/wiki/Code_refactoring\n",
    "\n",
    "Normally software engineers hack a solution together, and the process of refactoring is essentially rewriting the code to work more efficiently. In this case, we are restructuring the text to be able to make a more convincing and logical review (or indeed, make a convincing argument based on this review). You may order your text on an issue chrologically, reviewing the oldest studies first, and newest last. Alternatively, you may decide to carry out your review around a set of key factors for example, deforestation drivers may be different in high, middle or low income countries, therefore you might have paragraphs which address each of these country classifications.\n",
    "\n",
    "Again, you may find after restructuring you need to go back to Steps 1-3 again to collect, review and write more content, around your newly defined review structure. \n"
   ]
  },
  {
   "cell_type": "markdown",
   "id": "d1824a6a",
   "metadata": {},
   "source": [
    "### Step 5 Proofing\n",
    "\n",
    "In the final stage, it is essential to proof read your work. Most formal peer-reviewers will reject papers which have poor language, grammatical mistakes, typos, unprofessional writing etc. Therefore, it is essential you avoid these mistakes. \n",
    "\n",
    "Remember, if a paper is published of poor quality, the peer-reviewers who accepted it, along with the editors, will be highlighted and it could negatively affect their career. So they will be cautious and conservative in their approach, rejecting work that is deemed to not be up to the necessary scientific standard. Proof reading is not the reviewers job, and they will be annoyed (and thus more likely to reject the paper) should you submit substandard work. Moreover, professors receiving substandard work riddled with basic errors, will not be able to make a fair judgement of the science presented. \n",
    "\n",
    "Importantly, once you finish producing the final draft you need to proof read your work following these key steps:\n",
    " \n",
    "- Turn off your computer, go for a walk, see friends, do something to help you release your mind. Sleep, wake up, get coffee, sit down at your computer. You can’t finish writing and then proof, you need a clear head.\n",
    "- The mindset for proof reading is different from writing. Writing = creative, whereas proofing = professional scrutiny. You need to arrive with this separate mindset. The question is not “how can I add to the manuscript”, the question is closer to “is what I have written up to professional standard to put in front of a line manager /  professor /  peer reviewer / editor?”.\n",
    "- If you need glasses, get your glasses, or anything else you need to be able to scrutinize your work. You might find printing out your paper helps, and reading it with a pencil on a desk somewhere away from your computer space. If you do this, you will find the manuscript even reads differently. I have traditionally always printed my work when I was a student, especially at masters and PhD level.\n",
    "- When proofing it is important to:\n",
    "    - Make the font bigger e.g. size 14 (or increase the resolution of the text) if you struggle to make out the detail.\n",
    "    - Change the font e.g. from times to Calibri or something else. This step will make you read what is actually on the page properly. \n",
    "    - Make the line spacing at least 1.5, preferably 2. Again, this will help you read the text clearly. \n",
    "    - Make sure you read the text out aloud (this sounds stupid, but is a great technique for making you read what's on the page, and avoid reading/skimming from memory).\n",
    "    - Have a way to then make notes which don’t disrupt the flow of your review. Editing the manuscript for improvements is another step altogether, separate from proofing, and something you should do afterwards when you may return to steps 1-5. \n",
    "    - Printing and reviewing with pencil and paper will help you avoid getting stuck into editing something while in the flow of reviewing the manuscript. If proofing on a computer, then you need to highlight as you go, or add comments.\n",
    " \n",
    "Here is a checklist of things you need to double check when proofing your lit review and full document:\n",
    " \n",
    "- Spelling / typos (use only one language style e.g., US English. Do not mix styles, such as British and US)\n",
    "- Spacing / typos (make sure your approach to spacing is consistent throughout the document)\n",
    "- Heading/figure numbers (check they are correct)\n",
    "- Page numbers (make sure you have them)\n",
    "- Citation style (make sure a single style is used consistently)\n",
    "- Sentence logic (ensure your sentences actully make sense... this one is important!)\n",
    "- Scientific unit logic / spacing / typos (if you use scientific units, make sure they are correct and consistent)\n",
    " \n",
    "This is by no means an exclusive list, but if you manage to resolve these issues in your review, it will take you much of the way towards a high quality review. \n"
   ]
  }
 ],
 "metadata": {
  "kernelspec": {
   "display_name": "Python 3 (ipykernel)",
   "language": "python",
   "name": "python3"
  },
  "language_info": {
   "codemirror_mode": {
    "name": "ipython",
    "version": 3
   },
   "file_extension": ".py",
   "mimetype": "text/x-python",
   "name": "python",
   "nbconvert_exporter": "python",
   "pygments_lexer": "ipython3",
   "version": "3.9.7"
  }
 },
 "nbformat": 4,
 "nbformat_minor": 5
}
