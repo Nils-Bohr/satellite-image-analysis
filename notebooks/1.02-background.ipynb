{
 "cells": [
  {
   "cell_type": "markdown",
   "id": "7b83065b",
   "metadata": {},
   "source": [
    "# Why Study Satellite Image Analysis?\n",
    "\n",
    "\n",
    "Obviously, because it's really cool!\n",
    "\n",
    "But beyond this, we're going to cover some of the key applications of the methods we will learn in this class!"
   ]
  },
  {
   "cell_type": "markdown",
   "id": "1a47052a",
   "metadata": {},
   "source": [
    "### Satellite images are widely used for arctic science"
   ]
  },
  {
   "cell_type": "code",
   "execution_count": 1,
   "id": "e71e554d",
   "metadata": {
    "scrolled": true
   },
   "outputs": [
    {
     "data": {
      "text/html": [
       "<iframe width=\"560\" height=\"315\" src=\"https://www.youtube.com/embed/5GvMm4A7dFA\" title=\"YouTube video player\" frameborder=\"0\" allow=\"accelerometer; autoplay; clipboard-write; encrypted-media; gyroscope; picture-in-picture\" allowfullscreen></iframe>\n"
      ],
      "text/plain": [
       "<IPython.core.display.HTML object>"
      ]
     },
     "metadata": {},
     "output_type": "display_data"
    }
   ],
   "source": [
    "%%HTML\n",
    "<iframe width=\"560\" height=\"315\" src=\"https://www.youtube.com/embed/5GvMm4A7dFA\" title=\"YouTube video player\" frameborder=\"0\" allow=\"accelerometer; autoplay; clipboard-write; encrypted-media; gyroscope; picture-in-picture\" allowfullscreen></iframe>"
   ]
  },
  {
   "cell_type": "markdown",
   "id": "a86e0fe2",
   "metadata": {},
   "source": [
    "### We will be using Sentinel-2 extensively in the first part of the course"
   ]
  },
  {
   "cell_type": "code",
   "execution_count": 2,
   "id": "3b7ff3d2",
   "metadata": {},
   "outputs": [
    {
     "data": {
      "text/html": [
       "<iframe width=\"560\" height=\"315\" src=\"https://www.youtube.com/embed/Q9y5NTVyKBI\" title=\"YouTube video player\" frameborder=\"0\" allow=\"accelerometer; autoplay; clipboard-write; encrypted-media; gyroscope; picture-in-picture\" allowfullscreen></iframe>\n"
      ],
      "text/plain": [
       "<IPython.core.display.HTML object>"
      ]
     },
     "metadata": {},
     "output_type": "display_data"
    }
   ],
   "source": [
    "%%HTML\n",
    "<iframe width=\"560\" height=\"315\" src=\"https://www.youtube.com/embed/Q9y5NTVyKBI\" title=\"YouTube video player\" frameborder=\"0\" allow=\"accelerometer; autoplay; clipboard-write; encrypted-media; gyroscope; picture-in-picture\" allowfullscreen></iframe>"
   ]
  },
  {
   "cell_type": "markdown",
   "id": "1b2567fa",
   "metadata": {},
   "source": [
    "### You can use Sentinel-2 imagery for a very wide range of uses, e.g. monitoring vegetation and agriculture "
   ]
  },
  {
   "cell_type": "code",
   "execution_count": 3,
   "id": "6b0da449",
   "metadata": {},
   "outputs": [
    {
     "data": {
      "text/html": [
       "<iframe width=\"560\" height=\"315\" src=\"https://www.youtube.com/embed/2CSZNgGHyhc\" title=\"YouTube video player\" frameborder=\"0\" allow=\"accelerometer; autoplay; clipboard-write; encrypted-media; gyroscope; picture-in-picture\" allowfullscreen></iframe>\n"
      ],
      "text/plain": [
       "<IPython.core.display.HTML object>"
      ]
     },
     "metadata": {},
     "output_type": "display_data"
    }
   ],
   "source": [
    "%%HTML\n",
    "<iframe width=\"560\" height=\"315\" src=\"https://www.youtube.com/embed/2CSZNgGHyhc\" title=\"YouTube video player\" frameborder=\"0\" allow=\"accelerometer; autoplay; clipboard-write; encrypted-media; gyroscope; picture-in-picture\" allowfullscreen></iframe>"
   ]
  },
  {
   "cell_type": "markdown",
   "id": "7a80d6ef",
   "metadata": {},
   "source": [
    "### Remote monitoring of environmental phenomena is common, such as for algal blooms"
   ]
  },
  {
   "cell_type": "code",
   "execution_count": 4,
   "id": "1738c481",
   "metadata": {},
   "outputs": [
    {
     "data": {
      "text/html": [
       "<iframe width=\"560\" height=\"315\" src=\"https://www.youtube.com/embed/BHM8mkUFN64\" title=\"YouTube video player\" frameborder=\"0\" allow=\"accelerometer; autoplay; clipboard-write; encrypted-media; gyroscope; picture-in-picture\" allowfullscreen></iframe>\n"
      ],
      "text/plain": [
       "<IPython.core.display.HTML object>"
      ]
     },
     "metadata": {},
     "output_type": "display_data"
    }
   ],
   "source": [
    "%%HTML\n",
    "<iframe width=\"560\" height=\"315\" src=\"https://www.youtube.com/embed/BHM8mkUFN64\" title=\"YouTube video player\" frameborder=\"0\" allow=\"accelerometer; autoplay; clipboard-write; encrypted-media; gyroscope; picture-in-picture\" allowfullscreen></iframe>"
   ]
  },
  {
   "cell_type": "markdown",
   "id": "b3b755ec",
   "metadata": {},
   "source": [
    "### Satellite imagery underpins modern military intelligence applications"
   ]
  },
  {
   "cell_type": "code",
   "execution_count": 5,
   "id": "0a7589dd",
   "metadata": {},
   "outputs": [
    {
     "data": {
      "text/html": [
       "<iframe width=\"560\" height=\"315\" src=\"https://www.youtube.com/embed/u06ePMYR3IU\" title=\"YouTube video player\" frameborder=\"0\" allow=\"accelerometer; autoplay; clipboard-write; encrypted-media; gyroscope; picture-in-picture\" allowfullscreen></iframe>\n"
      ],
      "text/plain": [
       "<IPython.core.display.HTML object>"
      ]
     },
     "metadata": {},
     "output_type": "display_data"
    }
   ],
   "source": [
    "%%HTML\n",
    "<iframe width=\"560\" height=\"315\" src=\"https://www.youtube.com/embed/u06ePMYR3IU\" title=\"YouTube video player\" frameborder=\"0\" allow=\"accelerometer; autoplay; clipboard-write; encrypted-media; gyroscope; picture-in-picture\" allowfullscreen></iframe>"
   ]
  },
  {
   "cell_type": "markdown",
   "id": "5d9d7817",
   "metadata": {},
   "source": [
    "### Satellite imagery is now used widely in archeology, for example, to automatically detect potential burial sites\n"
   ]
  },
  {
   "cell_type": "markdown",
   "id": "e3964aae",
   "metadata": {},
   "source": [
    "https://www.pnas.org/content/117/31/18240"
   ]
  },
  {
   "cell_type": "markdown",
   "id": "e390ae33",
   "metadata": {},
   "source": [
    "### Satellite imagery is also used to help develop new statistical datasets from space\n"
   ]
  },
  {
   "cell_type": "markdown",
   "id": "635506a0",
   "metadata": {},
   "source": [
    "https://www.sciencedirect.com/science/article/pii/S0736585321000617 "
   ]
  }
 ],
 "metadata": {
  "kernelspec": {
   "display_name": "Python 3 (ipykernel)",
   "language": "python",
   "name": "python3"
  },
  "language_info": {
   "codemirror_mode": {
    "name": "ipython",
    "version": 3
   },
   "file_extension": ".py",
   "mimetype": "text/x-python",
   "name": "python",
   "nbconvert_exporter": "python",
   "pygments_lexer": "ipython3",
   "version": "3.9.7"
  }
 },
 "nbformat": 4,
 "nbformat_minor": 5
}
