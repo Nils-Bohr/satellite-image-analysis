{
 "cells": [
  {
   "cell_type": "markdown",
   "id": "39e5ce81",
   "metadata": {},
   "source": [
    "# Multidimensional structures"
   ]
  },
  {
   "cell_type": "markdown",
   "id": "6b6bd751",
   "metadata": {},
   "source": [
    "This is a common data structure we will use in satellite image processing.\n",
    "\n",
    "For example, using:\n",
    "\n",
    "    - A list of lists\n",
    "    - A list of tuples\n",
    "    - A list of dicts"
   ]
  },
  {
   "cell_type": "code",
   "execution_count": null,
   "id": "7c2cf225",
   "metadata": {},
   "outputs": [],
   "source": [
    "# Example\n",
    "# A list of lists: (remember lists of square brackets)\n",
    "\n",
    "navsats_list = [\n",
    "    ['GPS','USA'],\n",
    "    ['Galileo','EU'],\n",
    "]\n",
    "navsats_list"
   ]
  },
  {
   "cell_type": "code",
   "execution_count": null,
   "id": "c2441eca",
   "metadata": {},
   "outputs": [],
   "source": [
    "# Example:\n",
    "# A list of tuples: (remember tuples use normal parantheses/brackets)\n",
    "\n",
    "navsats_tuples = [\n",
    "    ('GPS','USA'),\n",
    "    ('Galileo','EU'),\n",
    "]\n",
    "navsats_tuples"
   ]
  },
  {
   "cell_type": "code",
   "execution_count": null,
   "id": "02008615",
   "metadata": {},
   "outputs": [],
   "source": [
    "# Example:\n",
    "# You can index them like normal lists\n",
    "navsats_list[0]"
   ]
  },
  {
   "cell_type": "code",
   "execution_count": null,
   "id": "fb633719",
   "metadata": {},
   "outputs": [],
   "source": [
    "# You can also iterate over them like a normal list using a loop:\n",
    "    \n",
    "for i in navsats_list:\n",
    "    print(i)"
   ]
  },
  {
   "cell_type": "markdown",
   "id": "54e0e577",
   "metadata": {},
   "source": [
    "It's the same for the tuple list:"
   ]
  },
  {
   "cell_type": "code",
   "execution_count": null,
   "id": "ebe71e72",
   "metadata": {},
   "outputs": [],
   "source": [
    "navsats_tuples[0]"
   ]
  },
  {
   "cell_type": "code",
   "execution_count": null,
   "id": "05867c0b",
   "metadata": {},
   "outputs": [],
   "source": [
    "# You can also iterate over them like a normal list using a loop:\n",
    "    \n",
    "for i in navsats_tuples:\n",
    "    print(i)"
   ]
  },
  {
   "cell_type": "markdown",
   "id": "bac6f2c1",
   "metadata": {},
   "source": [
    "You can even start to include some logic in the loop:"
   ]
  },
  {
   "cell_type": "code",
   "execution_count": null,
   "id": "6d61ffc0",
   "metadata": {},
   "outputs": [],
   "source": [
    "for i in navsats_tuples:  # So we're iterating over our list of tuples using a for loop.\n",
    "    if i[1] == 'USA':     # And placing an if function to see if the first item in each tuple is equal to 'USA'.\n",
    "        print(i[0])       # If it is, we print the constellation name."
   ]
  },
  {
   "cell_type": "markdown",
   "id": "022c0769",
   "metadata": {},
   "source": [
    "## Exercise"
   ]
  },
  {
   "cell_type": "markdown",
   "id": "5b4000e2",
   "metadata": {},
   "source": [
    "Create a list of lists containing the following two lists:\n",
    "\n",
    "    - [1,2]\n",
    "    - [2,3]"
   ]
  },
  {
   "cell_type": "code",
   "execution_count": null,
   "id": "e5b638c1",
   "metadata": {},
   "outputs": [],
   "source": [
    "# Enter your attempt here\n"
   ]
  },
  {
   "cell_type": "markdown",
   "id": "42ca847f",
   "metadata": {},
   "source": [
    "Append this list to your list of lists:\n",
    "\n",
    "    - [3,4]"
   ]
  },
  {
   "cell_type": "code",
   "execution_count": null,
   "id": "df5cc1c1",
   "metadata": {},
   "outputs": [],
   "source": [
    "# Enter your attempt here\n"
   ]
  },
  {
   "cell_type": "markdown",
   "id": "14dedf8f",
   "metadata": {},
   "source": [
    "Now use a loop to print the content of your list of lists."
   ]
  },
  {
   "cell_type": "code",
   "execution_count": null,
   "id": "fd6ea19c",
   "metadata": {},
   "outputs": [],
   "source": [
    "# Enter your attempt here\n"
   ]
  },
  {
   "cell_type": "markdown",
   "id": "8818f8c9",
   "metadata": {},
   "source": [
    "Create a list of tuples containing the following two tuples:\n",
    "\n",
    "    - (1,2)\n",
    "    - (2,3)"
   ]
  },
  {
   "cell_type": "code",
   "execution_count": null,
   "id": "c5cace76",
   "metadata": {},
   "outputs": [],
   "source": [
    "# Enter your attempt here\n"
   ]
  },
  {
   "cell_type": "markdown",
   "id": "83f42144",
   "metadata": {},
   "source": [
    "Append this tuple to your list of tuples:\n",
    "\n",
    "    - (3,4)"
   ]
  },
  {
   "cell_type": "code",
   "execution_count": null,
   "id": "983fb32d",
   "metadata": {},
   "outputs": [],
   "source": [
    "# Enter your attempt here\n"
   ]
  },
  {
   "cell_type": "markdown",
   "id": "2d8520e2",
   "metadata": {},
   "source": [
    "Now use a loop to print the content of your list of tuples."
   ]
  },
  {
   "cell_type": "code",
   "execution_count": null,
   "id": "61cfeed9",
   "metadata": {},
   "outputs": [],
   "source": [
    "# Enter your attempt here\n"
   ]
  }
 ],
 "metadata": {
  "kernelspec": {
   "display_name": "Python 3 (ipykernel)",
   "language": "python",
   "name": "python3"
  },
  "language_info": {
   "codemirror_mode": {
    "name": "ipython",
    "version": 3
   },
   "file_extension": ".py",
   "mimetype": "text/x-python",
   "name": "python",
   "nbconvert_exporter": "python",
   "pygments_lexer": "ipython3",
   "version": "3.9.16"
  }
 },
 "nbformat": 4,
 "nbformat_minor": 5
}
