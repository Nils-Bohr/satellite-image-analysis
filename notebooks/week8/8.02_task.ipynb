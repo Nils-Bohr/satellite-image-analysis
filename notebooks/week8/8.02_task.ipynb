{
 "cells": [
  {
   "cell_type": "markdown",
   "id": "befa2888",
   "metadata": {},
   "source": [
    "## Task 1\n",
    "\n",
    "- Download an image of your choice for where the i95 crosses the Occoquan River. \n",
    "\n",
    "- Write a new jupter notebook which:\n",
    "    - Downloads the image (e.g. via week3, notebook 3.02_api_image_extraction.ipnb)\n",
    "    - Reads in the image and clips it to your geojson box (e.g. via week6, notebook 6.05_clipping_sentinel-2.ipnb).\n",
    "    - Extracts areas of water (e.g. using week8, notebook 8.01_object_extraction.ipnb).\n",
    "    - Writes the water feature shapes ready for submission.\n",
    "\n",
    "## Task 2\n",
    "\n",
    "- Inspect the resulting shapefile that we extracted. \n",
    "- Think critically about the output shapes. \n",
    "- Consider of a way to try reduce the quantity of shapes we are writing. Ideally, we just want the main river outline. \n",
    "- Hint: Try implement 'if statement logic' in the main loop where we iterate over `my_shapes`, convert the coordinates, and append as geojson data structures. We essentially want to exclude those small shapes with few coordinates."
   ]
  }
 ],
 "metadata": {
  "kernelspec": {
   "display_name": "Python 3 (ipykernel)",
   "language": "python",
   "name": "python3"
  },
  "language_info": {
   "codemirror_mode": {
    "name": "ipython",
    "version": 3
   },
   "file_extension": ".py",
   "mimetype": "text/x-python",
   "name": "python",
   "nbconvert_exporter": "python",
   "pygments_lexer": "ipython3",
   "version": "3.7.11"
  }
 },
 "nbformat": 4,
 "nbformat_minor": 5
}
