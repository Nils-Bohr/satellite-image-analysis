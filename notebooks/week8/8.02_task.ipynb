{
 "cells": [
  {
   "cell_type": "markdown",
   "id": "befa2888",
   "metadata": {},
   "source": [
    "## Task 1\n",
    "\n",
    "- Download an image of your choice for where the i95 crosses the Occoquan River. \n",
    "\n",
    "- Write a new jupter notebook which:\n",
    "    - Downloads the image (e.g. via week3, notebook 3.02_api_image_extraction.ipnb)\n",
    "    - Reads in the image and clips it to your geojson box (e.g. via week6, notebook 6.05_clipping_sentinel-2.ipnb).\n",
    "    - Extracts areas of water (e.g. using week8, notebook 8.01_object_extraction.ipnb).\n",
    "    - Writes the water feature shapes ready for submission.\n"
   ]
  }
 ],
 "metadata": {
  "kernelspec": {
   "display_name": "Python 3",
   "language": "python",
   "name": "python3"
  },
  "language_info": {
   "codemirror_mode": {
    "name": "ipython",
    "version": 3
   },
   "file_extension": ".py",
   "mimetype": "text/x-python",
   "name": "python",
   "nbconvert_exporter": "python",
   "pygments_lexer": "ipython3",
   "version": "3.10.2"
  }
 },
 "nbformat": 4,
 "nbformat_minor": 5
}
