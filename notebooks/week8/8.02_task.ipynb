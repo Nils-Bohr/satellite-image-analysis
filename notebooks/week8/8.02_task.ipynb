{
 "cells": [
  {
   "cell_type": "markdown",
   "id": "befa2888",
   "metadata": {},
   "source": [
    "## Task 1 - Part 1\n",
    "\n",
    "- Inspect the resulting shapefile that we extracted. \n",
    "- Think critically about the output. \n",
    "- Consider of a way to try reduce the quantity of shapes we are writing. Ideally, we just want the main river outline. \n",
    "- Hint: Try implement if statement logic in the main loop where we iterate over `my_shapes`, convert the coordinates, and append as geojson data structures. We essentially want to exclude those small shapes with few coordinates.\n",
    "\n",
    "## Task 1 - Part 2\n",
    "\n",
    "- Download an image of your choice which contains a body of water. \n",
    "- Write a new jupter notebook which:\n",
    "    - Reads in the image.\n",
    "    - Extracts areas of water.\n",
    "    - Writes the water feature shapes ready for submission."
   ]
  }
 ],
 "metadata": {
  "kernelspec": {
   "display_name": "Python 3",
   "language": "python",
   "name": "python3"
  },
  "language_info": {
   "codemirror_mode": {
    "name": "ipython",
    "version": 3
   },
   "file_extension": ".py",
   "mimetype": "text/x-python",
   "name": "python",
   "nbconvert_exporter": "python",
   "pygments_lexer": "ipython3",
   "version": "3.10.2"
  }
 },
 "nbformat": 4,
 "nbformat_minor": 5
}
