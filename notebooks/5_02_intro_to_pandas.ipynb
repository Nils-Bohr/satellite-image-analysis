{
 "cells": [
  {
   "cell_type": "markdown",
   "id": "ff53e4d4",
   "metadata": {},
   "source": [
    "# Intro to `pandas`"
   ]
  },
  {
   "cell_type": "markdown",
   "id": "2e09b5c9",
   "metadata": {},
   "source": [
    "There are a very large number of open-source libraries we can import. \n",
    "\n",
    "The Python data analysis package `pandas` is a favorite: https://pandas.pydata.org/\n",
    "\n",
    "Pandas is based on using **Dataframes**. They allow us to store data as panels in  rows and columns. You may have encountered this data structure in R or Matlab. If not, you can think of the approach as similar to how you use a spreadsheet (except with far greater flexibility and power in Python).\n",
    "\n",
    "In this tutorial, we will focus on manipulation of dataframes using pandas. "
   ]
  },
  {
   "cell_type": "markdown",
   "id": "c1b07664",
   "metadata": {},
   "source": [
    "<div class=\"alert alert-block alert-info\">\n",
    "    \n",
    "<b>Note:</b> There are several sub-libraries of pandas such as geopandas for geospatial data that you can always harness their power while performing highly specialised tasks. **Remember Google is your friend!**.\n",
    "</div>"
   ]
  },
  {
   "cell_type": "markdown",
   "id": "acbeab85",
   "metadata": {},
   "source": [
    "To begin working with dataframes, we first install and import pandas (as we did for packages in previous sessions). "
   ]
  },
  {
   "cell_type": "markdown",
   "id": "eeb842fd",
   "metadata": {},
   "source": [
    "<div class=\"alert alert-block alert-warning\">\n",
    "\n",
    "<b>!! Note !!</b> Pandas is not part of most python distribution packages hence it should be installed where it is not available before starting the tutorial. You may need to exit and reinstall. \n",
    "\n",
    "</div>"
   ]
  },
  {
   "cell_type": "code",
   "execution_count": 1,
   "id": "88466074",
   "metadata": {},
   "outputs": [
    {
     "name": "stdout",
     "output_type": "stream",
     "text": [
      "Collecting package metadata (current_repodata.json): ...working... done\n",
      "Solving environment: ...working... done\n",
      "\n",
      "## Package Plan ##\n",
      "\n",
      "  environment location: C:\\Users\\eoughton\\Anaconda3\\envs\\test\n",
      "\n",
      "  added / updated specs:\n",
      "    - pandas\n",
      "\n",
      "\n",
      "The following packages will be UPDATED:\n",
      "\n",
      "  pandas                               1.4.3-py39hd77b12b_0 --> 1.5.3-py39hf11a4ad_0 \n",
      "\n",
      "\n",
      "\n",
      "Downloading and Extracting Packages\n",
      "\n",
      "\n",
      "Preparing transaction: ...working... done\n",
      "Verifying transaction: ...working... done\n",
      "Executing transaction: ...working... done\n"
     ]
    },
    {
     "name": "stderr",
     "output_type": "stream",
     "text": [
      "\n",
      "\n",
      "==> WARNING: A newer version of conda exists. <==\n",
      "  current version: 23.1.0\n",
      "  latest version: 23.7.4\n",
      "\n",
      "Please update conda by running\n",
      "\n",
      "    $ conda update -n base -c defaults conda\n",
      "\n",
      "Or to minimize the number of packages updated during conda update use\n",
      "\n",
      "     conda install conda=23.7.4\n",
      "\n",
      "\n"
     ]
    }
   ],
   "source": [
    "# Example\n",
    "import sys\n",
    "!conda install --yes --prefix {sys.prefix} pandas"
   ]
  },
  {
   "cell_type": "markdown",
   "id": "a97a9176",
   "metadata": {},
   "source": [
    "## Creating a `pandas` dataframe"
   ]
  },
  {
   "cell_type": "markdown",
   "id": "63d4a4ce",
   "metadata": {},
   "source": [
    "Here we are focusing on ways of creating dataframes. However, in most day-to-day programming, you are likely to work with data in other formats which you can convert to dataframe by a single line of code. "
   ]
  },
  {
   "cell_type": "markdown",
   "id": "0870ce31",
   "metadata": {},
   "source": [
    "Nevertheless, dataframes can be created by converting lists to dictionaries and then to a dataframe, as shown in the subsequent steps, using an example of satellite missions. "
   ]
  },
  {
   "cell_type": "markdown",
   "id": "927b8cfb",
   "metadata": {},
   "source": [
    "First, let's create a list with our information."
   ]
  },
  {
   "cell_type": "code",
   "execution_count": 2,
   "id": "75c3e8b9",
   "metadata": {},
   "outputs": [
    {
     "data": {
      "text/plain": [
       "(['LandSat', 'Sentinel', 'PlanetScope', 'Starlink', 'Iridium', 'OneWeb'],\n",
       " [1972, 2013, 2015, 2018, 1999, 2021],\n",
       " [True, True, False, False, False, False],\n",
       " ['Remote sensing',\n",
       "  'Remote sensing',\n",
       "  'Remote sensing',\n",
       "  'Communication',\n",
       "  'Communication',\n",
       "  'Communication'])"
      ]
     },
     "execution_count": 2,
     "metadata": {},
     "output_type": "execute_result"
    }
   ],
   "source": [
    "# Example\n",
    "satellites = ['LandSat','Sentinel','PlanetScope','Starlink','Iridium','OneWeb']\n",
    "year = [1972,2013,2015,2018,1999,2021]\n",
    "government_owned = [True,True,False,False,False,False]\n",
    "mission = ['Remote sensing','Remote sensing','Remote sensing','Communication','Communication','Communication']\n",
    "\n",
    "satellites, year, government_owned, mission"
   ]
  },
  {
   "cell_type": "markdown",
   "id": "88d18153",
   "metadata": {},
   "source": [
    "Next, we need to combine the lists into a dictionary:"
   ]
  },
  {
   "cell_type": "code",
   "execution_count": 3,
   "id": "9551913f",
   "metadata": {},
   "outputs": [
    {
     "data": {
      "text/plain": [
       "{'satellite': ['LandSat',\n",
       "  'Sentinel',\n",
       "  'PlanetScope',\n",
       "  'Starlink',\n",
       "  'Iridium',\n",
       "  'OneWeb'],\n",
       " 'year': [1972, 2013, 2015, 2018, 1999, 2021],\n",
       " 'government_owned': [True, True, False, False, False, False],\n",
       " 'mission': ['Remote sensing',\n",
       "  'Remote sensing',\n",
       "  'Remote sensing',\n",
       "  'Communication',\n",
       "  'Communication',\n",
       "  'Communication']}"
      ]
     },
     "execution_count": 3,
     "metadata": {},
     "output_type": "execute_result"
    }
   ],
   "source": [
    "# Example\n",
    "sat_data = {\n",
    "    'satellite': satellites,\n",
    "    'year': year,\n",
    "    'government_owned': government_owned,\n",
    "    'mission': mission\n",
    "}\n",
    "sat_data"
   ]
  },
  {
   "cell_type": "markdown",
   "id": "d7be90f8",
   "metadata": {},
   "source": [
    "Finally, we convert the dictionary into dataframe using the `pandas` library function `.DataFrame()`."
   ]
  },
  {
   "cell_type": "code",
   "execution_count": 4,
   "id": "4d3ad879",
   "metadata": {},
   "outputs": [
    {
     "data": {
      "text/html": [
       "<div>\n",
       "<style scoped>\n",
       "    .dataframe tbody tr th:only-of-type {\n",
       "        vertical-align: middle;\n",
       "    }\n",
       "\n",
       "    .dataframe tbody tr th {\n",
       "        vertical-align: top;\n",
       "    }\n",
       "\n",
       "    .dataframe thead th {\n",
       "        text-align: right;\n",
       "    }\n",
       "</style>\n",
       "<table border=\"1\" class=\"dataframe\">\n",
       "  <thead>\n",
       "    <tr style=\"text-align: right;\">\n",
       "      <th></th>\n",
       "      <th>satellite</th>\n",
       "      <th>year</th>\n",
       "      <th>government_owned</th>\n",
       "      <th>mission</th>\n",
       "    </tr>\n",
       "  </thead>\n",
       "  <tbody>\n",
       "    <tr>\n",
       "      <th>0</th>\n",
       "      <td>LandSat</td>\n",
       "      <td>1972</td>\n",
       "      <td>True</td>\n",
       "      <td>Remote sensing</td>\n",
       "    </tr>\n",
       "    <tr>\n",
       "      <th>1</th>\n",
       "      <td>Sentinel</td>\n",
       "      <td>2013</td>\n",
       "      <td>True</td>\n",
       "      <td>Remote sensing</td>\n",
       "    </tr>\n",
       "    <tr>\n",
       "      <th>2</th>\n",
       "      <td>PlanetScope</td>\n",
       "      <td>2015</td>\n",
       "      <td>False</td>\n",
       "      <td>Remote sensing</td>\n",
       "    </tr>\n",
       "    <tr>\n",
       "      <th>3</th>\n",
       "      <td>Starlink</td>\n",
       "      <td>2018</td>\n",
       "      <td>False</td>\n",
       "      <td>Communication</td>\n",
       "    </tr>\n",
       "    <tr>\n",
       "      <th>4</th>\n",
       "      <td>Iridium</td>\n",
       "      <td>1999</td>\n",
       "      <td>False</td>\n",
       "      <td>Communication</td>\n",
       "    </tr>\n",
       "    <tr>\n",
       "      <th>5</th>\n",
       "      <td>OneWeb</td>\n",
       "      <td>2021</td>\n",
       "      <td>False</td>\n",
       "      <td>Communication</td>\n",
       "    </tr>\n",
       "  </tbody>\n",
       "</table>\n",
       "</div>"
      ],
      "text/plain": [
       "     satellite  year  government_owned         mission\n",
       "0      LandSat  1972              True  Remote sensing\n",
       "1     Sentinel  2013              True  Remote sensing\n",
       "2  PlanetScope  2015             False  Remote sensing\n",
       "3     Starlink  2018             False   Communication\n",
       "4      Iridium  1999             False   Communication\n",
       "5       OneWeb  2021             False   Communication"
      ]
     },
     "execution_count": 4,
     "metadata": {},
     "output_type": "execute_result"
    }
   ],
   "source": [
    "# Example\n",
    "import pandas as pd\n",
    "df = pd.DataFrame(sat_data)\n",
    "df"
   ]
  },
  {
   "cell_type": "markdown",
   "id": "1867c592",
   "metadata": {},
   "source": [
    "The prepared dataframe can be converted to other formats such as excel spreadsheet or CSV files, Example;"
   ]
  },
  {
   "cell_type": "code",
   "execution_count": 5,
   "id": "f94e8590",
   "metadata": {},
   "outputs": [],
   "source": [
    "# Example\n",
    "df.to_csv('satellite_missions.csv', index=False)"
   ]
  },
  {
   "cell_type": "markdown",
   "id": "4b8de87c",
   "metadata": {},
   "source": [
    "## Exercise 1\n",
    "\n",
    "Have a go at manually creating a `pandas` dataframe called 'image_data' using the following:\n",
    "\n",
    "    - A column called 'id' containing four numbers from 0-3.\n",
    "    - A column called 'longitude' containing 0.02, 0.05, 0.06 and 0.08.\n",
    "    - A column called 'latitude' containing 1.54, 1.65, 1.48 and 1.59.\n",
    "    - A column called 'filename' containing 'multiband0.tiff', 'multiband1.tiff', 'multiband2.tiff' and 'multiband3.tiff'.\n",
    "    \n",
    "Write this dataframe to a .csv file called 'my_csv.csv'. \n",
    "        "
   ]
  },
  {
   "cell_type": "code",
   "execution_count": 6,
   "id": "20123e76",
   "metadata": {},
   "outputs": [],
   "source": [
    "#Enter your attempt below:\n"
   ]
  },
  {
   "cell_type": "markdown",
   "id": "9dacb58a",
   "metadata": {},
   "source": [
    "## Accessing data"
   ]
  },
  {
   "cell_type": "markdown",
   "id": "0ce64b82",
   "metadata": {},
   "source": [
    "`pandas` provides a lot of functionality. \n",
    "\n",
    "We can easily import a .csv file into our notebook using the `.read_csv()` function.  "
   ]
  },
  {
   "cell_type": "code",
   "execution_count": 7,
   "id": "bc14e1cd",
   "metadata": {},
   "outputs": [
    {
     "data": {
      "text/html": [
       "<div>\n",
       "<style scoped>\n",
       "    .dataframe tbody tr th:only-of-type {\n",
       "        vertical-align: middle;\n",
       "    }\n",
       "\n",
       "    .dataframe tbody tr th {\n",
       "        vertical-align: top;\n",
       "    }\n",
       "\n",
       "    .dataframe thead th {\n",
       "        text-align: right;\n",
       "    }\n",
       "</style>\n",
       "<table border=\"1\" class=\"dataframe\">\n",
       "  <thead>\n",
       "    <tr style=\"text-align: right;\">\n",
       "      <th></th>\n",
       "      <th>satellite</th>\n",
       "      <th>year</th>\n",
       "      <th>government_owned</th>\n",
       "      <th>mission</th>\n",
       "    </tr>\n",
       "  </thead>\n",
       "  <tbody>\n",
       "    <tr>\n",
       "      <th>0</th>\n",
       "      <td>LandSat</td>\n",
       "      <td>1972</td>\n",
       "      <td>True</td>\n",
       "      <td>Remote sensing</td>\n",
       "    </tr>\n",
       "    <tr>\n",
       "      <th>1</th>\n",
       "      <td>Sentinel</td>\n",
       "      <td>2013</td>\n",
       "      <td>True</td>\n",
       "      <td>Remote sensing</td>\n",
       "    </tr>\n",
       "    <tr>\n",
       "      <th>2</th>\n",
       "      <td>PlanetScope</td>\n",
       "      <td>2015</td>\n",
       "      <td>False</td>\n",
       "      <td>Remote sensing</td>\n",
       "    </tr>\n",
       "    <tr>\n",
       "      <th>3</th>\n",
       "      <td>Starlink</td>\n",
       "      <td>2018</td>\n",
       "      <td>False</td>\n",
       "      <td>Communication</td>\n",
       "    </tr>\n",
       "    <tr>\n",
       "      <th>4</th>\n",
       "      <td>Iridium</td>\n",
       "      <td>1999</td>\n",
       "      <td>False</td>\n",
       "      <td>Communication</td>\n",
       "    </tr>\n",
       "    <tr>\n",
       "      <th>5</th>\n",
       "      <td>OneWeb</td>\n",
       "      <td>2021</td>\n",
       "      <td>False</td>\n",
       "      <td>Communication</td>\n",
       "    </tr>\n",
       "  </tbody>\n",
       "</table>\n",
       "</div>"
      ],
      "text/plain": [
       "     satellite  year  government_owned         mission\n",
       "0      LandSat  1972              True  Remote sensing\n",
       "1     Sentinel  2013              True  Remote sensing\n",
       "2  PlanetScope  2015             False  Remote sensing\n",
       "3     Starlink  2018             False   Communication\n",
       "4      Iridium  1999             False   Communication\n",
       "5       OneWeb  2021             False   Communication"
      ]
     },
     "execution_count": 7,
     "metadata": {},
     "output_type": "execute_result"
    }
   ],
   "source": [
    "df = pd.read_csv('satellite_missions.csv')\n",
    "df"
   ]
  },
  {
   "cell_type": "markdown",
   "id": "50225e53",
   "metadata": {},
   "source": [
    "Then we can view the first few rows of data using the 'head' function:"
   ]
  },
  {
   "cell_type": "code",
   "execution_count": 8,
   "id": "b2f9b768",
   "metadata": {},
   "outputs": [
    {
     "data": {
      "text/html": [
       "<div>\n",
       "<style scoped>\n",
       "    .dataframe tbody tr th:only-of-type {\n",
       "        vertical-align: middle;\n",
       "    }\n",
       "\n",
       "    .dataframe tbody tr th {\n",
       "        vertical-align: top;\n",
       "    }\n",
       "\n",
       "    .dataframe thead th {\n",
       "        text-align: right;\n",
       "    }\n",
       "</style>\n",
       "<table border=\"1\" class=\"dataframe\">\n",
       "  <thead>\n",
       "    <tr style=\"text-align: right;\">\n",
       "      <th></th>\n",
       "      <th>satellite</th>\n",
       "      <th>year</th>\n",
       "      <th>government_owned</th>\n",
       "      <th>mission</th>\n",
       "    </tr>\n",
       "  </thead>\n",
       "  <tbody>\n",
       "    <tr>\n",
       "      <th>0</th>\n",
       "      <td>LandSat</td>\n",
       "      <td>1972</td>\n",
       "      <td>True</td>\n",
       "      <td>Remote sensing</td>\n",
       "    </tr>\n",
       "    <tr>\n",
       "      <th>1</th>\n",
       "      <td>Sentinel</td>\n",
       "      <td>2013</td>\n",
       "      <td>True</td>\n",
       "      <td>Remote sensing</td>\n",
       "    </tr>\n",
       "    <tr>\n",
       "      <th>2</th>\n",
       "      <td>PlanetScope</td>\n",
       "      <td>2015</td>\n",
       "      <td>False</td>\n",
       "      <td>Remote sensing</td>\n",
       "    </tr>\n",
       "  </tbody>\n",
       "</table>\n",
       "</div>"
      ],
      "text/plain": [
       "     satellite  year  government_owned         mission\n",
       "0      LandSat  1972              True  Remote sensing\n",
       "1     Sentinel  2013              True  Remote sensing\n",
       "2  PlanetScope  2015             False  Remote sensing"
      ]
     },
     "execution_count": 8,
     "metadata": {},
     "output_type": "execute_result"
    }
   ],
   "source": [
    "# Example\n",
    "df.head(n=3)"
   ]
  },
  {
   "cell_type": "markdown",
   "id": "0404dfcb",
   "metadata": {},
   "source": [
    "You can view the last few rows of your data using the 'tail' function."
   ]
  },
  {
   "cell_type": "code",
   "execution_count": 9,
   "id": "ddd84dc1",
   "metadata": {},
   "outputs": [
    {
     "data": {
      "text/html": [
       "<div>\n",
       "<style scoped>\n",
       "    .dataframe tbody tr th:only-of-type {\n",
       "        vertical-align: middle;\n",
       "    }\n",
       "\n",
       "    .dataframe tbody tr th {\n",
       "        vertical-align: top;\n",
       "    }\n",
       "\n",
       "    .dataframe thead th {\n",
       "        text-align: right;\n",
       "    }\n",
       "</style>\n",
       "<table border=\"1\" class=\"dataframe\">\n",
       "  <thead>\n",
       "    <tr style=\"text-align: right;\">\n",
       "      <th></th>\n",
       "      <th>satellite</th>\n",
       "      <th>year</th>\n",
       "      <th>government_owned</th>\n",
       "      <th>mission</th>\n",
       "    </tr>\n",
       "  </thead>\n",
       "  <tbody>\n",
       "    <tr>\n",
       "      <th>3</th>\n",
       "      <td>Starlink</td>\n",
       "      <td>2018</td>\n",
       "      <td>False</td>\n",
       "      <td>Communication</td>\n",
       "    </tr>\n",
       "    <tr>\n",
       "      <th>4</th>\n",
       "      <td>Iridium</td>\n",
       "      <td>1999</td>\n",
       "      <td>False</td>\n",
       "      <td>Communication</td>\n",
       "    </tr>\n",
       "    <tr>\n",
       "      <th>5</th>\n",
       "      <td>OneWeb</td>\n",
       "      <td>2021</td>\n",
       "      <td>False</td>\n",
       "      <td>Communication</td>\n",
       "    </tr>\n",
       "  </tbody>\n",
       "</table>\n",
       "</div>"
      ],
      "text/plain": [
       "  satellite  year  government_owned        mission\n",
       "3  Starlink  2018             False  Communication\n",
       "4   Iridium  1999             False  Communication\n",
       "5    OneWeb  2021             False  Communication"
      ]
     },
     "execution_count": 9,
     "metadata": {},
     "output_type": "execute_result"
    }
   ],
   "source": [
    "# Example\n",
    "df.tail(n=3)"
   ]
  },
  {
   "cell_type": "markdown",
   "id": "d683ecbb",
   "metadata": {},
   "source": [
    "You can know how many rows and columns are in your data using the shape function."
   ]
  },
  {
   "cell_type": "code",
   "execution_count": 10,
   "id": "c376dcb1",
   "metadata": {},
   "outputs": [
    {
     "data": {
      "text/plain": [
       "(6, 4)"
      ]
     },
     "execution_count": 10,
     "metadata": {},
     "output_type": "execute_result"
    }
   ],
   "source": [
    "# Example\n",
    "df.shape"
   ]
  },
  {
   "cell_type": "markdown",
   "id": "af4ba54e",
   "metadata": {},
   "source": [
    "You can know the name of columns by using the column function."
   ]
  },
  {
   "cell_type": "code",
   "execution_count": 11,
   "id": "8a3d3310",
   "metadata": {},
   "outputs": [
    {
     "data": {
      "text/plain": [
       "['satellite', 'year', 'government_owned', 'mission']"
      ]
     },
     "execution_count": 11,
     "metadata": {},
     "output_type": "execute_result"
    }
   ],
   "source": [
    "# Example\n",
    "list(df.columns)"
   ]
  },
  {
   "cell_type": "markdown",
   "id": "ad6dde9e",
   "metadata": {},
   "source": [
    "You can access a single columns using the following syntax."
   ]
  },
  {
   "cell_type": "code",
   "execution_count": 12,
   "id": "3b07e701",
   "metadata": {},
   "outputs": [
    {
     "data": {
      "text/plain": [
       "0        LandSat\n",
       "1       Sentinel\n",
       "2    PlanetScope\n",
       "3       Starlink\n",
       "4        Iridium\n",
       "5         OneWeb\n",
       "Name: satellite, dtype: object"
      ]
     },
     "execution_count": 12,
     "metadata": {},
     "output_type": "execute_result"
    }
   ],
   "source": [
    "# Example\n",
    "df['satellite']"
   ]
  },
  {
   "cell_type": "markdown",
   "id": "b248cbdd",
   "metadata": {},
   "source": [
    "You can access multiple columns using the following line of code."
   ]
  },
  {
   "cell_type": "code",
   "execution_count": 13,
   "id": "44ec66fa",
   "metadata": {},
   "outputs": [
    {
     "data": {
      "text/html": [
       "<div>\n",
       "<style scoped>\n",
       "    .dataframe tbody tr th:only-of-type {\n",
       "        vertical-align: middle;\n",
       "    }\n",
       "\n",
       "    .dataframe tbody tr th {\n",
       "        vertical-align: top;\n",
       "    }\n",
       "\n",
       "    .dataframe thead th {\n",
       "        text-align: right;\n",
       "    }\n",
       "</style>\n",
       "<table border=\"1\" class=\"dataframe\">\n",
       "  <thead>\n",
       "    <tr style=\"text-align: right;\">\n",
       "      <th></th>\n",
       "      <th>satellite</th>\n",
       "      <th>year</th>\n",
       "    </tr>\n",
       "  </thead>\n",
       "  <tbody>\n",
       "    <tr>\n",
       "      <th>0</th>\n",
       "      <td>LandSat</td>\n",
       "      <td>1972</td>\n",
       "    </tr>\n",
       "    <tr>\n",
       "      <th>1</th>\n",
       "      <td>Sentinel</td>\n",
       "      <td>2013</td>\n",
       "    </tr>\n",
       "    <tr>\n",
       "      <th>2</th>\n",
       "      <td>PlanetScope</td>\n",
       "      <td>2015</td>\n",
       "    </tr>\n",
       "    <tr>\n",
       "      <th>3</th>\n",
       "      <td>Starlink</td>\n",
       "      <td>2018</td>\n",
       "    </tr>\n",
       "    <tr>\n",
       "      <th>4</th>\n",
       "      <td>Iridium</td>\n",
       "      <td>1999</td>\n",
       "    </tr>\n",
       "    <tr>\n",
       "      <th>5</th>\n",
       "      <td>OneWeb</td>\n",
       "      <td>2021</td>\n",
       "    </tr>\n",
       "  </tbody>\n",
       "</table>\n",
       "</div>"
      ],
      "text/plain": [
       "     satellite  year\n",
       "0      LandSat  1972\n",
       "1     Sentinel  2013\n",
       "2  PlanetScope  2015\n",
       "3     Starlink  2018\n",
       "4      Iridium  1999\n",
       "5       OneWeb  2021"
      ]
     },
     "execution_count": 13,
     "metadata": {},
     "output_type": "execute_result"
    }
   ],
   "source": [
    "# Example\n",
    "df[['satellite','year']]"
   ]
  },
  {
   "cell_type": "markdown",
   "id": "728f661a",
   "metadata": {},
   "source": [
    "You can access individual rows by specifying the row index, e.g;"
   ]
  },
  {
   "cell_type": "code",
   "execution_count": 14,
   "id": "032b0086",
   "metadata": {},
   "outputs": [
    {
     "data": {
      "text/plain": [
       "satellite                 Iridium\n",
       "year                         1999\n",
       "government_owned            False\n",
       "mission             Communication\n",
       "Name: 4, dtype: object"
      ]
     },
     "execution_count": 14,
     "metadata": {},
     "output_type": "execute_result"
    }
   ],
   "source": [
    "# Example\n",
    "df.loc[4]"
   ]
  },
  {
   "cell_type": "markdown",
   "id": "75f03274",
   "metadata": {},
   "source": [
    "You can access datapoints between a given range by;"
   ]
  },
  {
   "cell_type": "code",
   "execution_count": 15,
   "id": "5b2b7a02",
   "metadata": {},
   "outputs": [
    {
     "data": {
      "text/html": [
       "<div>\n",
       "<style scoped>\n",
       "    .dataframe tbody tr th:only-of-type {\n",
       "        vertical-align: middle;\n",
       "    }\n",
       "\n",
       "    .dataframe tbody tr th {\n",
       "        vertical-align: top;\n",
       "    }\n",
       "\n",
       "    .dataframe thead th {\n",
       "        text-align: right;\n",
       "    }\n",
       "</style>\n",
       "<table border=\"1\" class=\"dataframe\">\n",
       "  <thead>\n",
       "    <tr style=\"text-align: right;\">\n",
       "      <th></th>\n",
       "      <th>satellite</th>\n",
       "      <th>year</th>\n",
       "      <th>government_owned</th>\n",
       "      <th>mission</th>\n",
       "    </tr>\n",
       "  </thead>\n",
       "  <tbody>\n",
       "    <tr>\n",
       "      <th>3</th>\n",
       "      <td>Starlink</td>\n",
       "      <td>2018</td>\n",
       "      <td>False</td>\n",
       "      <td>Communication</td>\n",
       "    </tr>\n",
       "    <tr>\n",
       "      <th>4</th>\n",
       "      <td>Iridium</td>\n",
       "      <td>1999</td>\n",
       "      <td>False</td>\n",
       "      <td>Communication</td>\n",
       "    </tr>\n",
       "  </tbody>\n",
       "</table>\n",
       "</div>"
      ],
      "text/plain": [
       "  satellite  year  government_owned        mission\n",
       "3  Starlink  2018             False  Communication\n",
       "4   Iridium  1999             False  Communication"
      ]
     },
     "execution_count": 15,
     "metadata": {},
     "output_type": "execute_result"
    }
   ],
   "source": [
    "# Example\n",
    "df.loc[3:4]"
   ]
  },
  {
   "cell_type": "markdown",
   "id": "85491c14",
   "metadata": {},
   "source": [
    "You can access data of specific attributes by subsetting. Eg satellites launched in 2015 or after."
   ]
  },
  {
   "cell_type": "code",
   "execution_count": 16,
   "id": "e84856df",
   "metadata": {},
   "outputs": [
    {
     "data": {
      "text/html": [
       "<div>\n",
       "<style scoped>\n",
       "    .dataframe tbody tr th:only-of-type {\n",
       "        vertical-align: middle;\n",
       "    }\n",
       "\n",
       "    .dataframe tbody tr th {\n",
       "        vertical-align: top;\n",
       "    }\n",
       "\n",
       "    .dataframe thead th {\n",
       "        text-align: right;\n",
       "    }\n",
       "</style>\n",
       "<table border=\"1\" class=\"dataframe\">\n",
       "  <thead>\n",
       "    <tr style=\"text-align: right;\">\n",
       "      <th></th>\n",
       "      <th>satellite</th>\n",
       "      <th>year</th>\n",
       "      <th>government_owned</th>\n",
       "      <th>mission</th>\n",
       "    </tr>\n",
       "  </thead>\n",
       "  <tbody>\n",
       "    <tr>\n",
       "      <th>2</th>\n",
       "      <td>PlanetScope</td>\n",
       "      <td>2015</td>\n",
       "      <td>False</td>\n",
       "      <td>Remote sensing</td>\n",
       "    </tr>\n",
       "    <tr>\n",
       "      <th>3</th>\n",
       "      <td>Starlink</td>\n",
       "      <td>2018</td>\n",
       "      <td>False</td>\n",
       "      <td>Communication</td>\n",
       "    </tr>\n",
       "    <tr>\n",
       "      <th>5</th>\n",
       "      <td>OneWeb</td>\n",
       "      <td>2021</td>\n",
       "      <td>False</td>\n",
       "      <td>Communication</td>\n",
       "    </tr>\n",
       "  </tbody>\n",
       "</table>\n",
       "</div>"
      ],
      "text/plain": [
       "     satellite  year  government_owned         mission\n",
       "2  PlanetScope  2015             False  Remote sensing\n",
       "3     Starlink  2018             False   Communication\n",
       "5       OneWeb  2021             False   Communication"
      ]
     },
     "execution_count": 16,
     "metadata": {},
     "output_type": "execute_result"
    }
   ],
   "source": [
    "# Example\n",
    "df[df['year'] >= 2015]"
   ]
  },
  {
   "cell_type": "markdown",
   "id": "b556e38b",
   "metadata": {},
   "source": [
    "We can also to multiple subsets at the same time. For example, selecting those launched in 2010 or after, and which were select only remote sensing satellites;"
   ]
  },
  {
   "cell_type": "code",
   "execution_count": 17,
   "id": "371cc8b7",
   "metadata": {},
   "outputs": [
    {
     "name": "stderr",
     "output_type": "stream",
     "text": [
      "C:\\Users\\eoughton\\AppData\\Local\\Temp\\ipykernel_21164\\2415505248.py:2: UserWarning: Boolean Series key will be reindexed to match DataFrame index.\n",
      "  df[df['year'] >= 2015][df['mission'] == 'Remote sensing']\n"
     ]
    },
    {
     "data": {
      "text/html": [
       "<div>\n",
       "<style scoped>\n",
       "    .dataframe tbody tr th:only-of-type {\n",
       "        vertical-align: middle;\n",
       "    }\n",
       "\n",
       "    .dataframe tbody tr th {\n",
       "        vertical-align: top;\n",
       "    }\n",
       "\n",
       "    .dataframe thead th {\n",
       "        text-align: right;\n",
       "    }\n",
       "</style>\n",
       "<table border=\"1\" class=\"dataframe\">\n",
       "  <thead>\n",
       "    <tr style=\"text-align: right;\">\n",
       "      <th></th>\n",
       "      <th>satellite</th>\n",
       "      <th>year</th>\n",
       "      <th>government_owned</th>\n",
       "      <th>mission</th>\n",
       "    </tr>\n",
       "  </thead>\n",
       "  <tbody>\n",
       "    <tr>\n",
       "      <th>2</th>\n",
       "      <td>PlanetScope</td>\n",
       "      <td>2015</td>\n",
       "      <td>False</td>\n",
       "      <td>Remote sensing</td>\n",
       "    </tr>\n",
       "  </tbody>\n",
       "</table>\n",
       "</div>"
      ],
      "text/plain": [
       "     satellite  year  government_owned         mission\n",
       "2  PlanetScope  2015             False  Remote sensing"
      ]
     },
     "execution_count": 17,
     "metadata": {},
     "output_type": "execute_result"
    }
   ],
   "source": [
    "# Example\n",
    "df[df['year'] >= 2015][df['mission'] == 'Remote sensing']"
   ]
  },
  {
   "cell_type": "markdown",
   "id": "08b83212",
   "metadata": {},
   "source": [
    "You can create add a new column to the existing dataframe as follows;"
   ]
  },
  {
   "cell_type": "code",
   "execution_count": 18,
   "id": "d0d307ea",
   "metadata": {},
   "outputs": [
    {
     "data": {
      "text/html": [
       "<div>\n",
       "<style scoped>\n",
       "    .dataframe tbody tr th:only-of-type {\n",
       "        vertical-align: middle;\n",
       "    }\n",
       "\n",
       "    .dataframe tbody tr th {\n",
       "        vertical-align: top;\n",
       "    }\n",
       "\n",
       "    .dataframe thead th {\n",
       "        text-align: right;\n",
       "    }\n",
       "</style>\n",
       "<table border=\"1\" class=\"dataframe\">\n",
       "  <thead>\n",
       "    <tr style=\"text-align: right;\">\n",
       "      <th></th>\n",
       "      <th>satellite</th>\n",
       "      <th>year</th>\n",
       "      <th>government_owned</th>\n",
       "      <th>mission</th>\n",
       "      <th>mission_code</th>\n",
       "    </tr>\n",
       "  </thead>\n",
       "  <tbody>\n",
       "    <tr>\n",
       "      <th>0</th>\n",
       "      <td>LandSat</td>\n",
       "      <td>1972</td>\n",
       "      <td>True</td>\n",
       "      <td>Remote sensing</td>\n",
       "      <td></td>\n",
       "    </tr>\n",
       "    <tr>\n",
       "      <th>1</th>\n",
       "      <td>Sentinel</td>\n",
       "      <td>2013</td>\n",
       "      <td>True</td>\n",
       "      <td>Remote sensing</td>\n",
       "      <td></td>\n",
       "    </tr>\n",
       "    <tr>\n",
       "      <th>2</th>\n",
       "      <td>PlanetScope</td>\n",
       "      <td>2015</td>\n",
       "      <td>False</td>\n",
       "      <td>Remote sensing</td>\n",
       "      <td></td>\n",
       "    </tr>\n",
       "    <tr>\n",
       "      <th>3</th>\n",
       "      <td>Starlink</td>\n",
       "      <td>2018</td>\n",
       "      <td>False</td>\n",
       "      <td>Communication</td>\n",
       "      <td></td>\n",
       "    </tr>\n",
       "    <tr>\n",
       "      <th>4</th>\n",
       "      <td>Iridium</td>\n",
       "      <td>1999</td>\n",
       "      <td>False</td>\n",
       "      <td>Communication</td>\n",
       "      <td></td>\n",
       "    </tr>\n",
       "    <tr>\n",
       "      <th>5</th>\n",
       "      <td>OneWeb</td>\n",
       "      <td>2021</td>\n",
       "      <td>False</td>\n",
       "      <td>Communication</td>\n",
       "      <td></td>\n",
       "    </tr>\n",
       "  </tbody>\n",
       "</table>\n",
       "</div>"
      ],
      "text/plain": [
       "     satellite  year  government_owned         mission mission_code\n",
       "0      LandSat  1972              True  Remote sensing             \n",
       "1     Sentinel  2013              True  Remote sensing             \n",
       "2  PlanetScope  2015             False  Remote sensing             \n",
       "3     Starlink  2018             False   Communication             \n",
       "4      Iridium  1999             False   Communication             \n",
       "5       OneWeb  2021             False   Communication             "
      ]
     },
     "execution_count": 18,
     "metadata": {},
     "output_type": "execute_result"
    }
   ],
   "source": [
    "# Example\n",
    "df['mission_code'] = ''\n",
    "df"
   ]
  },
  {
   "cell_type": "markdown",
   "id": "ddac5c2b",
   "metadata": {},
   "source": [
    "## Exercise 2\n",
    "\n",
    "Now let us use the dataframe you created in the first exercise to practise extracting information.\n",
    "\n",
    "First, print the shape of 'image_data':"
   ]
  },
  {
   "cell_type": "code",
   "execution_count": 19,
   "id": "9fcbf486",
   "metadata": {},
   "outputs": [],
   "source": [
    "#Enter your attempt below:\n"
   ]
  },
  {
   "cell_type": "markdown",
   "id": "1357edab",
   "metadata": {},
   "source": [
    "Now print the top rows of 'image_data' to inspect the contents:"
   ]
  },
  {
   "cell_type": "code",
   "execution_count": 20,
   "id": "75b555f2",
   "metadata": {},
   "outputs": [],
   "source": [
    "#Enter your attempt below:\n"
   ]
  },
  {
   "cell_type": "markdown",
   "id": "7f296486",
   "metadata": {},
   "source": [
    "Subset the 'filename' column, convert to a list, and inspect the contents:"
   ]
  },
  {
   "cell_type": "code",
   "execution_count": 21,
   "id": "7c1b9852",
   "metadata": {},
   "outputs": [],
   "source": [
    "#Enter your attempt below:\n"
   ]
  },
  {
   "cell_type": "markdown",
   "id": "8a9dadda",
   "metadata": {},
   "source": [
    "Subset only the `longitude` and `latitude` columns, and then use a new function called `.to_dict('records')` to convert the dataframe of coordinates to a list of dicts:"
   ]
  },
  {
   "cell_type": "code",
   "execution_count": 22,
   "id": "bcd9a229",
   "metadata": {},
   "outputs": [],
   "source": [
    "#Enter your attempt below:\n"
   ]
  },
  {
   "cell_type": "markdown",
   "id": "aac94a22",
   "metadata": {},
   "source": [
    "Next subset those rows which have a 'latitude' between 1.5 and 1.6:"
   ]
  },
  {
   "cell_type": "code",
   "execution_count": 23,
   "id": "0cab2d71",
   "metadata": {},
   "outputs": [],
   "source": [
    "#Enter your attempt below:\n"
   ]
  },
  {
   "cell_type": "markdown",
   "id": "1d419d34",
   "metadata": {},
   "source": [
    "Finally, subset those rows which have a 'longitude' between 0.05 and 0.1:"
   ]
  },
  {
   "cell_type": "code",
   "execution_count": 24,
   "id": "d86de326",
   "metadata": {},
   "outputs": [],
   "source": [
    "#Enter your attempt below:\n"
   ]
  }
 ],
 "metadata": {
  "kernelspec": {
   "display_name": "Python 3 (ipykernel)",
   "language": "python",
   "name": "python3"
  },
  "language_info": {
   "codemirror_mode": {
    "name": "ipython",
    "version": 3
   },
   "file_extension": ".py",
   "mimetype": "text/x-python",
   "name": "python",
   "nbconvert_exporter": "python",
   "pygments_lexer": "ipython3",
   "version": "3.11.4"
  }
 },
 "nbformat": 4,
 "nbformat_minor": 5
}
