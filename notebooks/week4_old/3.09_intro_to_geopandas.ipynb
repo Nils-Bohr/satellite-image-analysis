{
 "cells": [
  {
   "cell_type": "markdown",
   "id": "3f88cf25",
   "metadata": {},
   "source": [
    "# An overview of GeoPandas\n",
    "\n",
    "You have already been introduced in this course to Pandas, the Python Data Analysis Library: https://pandas.pydata.org"
   ]
  },
  {
   "cell_type": "markdown",
   "id": "2ce06148",
   "metadata": {},
   "source": [
    "## A quick recap on Pandas\n",
    "\n",
    "Pandas is a Python package \"providing fast, flexible, and expressive data structures designed to make working with “relational” or “labeled” data both easy and intuitive\". \n",
    "\n",
    "It provides us with a range of capabilities:\n",
    "\n",
    "- DataFrame object for data manipulation with integrated indexing.\n",
    "- Tools for reading and writing data between in-memory data structures and different file formats.\n",
    "- Data alignment and integrated handling of missing data.\n",
    "- Reshaping and pivoting of data sets.\n",
    "- Label-based slicing, fancy indexing, and subsetting of large data sets.\n",
    "- Data structure column insertion and deletion.\n",
    "- Group by engine allowing split-apply-combine operations on data sets.\n",
    "- Data set merging and joining.\n",
    "- Hierarchical axis indexing to work with high-dimensional data in a lower-dimensional data structure.\n",
    "- Time series-functionality: Date range generation[6] and frequency conversions, moving window statistics, moving window linear regressions, date shifting and lagging.\n",
    "- Provides data filtration.\n",
    "\n",
    "\n"
   ]
  },
  {
   "cell_type": "markdown",
   "id": "be6e20d7",
   "metadata": {},
   "source": [
    "## So what is special about GeoPandas?\n",
    "\n",
    "\"GeoPandas is a project to add support for geographic data to pandas objects. It currently implements GeoSeries and GeoDataFrame types which are subclasses of pandas.Series and pandas.DataFrame respectively. GeoPandas objects can act on shapely geometry objects and perform geometric operations.\"\n",
    "\n",
    "See the Git repo for more information: https://github.com/geopandas/geopandas\n",
    "\n",
    "The GeoPandas dataframe holds a geometry column which enables cartesian geometry operations (meaning it can interpret pairs of numerical coordinates in space). \n",
    "\n",
    "The coordinate reference system (crs) can be stored as an attribute on an object, and is automatically set when loading from a file. Objects may be transformed to new coordinate systems with the `to_crs()` method. \n",
    "\n",
    "Here we will cover the following basic operations:\n",
    "\n",
    "- Reading data to a geopandas dataframe\n",
    "- Manipulating column data \n",
    "- Creating a new column\n",
    "- Changing coordinate reference systems\n",
    "- Writing data to a geopandas dataframe\n"
   ]
  },
  {
   "cell_type": "markdown",
   "id": "a020a2ae",
   "metadata": {},
   "source": [
    "### Reading vector shapefile data to a GeoPandas dataframe\n",
    "\n",
    "Let's read in the shapefile we previously used of GMU. \n",
    "\n",
    "It's stored in the github repository in the `shapes` folder, with the filename `gmu.shp`. \n",
    "\n",
    "To load this in, we can find the current folder using the `os` package which we previously used, as follows, via the `getcwd` function:"
   ]
  },
  {
   "cell_type": "code",
   "execution_count": 1,
   "id": "6f4fd12c",
   "metadata": {},
   "outputs": [
    {
     "name": "stdout",
     "output_type": "stream",
     "text": [
      "D:\\Github\\satellite-image-analysis\\notebooks\\week9\n"
     ]
    }
   ],
   "source": [
    "import os\n",
    "\n",
    "## getcwd stands for 'get current working directory'\n",
    "current_dir = os.getcwd()\n",
    "\n",
    "print(current_dir)      "
   ]
  },
  {
   "cell_type": "markdown",
   "id": "1442e6b2",
   "metadata": {},
   "source": [
    "The `current_dir` variable is merely a string of the directory path which we can manipulate.\n",
    "\n",
    "Thus, from here we can navigate up and down directories by adding on new parts to this string. Our trusty double period, which we previously used (`..`), enables us to navigate up the file path. For example:"
   ]
  },
  {
   "cell_type": "code",
   "execution_count": 2,
   "id": "aed156c9",
   "metadata": {},
   "outputs": [
    {
     "name": "stdout",
     "output_type": "stream",
     "text": [
      "D:\\Github\\satellite-image-analysis\\notebooks\\week9/..\n"
     ]
    }
   ],
   "source": [
    "## getcwd stands for 'get current working directory'\n",
    "current_dir = os.getcwd()\n",
    "\n",
    "path = current_dir + '/..'\n",
    "\n",
    "print(path)    "
   ]
  },
  {
   "cell_type": "markdown",
   "id": "5a815ffb",
   "metadata": {},
   "source": [
    "So now we added the double period to our string, when a computer interprets this, it essentially reads 'go up one folder from week9'.\n",
    "\n",
    "What we want to do is to have our string navigate to the main `satellite-image-analysis` folder, which means we need to go up three folders, and finally go into the shapes folder, as follows:\n"
   ]
  },
  {
   "cell_type": "code",
   "execution_count": 3,
   "id": "45233792",
   "metadata": {},
   "outputs": [
    {
     "name": "stdout",
     "output_type": "stream",
     "text": [
      "D:\\Github\\satellite-image-analysis\\notebooks\\week9/../../shapes\n"
     ]
    }
   ],
   "source": [
    "## getcwd stands for 'get current working directory'\n",
    "current_dir = os.getcwd()\n",
    "\n",
    "path = current_dir + '/../../shapes'\n",
    "\n",
    "print(path)    "
   ]
  },
  {
   "cell_type": "markdown",
   "id": "2ee64c69",
   "metadata": {},
   "source": [
    "Once in the `shapes` folder, we need to get the `GMU.shp` file. Therefore, we need to add this filename to the path:"
   ]
  },
  {
   "cell_type": "code",
   "execution_count": 4,
   "id": "7e0d96b0",
   "metadata": {},
   "outputs": [
    {
     "name": "stdout",
     "output_type": "stream",
     "text": [
      "D:\\Github\\satellite-image-analysis\\notebooks\\week9/../../shapes/gmu.shp\n"
     ]
    }
   ],
   "source": [
    "## getcwd stands for 'get current working directory'\n",
    "current_dir = os.getcwd()\n",
    "\n",
    "path = current_dir + '/../../shapes/gmu.shp'\n",
    "\n",
    "print(path)    "
   ]
  },
  {
   "cell_type": "markdown",
   "id": "8e9a50ce",
   "metadata": {},
   "source": [
    "Now we're ready to read in the data using the path we've specified.\n",
    "\n",
    "Let's first load GeoPandas which should already be installed in your environment. \n",
    "\n",
    "Then we can use the GeoPandas function `read_file` and provide the following arguments:\n",
    "- `path` which contains the path to the shapefile we want to load, and\n",
    "- `crs` which states the coordinate reference system\n"
   ]
  },
  {
   "cell_type": "code",
   "execution_count": 5,
   "id": "f124b719",
   "metadata": {},
   "outputs": [
    {
     "name": "stdout",
     "output_type": "stream",
     "text": [
      "     id                                           geometry\n",
      "0  None  POLYGON ((-77.31540 38.83630, -77.29790 38.836...\n"
     ]
    }
   ],
   "source": [
    "import geopandas as gpd\n",
    "\n",
    "#load the file as the variable named data\n",
    "data = gpd.read_file(path, crs='epsg:4326') \n",
    "print(data)"
   ]
  },
  {
   "cell_type": "markdown",
   "id": "c8e43828",
   "metadata": {},
   "source": [
    "You can see here when we print that `data` is a dataframe containing an `id` column and a `geometry` column.\n",
    "\n",
    "## GeoPandas Examples\n",
    "\n",
    "GeoPandas provide us with some great functionality, for example, we can change the crs as follows:"
   ]
  },
  {
   "cell_type": "code",
   "execution_count": 6,
   "id": "679d72a1",
   "metadata": {},
   "outputs": [
    {
     "name": "stdout",
     "output_type": "stream",
     "text": [
      "     id                                           geometry\n",
      "0  None  POLYGON ((-8606710.958 4698250.004, -8604762.8...\n"
     ]
    }
   ],
   "source": [
    "# The previous crs was in degrees (epsg:4326), so let's change to meters ('epsg:3857')\n",
    "data = data.to_crs('epsg:3857')\n",
    "print(data)"
   ]
  },
  {
   "cell_type": "markdown",
   "id": "4fb717fa",
   "metadata": {},
   "source": [
    "Now we are in meters, we can take the area of this shape as follows:"
   ]
  },
  {
   "cell_type": "code",
   "execution_count": 7,
   "id": "bb375c82",
   "metadata": {},
   "outputs": [
    {
     "name": "stdout",
     "output_type": "stream",
     "text": [
      "     id                                           geometry          area\n",
      "0  None  POLYGON ((-8606710.958 4698250.004, -8604762.8...  3.414576e+06\n"
     ]
    }
   ],
   "source": [
    "# Due to our current CRS, the area will be in square meters\n",
    "data['area'] = data['geometry'].area \n",
    "print(data)"
   ]
  },
  {
   "cell_type": "markdown",
   "id": "e4ac4a09",
   "metadata": {},
   "source": [
    "The beauty is we can manipulate this as a normal pandas dataframe.\n",
    "\n",
    "So let's for example, convert our square meters into square kilometers (which requires us to divide by 1e6)\n",
    "\n",
    "Remember, we can select a variable by using the square parentheses to index (e.g. `data['area']` gets the area column), and then create a new column this way too (e.g. `data['area_km2']` is the new column we wish to make)."
   ]
  },
  {
   "cell_type": "code",
   "execution_count": 8,
   "id": "b8b6a6bb",
   "metadata": {},
   "outputs": [
    {
     "name": "stdout",
     "output_type": "stream",
     "text": [
      "0    3.414576\n",
      "Name: area_km2, dtype: float64\n"
     ]
    }
   ],
   "source": [
    "data['area_km2'] = data['area'] / 1e6\n",
    "print(data['area_km2'])"
   ]
  },
  {
   "cell_type": "markdown",
   "id": "d39d2be7",
   "metadata": {},
   "source": [
    "We can see the whole dataframe structure with our new column, as follows:"
   ]
  },
  {
   "cell_type": "code",
   "execution_count": 9,
   "id": "1667bcbd",
   "metadata": {},
   "outputs": [
    {
     "name": "stdout",
     "output_type": "stream",
     "text": [
      "     id                                           geometry          area  \\\n",
      "0  None  POLYGON ((-8606710.958 4698250.004, -8604762.8...  3.414576e+06   \n",
      "\n",
      "   area_km2  \n",
      "0  3.414576  \n"
     ]
    }
   ],
   "source": [
    "print(data)"
   ]
  },
  {
   "cell_type": "markdown",
   "id": "61d0d696",
   "metadata": {},
   "source": [
    "We are able to loop over any content in a GeoDataFrame the same way we would a normal DataFrame, by using the `iterrows()` function, as follows:"
   ]
  },
  {
   "cell_type": "code",
   "execution_count": 10,
   "id": "5cf83c9f",
   "metadata": {},
   "outputs": [
    {
     "name": "stdout",
     "output_type": "stream",
     "text": [
      "(0, id                                                       None\n",
      "geometry    POLYGON ((-8606710.958478265 4698250.004406621...\n",
      "area                                           3414575.784904\n",
      "area_km2                                             3.414576\n",
      "Name: 0, dtype: object)\n"
     ]
    }
   ],
   "source": [
    "for row in data.iterrows():\n",
    "    print(row)"
   ]
  },
  {
   "cell_type": "markdown",
   "id": "cfe1f16d",
   "metadata": {},
   "source": [
    "This means we can access and print specific parts of each row. \n",
    "\n",
    "The important thing to remember is that you have the row index (here it's a zero) and then the actual row information.\n",
    "\n",
    "For example, we can break out the row index here using `[0]`, and the row information using `[1]`:"
   ]
  },
  {
   "cell_type": "code",
   "execution_count": 11,
   "id": "a527e88a",
   "metadata": {},
   "outputs": [
    {
     "name": "stdout",
     "output_type": "stream",
     "text": [
      "0\n",
      "\n",
      "\n",
      "id                                                       None\n",
      "geometry    POLYGON ((-8606710.958478265 4698250.004406621...\n",
      "area                                           3414575.784904\n",
      "area_km2                                             3.414576\n",
      "Name: 0, dtype: object\n"
     ]
    }
   ],
   "source": [
    "for row in data.iterrows():\n",
    "    \n",
    "    ##this will print our row index\n",
    "    print(row[0]) \n",
    "    print('')\n",
    "    print('')\n",
    "    ##this will print our row information\n",
    "    print(row[1])"
   ]
  },
  {
   "cell_type": "markdown",
   "id": "c1e48634",
   "metadata": {},
   "source": [
    "We can then access just the geometry as follows:"
   ]
  },
  {
   "cell_type": "code",
   "execution_count": 12,
   "id": "577c1141",
   "metadata": {},
   "outputs": [
    {
     "name": "stdout",
     "output_type": "stream",
     "text": [
      "POLYGON ((-8606710.958478265 4698250.004406621, -8604762.867389381 4698250.004406621, -8604762.867389381 4696499.43231632, -8606707.988080831 4696492.346566786, -8606710.958478265 4698250.004406621))\n"
     ]
    }
   ],
   "source": [
    "for row in data.iterrows():\n",
    "    \n",
    "    ##this will print our row geometry\n",
    "    print(row[1]['geometry'])"
   ]
  },
  {
   "cell_type": "markdown",
   "id": "380ce0a7",
   "metadata": {},
   "source": [
    "And we can carry out any manipulations we want in this loop, such as taking the area (let's reuse this as it used it before, so you will be familiar):"
   ]
  },
  {
   "cell_type": "code",
   "execution_count": 13,
   "id": "f2e36027",
   "metadata": {},
   "outputs": [
    {
     "name": "stdout",
     "output_type": "stream",
     "text": [
      "The area of GMU campus is 3.4 square kilometers\n"
     ]
    }
   ],
   "source": [
    "for row in data.iterrows():\n",
    "    \n",
    "    ##this will print our row geometry\n",
    "    area_km2 = (row[1]['geometry'].area / 1e6)\n",
    "    \n",
    "    ##this will round our area to 1 decimal place\n",
    "    area_km2 = round(area_km2, 1)\n",
    "    \n",
    "    print(\"The area of GMU campus is {} square kilometers\".format(area_km2))"
   ]
  },
  {
   "cell_type": "markdown",
   "id": "6e1ac77b",
   "metadata": {},
   "source": [
    "We can loop over our GeoDataFrame and extract any information we want, and write it to a DataFrame. For example:"
   ]
  },
  {
   "cell_type": "code",
   "execution_count": 14,
   "id": "95415adc",
   "metadata": {},
   "outputs": [
    {
     "name": "stdout",
     "output_type": "stream",
     "text": [
      "[{'index': 0, 'area_km2': 3.414575784903849}]\n"
     ]
    }
   ],
   "source": [
    "output = []\n",
    "\n",
    "for row in data.iterrows():\n",
    "    \n",
    "    ##this will print our row geometry\n",
    "    area_km2 = (row[1]['geometry'].area / 1e6)\n",
    "\n",
    "    ##we can append this information to a list as a dictionary\n",
    "    output.append({\n",
    "        'index': row[0],\n",
    "        'area_km2': area_km2,\n",
    "    })\n",
    "\n",
    "print(output)"
   ]
  },
  {
   "cell_type": "markdown",
   "id": "6422f853",
   "metadata": {},
   "source": [
    "Once we have this list of dictionaries we can create a pandas dataframe from it as follows:"
   ]
  },
  {
   "cell_type": "code",
   "execution_count": 15,
   "id": "09a488fe",
   "metadata": {},
   "outputs": [
    {
     "name": "stdout",
     "output_type": "stream",
     "text": [
      "Completed writing \"output.csv\"\n"
     ]
    }
   ],
   "source": [
    "import pandas as pd\n",
    "\n",
    "output = []\n",
    "\n",
    "for row in data.iterrows():\n",
    "    \n",
    "    ##this will print our row geometry\n",
    "    area_km2 = (row[1]['geometry'].area / 1e6)\n",
    "\n",
    "    ##we can append this information to a list as a dictionary\n",
    "    output.append({\n",
    "        'index': row[0],\n",
    "        'area_km2': area_km2,\n",
    "        'any_other_properties': 'test_properties',\n",
    "    })\n",
    "\n",
    "## Let's convert our list of dicts to a pandas dataframe\n",
    "output = pd.DataFrame(output)\n",
    "\n",
    "## Write the dataframe to a .csv file\n",
    "output.to_csv('output.csv')\n",
    "\n",
    "print('Completed writing \"output.csv\"')"
   ]
  },
  {
   "cell_type": "markdown",
   "id": "65ae9e0d",
   "metadata": {},
   "source": [
    "We can also write any geospatial information we produce to a shapefile.\n",
    "\n",
    "Let's convert a geojson data structures into a GeoPandas dataframe and then write out. \n",
    "\n",
    "For example:"
   ]
  },
  {
   "cell_type": "code",
   "execution_count": 16,
   "id": "9537ce4f",
   "metadata": {},
   "outputs": [
    {
     "name": "stderr",
     "output_type": "stream",
     "text": [
      "C:\\Users\\edwar\\Anaconda3\\envs\\sia\\lib\\site-packages\\geopandas\\io\\file.py:362: FutureWarning: pandas.Int64Index is deprecated and will be removed from pandas in a future version. Use pandas.Index with the appropriate dtype instead.\n",
      "  pd.Int64Index,\n"
     ]
    }
   ],
   "source": [
    "## Here is a geojson point in space, in a list. \n",
    "gmu_point = {\n",
    "        'type': 'Feature',\n",
    "        'geometry': {\n",
    "            'type': 'Point',\n",
    "            'coordinates': (-77.31540, 38.83630),\n",
    "        },\n",
    "        'properties': {}\n",
    "    }\n",
    "\n",
    "my_list_of_dicts = []\n",
    "\n",
    "my_list_of_dicts.append(gmu_point)\n",
    "\n",
    "## Now we can specify a GeoDataFrame, providing the list of dicts and the CRS.\n",
    "output = gpd.GeoDataFrame.from_features(my_list_of_dicts, crs='epsg:4326')\n",
    "\n",
    "## Finally, let's write this GeoDataFrame to a shapefile. \n",
    "output.to_file('output.shp', crs='epsg:4326')\n",
    "\n",
    "print('Completed writing \"output.shp\"')"
   ]
  }
 ],
 "metadata": {
  "kernelspec": {
   "display_name": "Python 3",
   "language": "python",
   "name": "python3"
  },
  "language_info": {
   "codemirror_mode": {
    "name": "ipython",
    "version": 3
   },
   "file_extension": ".py",
   "mimetype": "text/x-python",
   "name": "python",
   "nbconvert_exporter": "python",
   "pygments_lexer": "ipython3",
   "version": "3.9.12"
  }
 },
 "nbformat": 4,
 "nbformat_minor": 5
}
